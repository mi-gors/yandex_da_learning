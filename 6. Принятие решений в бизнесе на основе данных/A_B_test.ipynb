{
 "cells": [
  {
   "cell_type": "markdown",
   "metadata": {},
   "source": [
    "# Проект «Принятие решений в бизнесе»"
   ]
  },
  {
   "cell_type": "markdown",
   "metadata": {
    "toc": true
   },
   "source": [
    "<h1>Содержание<span class=\"tocSkip\"></span></h1>\n",
    "<div class=\"toc\"><ul class=\"toc-item\"><li><span><a href=\"#Описание-проекта\" data-toc-modified-id=\"Описание-проекта-1\"><span class=\"toc-item-num\">1&nbsp;&nbsp;</span>Описание проекта</a></span></li><li><span><a href=\"#Подготовка-данных-к-анализу\" data-toc-modified-id=\"Подготовка-данных-к-анализу-2\"><span class=\"toc-item-num\">2&nbsp;&nbsp;</span>Подготовка данных к анализу</a></span></li><li><span><a href=\"#Приоритизация-гипотез\" data-toc-modified-id=\"Приоритизация-гипотез-3\"><span class=\"toc-item-num\">3&nbsp;&nbsp;</span>Приоритизация гипотез</a></span><ul class=\"toc-item\"><li><span><a href=\"#ICE\" data-toc-modified-id=\"ICE-3.1\"><span class=\"toc-item-num\">3.1&nbsp;&nbsp;</span>ICE</a></span></li><li><span><a href=\"#RICE\" data-toc-modified-id=\"RICE-3.2\"><span class=\"toc-item-num\">3.2&nbsp;&nbsp;</span>RICE</a></span></li></ul></li><li><span><a href=\"#Анализ-A/B-теста\" data-toc-modified-id=\"Анализ-A/B-теста-4\"><span class=\"toc-item-num\">4&nbsp;&nbsp;</span>Анализ A/B-теста</a></span><ul class=\"toc-item\"><li><span><a href=\"#Подготовка-таблиц-с-кумулятивными-данными\" data-toc-modified-id=\"Подготовка-таблиц-с-кумулятивными-данными-4.1\"><span class=\"toc-item-num\">4.1&nbsp;&nbsp;</span>Подготовка таблиц с кумулятивными данными</a></span></li><li><span><a href=\"#Построение-графиков-с-кумулятивными-данными-по-группам\" data-toc-modified-id=\"Построение-графиков-с-кумулятивными-данными-по-группам-4.2\"><span class=\"toc-item-num\">4.2&nbsp;&nbsp;</span>Построение графиков с кумулятивными данными по группам</a></span></li><li><span><a href=\"#Построение-точечных-графиков-для-определения-аномалий\" data-toc-modified-id=\"Построение-точечных-графиков-для-определения-аномалий-4.3\"><span class=\"toc-item-num\">4.3&nbsp;&nbsp;</span>Построение точечных графиков для определения аномалий</a></span></li><li><span><a href=\"#Анализ-статистической-значимости\" data-toc-modified-id=\"Анализ-статистической-значимости-4.4\"><span class=\"toc-item-num\">4.4&nbsp;&nbsp;</span>Анализ статистической значимости</a></span></li></ul></li><li><span><a href=\"#Итоговый-вывод\" data-toc-modified-id=\"Итоговый-вывод-5\"><span class=\"toc-item-num\">5&nbsp;&nbsp;</span>Итоговый вывод</a></span></li></ul></div>"
   ]
  },
  {
   "cell_type": "markdown",
   "metadata": {},
   "source": [
    "## Описание проекта"
   ]
  },
  {
   "cell_type": "markdown",
   "metadata": {},
   "source": [
    "<div class=\"alert alert-info\">\n",
    "<font size=\"3\", color = \"black\"><b> Цель:  </b>  <br /> Используя данные интернет-магазина приоритезировать гипотезы, произвести оценку результатов A/B-тестирования различными методами\n",
    "<br /> <br />\n",
    "<b>План действий:</b>\n",
    "    \n",
    "1. Импортировать библиотеки, загрузить данные и изучить информацию по каждому из них. Подготовить данные к анализу.<br />\n",
    "<br />\n",
    "2. Провести приоритизацию гипотез, произвести расчет ICE и RICE. <br />\n",
    "<br />\n",
    "3. Провести анализ А/В-теста:\n",
    "    - Подготовить таблицы с кумулятивными данными;\n",
    "    - Построить графики с кумулятивными данными по группам;\n",
    "    - Построить точечные графики для определения аномальных значений;\n",
    "    - Проанализировать статистическую значимость. <br />\n",
    "<br />\n",
    "4. Сделать заключительный вывод по всей проделанной работе.\n",
    "    </font>"
   ]
  },
  {
   "cell_type": "markdown",
   "metadata": {},
   "source": [
    "## Подготовка данных к анализу"
   ]
  },
  {
   "cell_type": "code",
   "execution_count": 1,
   "metadata": {},
   "outputs": [],
   "source": [
    "import pandas as pd\n",
    "import seaborn as sns\n",
    "from scipy import stats as st\n",
    "import numpy as np\n",
    "import matplotlib.pyplot as plt\n",
    "import datetime as dt\n",
    "from datetime import datetime, timedelta\n",
    "import math"
   ]
  },
  {
   "cell_type": "code",
   "execution_count": 2,
   "metadata": {},
   "outputs": [],
   "source": [
    "pd.set_option('display.max_colwidth', None)\n",
    "pd.set_option('display.float_format', '{:.2f}'.format)"
   ]
  },
  {
   "cell_type": "code",
   "execution_count": 3,
   "metadata": {},
   "outputs": [],
   "source": [
    "try:\n",
    "    hypothesis, orders, visitors = (\n",
    "        pd.read_csv('/datasets/hypothesis.csv'),\n",
    "        pd.read_csv('/datasets/orders.csv'),\n",
    "        pd.read_csv('/datasets/visitors.csv')\n",
    "    )\n",
    "\n",
    "\n",
    "except:\n",
    "    hypothesis, orders, visitors = (\n",
    "        pd.read_csv('hypothesis.csv'),\n",
    "        pd.read_csv('orders.csv'),\n",
    "        pd.read_csv('visitors.csv')\n",
    "    )"
   ]
  },
  {
   "cell_type": "code",
   "execution_count": 4,
   "metadata": {},
   "outputs": [
    {
     "name": "stdout",
     "output_type": "stream",
     "text": [
      "<class 'pandas.core.frame.DataFrame'>\n",
      "RangeIndex: 9 entries, 0 to 8\n",
      "Data columns (total 5 columns):\n",
      " #   Column      Non-Null Count  Dtype \n",
      "---  ------      --------------  ----- \n",
      " 0   Hypothesis  9 non-null      object\n",
      " 1   Reach       9 non-null      int64 \n",
      " 2   Impact      9 non-null      int64 \n",
      " 3   Confidence  9 non-null      int64 \n",
      " 4   Efforts     9 non-null      int64 \n",
      "dtypes: int64(4), object(1)\n",
      "memory usage: 488.0+ bytes\n"
     ]
    },
    {
     "data": {
      "text/html": [
       "<div>\n",
       "<style scoped>\n",
       "    .dataframe tbody tr th:only-of-type {\n",
       "        vertical-align: middle;\n",
       "    }\n",
       "\n",
       "    .dataframe tbody tr th {\n",
       "        vertical-align: top;\n",
       "    }\n",
       "\n",
       "    .dataframe thead th {\n",
       "        text-align: right;\n",
       "    }\n",
       "</style>\n",
       "<table border=\"1\" class=\"dataframe\">\n",
       "  <thead>\n",
       "    <tr style=\"text-align: right;\">\n",
       "      <th></th>\n",
       "      <th>Hypothesis</th>\n",
       "      <th>Reach</th>\n",
       "      <th>Impact</th>\n",
       "      <th>Confidence</th>\n",
       "      <th>Efforts</th>\n",
       "    </tr>\n",
       "  </thead>\n",
       "  <tbody>\n",
       "    <tr>\n",
       "      <th>0</th>\n",
       "      <td>Добавить два новых канала привлечения трафика, что позволит привлекать на 30% больше пользователей</td>\n",
       "      <td>3</td>\n",
       "      <td>10</td>\n",
       "      <td>8</td>\n",
       "      <td>6</td>\n",
       "    </tr>\n",
       "    <tr>\n",
       "      <th>1</th>\n",
       "      <td>Запустить собственную службу доставки, что сократит срок доставки заказов</td>\n",
       "      <td>2</td>\n",
       "      <td>5</td>\n",
       "      <td>4</td>\n",
       "      <td>10</td>\n",
       "    </tr>\n",
       "    <tr>\n",
       "      <th>2</th>\n",
       "      <td>Добавить блоки рекомендаций товаров на сайт интернет магазина, чтобы повысить конверсию и средний чек заказа</td>\n",
       "      <td>8</td>\n",
       "      <td>3</td>\n",
       "      <td>7</td>\n",
       "      <td>3</td>\n",
       "    </tr>\n",
       "    <tr>\n",
       "      <th>3</th>\n",
       "      <td>Изменить структура категорий, что увеличит конверсию, т.к. пользователи быстрее найдут нужный товар</td>\n",
       "      <td>8</td>\n",
       "      <td>3</td>\n",
       "      <td>3</td>\n",
       "      <td>8</td>\n",
       "    </tr>\n",
       "    <tr>\n",
       "      <th>4</th>\n",
       "      <td>Изменить цвет фона главной страницы, чтобы увеличить вовлеченность пользователей</td>\n",
       "      <td>3</td>\n",
       "      <td>1</td>\n",
       "      <td>1</td>\n",
       "      <td>1</td>\n",
       "    </tr>\n",
       "    <tr>\n",
       "      <th>5</th>\n",
       "      <td>Добавить страницу отзывов клиентов о магазине, что позволит увеличить количество заказов</td>\n",
       "      <td>3</td>\n",
       "      <td>2</td>\n",
       "      <td>2</td>\n",
       "      <td>3</td>\n",
       "    </tr>\n",
       "    <tr>\n",
       "      <th>6</th>\n",
       "      <td>Показать на главной странице баннеры с актуальными акциями и распродажами, чтобы увеличить конверсию</td>\n",
       "      <td>5</td>\n",
       "      <td>3</td>\n",
       "      <td>8</td>\n",
       "      <td>3</td>\n",
       "    </tr>\n",
       "    <tr>\n",
       "      <th>7</th>\n",
       "      <td>Добавить форму подписки на все основные страницы, чтобы собрать базу клиентов для email-рассылок</td>\n",
       "      <td>10</td>\n",
       "      <td>7</td>\n",
       "      <td>8</td>\n",
       "      <td>5</td>\n",
       "    </tr>\n",
       "    <tr>\n",
       "      <th>8</th>\n",
       "      <td>Запустить акцию, дающую скидку на товар в день рождения</td>\n",
       "      <td>1</td>\n",
       "      <td>9</td>\n",
       "      <td>9</td>\n",
       "      <td>5</td>\n",
       "    </tr>\n",
       "  </tbody>\n",
       "</table>\n",
       "</div>"
      ],
      "text/plain": [
       "                                                                                                     Hypothesis  \\\n",
       "0            Добавить два новых канала привлечения трафика, что позволит привлекать на 30% больше пользователей   \n",
       "1                                     Запустить собственную службу доставки, что сократит срок доставки заказов   \n",
       "2  Добавить блоки рекомендаций товаров на сайт интернет магазина, чтобы повысить конверсию и средний чек заказа   \n",
       "3           Изменить структура категорий, что увеличит конверсию, т.к. пользователи быстрее найдут нужный товар   \n",
       "4                              Изменить цвет фона главной страницы, чтобы увеличить вовлеченность пользователей   \n",
       "5                      Добавить страницу отзывов клиентов о магазине, что позволит увеличить количество заказов   \n",
       "6          Показать на главной странице баннеры с актуальными акциями и распродажами, чтобы увеличить конверсию   \n",
       "7              Добавить форму подписки на все основные страницы, чтобы собрать базу клиентов для email-рассылок   \n",
       "8                                                       Запустить акцию, дающую скидку на товар в день рождения   \n",
       "\n",
       "   Reach  Impact  Confidence  Efforts  \n",
       "0      3      10           8        6  \n",
       "1      2       5           4       10  \n",
       "2      8       3           7        3  \n",
       "3      8       3           3        8  \n",
       "4      3       1           1        1  \n",
       "5      3       2           2        3  \n",
       "6      5       3           8        3  \n",
       "7     10       7           8        5  \n",
       "8      1       9           9        5  "
      ]
     },
     "execution_count": 4,
     "metadata": {},
     "output_type": "execute_result"
    }
   ],
   "source": [
    "hypothesis.info()\n",
    "hypothesis"
   ]
  },
  {
   "cell_type": "code",
   "execution_count": 5,
   "metadata": {},
   "outputs": [
    {
     "data": {
      "text/html": [
       "<div>\n",
       "<style scoped>\n",
       "    .dataframe tbody tr th:only-of-type {\n",
       "        vertical-align: middle;\n",
       "    }\n",
       "\n",
       "    .dataframe tbody tr th {\n",
       "        vertical-align: top;\n",
       "    }\n",
       "\n",
       "    .dataframe thead th {\n",
       "        text-align: right;\n",
       "    }\n",
       "</style>\n",
       "<table border=\"1\" class=\"dataframe\">\n",
       "  <thead>\n",
       "    <tr style=\"text-align: right;\">\n",
       "      <th></th>\n",
       "      <th>Reach</th>\n",
       "      <th>Impact</th>\n",
       "      <th>Confidence</th>\n",
       "      <th>Efforts</th>\n",
       "    </tr>\n",
       "  </thead>\n",
       "  <tbody>\n",
       "    <tr>\n",
       "      <th>count</th>\n",
       "      <td>9.00</td>\n",
       "      <td>9.00</td>\n",
       "      <td>9.00</td>\n",
       "      <td>9.00</td>\n",
       "    </tr>\n",
       "    <tr>\n",
       "      <th>mean</th>\n",
       "      <td>4.78</td>\n",
       "      <td>4.78</td>\n",
       "      <td>5.56</td>\n",
       "      <td>4.89</td>\n",
       "    </tr>\n",
       "    <tr>\n",
       "      <th>std</th>\n",
       "      <td>3.15</td>\n",
       "      <td>3.19</td>\n",
       "      <td>3.05</td>\n",
       "      <td>2.80</td>\n",
       "    </tr>\n",
       "    <tr>\n",
       "      <th>min</th>\n",
       "      <td>1.00</td>\n",
       "      <td>1.00</td>\n",
       "      <td>1.00</td>\n",
       "      <td>1.00</td>\n",
       "    </tr>\n",
       "    <tr>\n",
       "      <th>25%</th>\n",
       "      <td>3.00</td>\n",
       "      <td>3.00</td>\n",
       "      <td>3.00</td>\n",
       "      <td>3.00</td>\n",
       "    </tr>\n",
       "    <tr>\n",
       "      <th>50%</th>\n",
       "      <td>3.00</td>\n",
       "      <td>3.00</td>\n",
       "      <td>7.00</td>\n",
       "      <td>5.00</td>\n",
       "    </tr>\n",
       "    <tr>\n",
       "      <th>75%</th>\n",
       "      <td>8.00</td>\n",
       "      <td>7.00</td>\n",
       "      <td>8.00</td>\n",
       "      <td>6.00</td>\n",
       "    </tr>\n",
       "    <tr>\n",
       "      <th>max</th>\n",
       "      <td>10.00</td>\n",
       "      <td>10.00</td>\n",
       "      <td>9.00</td>\n",
       "      <td>10.00</td>\n",
       "    </tr>\n",
       "  </tbody>\n",
       "</table>\n",
       "</div>"
      ],
      "text/plain": [
       "       Reach  Impact  Confidence  Efforts\n",
       "count   9.00    9.00        9.00     9.00\n",
       "mean    4.78    4.78        5.56     4.89\n",
       "std     3.15    3.19        3.05     2.80\n",
       "min     1.00    1.00        1.00     1.00\n",
       "25%     3.00    3.00        3.00     3.00\n",
       "50%     3.00    3.00        7.00     5.00\n",
       "75%     8.00    7.00        8.00     6.00\n",
       "max    10.00   10.00        9.00    10.00"
      ]
     },
     "execution_count": 5,
     "metadata": {},
     "output_type": "execute_result"
    }
   ],
   "source": [
    "hypothesis.describe()"
   ]
  },
  {
   "cell_type": "code",
   "execution_count": 6,
   "metadata": {},
   "outputs": [
    {
     "data": {
      "text/plain": [
       "0"
      ]
     },
     "execution_count": 6,
     "metadata": {},
     "output_type": "execute_result"
    }
   ],
   "source": [
    "hypothesis.duplicated().sum()"
   ]
  },
  {
   "cell_type": "code",
   "execution_count": 7,
   "metadata": {},
   "outputs": [
    {
     "name": "stdout",
     "output_type": "stream",
     "text": [
      "<class 'pandas.core.frame.DataFrame'>\n",
      "RangeIndex: 1197 entries, 0 to 1196\n",
      "Data columns (total 5 columns):\n",
      " #   Column         Non-Null Count  Dtype \n",
      "---  ------         --------------  ----- \n",
      " 0   transactionId  1197 non-null   int64 \n",
      " 1   visitorId      1197 non-null   int64 \n",
      " 2   date           1197 non-null   object\n",
      " 3   revenue        1197 non-null   int64 \n",
      " 4   group          1197 non-null   object\n",
      "dtypes: int64(3), object(2)\n",
      "memory usage: 46.9+ KB\n"
     ]
    },
    {
     "data": {
      "text/html": [
       "<div>\n",
       "<style scoped>\n",
       "    .dataframe tbody tr th:only-of-type {\n",
       "        vertical-align: middle;\n",
       "    }\n",
       "\n",
       "    .dataframe tbody tr th {\n",
       "        vertical-align: top;\n",
       "    }\n",
       "\n",
       "    .dataframe thead th {\n",
       "        text-align: right;\n",
       "    }\n",
       "</style>\n",
       "<table border=\"1\" class=\"dataframe\">\n",
       "  <thead>\n",
       "    <tr style=\"text-align: right;\">\n",
       "      <th></th>\n",
       "      <th>transactionId</th>\n",
       "      <th>visitorId</th>\n",
       "      <th>date</th>\n",
       "      <th>revenue</th>\n",
       "      <th>group</th>\n",
       "    </tr>\n",
       "  </thead>\n",
       "  <tbody>\n",
       "    <tr>\n",
       "      <th>0</th>\n",
       "      <td>3667963787</td>\n",
       "      <td>3312258926</td>\n",
       "      <td>2019-08-15</td>\n",
       "      <td>1650</td>\n",
       "      <td>B</td>\n",
       "    </tr>\n",
       "    <tr>\n",
       "      <th>1</th>\n",
       "      <td>2804400009</td>\n",
       "      <td>3642806036</td>\n",
       "      <td>2019-08-15</td>\n",
       "      <td>730</td>\n",
       "      <td>B</td>\n",
       "    </tr>\n",
       "    <tr>\n",
       "      <th>2</th>\n",
       "      <td>2961555356</td>\n",
       "      <td>4069496402</td>\n",
       "      <td>2019-08-15</td>\n",
       "      <td>400</td>\n",
       "      <td>A</td>\n",
       "    </tr>\n",
       "    <tr>\n",
       "      <th>3</th>\n",
       "      <td>3797467345</td>\n",
       "      <td>1196621759</td>\n",
       "      <td>2019-08-15</td>\n",
       "      <td>9759</td>\n",
       "      <td>B</td>\n",
       "    </tr>\n",
       "    <tr>\n",
       "      <th>4</th>\n",
       "      <td>2282983706</td>\n",
       "      <td>2322279887</td>\n",
       "      <td>2019-08-15</td>\n",
       "      <td>2308</td>\n",
       "      <td>B</td>\n",
       "    </tr>\n",
       "  </tbody>\n",
       "</table>\n",
       "</div>"
      ],
      "text/plain": [
       "   transactionId   visitorId        date  revenue group\n",
       "0     3667963787  3312258926  2019-08-15     1650     B\n",
       "1     2804400009  3642806036  2019-08-15      730     B\n",
       "2     2961555356  4069496402  2019-08-15      400     A\n",
       "3     3797467345  1196621759  2019-08-15     9759     B\n",
       "4     2282983706  2322279887  2019-08-15     2308     B"
      ]
     },
     "execution_count": 7,
     "metadata": {},
     "output_type": "execute_result"
    }
   ],
   "source": [
    "orders.info()\n",
    "orders.head()"
   ]
  },
  {
   "cell_type": "code",
   "execution_count": 8,
   "metadata": {},
   "outputs": [],
   "source": [
    "#заменим тип столбца date на корректный\n",
    "orders['date'] = pd.to_datetime(orders['date'], format='%Y-%m-%d')"
   ]
  },
  {
   "cell_type": "code",
   "execution_count": 9,
   "metadata": {},
   "outputs": [
    {
     "name": "stdout",
     "output_type": "stream",
     "text": [
      "<class 'pandas.core.frame.DataFrame'>\n",
      "RangeIndex: 1197 entries, 0 to 1196\n",
      "Data columns (total 5 columns):\n",
      " #   Column         Non-Null Count  Dtype         \n",
      "---  ------         --------------  -----         \n",
      " 0   transactionId  1197 non-null   int64         \n",
      " 1   visitorId      1197 non-null   int64         \n",
      " 2   date           1197 non-null   datetime64[ns]\n",
      " 3   revenue        1197 non-null   int64         \n",
      " 4   group          1197 non-null   object        \n",
      "dtypes: datetime64[ns](1), int64(3), object(1)\n",
      "memory usage: 46.9+ KB\n"
     ]
    }
   ],
   "source": [
    "orders.info()"
   ]
  },
  {
   "cell_type": "code",
   "execution_count": 10,
   "metadata": {},
   "outputs": [
    {
     "data": {
      "text/html": [
       "<div>\n",
       "<style scoped>\n",
       "    .dataframe tbody tr th:only-of-type {\n",
       "        vertical-align: middle;\n",
       "    }\n",
       "\n",
       "    .dataframe tbody tr th {\n",
       "        vertical-align: top;\n",
       "    }\n",
       "\n",
       "    .dataframe thead th {\n",
       "        text-align: right;\n",
       "    }\n",
       "</style>\n",
       "<table border=\"1\" class=\"dataframe\">\n",
       "  <thead>\n",
       "    <tr style=\"text-align: right;\">\n",
       "      <th></th>\n",
       "      <th>transactionId</th>\n",
       "      <th>visitorId</th>\n",
       "      <th>revenue</th>\n",
       "    </tr>\n",
       "  </thead>\n",
       "  <tbody>\n",
       "    <tr>\n",
       "      <th>count</th>\n",
       "      <td>1197.00</td>\n",
       "      <td>1197.00</td>\n",
       "      <td>1197.00</td>\n",
       "    </tr>\n",
       "    <tr>\n",
       "      <th>mean</th>\n",
       "      <td>2155621385.53</td>\n",
       "      <td>2165960143.10</td>\n",
       "      <td>8348.01</td>\n",
       "    </tr>\n",
       "    <tr>\n",
       "      <th>std</th>\n",
       "      <td>1229084904.76</td>\n",
       "      <td>1236014192.15</td>\n",
       "      <td>39191.13</td>\n",
       "    </tr>\n",
       "    <tr>\n",
       "      <th>min</th>\n",
       "      <td>1062393.00</td>\n",
       "      <td>5114589.00</td>\n",
       "      <td>50.00</td>\n",
       "    </tr>\n",
       "    <tr>\n",
       "      <th>25%</th>\n",
       "      <td>1166775572.00</td>\n",
       "      <td>1111826046.00</td>\n",
       "      <td>1220.00</td>\n",
       "    </tr>\n",
       "    <tr>\n",
       "      <th>50%</th>\n",
       "      <td>2145193898.00</td>\n",
       "      <td>2217984702.00</td>\n",
       "      <td>2978.00</td>\n",
       "    </tr>\n",
       "    <tr>\n",
       "      <th>75%</th>\n",
       "      <td>3237740112.00</td>\n",
       "      <td>3177606451.00</td>\n",
       "      <td>8290.00</td>\n",
       "    </tr>\n",
       "    <tr>\n",
       "      <th>max</th>\n",
       "      <td>4293855558.00</td>\n",
       "      <td>4283872382.00</td>\n",
       "      <td>1294500.00</td>\n",
       "    </tr>\n",
       "  </tbody>\n",
       "</table>\n",
       "</div>"
      ],
      "text/plain": [
       "       transactionId     visitorId    revenue\n",
       "count        1197.00       1197.00    1197.00\n",
       "mean   2155621385.53 2165960143.10    8348.01\n",
       "std    1229084904.76 1236014192.15   39191.13\n",
       "min       1062393.00    5114589.00      50.00\n",
       "25%    1166775572.00 1111826046.00    1220.00\n",
       "50%    2145193898.00 2217984702.00    2978.00\n",
       "75%    3237740112.00 3177606451.00    8290.00\n",
       "max    4293855558.00 4283872382.00 1294500.00"
      ]
     },
     "execution_count": 10,
     "metadata": {},
     "output_type": "execute_result"
    }
   ],
   "source": [
    "orders.describe()"
   ]
  },
  {
   "cell_type": "code",
   "execution_count": 11,
   "metadata": {},
   "outputs": [
    {
     "data": {
      "text/plain": [
       "0"
      ]
     },
     "execution_count": 11,
     "metadata": {},
     "output_type": "execute_result"
    }
   ],
   "source": [
    "orders.duplicated().sum()"
   ]
  },
  {
   "cell_type": "code",
   "execution_count": 12,
   "metadata": {},
   "outputs": [
    {
     "name": "stdout",
     "output_type": "stream",
     "text": [
      "<class 'pandas.core.frame.DataFrame'>\n",
      "RangeIndex: 62 entries, 0 to 61\n",
      "Data columns (total 3 columns):\n",
      " #   Column    Non-Null Count  Dtype \n",
      "---  ------    --------------  ----- \n",
      " 0   date      62 non-null     object\n",
      " 1   group     62 non-null     object\n",
      " 2   visitors  62 non-null     int64 \n",
      "dtypes: int64(1), object(2)\n",
      "memory usage: 1.6+ KB\n"
     ]
    },
    {
     "data": {
      "text/html": [
       "<div>\n",
       "<style scoped>\n",
       "    .dataframe tbody tr th:only-of-type {\n",
       "        vertical-align: middle;\n",
       "    }\n",
       "\n",
       "    .dataframe tbody tr th {\n",
       "        vertical-align: top;\n",
       "    }\n",
       "\n",
       "    .dataframe thead th {\n",
       "        text-align: right;\n",
       "    }\n",
       "</style>\n",
       "<table border=\"1\" class=\"dataframe\">\n",
       "  <thead>\n",
       "    <tr style=\"text-align: right;\">\n",
       "      <th></th>\n",
       "      <th>date</th>\n",
       "      <th>group</th>\n",
       "      <th>visitors</th>\n",
       "    </tr>\n",
       "  </thead>\n",
       "  <tbody>\n",
       "    <tr>\n",
       "      <th>0</th>\n",
       "      <td>2019-08-01</td>\n",
       "      <td>A</td>\n",
       "      <td>719</td>\n",
       "    </tr>\n",
       "    <tr>\n",
       "      <th>1</th>\n",
       "      <td>2019-08-02</td>\n",
       "      <td>A</td>\n",
       "      <td>619</td>\n",
       "    </tr>\n",
       "    <tr>\n",
       "      <th>2</th>\n",
       "      <td>2019-08-03</td>\n",
       "      <td>A</td>\n",
       "      <td>507</td>\n",
       "    </tr>\n",
       "    <tr>\n",
       "      <th>3</th>\n",
       "      <td>2019-08-04</td>\n",
       "      <td>A</td>\n",
       "      <td>717</td>\n",
       "    </tr>\n",
       "    <tr>\n",
       "      <th>4</th>\n",
       "      <td>2019-08-05</td>\n",
       "      <td>A</td>\n",
       "      <td>756</td>\n",
       "    </tr>\n",
       "  </tbody>\n",
       "</table>\n",
       "</div>"
      ],
      "text/plain": [
       "         date group  visitors\n",
       "0  2019-08-01     A       719\n",
       "1  2019-08-02     A       619\n",
       "2  2019-08-03     A       507\n",
       "3  2019-08-04     A       717\n",
       "4  2019-08-05     A       756"
      ]
     },
     "execution_count": 12,
     "metadata": {},
     "output_type": "execute_result"
    }
   ],
   "source": [
    "visitors.info()\n",
    "visitors.head()"
   ]
  },
  {
   "cell_type": "code",
   "execution_count": 13,
   "metadata": {},
   "outputs": [],
   "source": [
    "#заменим тип столбца date на корректный\n",
    "visitors['date'] = pd.to_datetime(visitors['date'], format='%Y-%m-%d')"
   ]
  },
  {
   "cell_type": "code",
   "execution_count": 14,
   "metadata": {},
   "outputs": [
    {
     "name": "stdout",
     "output_type": "stream",
     "text": [
      "<class 'pandas.core.frame.DataFrame'>\n",
      "RangeIndex: 62 entries, 0 to 61\n",
      "Data columns (total 3 columns):\n",
      " #   Column    Non-Null Count  Dtype         \n",
      "---  ------    --------------  -----         \n",
      " 0   date      62 non-null     datetime64[ns]\n",
      " 1   group     62 non-null     object        \n",
      " 2   visitors  62 non-null     int64         \n",
      "dtypes: datetime64[ns](1), int64(1), object(1)\n",
      "memory usage: 1.6+ KB\n"
     ]
    }
   ],
   "source": [
    "visitors.info()"
   ]
  },
  {
   "cell_type": "code",
   "execution_count": 15,
   "metadata": {},
   "outputs": [
    {
     "data": {
      "text/html": [
       "<div>\n",
       "<style scoped>\n",
       "    .dataframe tbody tr th:only-of-type {\n",
       "        vertical-align: middle;\n",
       "    }\n",
       "\n",
       "    .dataframe tbody tr th {\n",
       "        vertical-align: top;\n",
       "    }\n",
       "\n",
       "    .dataframe thead th {\n",
       "        text-align: right;\n",
       "    }\n",
       "</style>\n",
       "<table border=\"1\" class=\"dataframe\">\n",
       "  <thead>\n",
       "    <tr style=\"text-align: right;\">\n",
       "      <th></th>\n",
       "      <th>visitors</th>\n",
       "    </tr>\n",
       "  </thead>\n",
       "  <tbody>\n",
       "    <tr>\n",
       "      <th>count</th>\n",
       "      <td>62.00</td>\n",
       "    </tr>\n",
       "    <tr>\n",
       "      <th>mean</th>\n",
       "      <td>607.29</td>\n",
       "    </tr>\n",
       "    <tr>\n",
       "      <th>std</th>\n",
       "      <td>114.40</td>\n",
       "    </tr>\n",
       "    <tr>\n",
       "      <th>min</th>\n",
       "      <td>361.00</td>\n",
       "    </tr>\n",
       "    <tr>\n",
       "      <th>25%</th>\n",
       "      <td>534.00</td>\n",
       "    </tr>\n",
       "    <tr>\n",
       "      <th>50%</th>\n",
       "      <td>624.50</td>\n",
       "    </tr>\n",
       "    <tr>\n",
       "      <th>75%</th>\n",
       "      <td>710.50</td>\n",
       "    </tr>\n",
       "    <tr>\n",
       "      <th>max</th>\n",
       "      <td>770.00</td>\n",
       "    </tr>\n",
       "  </tbody>\n",
       "</table>\n",
       "</div>"
      ],
      "text/plain": [
       "       visitors\n",
       "count     62.00\n",
       "mean     607.29\n",
       "std      114.40\n",
       "min      361.00\n",
       "25%      534.00\n",
       "50%      624.50\n",
       "75%      710.50\n",
       "max      770.00"
      ]
     },
     "execution_count": 15,
     "metadata": {},
     "output_type": "execute_result"
    }
   ],
   "source": [
    "visitors.describe()"
   ]
  },
  {
   "cell_type": "code",
   "execution_count": 16,
   "metadata": {},
   "outputs": [
    {
     "data": {
      "text/plain": [
       "0"
      ]
     },
     "execution_count": 16,
     "metadata": {},
     "output_type": "execute_result"
    }
   ],
   "source": [
    "visitors.duplicated().sum()"
   ]
  },
  {
   "cell_type": "markdown",
   "metadata": {},
   "source": [
    "<div class=\"alert alert-info\">\n",
    "<font size=\"3\", color = \"black\">\n",
    "    \n",
    "   <b>Вывод: </b> анализ показал отсутствие пропусков и дубликатов в данных. Также был изменен тип данных в столбцах date двух датафреймов на корректный. В остальном данные готовы к проверке гипотез."
   ]
  },
  {
   "cell_type": "markdown",
   "metadata": {},
   "source": [
    "## Приоритизация гипотез"
   ]
  },
  {
   "cell_type": "markdown",
   "metadata": {},
   "source": [
    "### ICE"
   ]
  },
  {
   "cell_type": "code",
   "execution_count": 17,
   "metadata": {},
   "outputs": [
    {
     "data": {
      "text/html": [
       "<div>\n",
       "<style scoped>\n",
       "    .dataframe tbody tr th:only-of-type {\n",
       "        vertical-align: middle;\n",
       "    }\n",
       "\n",
       "    .dataframe tbody tr th {\n",
       "        vertical-align: top;\n",
       "    }\n",
       "\n",
       "    .dataframe thead th {\n",
       "        text-align: right;\n",
       "    }\n",
       "</style>\n",
       "<table border=\"1\" class=\"dataframe\">\n",
       "  <thead>\n",
       "    <tr style=\"text-align: right;\">\n",
       "      <th></th>\n",
       "      <th>Hypothesis</th>\n",
       "      <th>Reach</th>\n",
       "      <th>Impact</th>\n",
       "      <th>Confidence</th>\n",
       "      <th>Efforts</th>\n",
       "      <th>ICE</th>\n",
       "    </tr>\n",
       "  </thead>\n",
       "  <tbody>\n",
       "    <tr>\n",
       "      <th>8</th>\n",
       "      <td>Запустить акцию, дающую скидку на товар в день рождения</td>\n",
       "      <td>1</td>\n",
       "      <td>9</td>\n",
       "      <td>9</td>\n",
       "      <td>5</td>\n",
       "      <td>16.20</td>\n",
       "    </tr>\n",
       "    <tr>\n",
       "      <th>0</th>\n",
       "      <td>Добавить два новых канала привлечения трафика, что позволит привлекать на 30% больше пользователей</td>\n",
       "      <td>3</td>\n",
       "      <td>10</td>\n",
       "      <td>8</td>\n",
       "      <td>6</td>\n",
       "      <td>13.33</td>\n",
       "    </tr>\n",
       "    <tr>\n",
       "      <th>7</th>\n",
       "      <td>Добавить форму подписки на все основные страницы, чтобы собрать базу клиентов для email-рассылок</td>\n",
       "      <td>10</td>\n",
       "      <td>7</td>\n",
       "      <td>8</td>\n",
       "      <td>5</td>\n",
       "      <td>11.20</td>\n",
       "    </tr>\n",
       "    <tr>\n",
       "      <th>6</th>\n",
       "      <td>Показать на главной странице баннеры с актуальными акциями и распродажами, чтобы увеличить конверсию</td>\n",
       "      <td>5</td>\n",
       "      <td>3</td>\n",
       "      <td>8</td>\n",
       "      <td>3</td>\n",
       "      <td>8.00</td>\n",
       "    </tr>\n",
       "    <tr>\n",
       "      <th>2</th>\n",
       "      <td>Добавить блоки рекомендаций товаров на сайт интернет магазина, чтобы повысить конверсию и средний чек заказа</td>\n",
       "      <td>8</td>\n",
       "      <td>3</td>\n",
       "      <td>7</td>\n",
       "      <td>3</td>\n",
       "      <td>7.00</td>\n",
       "    </tr>\n",
       "    <tr>\n",
       "      <th>1</th>\n",
       "      <td>Запустить собственную службу доставки, что сократит срок доставки заказов</td>\n",
       "      <td>2</td>\n",
       "      <td>5</td>\n",
       "      <td>4</td>\n",
       "      <td>10</td>\n",
       "      <td>2.00</td>\n",
       "    </tr>\n",
       "    <tr>\n",
       "      <th>5</th>\n",
       "      <td>Добавить страницу отзывов клиентов о магазине, что позволит увеличить количество заказов</td>\n",
       "      <td>3</td>\n",
       "      <td>2</td>\n",
       "      <td>2</td>\n",
       "      <td>3</td>\n",
       "      <td>1.33</td>\n",
       "    </tr>\n",
       "    <tr>\n",
       "      <th>3</th>\n",
       "      <td>Изменить структура категорий, что увеличит конверсию, т.к. пользователи быстрее найдут нужный товар</td>\n",
       "      <td>8</td>\n",
       "      <td>3</td>\n",
       "      <td>3</td>\n",
       "      <td>8</td>\n",
       "      <td>1.12</td>\n",
       "    </tr>\n",
       "    <tr>\n",
       "      <th>4</th>\n",
       "      <td>Изменить цвет фона главной страницы, чтобы увеличить вовлеченность пользователей</td>\n",
       "      <td>3</td>\n",
       "      <td>1</td>\n",
       "      <td>1</td>\n",
       "      <td>1</td>\n",
       "      <td>1.00</td>\n",
       "    </tr>\n",
       "  </tbody>\n",
       "</table>\n",
       "</div>"
      ],
      "text/plain": [
       "                                                                                                     Hypothesis  \\\n",
       "8                                                       Запустить акцию, дающую скидку на товар в день рождения   \n",
       "0            Добавить два новых канала привлечения трафика, что позволит привлекать на 30% больше пользователей   \n",
       "7              Добавить форму подписки на все основные страницы, чтобы собрать базу клиентов для email-рассылок   \n",
       "6          Показать на главной странице баннеры с актуальными акциями и распродажами, чтобы увеличить конверсию   \n",
       "2  Добавить блоки рекомендаций товаров на сайт интернет магазина, чтобы повысить конверсию и средний чек заказа   \n",
       "1                                     Запустить собственную службу доставки, что сократит срок доставки заказов   \n",
       "5                      Добавить страницу отзывов клиентов о магазине, что позволит увеличить количество заказов   \n",
       "3           Изменить структура категорий, что увеличит конверсию, т.к. пользователи быстрее найдут нужный товар   \n",
       "4                              Изменить цвет фона главной страницы, чтобы увеличить вовлеченность пользователей   \n",
       "\n",
       "   Reach  Impact  Confidence  Efforts   ICE  \n",
       "8      1       9           9        5 16.20  \n",
       "0      3      10           8        6 13.33  \n",
       "7     10       7           8        5 11.20  \n",
       "6      5       3           8        3  8.00  \n",
       "2      8       3           7        3  7.00  \n",
       "1      2       5           4       10  2.00  \n",
       "5      3       2           2        3  1.33  \n",
       "3      8       3           3        8  1.12  \n",
       "4      3       1           1        1  1.00  "
      ]
     },
     "execution_count": 17,
     "metadata": {},
     "output_type": "execute_result"
    }
   ],
   "source": [
    "hypothesis['ICE'] = (hypothesis['Impact'] *  hypothesis['Confidence']) / hypothesis['Efforts']\n",
    "hypothesis.sort_values(by='ICE', ascending=False, inplace=True)\n",
    "hypothesis"
   ]
  },
  {
   "cell_type": "markdown",
   "metadata": {},
   "source": [
    "<div class=\"alert alert-info\">\n",
    "<font size=\"3\", color = \"black\">\n",
    "    По ICE наиболее привлекательной получается 8 гипотеза, следом идут 0 и 7."
   ]
  },
  {
   "cell_type": "markdown",
   "metadata": {},
   "source": [
    "### RICE"
   ]
  },
  {
   "cell_type": "code",
   "execution_count": 18,
   "metadata": {},
   "outputs": [
    {
     "data": {
      "text/html": [
       "<div>\n",
       "<style scoped>\n",
       "    .dataframe tbody tr th:only-of-type {\n",
       "        vertical-align: middle;\n",
       "    }\n",
       "\n",
       "    .dataframe tbody tr th {\n",
       "        vertical-align: top;\n",
       "    }\n",
       "\n",
       "    .dataframe thead th {\n",
       "        text-align: right;\n",
       "    }\n",
       "</style>\n",
       "<table border=\"1\" class=\"dataframe\">\n",
       "  <thead>\n",
       "    <tr style=\"text-align: right;\">\n",
       "      <th></th>\n",
       "      <th>Hypothesis</th>\n",
       "      <th>Reach</th>\n",
       "      <th>Impact</th>\n",
       "      <th>Confidence</th>\n",
       "      <th>Efforts</th>\n",
       "      <th>ICE</th>\n",
       "      <th>RICE</th>\n",
       "    </tr>\n",
       "  </thead>\n",
       "  <tbody>\n",
       "    <tr>\n",
       "      <th>7</th>\n",
       "      <td>Добавить форму подписки на все основные страницы, чтобы собрать базу клиентов для email-рассылок</td>\n",
       "      <td>10</td>\n",
       "      <td>7</td>\n",
       "      <td>8</td>\n",
       "      <td>5</td>\n",
       "      <td>11.20</td>\n",
       "      <td>112.00</td>\n",
       "    </tr>\n",
       "    <tr>\n",
       "      <th>2</th>\n",
       "      <td>Добавить блоки рекомендаций товаров на сайт интернет магазина, чтобы повысить конверсию и средний чек заказа</td>\n",
       "      <td>8</td>\n",
       "      <td>3</td>\n",
       "      <td>7</td>\n",
       "      <td>3</td>\n",
       "      <td>7.00</td>\n",
       "      <td>56.00</td>\n",
       "    </tr>\n",
       "    <tr>\n",
       "      <th>0</th>\n",
       "      <td>Добавить два новых канала привлечения трафика, что позволит привлекать на 30% больше пользователей</td>\n",
       "      <td>3</td>\n",
       "      <td>10</td>\n",
       "      <td>8</td>\n",
       "      <td>6</td>\n",
       "      <td>13.33</td>\n",
       "      <td>40.00</td>\n",
       "    </tr>\n",
       "    <tr>\n",
       "      <th>6</th>\n",
       "      <td>Показать на главной странице баннеры с актуальными акциями и распродажами, чтобы увеличить конверсию</td>\n",
       "      <td>5</td>\n",
       "      <td>3</td>\n",
       "      <td>8</td>\n",
       "      <td>3</td>\n",
       "      <td>8.00</td>\n",
       "      <td>40.00</td>\n",
       "    </tr>\n",
       "    <tr>\n",
       "      <th>8</th>\n",
       "      <td>Запустить акцию, дающую скидку на товар в день рождения</td>\n",
       "      <td>1</td>\n",
       "      <td>9</td>\n",
       "      <td>9</td>\n",
       "      <td>5</td>\n",
       "      <td>16.20</td>\n",
       "      <td>16.20</td>\n",
       "    </tr>\n",
       "    <tr>\n",
       "      <th>3</th>\n",
       "      <td>Изменить структура категорий, что увеличит конверсию, т.к. пользователи быстрее найдут нужный товар</td>\n",
       "      <td>8</td>\n",
       "      <td>3</td>\n",
       "      <td>3</td>\n",
       "      <td>8</td>\n",
       "      <td>1.12</td>\n",
       "      <td>9.00</td>\n",
       "    </tr>\n",
       "    <tr>\n",
       "      <th>1</th>\n",
       "      <td>Запустить собственную службу доставки, что сократит срок доставки заказов</td>\n",
       "      <td>2</td>\n",
       "      <td>5</td>\n",
       "      <td>4</td>\n",
       "      <td>10</td>\n",
       "      <td>2.00</td>\n",
       "      <td>4.00</td>\n",
       "    </tr>\n",
       "    <tr>\n",
       "      <th>5</th>\n",
       "      <td>Добавить страницу отзывов клиентов о магазине, что позволит увеличить количество заказов</td>\n",
       "      <td>3</td>\n",
       "      <td>2</td>\n",
       "      <td>2</td>\n",
       "      <td>3</td>\n",
       "      <td>1.33</td>\n",
       "      <td>4.00</td>\n",
       "    </tr>\n",
       "    <tr>\n",
       "      <th>4</th>\n",
       "      <td>Изменить цвет фона главной страницы, чтобы увеличить вовлеченность пользователей</td>\n",
       "      <td>3</td>\n",
       "      <td>1</td>\n",
       "      <td>1</td>\n",
       "      <td>1</td>\n",
       "      <td>1.00</td>\n",
       "      <td>3.00</td>\n",
       "    </tr>\n",
       "  </tbody>\n",
       "</table>\n",
       "</div>"
      ],
      "text/plain": [
       "                                                                                                     Hypothesis  \\\n",
       "7              Добавить форму подписки на все основные страницы, чтобы собрать базу клиентов для email-рассылок   \n",
       "2  Добавить блоки рекомендаций товаров на сайт интернет магазина, чтобы повысить конверсию и средний чек заказа   \n",
       "0            Добавить два новых канала привлечения трафика, что позволит привлекать на 30% больше пользователей   \n",
       "6          Показать на главной странице баннеры с актуальными акциями и распродажами, чтобы увеличить конверсию   \n",
       "8                                                       Запустить акцию, дающую скидку на товар в день рождения   \n",
       "3           Изменить структура категорий, что увеличит конверсию, т.к. пользователи быстрее найдут нужный товар   \n",
       "1                                     Запустить собственную службу доставки, что сократит срок доставки заказов   \n",
       "5                      Добавить страницу отзывов клиентов о магазине, что позволит увеличить количество заказов   \n",
       "4                              Изменить цвет фона главной страницы, чтобы увеличить вовлеченность пользователей   \n",
       "\n",
       "   Reach  Impact  Confidence  Efforts   ICE   RICE  \n",
       "7     10       7           8        5 11.20 112.00  \n",
       "2      8       3           7        3  7.00  56.00  \n",
       "0      3      10           8        6 13.33  40.00  \n",
       "6      5       3           8        3  8.00  40.00  \n",
       "8      1       9           9        5 16.20  16.20  \n",
       "3      8       3           3        8  1.12   9.00  \n",
       "1      2       5           4       10  2.00   4.00  \n",
       "5      3       2           2        3  1.33   4.00  \n",
       "4      3       1           1        1  1.00   3.00  "
      ]
     },
     "execution_count": 18,
     "metadata": {},
     "output_type": "execute_result"
    }
   ],
   "source": [
    "hypothesis['RICE'] = (hypothesis['Reach'] * hypothesis['Impact'] *  hypothesis['Confidence']) / hypothesis['Efforts']\n",
    "hypothesis.sort_values(by='RICE', ascending=False, inplace=True)\n",
    "hypothesis"
   ]
  },
  {
   "cell_type": "markdown",
   "metadata": {},
   "source": [
    "<div class=\"alert alert-info\">\n",
    "<font size=\"3\", color = \"black\">\n",
    "    По RICE наиболее привлекательной получается 7 гипотеза, следом идут 2 и 0."
   ]
  },
  {
   "cell_type": "markdown",
   "metadata": {},
   "source": [
    "<div class=\"alert alert-info\">\n",
    "<font size=\"3\", color = \"black\">\n",
    "    <b>Вывод: </b> 8 гипотеза опустилась с первой позиции на пятую из-за низкого показателя охвата. 7 гипотеза поднялась с третьего места на первое из-за высокого показателя охвата."
   ]
  },
  {
   "cell_type": "markdown",
   "metadata": {},
   "source": [
    "## Анализ A/B-теста"
   ]
  },
  {
   "cell_type": "code",
   "execution_count": 19,
   "metadata": {},
   "outputs": [
    {
     "data": {
      "text/plain": [
       "array([4069496402,  963407295,  351125977, 3234906277,  199603092,\n",
       "        237748145, 3803269165, 2038680547, 2378935119, 4256040402,\n",
       "       2712142231,    8300375,  276558944,  457167155, 3062433592,\n",
       "       1738359350, 2458001652, 2716752286, 3891541246, 1648269707,\n",
       "       3656415546, 2686716486, 2954449915, 2927087541, 2579882178,\n",
       "       3957174400, 2780786433, 3984495233,  818047933, 1668030113,\n",
       "       3717692402, 2044997962, 1959144690, 1294878855, 1404934699,\n",
       "       2587333274, 3202540741, 1333886533, 2600415354, 3951559397,\n",
       "        393266494, 3972127743, 4120364173, 4266935830, 1230306981,\n",
       "       1614305549,  477780734, 1602967004, 1801183820, 4186807279,\n",
       "       3766097110, 3941795274,  471551937, 1316129916,  232979603,\n",
       "       2654030115, 3963646447, 2949041841])"
      ]
     },
     "execution_count": 19,
     "metadata": {},
     "output_type": "execute_result"
    }
   ],
   "source": [
    "visitorsA = orders[orders['group']=='A']['visitorId']\n",
    "visitorsB = orders[orders['group']=='B']['visitorId']\n",
    "visitors_AB = orders.loc[orders['visitorId'].isin(visitorsA)& orders['visitorId'].isin(visitorsB),'visitorId'].unique()\n",
    "visitors_AB"
   ]
  },
  {
   "cell_type": "markdown",
   "metadata": {},
   "source": [
    "<div class=\"alert alert-info\">\n",
    "<font size=\"3\", color = \"black\">\n",
    "Есть пользователи, попавшие в обе группы, нужно от них избавиться."
   ]
  },
  {
   "cell_type": "code",
   "execution_count": 20,
   "metadata": {},
   "outputs": [
    {
     "name": "stdout",
     "output_type": "stream",
     "text": [
      "1031\n",
      "973\n"
     ]
    }
   ],
   "source": [
    "print((orders.groupby('visitorId')['group'].nunique()>1).count())\n",
    "orders = orders.loc[~orders['visitorId'].isin(visitors_AB)]\n",
    "print((orders.groupby('visitorId')['group'].nunique()>1).count())"
   ]
  },
  {
   "cell_type": "markdown",
   "metadata": {},
   "source": [
    "<div class=\"alert alert-info\">\n",
    "<font size=\"3\", color = \"black\">\n",
    "Избавились от пользователей, попавших в обе группы, и убедились, что количество записей действительно стало меньше."
   ]
  },
  {
   "cell_type": "markdown",
   "metadata": {},
   "source": [
    "###  Подготовка таблиц с кумулятивными данными"
   ]
  },
  {
   "cell_type": "code",
   "execution_count": 21,
   "metadata": {},
   "outputs": [],
   "source": [
    "dates_groups = orders[['date','group']].drop_duplicates()"
   ]
  },
  {
   "cell_type": "code",
   "execution_count": 22,
   "metadata": {},
   "outputs": [
    {
     "data": {
      "text/html": [
       "<div>\n",
       "<style scoped>\n",
       "    .dataframe tbody tr th:only-of-type {\n",
       "        vertical-align: middle;\n",
       "    }\n",
       "\n",
       "    .dataframe tbody tr th {\n",
       "        vertical-align: top;\n",
       "    }\n",
       "\n",
       "    .dataframe thead th {\n",
       "        text-align: right;\n",
       "    }\n",
       "</style>\n",
       "<table border=\"1\" class=\"dataframe\">\n",
       "  <thead>\n",
       "    <tr style=\"text-align: right;\">\n",
       "      <th></th>\n",
       "      <th>date</th>\n",
       "      <th>group</th>\n",
       "      <th>revenue</th>\n",
       "      <th>orders</th>\n",
       "    </tr>\n",
       "  </thead>\n",
       "  <tbody>\n",
       "    <tr>\n",
       "      <th>55</th>\n",
       "      <td>2019-08-01</td>\n",
       "      <td>A</td>\n",
       "      <td>142779</td>\n",
       "      <td>23</td>\n",
       "    </tr>\n",
       "    <tr>\n",
       "      <th>66</th>\n",
       "      <td>2019-08-01</td>\n",
       "      <td>B</td>\n",
       "      <td>59758</td>\n",
       "      <td>17</td>\n",
       "    </tr>\n",
       "    <tr>\n",
       "      <th>175</th>\n",
       "      <td>2019-08-02</td>\n",
       "      <td>A</td>\n",
       "      <td>234381</td>\n",
       "      <td>42</td>\n",
       "    </tr>\n",
       "    <tr>\n",
       "      <th>173</th>\n",
       "      <td>2019-08-02</td>\n",
       "      <td>B</td>\n",
       "      <td>221801</td>\n",
       "      <td>40</td>\n",
       "    </tr>\n",
       "    <tr>\n",
       "      <th>291</th>\n",
       "      <td>2019-08-03</td>\n",
       "      <td>A</td>\n",
       "      <td>346854</td>\n",
       "      <td>66</td>\n",
       "    </tr>\n",
       "  </tbody>\n",
       "</table>\n",
       "</div>"
      ],
      "text/plain": [
       "          date group  revenue  orders\n",
       "55  2019-08-01     A   142779      23\n",
       "66  2019-08-01     B    59758      17\n",
       "175 2019-08-02     A   234381      42\n",
       "173 2019-08-02     B   221801      40\n",
       "291 2019-08-03     A   346854      66"
      ]
     },
     "execution_count": 22,
     "metadata": {},
     "output_type": "execute_result"
    }
   ],
   "source": [
    "orders_aggregated = (dates_groups\n",
    "                     .apply(lambda x: orders[np.logical_and(orders['date'] <= x['date']\n",
    "                                                            , orders['group'] ==  x['group'])]\n",
    "                    .agg({'date':'max', 'group':'max', 'revenue':'sum', 'transactionId':'nunique'}), axis=1) \n",
    "                    .sort_values(by=['date','group']))\n",
    "\n",
    "orders_aggregated.rename(columns={'transactionId':'orders'}, inplace=True)\n",
    "\n",
    "orders_aggregated.head()"
   ]
  },
  {
   "cell_type": "code",
   "execution_count": 23,
   "metadata": {},
   "outputs": [
    {
     "data": {
      "text/html": [
       "<div>\n",
       "<style scoped>\n",
       "    .dataframe tbody tr th:only-of-type {\n",
       "        vertical-align: middle;\n",
       "    }\n",
       "\n",
       "    .dataframe tbody tr th {\n",
       "        vertical-align: top;\n",
       "    }\n",
       "\n",
       "    .dataframe thead th {\n",
       "        text-align: right;\n",
       "    }\n",
       "</style>\n",
       "<table border=\"1\" class=\"dataframe\">\n",
       "  <thead>\n",
       "    <tr style=\"text-align: right;\">\n",
       "      <th></th>\n",
       "      <th>date</th>\n",
       "      <th>group</th>\n",
       "      <th>visitors</th>\n",
       "    </tr>\n",
       "  </thead>\n",
       "  <tbody>\n",
       "    <tr>\n",
       "      <th>55</th>\n",
       "      <td>2019-08-01</td>\n",
       "      <td>A</td>\n",
       "      <td>719</td>\n",
       "    </tr>\n",
       "    <tr>\n",
       "      <th>66</th>\n",
       "      <td>2019-08-01</td>\n",
       "      <td>B</td>\n",
       "      <td>713</td>\n",
       "    </tr>\n",
       "    <tr>\n",
       "      <th>175</th>\n",
       "      <td>2019-08-02</td>\n",
       "      <td>A</td>\n",
       "      <td>1338</td>\n",
       "    </tr>\n",
       "    <tr>\n",
       "      <th>173</th>\n",
       "      <td>2019-08-02</td>\n",
       "      <td>B</td>\n",
       "      <td>1294</td>\n",
       "    </tr>\n",
       "    <tr>\n",
       "      <th>291</th>\n",
       "      <td>2019-08-03</td>\n",
       "      <td>A</td>\n",
       "      <td>1845</td>\n",
       "    </tr>\n",
       "  </tbody>\n",
       "</table>\n",
       "</div>"
      ],
      "text/plain": [
       "          date group  visitors\n",
       "55  2019-08-01     A       719\n",
       "66  2019-08-01     B       713\n",
       "175 2019-08-02     A      1338\n",
       "173 2019-08-02     B      1294\n",
       "291 2019-08-03     A      1845"
      ]
     },
     "execution_count": 23,
     "metadata": {},
     "output_type": "execute_result"
    }
   ],
   "source": [
    "visitors_aggregated = (dates_groups\n",
    "                     .apply(lambda x: visitors[np.logical_and(visitors['date'] <= x['date']\n",
    "                                                            , visitors['group'] ==  x['group'])]\n",
    "                    .agg({'date':'max', 'group':'max', 'visitors':'sum'}), axis=1) \n",
    "                    .sort_values(by=['date','group']))\n",
    "visitors_aggregated.head()"
   ]
  },
  {
   "cell_type": "code",
   "execution_count": 24,
   "metadata": {},
   "outputs": [
    {
     "data": {
      "text/html": [
       "<div>\n",
       "<style scoped>\n",
       "    .dataframe tbody tr th:only-of-type {\n",
       "        vertical-align: middle;\n",
       "    }\n",
       "\n",
       "    .dataframe tbody tr th {\n",
       "        vertical-align: top;\n",
       "    }\n",
       "\n",
       "    .dataframe thead th {\n",
       "        text-align: right;\n",
       "    }\n",
       "</style>\n",
       "<table border=\"1\" class=\"dataframe\">\n",
       "  <thead>\n",
       "    <tr style=\"text-align: right;\">\n",
       "      <th></th>\n",
       "      <th>date</th>\n",
       "      <th>group</th>\n",
       "      <th>revenue</th>\n",
       "      <th>orders</th>\n",
       "      <th>visitors</th>\n",
       "      <th>conversion</th>\n",
       "    </tr>\n",
       "  </thead>\n",
       "  <tbody>\n",
       "    <tr>\n",
       "      <th>0</th>\n",
       "      <td>2019-08-01</td>\n",
       "      <td>A</td>\n",
       "      <td>142779</td>\n",
       "      <td>23</td>\n",
       "      <td>719</td>\n",
       "      <td>0.03</td>\n",
       "    </tr>\n",
       "    <tr>\n",
       "      <th>1</th>\n",
       "      <td>2019-08-01</td>\n",
       "      <td>B</td>\n",
       "      <td>59758</td>\n",
       "      <td>17</td>\n",
       "      <td>713</td>\n",
       "      <td>0.02</td>\n",
       "    </tr>\n",
       "    <tr>\n",
       "      <th>2</th>\n",
       "      <td>2019-08-02</td>\n",
       "      <td>A</td>\n",
       "      <td>234381</td>\n",
       "      <td>42</td>\n",
       "      <td>1338</td>\n",
       "      <td>0.03</td>\n",
       "    </tr>\n",
       "    <tr>\n",
       "      <th>3</th>\n",
       "      <td>2019-08-02</td>\n",
       "      <td>B</td>\n",
       "      <td>221801</td>\n",
       "      <td>40</td>\n",
       "      <td>1294</td>\n",
       "      <td>0.03</td>\n",
       "    </tr>\n",
       "    <tr>\n",
       "      <th>4</th>\n",
       "      <td>2019-08-03</td>\n",
       "      <td>A</td>\n",
       "      <td>346854</td>\n",
       "      <td>66</td>\n",
       "      <td>1845</td>\n",
       "      <td>0.04</td>\n",
       "    </tr>\n",
       "  </tbody>\n",
       "</table>\n",
       "</div>"
      ],
      "text/plain": [
       "        date group  revenue  orders  visitors  conversion\n",
       "0 2019-08-01     A   142779      23       719        0.03\n",
       "1 2019-08-01     B    59758      17       713        0.02\n",
       "2 2019-08-02     A   234381      42      1338        0.03\n",
       "3 2019-08-02     B   221801      40      1294        0.03\n",
       "4 2019-08-03     A   346854      66      1845        0.04"
      ]
     },
     "execution_count": 24,
     "metadata": {},
     "output_type": "execute_result"
    }
   ],
   "source": [
    "cumulative_data = orders_aggregated.merge(visitors_aggregated, on=['date','group'])\n",
    "cumulative_data['conversion'] = cumulative_data['orders'] / cumulative_data['visitors']\n",
    "cumulative_data.head()"
   ]
  },
  {
   "cell_type": "markdown",
   "metadata": {},
   "source": [
    "### Построение графиков с кумулятивными данными по группам"
   ]
  },
  {
   "cell_type": "code",
   "execution_count": 25,
   "metadata": {},
   "outputs": [
    {
     "data": {
      "image/png": "[encoded data removed]",
      "text/plain": [
       "<Figure size 720x360 with 1 Axes>"
      ]
     },
     "metadata": {
      "needs_background": "light"
     },
     "output_type": "display_data"
    }
   ],
   "source": [
    "cumulative_a = cumulative_data.loc[cumulative_data['group'] == 'A',['date','revenue','orders','visitors']]\n",
    "cumulative_b = cumulative_data.loc[cumulative_data['group'] == 'B',['date','revenue','orders','visitors']]\n",
    "\n",
    "plt.figure(figsize=(10, 5))\n",
    "plt.plot(cumulative_a['date'], cumulative_a['revenue'], label='A')\n",
    "plt.plot(cumulative_b['date'], cumulative_b['revenue'], label='B')\n",
    "plt.xticks(rotation=45)\n",
    "plt.title('Кумулятивная выручка по группам')\n",
    "plt.legend();"
   ]
  },
  {
   "cell_type": "markdown",
   "metadata": {},
   "source": [
    "<div class=\"alert alert-info\">\n",
    "<font size=\"3\", color = \"black\">\n",
    "    <b>Вывод: </b>по данному графику заметно резкое повышение выручки после 17 августа у группы В."
   ]
  },
  {
   "cell_type": "code",
   "execution_count": 26,
   "metadata": {},
   "outputs": [
    {
     "data": {
      "image/png": "[encoded data removed]",
      "text/plain": [
       "<Figure size 720x360 with 1 Axes>"
      ]
     },
     "metadata": {
      "needs_background": "light"
     },
     "output_type": "display_data"
    }
   ],
   "source": [
    "plt.figure(figsize=(10, 5))\n",
    "plt.plot(cumulative_a['date'], cumulative_a['revenue'] / cumulative_a['orders'], label='A')\n",
    "plt.plot(cumulative_b['date'], cumulative_b['revenue'] / cumulative_b['orders'], label='B')\n",
    "plt.xticks(rotation=45)\n",
    "plt.title('Кумулятивный средний чек по группам')\n",
    "plt.legend();"
   ]
  },
  {
   "cell_type": "markdown",
   "metadata": {},
   "source": [
    "<div class=\"alert alert-info\">\n",
    "<font size=\"3\", color = \"black\">\n",
    "    <b>Вывод: </b> по данному графику также заметно резкое повышение среднего чека после 17 августа у группы В. "
   ]
  },
  {
   "cell_type": "code",
   "execution_count": 27,
   "metadata": {},
   "outputs": [
    {
     "data": {
      "image/png": "[encoded data removed]",
      "text/plain": [
       "<Figure size 720x360 with 1 Axes>"
      ]
     },
     "metadata": {
      "needs_background": "light"
     },
     "output_type": "display_data"
    }
   ],
   "source": [
    "merged_cumulative = cumulative_a.merge(cumulative_b, on=['date'],suffixes=('_a', '_b'))\n",
    "\n",
    "plt.figure(figsize=(10, 5))\n",
    "plt.plot(\n",
    "    merged_cumulative['date'],\n",
    "    (merged_cumulative['revenue_b'] / merged_cumulative['orders_b']) / (merged_cumulative['revenue_a'] / merged_cumulative['orders_a']) -1\n",
    ")\n",
    "plt.xticks(rotation=45)\n",
    "plt.title('Изменения относительного кумулятивного среднего чека')\n",
    "#plt.axis(ymin=-0.5, ymax=0.6)\n",
    "plt.axhline(y=0, color='grey', linestyle='-.');"
   ]
  },
  {
   "cell_type": "markdown",
   "metadata": {},
   "source": [
    "<div class=\"alert alert-info\">\n",
    "<font size=\"3\", color = \"black\">\n",
    "    <b>Вывод: </b> и снова замечаем резкое изменение относительного кумулятивного среднего чека после 17 августа. "
   ]
  },
  {
   "cell_type": "code",
   "execution_count": 28,
   "metadata": {},
   "outputs": [
    {
     "data": {
      "image/png": "[encoded data removed]",
      "text/plain": [
       "<Figure size 720x360 with 1 Axes>"
      ]
     },
     "metadata": {
      "needs_background": "light"
     },
     "output_type": "display_data"
    }
   ],
   "source": [
    "plt.figure(figsize=(10, 5))\n",
    "plt.plot(cumulative_a['date'], cumulative_a['orders'] / cumulative_a['visitors'], label='A')\n",
    "plt.plot(cumulative_b['date'], cumulative_b['orders'] / cumulative_b['visitors'], label='B')\n",
    "plt.xticks(rotation=45)\n",
    "plt.title('Кумулятивная конверсия по группам')\n",
    "plt.axis(xmin=cumulative_a['date'].min(), xmax=cumulative_a['date'].max(), ymin=.020, ymax=0.04)\n",
    "plt.legend();"
   ]
  },
  {
   "cell_type": "markdown",
   "metadata": {},
   "source": [
    "<div class=\"alert alert-info\">\n",
    "<font size=\"3\", color = \"black\">\n",
    "    <b>Вывод: </b> после выравнивания конверсии лидирует группа В."
   ]
  },
  {
   "cell_type": "code",
   "execution_count": 29,
   "metadata": {},
   "outputs": [
    {
     "data": {
      "image/png": "[encoded data removed]",
      "text/plain": [
       "<Figure size 720x360 with 1 Axes>"
      ]
     },
     "metadata": {
      "needs_background": "light"
     },
     "output_type": "display_data"
    }
   ],
   "source": [
    "plt.figure(figsize=(10, 5))\n",
    "plt.plot(\n",
    "    merged_cumulative['date'],\n",
    "    (merged_cumulative['orders_b'] / merged_cumulative['visitors_b']) / (merged_cumulative['orders_a'] / merged_cumulative['visitors_a']) -1\n",
    ")\n",
    "plt.xticks(rotation=45)\n",
    "plt.title('График относительного изменения кумулятивной конверсии групп')\n",
    "plt.axis(xmin=merged_cumulative['date'].min(), xmax=merged_cumulative['date'].max(), ymin=-0.30, ymax=0.3)\n",
    "plt.axhline(y=0, color='grey', linestyle='-.')\n",
    "plt.axhline(y=0.15, color='black', linestyle='--');"
   ]
  },
  {
   "cell_type": "markdown",
   "metadata": {},
   "source": [
    "<div class=\"alert alert-info\">\n",
    "<font size=\"3\", color = \"black\"><b>Вывод: </b> после небольшого спада в самом начале уверенно лидирует группа В. Всё указывает на то, что есть аномально крупные заказы в данной группе."
   ]
  },
  {
   "cell_type": "markdown",
   "metadata": {},
   "source": [
    "### Построение точечных графиков для определения аномалий"
   ]
  },
  {
   "cell_type": "markdown",
   "metadata": {},
   "source": [
    "<div class=\"alert alert-info\">\n",
    "<font size=\"3\", color = \"black\">Построим точечный график количества заказов по пользователям:"
   ]
  },
  {
   "cell_type": "code",
   "execution_count": 30,
   "metadata": {},
   "outputs": [
    {
     "data": {
      "text/plain": [
       "count   973.00\n",
       "mean      1.04\n",
       "std       0.24\n",
       "min       1.00\n",
       "25%       1.00\n",
       "50%       1.00\n",
       "75%       1.00\n",
       "max       3.00\n",
       "Name: orders, dtype: float64"
      ]
     },
     "metadata": {},
     "output_type": "display_data"
    }
   ],
   "source": [
    "#подготовка данных\n",
    "orders_by_users = (\n",
    "    orders.groupby('visitorId', as_index=False)\n",
    "    .agg({'transactionId': 'nunique'})\n",
    ")\n",
    "orders_by_users.columns =  ['visitorId', 'orders']\n",
    "display(orders_by_users['orders'].describe())"
   ]
  },
  {
   "cell_type": "code",
   "execution_count": 31,
   "metadata": {},
   "outputs": [
    {
     "data": {
      "image/png": "[encoded data removed]",
      "text/plain": [
       "<Figure size 720x360 with 1 Axes>"
      ]
     },
     "metadata": {
      "needs_background": "light"
     },
     "output_type": "display_data"
    }
   ],
   "source": [
    "#построение графика\n",
    "x_values = pd.Series(range(0,orders_by_users['orders'].count()))\n",
    "plt.figure(figsize=(10, 5))\n",
    "plt.scatter(x_values, orders_by_users['orders'], color='purple', alpha=0.5)\n",
    "plt.title('Распределение количества заказов по пользователям')\n",
    "plt.xlabel('Количество заказов')\n",
    "plt.ylabel('Количество пользователей')\n",
    "plt.show()"
   ]
  },
  {
   "cell_type": "markdown",
   "metadata": {},
   "source": [
    "Посмотрим 95-й и 99-й перцентили стоимости заказов:"
   ]
  },
  {
   "cell_type": "code",
   "execution_count": 32,
   "metadata": {},
   "outputs": [
    {
     "data": {
      "text/plain": [
       "array([1., 2.])"
      ]
     },
     "execution_count": 32,
     "metadata": {},
     "output_type": "execute_result"
    }
   ],
   "source": [
    "np.percentile(orders_by_users['orders'], [95, 99])"
   ]
  },
  {
   "cell_type": "markdown",
   "metadata": {},
   "source": [
    "<div class=\"alert alert-info\">\n",
    "<font size=\"3\", color = \"black\"><b>Вывод: </b> не более 5% делали более 1-го заказа и не более 1% делали более 2-х заказов. Достаточно исключить данные выше 99-го перцентиля для корректного анализа."
   ]
  },
  {
   "cell_type": "code",
   "execution_count": 33,
   "metadata": {},
   "outputs": [],
   "source": [
    "per = np.percentile(orders_by_users['orders'], [99])[0]\n",
    "orders_by_users_clean = orders_by_users.query('orders<= @per')"
   ]
  },
  {
   "cell_type": "code",
   "execution_count": 34,
   "metadata": {},
   "outputs": [
    {
     "data": {
      "image/png": "[encoded data removed]",
      "text/plain": [
       "<Figure size 720x360 with 1 Axes>"
      ]
     },
     "metadata": {
      "needs_background": "light"
     },
     "output_type": "display_data"
    }
   ],
   "source": [
    "x_values = pd.Series(range(0,orders_by_users_clean['orders'].count()))\n",
    "plt.figure(figsize=(10, 5))\n",
    "plt.scatter(x_values, orders_by_users_clean['orders'], color='purple', alpha=0.5)\n",
    "plt.title('Распределение количества заказов по 99% пользователей')\n",
    "plt.xlabel('Количество заказов')\n",
    "plt.ylabel('Количество пользователей')\n",
    "plt.show()"
   ]
  },
  {
   "cell_type": "markdown",
   "metadata": {},
   "source": [
    "<div class=\"alert alert-info\">\n",
    "<font size=\"3\", color = \"black\">Построим точечный график стоимостей заказов:"
   ]
  },
  {
   "cell_type": "code",
   "execution_count": 35,
   "metadata": {},
   "outputs": [
    {
     "data": {
      "image/png": "[encoded data removed]",
      "text/plain": [
       "<Figure size 720x360 with 1 Axes>"
      ]
     },
     "metadata": {
      "needs_background": "light"
     },
     "output_type": "display_data"
    }
   ],
   "source": [
    "x_values = pd.Series(range(0,orders['revenue'].count()))\n",
    "plt.figure(figsize=(10, 5))\n",
    "plt.scatter(x_values, orders['revenue'], color='purple', alpha=0.5)\n",
    "plt.grid()\n",
    "plt.title('Распределение стоимости заказов по пользователям')\n",
    "plt.show()"
   ]
  },
  {
   "cell_type": "markdown",
   "metadata": {},
   "source": [
    "Посмотрим 95-й и 99-й перцентили стоимости заказов:"
   ]
  },
  {
   "cell_type": "code",
   "execution_count": 36,
   "metadata": {},
   "outputs": [
    {
     "data": {
      "text/plain": [
       "array([26785., 53904.])"
      ]
     },
     "execution_count": 36,
     "metadata": {},
     "output_type": "execute_result"
    }
   ],
   "source": [
    "np.percentile(orders['revenue'], [95, 99])"
   ]
  },
  {
   "cell_type": "markdown",
   "metadata": {},
   "source": [
    "<div class=\"alert alert-info\">\n",
    "<font size=\"3\", color = \"black\"><b>Вывод: </b> один заказ с аномально высокой стоимостью все это время сильно влиял на показатели своей группы. Достаточно исключить данные выше 99-го перцентиля для корректного анализа."
   ]
  },
  {
   "cell_type": "code",
   "execution_count": 37,
   "metadata": {},
   "outputs": [],
   "source": [
    "per = np.percentile(orders['revenue'], [99])[0]\n",
    "orders_clean = orders.query('revenue<= @per')"
   ]
  },
  {
   "cell_type": "markdown",
   "metadata": {},
   "source": [
    "Теперь данные выглядят более информативно."
   ]
  },
  {
   "cell_type": "code",
   "execution_count": 38,
   "metadata": {},
   "outputs": [
    {
     "data": {
      "image/png": "[encoded data removed]",
      "text/plain": [
       "<Figure size 720x360 with 1 Axes>"
      ]
     },
     "metadata": {
      "needs_background": "light"
     },
     "output_type": "display_data"
    }
   ],
   "source": [
    "x_values = pd.Series(range(0,orders_clean['revenue'].count()))\n",
    "plt.figure(figsize=(10, 5))\n",
    "plt.scatter(x_values, orders_clean['revenue'], color='purple', alpha=0.5)\n",
    "plt.grid()\n",
    "plt.title('Распределение стоимости заказов по 99% пользователей')\n",
    "plt.show()"
   ]
  },
  {
   "cell_type": "markdown",
   "metadata": {},
   "source": [
    "### Анализ статистической значимости"
   ]
  },
  {
   "cell_type": "markdown",
   "metadata": {},
   "source": [
    "<div class=\"alert alert-info\">\n",
    "<font size=\"3\", color = \"black\">\n",
    "Посчитаем статистическую значимость различий в среднем количестве заказов на посетителя между группами по «сырым» данным:"
   ]
  },
  {
   "cell_type": "code",
   "execution_count": 39,
   "metadata": {},
   "outputs": [],
   "source": [
    "# подготовка данных\n",
    "orders_by_usersA = orders[orders['group']=='A'].groupby('visitorId')['transactionId'].nunique().reset_index()\n",
    "orders_by_usersA.columns=['visitorsId','orders']\n",
    "\n",
    "orders_by_usersB = orders[orders['group']=='B'].groupby('visitorId')['transactionId'].nunique().reset_index()\n",
    "orders_by_usersB.columns=['visitorsId','orders']\n",
    "\n",
    "freeA = pd.Series(0, index=np.arange(visitors[visitors['group']=='A']['visitors'].sum() - len(orders_by_usersA['orders'])), name='orders')\n",
    "freeB = pd.Series(0, index=np.arange(visitors[visitors['group']=='B']['visitors'].sum() - len(orders_by_usersB['orders'])), name='orders')\n"
   ]
  },
  {
   "cell_type": "code",
   "execution_count": 40,
   "metadata": {},
   "outputs": [],
   "source": [
    "# создание выборок\n",
    "sampleA = pd.concat([orders_by_usersA['orders'], freeA])\n",
    "sampleB = pd.concat([orders_by_usersB['orders'], freeB])"
   ]
  },
  {
   "cell_type": "markdown",
   "metadata": {},
   "source": [
    "<div class=\"alert alert-info\">\n",
    "<font size=\"3\", color = \"black\">\n",
    "Нулевая гипотеза: конверсии двух групп между собой не имеют статистически значимую разницу <br/>\n",
    "Альтернативная гипотеза: конверсии двух групп между собой имеют статистически значимую разницу <br/>\n",
    "Примем уровень значимости alpha = .05 <br/>\n",
    "Для проверки гипотез будем использовать непараметрический тест Уилкоксона-Манна-Уитни\n",
    "    <font size=\"3\", color = \"black\">"
   ]
  },
  {
   "cell_type": "code",
   "execution_count": 41,
   "metadata": {},
   "outputs": [
    {
     "name": "stdout",
     "output_type": "stream",
     "text": [
      "p-значение: 0.0055090420550073455\n",
      "Отвергаем нулевую гипотезу\n",
      "Средняя конверсия группы А: 2.5%\n",
      "Средняя конверсия группы B: 2.9%\n"
     ]
    }
   ],
   "source": [
    "alpha = .05\n",
    "\n",
    "results = st.mannwhitneyu(sampleA, sampleB)\n",
    "\n",
    "print('p-значение:', results.pvalue)\n",
    "if results.pvalue < alpha:\n",
    "    print('Отвергаем нулевую гипотезу')\n",
    "else:\n",
    "    print('Не получилось отвергнуть нулевую гипотезу') \n",
    "\n",
    "print('Средняя конверсия группы А: {:.1%}'.format(sampleA.mean()))\n",
    "print('Средняя конверсия группы B: {:.1%}'.format(sampleB.mean()))\n"
   ]
  },
  {
   "cell_type": "markdown",
   "metadata": {},
   "source": [
    "<div class=\"alert alert-info\">\n",
    "<font size=\"3\", color = \"black\"><b>Вывод: </b> различие в 0.4% оказалось статистически значимым для отвержения нулевой гипотезы. "
   ]
  },
  {
   "cell_type": "markdown",
   "metadata": {},
   "source": [
    " <div class=\"alert alert-info\">\n",
    "<font size=\"3\", color = \"black\">\n",
    "Посчитаем статистическую значимость различий в среднем чеке заказа между группами по «сырым» данным:"
   ]
  },
  {
   "cell_type": "markdown",
   "metadata": {},
   "source": [
    "<div class=\"alert alert-info\">\n",
    "<font size=\"3\", color = \"black\">\n",
    "Нулевая гипотеза: средний чек заказа двух групп между собой не имеют статистически значимую разницу <br/>\n",
    "Альтернативная гипотеза: средний чек заказа двух групп между собой имеют статистически значимую разницу <br/>\n",
    "Примем уровень значимости alpha = .05 <br/>\n",
    "    <font size=\"3\", color = \"black\">"
   ]
  },
  {
   "cell_type": "code",
   "execution_count": 42,
   "metadata": {},
   "outputs": [
    {
     "name": "stdout",
     "output_type": "stream",
     "text": [
      "p-значение: 0.41474544990747664\n",
      "Не получилось отвергнуть нулевую гипотезу\n",
      "Средний чек группы А: 7189.44\n",
      "Средний чек группы B: 9249.95\n"
     ]
    }
   ],
   "source": [
    "alpha = .05\n",
    "\n",
    "results = st.mannwhitneyu(orders[orders['group']=='A']['revenue'], orders[orders['group']=='B']['revenue'])\n",
    "\n",
    "print('p-значение:', results.pvalue)\n",
    "if results.pvalue < alpha:\n",
    "    print('Отвергаем нулевую гипотезу')\n",
    "else:\n",
    "    print('Не получилось отвергнуть нулевую гипотезу') \n",
    "\n",
    "print('Средний чек группы А: {:.2f}'.format(orders[orders['group']=='A']['revenue'].mean()))\n",
    "print('Средний чек группы B: {:.2f}'.format(orders[orders['group']=='B']['revenue'].mean()))\n"
   ]
  },
  {
   "cell_type": "markdown",
   "metadata": {},
   "source": [
    "<div class=\"alert alert-info\">\n",
    "<font size=\"3\", color = \"black\"><b>Вывод: </b> различие в почти 2000 у.е. не является статистически значимым, потому не отвергаем нулевую гипотезу."
   ]
  },
  {
   "cell_type": "markdown",
   "metadata": {},
   "source": [
    " <div class=\"alert alert-info\">\n",
    "<font size=\"3\", color = \"black\">\n",
    "    Посчитаем статистическую значимость различий в среднем количестве заказов на посетителя между группами по «очищенным» данным:"
   ]
  },
  {
   "cell_type": "code",
   "execution_count": 43,
   "metadata": {},
   "outputs": [],
   "source": [
    "#подготовка данных\n",
    "orders_by_usersA = orders_clean[orders_clean['group']=='A'].groupby('visitorId')['transactionId'].nunique().reset_index()\n",
    "orders_by_usersA.columns=['visitorsId','orders']\n",
    "\n",
    "orders_by_usersB = orders_clean[orders_clean['group']=='B'].groupby('visitorId')['transactionId'].nunique().reset_index()\n",
    "orders_by_usersB.columns=['visitorsId','orders']\n",
    "\n",
    "freeA = pd.Series(0, index=np.arange(visitors[visitors['group']=='A']['visitors'].sum() - len(orders_by_usersA['orders'])), name='orders')\n",
    "freeB = pd.Series(0, index=np.arange(visitors[visitors['group']=='B']['visitors'].sum() - len(orders_by_usersB['orders'])), name='orders')\n"
   ]
  },
  {
   "cell_type": "code",
   "execution_count": 44,
   "metadata": {},
   "outputs": [],
   "source": [
    "#создание выборок\n",
    "sampleA = pd.concat([orders_by_usersA['orders'], freeA])\n",
    "sampleB = pd.concat([orders_by_usersB['orders'], freeB])"
   ]
  },
  {
   "cell_type": "markdown",
   "metadata": {},
   "source": [
    "<div class=\"alert alert-info\">\n",
    "<font size=\"3\", color = \"black\">\n",
    "Нулевая гипотеза: конверсии двух групп между собой не имеют статистически значимую разницу <br/>\n",
    "Альтернативная гипотеза: конверсии двух групп между собой имеют статистически значимую разницу <br/>\n",
    "Примем уровень значимости alpha = .05 <br/>"
   ]
  },
  {
   "cell_type": "code",
   "execution_count": 45,
   "metadata": {},
   "outputs": [
    {
     "name": "stdout",
     "output_type": "stream",
     "text": [
      "p-значение: 0.004831636256967929\n",
      "Отвергаем нулевую гипотезу\n",
      "Средняя конверсия группы А: 2.5%\n",
      "Средняя конверсия группы B: 2.9%\n"
     ]
    }
   ],
   "source": [
    "alpha = .05\n",
    "\n",
    "results = st.mannwhitneyu(sampleA, sampleB)\n",
    "\n",
    "print('p-значение:', results.pvalue)\n",
    "if results.pvalue < alpha:\n",
    "    print('Отвергаем нулевую гипотезу')\n",
    "else:\n",
    "    print('Не получилось отвергнуть нулевую гипотезу') \n",
    "\n",
    "print('Средняя конверсия группы А: {:.1%}'.format(sampleA.mean()))\n",
    "print('Средняя конверсия группы B: {:.1%}'.format(sampleB.mean()))"
   ]
  },
  {
   "cell_type": "markdown",
   "metadata": {},
   "source": [
    "<div class=\"alert alert-info\">\n",
    "<font size=\"3\", color = \"black\"><b>Вывод: </b> данные не изменились, различие в 0.4% оказалось статистически значимым для отвержения нулевой гипотезы."
   ]
  },
  {
   "cell_type": "markdown",
   "metadata": {},
   "source": [
    "<div class=\"alert alert-info\">\n",
    "<font size=\"3\", color = \"black\">\n",
    "    Посчитаем статистическую значимость различий в среднем чеке заказа между группами по «очищенным» данным:"
   ]
  },
  {
   "cell_type": "markdown",
   "metadata": {},
   "source": [
    "<div class=\"alert alert-info\">\n",
    "<font size=\"3\", color = \"black\">\n",
    "Нулевая гипотеза: средний чек заказа двух групп между собой не имеют статистически значимую разницу<br/>\n",
    "Альтернативная гипотеза: средний чек заказа двух групп между собой имеют статистически значимую разницу <br/>\n",
    "Примем уровень значимости alpha = .05 <br/>\n",
    "    <font size=\"3\", color = \"black\">"
   ]
  },
  {
   "cell_type": "code",
   "execution_count": 46,
   "metadata": {},
   "outputs": [
    {
     "name": "stdout",
     "output_type": "stream",
     "text": [
      "p-значение: 0.4503442178280369\n",
      "Не получилось отвергнуть нулевую гипотезу\n",
      "Средний чек группы А: 6504.55\n",
      "Средний чек группы B: 6298.83\n"
     ]
    }
   ],
   "source": [
    "alpha = .05\n",
    "\n",
    "results = st.mannwhitneyu(orders_clean[orders_clean['group']=='A']['revenue'], orders_clean[orders_clean['group']=='B']['revenue'])\n",
    "\n",
    "\n",
    "print('p-значение:', results.pvalue)\n",
    "if results.pvalue < alpha:\n",
    "    print('Отвергаем нулевую гипотезу')\n",
    "else:\n",
    "    print('Не получилось отвергнуть нулевую гипотезу') \n",
    "\n",
    "print('Средний чек группы А: {:.2f}'.format(orders_clean[orders_clean['group']=='A']['revenue'].mean()))\n",
    "print('Средний чек группы B: {:.2f}'.format(orders_clean[orders_clean['group']=='B']['revenue'].mean()))"
   ]
  },
  {
   "cell_type": "markdown",
   "metadata": {},
   "source": [
    "<div class=\"alert alert-info\">\n",
    "<font size=\"3\", color = \"black\"><b>Вывод: </b> различие в среднем чеке уменьшилось до 200 у.е. и уже не так смущает. Различие по-прежнему не является статистически значимым, потому не отвергаем нулевую гипотезу."
   ]
  },
  {
   "cell_type": "markdown",
   "metadata": {},
   "source": [
    "<div class=\"alert alert-info\">\n",
    "<font size=\"3\", color = \"black\">\n",
    "<b>На основе анализа данных принимаем решение: </b> <br/>\n",
    "Остановить тест, зафиксировать победу одной из групп. Несмотря на небольшое отличие в среднем чеке, разница в средней конверсии делает группу В победителем в данном тесте."
   ]
  },
  {
   "cell_type": "markdown",
   "metadata": {},
   "source": [
    "## Итоговый вывод"
   ]
  },
  {
   "cell_type": "markdown",
   "metadata": {},
   "source": [
    "<div class=\"alert alert-info\">\n",
    "<font size=\"3\", color = \"black\">\n",
    "    \n",
    "<b> ✍Были выполнены следующие шаги:</b> <br/>\n",
    "<br/>\n",
    "    Шаг 1. Импортированы данные, загружены 3 датафрейма  и изучена информация по каждому из них: пропущенных значений нет, в orders и visitors имеется некорректный тип данных для столбца date.<br/>\n",
    "    <br/>\n",
    "    Шаг 2. Произведена приоритизация гипотез, произведены расчеты ICE и RICE.<br/>\n",
    "    <br/>\n",
    "    Шаг 3. Проведен анализ А/В-теста:\n",
    "- Подготовлены таблицы с кумулятивными данными;\n",
    "- Построены графики с кумулятивными данными по группам;\n",
    "- Построены точечные графики для определения аномальных значений;\n",
    "- Проанализирована статистическая значимость.\n",
    "<br /> \n",
    "\n",
    "<b> При работе с данным проектом я научился и повторил каким образом: <br /> </b>\n",
    "    \n",
    "+ Читать тех. задание проекта\n",
    "+ Строить информативные визуализации\n",
    "+ Формировать выводы\n",
    "+ Заниматься предобработкой данных\n",
    "+ Объединять столбцы и датафреймы\n",
    "+ Создавать датафреймы\n",
    "+ Формулировать нулевые и альтернативные гипотезы\n",
    "+ Проверять нулевые и альтернативные гипотезы\n",
    "+ Подбирать метод тестирования для каждой гипотезы\n",
    "    \n",
    "В ходе выполнения проекта были закреплены знания о методах проверки гипотез и анализа А/В теста. После анализа А/В теста было принято решение остановить тест, зафиксировать победу одной из групп. Несмотря на небольшое отличие в среднем чеке, разница в средней конверсии делает группу В победителем в данном тесте. <br /> \n",
    "    <br /> \n",
    "После изучения данных выяснили 3 наиболее приоритетные гипотезы: <br /> \n",
    "- Добавить форму подписки на все основные страницы, чтобы собрать базу клиентов для email-рассылок <br /> \n",
    "- Добавить блоки рекомендаций товаров на сайт интернет магазина, чтобы повысить конверсию и средний чек заказа <br /> \n",
    "- Добавить два новых канала привлечения трафика, что позволит привлекать на 30% больше пользователей <br /> \n",
    "    <br /> "
   ]
  }
 ],
 "metadata": {
  "ExecuteTimeLog": [
   {
    "duration": 181,
    "start_time": "2023-08-08T07:36:47.900Z"
   },
   {
    "duration": 58,
    "start_time": "2023-08-08T07:48:05.601Z"
   },
   {
    "duration": 1583,
    "start_time": "2023-08-08T07:48:09.316Z"
   },
   {
    "duration": 4,
    "start_time": "2023-08-08T07:48:11.436Z"
   },
   {
    "duration": 1517,
    "start_time": "2023-08-08T07:48:17.684Z"
   },
   {
    "duration": 294,
    "start_time": "2023-08-08T07:48:19.207Z"
   },
   {
    "duration": 29,
    "start_time": "2023-08-08T07:48:46.391Z"
   },
   {
    "duration": 20,
    "start_time": "2023-08-08T07:49:02.927Z"
   },
   {
    "duration": 33,
    "start_time": "2023-08-08T07:49:19.938Z"
   },
   {
    "duration": 14,
    "start_time": "2023-08-08T07:49:27.623Z"
   },
   {
    "duration": 22,
    "start_time": "2023-08-08T07:49:43.107Z"
   },
   {
    "duration": 21,
    "start_time": "2023-08-08T07:49:55.417Z"
   },
   {
    "duration": 6,
    "start_time": "2023-08-08T07:53:13.226Z"
   },
   {
    "duration": 6,
    "start_time": "2023-08-08T07:53:26.301Z"
   },
   {
    "duration": 5,
    "start_time": "2023-08-08T07:53:40.257Z"
   },
   {
    "duration": 5,
    "start_time": "2023-08-08T08:02:57.095Z"
   },
   {
    "duration": 11,
    "start_time": "2023-08-08T08:03:13.499Z"
   },
   {
    "duration": 4,
    "start_time": "2023-08-08T08:04:30.425Z"
   },
   {
    "duration": 12,
    "start_time": "2023-08-08T08:04:35.235Z"
   },
   {
    "duration": 1764,
    "start_time": "2023-08-08T08:15:46.691Z"
   },
   {
    "duration": 8,
    "start_time": "2023-08-08T08:16:06.166Z"
   },
   {
    "duration": 23,
    "start_time": "2023-08-08T08:16:16.448Z"
   },
   {
    "duration": 25,
    "start_time": "2023-08-08T08:23:58.942Z"
   },
   {
    "duration": 97,
    "start_time": "2023-08-08T08:25:06.700Z"
   },
   {
    "duration": 11,
    "start_time": "2023-08-08T08:46:26.297Z"
   },
   {
    "duration": 7,
    "start_time": "2023-08-08T08:46:53.351Z"
   },
   {
    "duration": 159,
    "start_time": "2023-08-08T08:46:55.880Z"
   },
   {
    "duration": 147,
    "start_time": "2023-08-08T08:48:32.044Z"
   },
   {
    "duration": 13,
    "start_time": "2023-08-08T08:48:39.969Z"
   },
   {
    "duration": 14,
    "start_time": "2023-08-08T08:54:03.476Z"
   },
   {
    "duration": 1156,
    "start_time": "2023-08-08T08:54:32.466Z"
   },
   {
    "duration": 3,
    "start_time": "2023-08-08T08:54:33.624Z"
   },
   {
    "duration": 118,
    "start_time": "2023-08-08T08:54:33.629Z"
   },
   {
    "duration": 21,
    "start_time": "2023-08-08T08:54:33.749Z"
   },
   {
    "duration": 30,
    "start_time": "2023-08-08T08:54:33.772Z"
   },
   {
    "duration": 33,
    "start_time": "2023-08-08T08:54:33.803Z"
   },
   {
    "duration": 41,
    "start_time": "2023-08-08T08:54:33.838Z"
   },
   {
    "duration": 23,
    "start_time": "2023-08-08T08:54:33.881Z"
   },
   {
    "duration": 50,
    "start_time": "2023-08-08T08:54:33.906Z"
   },
   {
    "duration": 78,
    "start_time": "2023-08-08T08:54:33.959Z"
   },
   {
    "duration": 7,
    "start_time": "2023-08-08T08:54:34.040Z"
   },
   {
    "duration": 23,
    "start_time": "2023-08-08T08:54:34.049Z"
   },
   {
    "duration": 17,
    "start_time": "2023-08-08T08:54:34.074Z"
   },
   {
    "duration": 22,
    "start_time": "2023-08-08T08:54:34.092Z"
   },
   {
    "duration": 49,
    "start_time": "2023-08-08T08:54:34.117Z"
   },
   {
    "duration": 38,
    "start_time": "2023-08-08T08:54:34.167Z"
   },
   {
    "duration": 38,
    "start_time": "2023-08-08T08:54:34.207Z"
   },
   {
    "duration": 18,
    "start_time": "2023-08-08T08:54:34.247Z"
   },
   {
    "duration": 19,
    "start_time": "2023-08-08T08:54:34.266Z"
   },
   {
    "duration": 166,
    "start_time": "2023-08-08T08:54:34.287Z"
   },
   {
    "duration": 212,
    "start_time": "2023-08-08T08:54:34.455Z"
   },
   {
    "duration": 13,
    "start_time": "2023-08-08T08:54:34.669Z"
   },
   {
    "duration": 359,
    "start_time": "2023-08-08T09:07:23.790Z"
   },
   {
    "duration": 226,
    "start_time": "2023-08-08T09:15:58.298Z"
   },
   {
    "duration": 86,
    "start_time": "2023-08-08T09:17:18.505Z"
   },
   {
    "duration": 322,
    "start_time": "2023-08-08T09:18:21.746Z"
   },
   {
    "duration": 88,
    "start_time": "2023-08-08T09:20:14.505Z"
   },
   {
    "duration": 241,
    "start_time": "2023-08-08T09:22:05.604Z"
   },
   {
    "duration": 441,
    "start_time": "2023-08-08T09:36:52.695Z"
   },
   {
    "duration": 169,
    "start_time": "2023-08-08T09:46:19.317Z"
   },
   {
    "duration": 137,
    "start_time": "2023-08-08T09:48:18.543Z"
   },
   {
    "duration": 18,
    "start_time": "2023-08-08T09:51:58.854Z"
   },
   {
    "duration": 236,
    "start_time": "2023-08-08T10:50:30.381Z"
   },
   {
    "duration": 97,
    "start_time": "2023-08-08T10:53:04.493Z"
   },
   {
    "duration": 260,
    "start_time": "2023-08-08T10:53:36.330Z"
   },
   {
    "duration": 127,
    "start_time": "2023-08-08T10:53:59.890Z"
   },
   {
    "duration": 265,
    "start_time": "2023-08-08T10:54:25.524Z"
   },
   {
    "duration": 160,
    "start_time": "2023-08-08T10:54:45.550Z"
   },
   {
    "duration": 6,
    "start_time": "2023-08-08T10:58:02.521Z"
   },
   {
    "duration": 1710,
    "start_time": "2023-08-08T10:58:57.951Z"
   },
   {
    "duration": 94,
    "start_time": "2023-08-08T10:58:59.663Z"
   },
   {
    "duration": 25,
    "start_time": "2023-08-08T10:58:59.759Z"
   },
   {
    "duration": 81,
    "start_time": "2023-08-08T10:58:59.786Z"
   },
   {
    "duration": 8,
    "start_time": "2023-08-08T10:58:59.869Z"
   },
   {
    "duration": 79,
    "start_time": "2023-08-08T10:58:59.879Z"
   },
   {
    "duration": 6,
    "start_time": "2023-08-08T10:58:59.961Z"
   },
   {
    "duration": 20,
    "start_time": "2023-08-08T10:58:59.969Z"
   },
   {
    "duration": 81,
    "start_time": "2023-08-08T10:58:59.991Z"
   },
   {
    "duration": 86,
    "start_time": "2023-08-08T10:59:00.075Z"
   },
   {
    "duration": 110,
    "start_time": "2023-08-08T10:59:00.163Z"
   },
   {
    "duration": 43,
    "start_time": "2023-08-08T10:59:00.275Z"
   },
   {
    "duration": 33,
    "start_time": "2023-08-08T10:59:00.356Z"
   },
   {
    "duration": 69,
    "start_time": "2023-08-08T10:59:00.391Z"
   },
   {
    "duration": 26,
    "start_time": "2023-08-08T10:59:00.462Z"
   },
   {
    "duration": 94,
    "start_time": "2023-08-08T10:59:00.490Z"
   },
   {
    "duration": 137,
    "start_time": "2023-08-08T10:59:00.586Z"
   },
   {
    "duration": 45,
    "start_time": "2023-08-08T10:59:00.725Z"
   },
   {
    "duration": 384,
    "start_time": "2023-08-08T10:59:00.773Z"
   },
   {
    "duration": 297,
    "start_time": "2023-08-08T10:59:01.159Z"
   },
   {
    "duration": 16,
    "start_time": "2023-08-08T10:59:01.459Z"
   },
   {
    "duration": 692,
    "start_time": "2023-08-08T10:59:01.476Z"
   },
   {
    "duration": 487,
    "start_time": "2023-08-08T10:59:02.170Z"
   },
   {
    "duration": 423,
    "start_time": "2023-08-08T10:59:02.659Z"
   },
   {
    "duration": 480,
    "start_time": "2023-08-08T10:59:03.083Z"
   },
   {
    "duration": 508,
    "start_time": "2023-08-08T10:59:03.565Z"
   },
   {
    "duration": 311,
    "start_time": "2023-08-08T10:59:04.075Z"
   },
   {
    "duration": 308,
    "start_time": "2023-08-08T10:59:04.389Z"
   },
   {
    "duration": 57,
    "start_time": "2023-08-08T10:59:04.699Z"
   },
   {
    "duration": 3,
    "start_time": "2023-08-08T10:59:26.953Z"
   },
   {
    "duration": 165,
    "start_time": "2023-08-08T11:00:53.773Z"
   },
   {
    "duration": 80,
    "start_time": "2023-08-08T11:03:27.688Z"
   },
   {
    "duration": 7,
    "start_time": "2023-08-08T11:04:30.834Z"
   },
   {
    "duration": 264,
    "start_time": "2023-08-08T11:04:42.783Z"
   },
   {
    "duration": 212,
    "start_time": "2023-08-08T11:04:47.489Z"
   },
   {
    "duration": 296,
    "start_time": "2023-08-08T11:04:52.963Z"
   },
   {
    "duration": 218,
    "start_time": "2023-08-08T11:04:56.279Z"
   },
   {
    "duration": 311,
    "start_time": "2023-08-08T11:04:59.712Z"
   },
   {
    "duration": 208,
    "start_time": "2023-08-08T11:05:02.381Z"
   },
   {
    "duration": 216,
    "start_time": "2023-08-08T11:05:04.667Z"
   },
   {
    "duration": 6,
    "start_time": "2023-08-08T11:05:12.017Z"
   },
   {
    "duration": 184,
    "start_time": "2023-08-08T11:05:13.445Z"
   },
   {
    "duration": 129,
    "start_time": "2023-08-08T11:05:15.971Z"
   },
   {
    "duration": 16,
    "start_time": "2023-08-08T11:05:17.550Z"
   },
   {
    "duration": 247,
    "start_time": "2023-08-08T11:05:19.309Z"
   },
   {
    "duration": 188,
    "start_time": "2023-08-08T11:05:21.764Z"
   },
   {
    "duration": 272,
    "start_time": "2023-08-08T11:05:23.687Z"
   },
   {
    "duration": 203,
    "start_time": "2023-08-08T11:05:25.968Z"
   },
   {
    "duration": 415,
    "start_time": "2023-08-08T11:05:28.464Z"
   },
   {
    "duration": 163,
    "start_time": "2023-08-08T11:06:24.743Z"
   },
   {
    "duration": 54,
    "start_time": "2023-08-08T21:53:13.826Z"
   },
   {
    "duration": 2232,
    "start_time": "2023-08-08T21:53:27.165Z"
   },
   {
    "duration": 54,
    "start_time": "2023-08-08T21:53:29.400Z"
   },
   {
    "duration": 204,
    "start_time": "2023-08-08T21:53:29.456Z"
   },
   {
    "duration": 21,
    "start_time": "2023-08-08T21:53:29.664Z"
   },
   {
    "duration": 69,
    "start_time": "2023-08-08T21:53:29.687Z"
   },
   {
    "duration": 16,
    "start_time": "2023-08-08T21:53:29.758Z"
   },
   {
    "duration": 25,
    "start_time": "2023-08-08T21:53:29.776Z"
   },
   {
    "duration": 40,
    "start_time": "2023-08-08T21:53:29.803Z"
   },
   {
    "duration": 16,
    "start_time": "2023-08-08T21:53:29.845Z"
   },
   {
    "duration": 18,
    "start_time": "2023-08-08T21:53:29.865Z"
   },
   {
    "duration": 9,
    "start_time": "2023-08-08T21:53:29.885Z"
   },
   {
    "duration": 24,
    "start_time": "2023-08-08T21:53:29.896Z"
   },
   {
    "duration": 12,
    "start_time": "2023-08-08T21:53:29.922Z"
   },
   {
    "duration": 31,
    "start_time": "2023-08-08T21:53:29.936Z"
   },
   {
    "duration": 21,
    "start_time": "2023-08-08T21:53:29.969Z"
   },
   {
    "duration": 22,
    "start_time": "2023-08-08T21:53:29.992Z"
   },
   {
    "duration": 48,
    "start_time": "2023-08-08T21:53:30.016Z"
   },
   {
    "duration": 46,
    "start_time": "2023-08-08T21:53:30.065Z"
   },
   {
    "duration": 29,
    "start_time": "2023-08-08T21:53:30.113Z"
   },
   {
    "duration": 219,
    "start_time": "2023-08-08T21:53:30.144Z"
   },
   {
    "duration": 150,
    "start_time": "2023-08-08T21:53:30.365Z"
   },
   {
    "duration": 31,
    "start_time": "2023-08-08T21:53:30.517Z"
   },
   {
    "duration": 385,
    "start_time": "2023-08-08T21:53:30.549Z"
   },
   {
    "duration": 284,
    "start_time": "2023-08-08T21:53:30.936Z"
   },
   {
    "duration": 386,
    "start_time": "2023-08-08T21:53:31.222Z"
   },
   {
    "duration": 282,
    "start_time": "2023-08-08T21:53:31.611Z"
   },
   {
    "duration": 302,
    "start_time": "2023-08-08T21:53:31.895Z"
   },
   {
    "duration": 180,
    "start_time": "2023-08-08T21:53:32.202Z"
   },
   {
    "duration": 221,
    "start_time": "2023-08-08T21:53:32.384Z"
   },
   {
    "duration": 138,
    "start_time": "2023-08-08T21:53:32.607Z"
   },
   {
    "duration": 0,
    "start_time": "2023-08-08T21:53:32.753Z"
   },
   {
    "duration": 0,
    "start_time": "2023-08-08T21:53:32.755Z"
   },
   {
    "duration": 6,
    "start_time": "2023-08-08T21:54:02.296Z"
   },
   {
    "duration": 16,
    "start_time": "2023-08-08T22:01:06.494Z"
   },
   {
    "duration": 14,
    "start_time": "2023-08-08T22:01:43.009Z"
   },
   {
    "duration": 14,
    "start_time": "2023-08-08T22:02:12.619Z"
   },
   {
    "duration": 144,
    "start_time": "2023-08-08T22:02:33.988Z"
   },
   {
    "duration": 234,
    "start_time": "2023-08-08T22:02:50.075Z"
   },
   {
    "duration": 169,
    "start_time": "2023-08-08T22:03:19.029Z"
   },
   {
    "duration": 149,
    "start_time": "2023-08-08T22:03:28.840Z"
   },
   {
    "duration": 149,
    "start_time": "2023-08-08T22:04:35.386Z"
   },
   {
    "duration": 130,
    "start_time": "2023-08-08T22:04:46.120Z"
   },
   {
    "duration": 148,
    "start_time": "2023-08-08T22:04:51.320Z"
   },
   {
    "duration": 166,
    "start_time": "2023-08-08T22:05:05.530Z"
   },
   {
    "duration": 183,
    "start_time": "2023-08-08T22:05:12.551Z"
   },
   {
    "duration": 9,
    "start_time": "2023-08-08T22:05:45.950Z"
   },
   {
    "duration": 7,
    "start_time": "2023-08-08T22:08:18.284Z"
   },
   {
    "duration": 1192,
    "start_time": "2023-08-08T22:08:32.513Z"
   },
   {
    "duration": 1397,
    "start_time": "2023-08-08T22:08:39.181Z"
   },
   {
    "duration": 4,
    "start_time": "2023-08-08T22:08:40.581Z"
   },
   {
    "duration": 137,
    "start_time": "2023-08-08T22:08:40.588Z"
   },
   {
    "duration": 39,
    "start_time": "2023-08-08T22:08:40.727Z"
   },
   {
    "duration": 91,
    "start_time": "2023-08-08T22:08:40.768Z"
   },
   {
    "duration": 12,
    "start_time": "2023-08-08T22:08:40.863Z"
   },
   {
    "duration": 34,
    "start_time": "2023-08-08T22:08:40.877Z"
   },
   {
    "duration": 48,
    "start_time": "2023-08-08T22:08:40.912Z"
   },
   {
    "duration": 44,
    "start_time": "2023-08-08T22:08:40.962Z"
   },
   {
    "duration": 70,
    "start_time": "2023-08-08T22:08:41.008Z"
   },
   {
    "duration": 21,
    "start_time": "2023-08-08T22:08:41.081Z"
   },
   {
    "duration": 74,
    "start_time": "2023-08-08T22:08:41.104Z"
   },
   {
    "duration": 15,
    "start_time": "2023-08-08T22:08:41.179Z"
   },
   {
    "duration": 64,
    "start_time": "2023-08-08T22:08:41.197Z"
   },
   {
    "duration": 38,
    "start_time": "2023-08-08T22:08:41.264Z"
   },
   {
    "duration": 12,
    "start_time": "2023-08-08T22:08:41.304Z"
   },
   {
    "duration": 62,
    "start_time": "2023-08-08T22:08:41.317Z"
   },
   {
    "duration": 12,
    "start_time": "2023-08-08T22:08:41.382Z"
   },
   {
    "duration": 10,
    "start_time": "2023-08-08T22:08:41.395Z"
   },
   {
    "duration": 403,
    "start_time": "2023-08-08T22:08:41.460Z"
   },
   {
    "duration": 308,
    "start_time": "2023-08-08T22:08:41.865Z"
   },
   {
    "duration": 17,
    "start_time": "2023-08-08T22:08:42.175Z"
   },
   {
    "duration": 517,
    "start_time": "2023-08-08T22:08:42.194Z"
   },
   {
    "duration": 236,
    "start_time": "2023-08-08T22:08:42.713Z"
   },
   {
    "duration": 331,
    "start_time": "2023-08-08T22:08:42.951Z"
   },
   {
    "duration": 234,
    "start_time": "2023-08-08T22:08:43.283Z"
   },
   {
    "duration": 339,
    "start_time": "2023-08-08T22:08:43.519Z"
   },
   {
    "duration": 15,
    "start_time": "2023-08-08T22:08:43.863Z"
   },
   {
    "duration": 180,
    "start_time": "2023-08-08T22:08:43.879Z"
   },
   {
    "duration": 14,
    "start_time": "2023-08-08T22:08:44.061Z"
   },
   {
    "duration": 189,
    "start_time": "2023-08-08T22:08:44.076Z"
   },
   {
    "duration": 0,
    "start_time": "2023-08-08T22:08:44.267Z"
   },
   {
    "duration": 0,
    "start_time": "2023-08-08T22:08:44.268Z"
   },
   {
    "duration": 0,
    "start_time": "2023-08-08T22:08:44.270Z"
   },
   {
    "duration": 0,
    "start_time": "2023-08-08T22:08:44.271Z"
   },
   {
    "duration": 1,
    "start_time": "2023-08-08T22:08:44.272Z"
   },
   {
    "duration": 0,
    "start_time": "2023-08-08T22:08:44.273Z"
   },
   {
    "duration": 7,
    "start_time": "2023-08-08T22:09:11.207Z"
   },
   {
    "duration": 170,
    "start_time": "2023-08-08T22:09:36.919Z"
   },
   {
    "duration": 1499,
    "start_time": "2023-08-08T22:09:54.971Z"
   },
   {
    "duration": 5,
    "start_time": "2023-08-08T22:09:56.472Z"
   },
   {
    "duration": 139,
    "start_time": "2023-08-08T22:09:56.478Z"
   },
   {
    "duration": 63,
    "start_time": "2023-08-08T22:09:56.619Z"
   },
   {
    "duration": 96,
    "start_time": "2023-08-08T22:09:56.686Z"
   },
   {
    "duration": 15,
    "start_time": "2023-08-08T22:09:56.785Z"
   },
   {
    "duration": 86,
    "start_time": "2023-08-08T22:09:56.803Z"
   },
   {
    "duration": 5,
    "start_time": "2023-08-08T22:09:56.890Z"
   },
   {
    "duration": 14,
    "start_time": "2023-08-08T22:09:56.896Z"
   },
   {
    "duration": 48,
    "start_time": "2023-08-08T22:09:56.960Z"
   },
   {
    "duration": 6,
    "start_time": "2023-08-08T22:09:57.010Z"
   },
   {
    "duration": 59,
    "start_time": "2023-08-08T22:09:57.018Z"
   },
   {
    "duration": 7,
    "start_time": "2023-08-08T22:09:57.079Z"
   },
   {
    "duration": 24,
    "start_time": "2023-08-08T22:09:57.089Z"
   },
   {
    "duration": 56,
    "start_time": "2023-08-08T22:09:57.115Z"
   },
   {
    "duration": 25,
    "start_time": "2023-08-08T22:09:57.172Z"
   },
   {
    "duration": 62,
    "start_time": "2023-08-08T22:09:57.199Z"
   },
   {
    "duration": 22,
    "start_time": "2023-08-08T22:09:57.262Z"
   },
   {
    "duration": 20,
    "start_time": "2023-08-08T22:09:57.285Z"
   },
   {
    "duration": 376,
    "start_time": "2023-08-08T22:09:57.306Z"
   },
   {
    "duration": 292,
    "start_time": "2023-08-08T22:09:57.687Z"
   },
   {
    "duration": 15,
    "start_time": "2023-08-08T22:09:57.981Z"
   },
   {
    "duration": 392,
    "start_time": "2023-08-08T22:09:57.997Z"
   },
   {
    "duration": 204,
    "start_time": "2023-08-08T22:09:58.391Z"
   },
   {
    "duration": 286,
    "start_time": "2023-08-08T22:09:58.596Z"
   },
   {
    "duration": 215,
    "start_time": "2023-08-08T22:09:58.884Z"
   },
   {
    "duration": 289,
    "start_time": "2023-08-08T22:09:59.101Z"
   },
   {
    "duration": 11,
    "start_time": "2023-08-08T22:09:59.391Z"
   },
   {
    "duration": 185,
    "start_time": "2023-08-08T22:09:59.403Z"
   },
   {
    "duration": 4,
    "start_time": "2023-08-08T22:09:59.590Z"
   },
   {
    "duration": 9,
    "start_time": "2023-08-08T22:09:59.596Z"
   },
   {
    "duration": 163,
    "start_time": "2023-08-08T22:09:59.606Z"
   },
   {
    "duration": 161,
    "start_time": "2023-08-08T22:09:59.780Z"
   },
   {
    "duration": 18,
    "start_time": "2023-08-08T22:09:59.943Z"
   },
   {
    "duration": 21,
    "start_time": "2023-08-08T22:09:59.962Z"
   },
   {
    "duration": 268,
    "start_time": "2023-08-08T22:09:59.984Z"
   },
   {
    "duration": 120,
    "start_time": "2023-08-08T22:10:00.253Z"
   },
   {
    "duration": 145,
    "start_time": "2023-08-08T22:10:57.823Z"
   },
   {
    "duration": 188,
    "start_time": "2023-08-08T22:15:53.636Z"
   },
   {
    "duration": 11,
    "start_time": "2023-08-08T22:16:44.070Z"
   },
   {
    "duration": 1364,
    "start_time": "2023-08-08T22:16:54.836Z"
   },
   {
    "duration": 51,
    "start_time": "2023-08-08T22:16:56.203Z"
   },
   {
    "duration": 99,
    "start_time": "2023-08-08T22:16:56.257Z"
   },
   {
    "duration": 25,
    "start_time": "2023-08-08T22:16:56.359Z"
   },
   {
    "duration": 76,
    "start_time": "2023-08-08T22:16:56.386Z"
   },
   {
    "duration": 15,
    "start_time": "2023-08-08T22:16:56.463Z"
   },
   {
    "duration": 28,
    "start_time": "2023-08-08T22:16:56.480Z"
   },
   {
    "duration": 7,
    "start_time": "2023-08-08T22:16:56.555Z"
   },
   {
    "duration": 32,
    "start_time": "2023-08-08T22:16:56.564Z"
   },
   {
    "duration": 67,
    "start_time": "2023-08-08T22:16:56.599Z"
   },
   {
    "duration": 7,
    "start_time": "2023-08-08T22:16:56.667Z"
   },
   {
    "duration": 81,
    "start_time": "2023-08-08T22:16:56.675Z"
   },
   {
    "duration": 18,
    "start_time": "2023-08-08T22:16:56.758Z"
   },
   {
    "duration": 21,
    "start_time": "2023-08-08T22:16:56.778Z"
   },
   {
    "duration": 56,
    "start_time": "2023-08-08T22:16:56.801Z"
   },
   {
    "duration": 23,
    "start_time": "2023-08-08T22:16:56.858Z"
   },
   {
    "duration": 14,
    "start_time": "2023-08-08T22:16:56.883Z"
   },
   {
    "duration": 56,
    "start_time": "2023-08-08T22:16:56.899Z"
   },
   {
    "duration": 6,
    "start_time": "2023-08-08T22:16:56.956Z"
   },
   {
    "duration": 312,
    "start_time": "2023-08-08T22:16:56.964Z"
   },
   {
    "duration": 303,
    "start_time": "2023-08-08T22:16:57.278Z"
   },
   {
    "duration": 72,
    "start_time": "2023-08-08T22:16:57.583Z"
   },
   {
    "duration": 343,
    "start_time": "2023-08-08T22:16:57.657Z"
   },
   {
    "duration": 200,
    "start_time": "2023-08-08T22:16:58.002Z"
   },
   {
    "duration": 300,
    "start_time": "2023-08-08T22:16:58.204Z"
   },
   {
    "duration": 221,
    "start_time": "2023-08-08T22:16:58.506Z"
   },
   {
    "duration": 329,
    "start_time": "2023-08-08T22:16:58.729Z"
   },
   {
    "duration": 10,
    "start_time": "2023-08-08T22:16:59.061Z"
   },
   {
    "duration": 153,
    "start_time": "2023-08-08T22:16:59.073Z"
   },
   {
    "duration": 5,
    "start_time": "2023-08-08T22:16:59.228Z"
   },
   {
    "duration": 22,
    "start_time": "2023-08-08T22:16:59.234Z"
   },
   {
    "duration": 169,
    "start_time": "2023-08-08T22:16:59.258Z"
   },
   {
    "duration": 153,
    "start_time": "2023-08-08T22:16:59.428Z"
   },
   {
    "duration": 235,
    "start_time": "2023-08-08T22:16:59.583Z"
   },
   {
    "duration": 5,
    "start_time": "2023-08-08T22:16:59.820Z"
   },
   {
    "duration": 30,
    "start_time": "2023-08-08T22:16:59.827Z"
   },
   {
    "duration": 157,
    "start_time": "2023-08-08T22:16:59.859Z"
   },
   {
    "duration": 116,
    "start_time": "2023-08-08T22:17:00.019Z"
   },
   {
    "duration": 170,
    "start_time": "2023-08-08T22:17:45.803Z"
   },
   {
    "duration": 174,
    "start_time": "2023-08-08T22:19:40.009Z"
   },
   {
    "duration": 165,
    "start_time": "2023-08-08T22:19:58.199Z"
   },
   {
    "duration": 19,
    "start_time": "2023-08-08T22:22:23.902Z"
   },
   {
    "duration": 10,
    "start_time": "2023-08-08T22:25:57.596Z"
   },
   {
    "duration": 62,
    "start_time": "2023-08-08T22:27:36.104Z"
   },
   {
    "duration": 70,
    "start_time": "2023-08-08T22:28:05.851Z"
   },
   {
    "duration": 133,
    "start_time": "2023-08-08T22:28:34.268Z"
   },
   {
    "duration": 116,
    "start_time": "2023-08-08T22:29:58.346Z"
   },
   {
    "duration": 1153,
    "start_time": "2023-08-08T22:31:42.465Z"
   },
   {
    "duration": 3,
    "start_time": "2023-08-08T22:31:43.620Z"
   },
   {
    "duration": 90,
    "start_time": "2023-08-08T22:31:43.625Z"
   },
   {
    "duration": 21,
    "start_time": "2023-08-08T22:31:43.717Z"
   },
   {
    "duration": 20,
    "start_time": "2023-08-08T22:31:43.739Z"
   },
   {
    "duration": 12,
    "start_time": "2023-08-08T22:31:43.760Z"
   },
   {
    "duration": 22,
    "start_time": "2023-08-08T22:31:43.774Z"
   },
   {
    "duration": 4,
    "start_time": "2023-08-08T22:31:43.797Z"
   },
   {
    "duration": 16,
    "start_time": "2023-08-08T22:31:43.803Z"
   },
   {
    "duration": 19,
    "start_time": "2023-08-08T22:31:43.821Z"
   },
   {
    "duration": 7,
    "start_time": "2023-08-08T22:31:43.853Z"
   },
   {
    "duration": 26,
    "start_time": "2023-08-08T22:31:43.862Z"
   },
   {
    "duration": 12,
    "start_time": "2023-08-08T22:31:43.889Z"
   },
   {
    "duration": 19,
    "start_time": "2023-08-08T22:31:43.902Z"
   },
   {
    "duration": 18,
    "start_time": "2023-08-08T22:31:43.922Z"
   },
   {
    "duration": 19,
    "start_time": "2023-08-08T22:31:43.943Z"
   },
   {
    "duration": 28,
    "start_time": "2023-08-08T22:31:43.964Z"
   },
   {
    "duration": 51,
    "start_time": "2023-08-08T22:31:43.994Z"
   },
   {
    "duration": 39,
    "start_time": "2023-08-08T22:31:44.047Z"
   },
   {
    "duration": 219,
    "start_time": "2023-08-08T22:31:44.088Z"
   },
   {
    "duration": 138,
    "start_time": "2023-08-08T22:31:44.309Z"
   },
   {
    "duration": 15,
    "start_time": "2023-08-08T22:31:44.453Z"
   },
   {
    "duration": 296,
    "start_time": "2023-08-08T22:31:44.469Z"
   },
   {
    "duration": 213,
    "start_time": "2023-08-08T22:31:44.767Z"
   },
   {
    "duration": 287,
    "start_time": "2023-08-08T22:31:44.982Z"
   },
   {
    "duration": 209,
    "start_time": "2023-08-08T22:31:45.270Z"
   },
   {
    "duration": 302,
    "start_time": "2023-08-08T22:31:45.481Z"
   },
   {
    "duration": 11,
    "start_time": "2023-08-08T22:31:45.786Z"
   },
   {
    "duration": 179,
    "start_time": "2023-08-08T22:31:45.799Z"
   },
   {
    "duration": 5,
    "start_time": "2023-08-08T22:31:45.979Z"
   },
   {
    "duration": 9,
    "start_time": "2023-08-08T22:31:45.985Z"
   },
   {
    "duration": 163,
    "start_time": "2023-08-08T22:31:45.996Z"
   },
   {
    "duration": 157,
    "start_time": "2023-08-08T22:31:46.160Z"
   },
   {
    "duration": 4,
    "start_time": "2023-08-08T22:31:46.319Z"
   },
   {
    "duration": 18,
    "start_time": "2023-08-08T22:31:46.325Z"
   },
   {
    "duration": 247,
    "start_time": "2023-08-08T22:31:46.344Z"
   },
   {
    "duration": 3,
    "start_time": "2023-08-08T22:31:46.593Z"
   },
   {
    "duration": 13,
    "start_time": "2023-08-08T22:32:24.552Z"
   },
   {
    "duration": 13,
    "start_time": "2023-08-08T22:32:41.141Z"
   },
   {
    "duration": 103,
    "start_time": "2023-08-08T22:33:55.301Z"
   },
   {
    "duration": 6,
    "start_time": "2023-08-08T22:34:11.499Z"
   },
   {
    "duration": 31,
    "start_time": "2023-08-08T22:34:17.923Z"
   },
   {
    "duration": 28,
    "start_time": "2023-08-08T22:38:25.291Z"
   },
   {
    "duration": 28,
    "start_time": "2023-08-08T22:40:02.244Z"
   },
   {
    "duration": 50,
    "start_time": "2023-08-09T08:29:44.811Z"
   },
   {
    "duration": 1289,
    "start_time": "2023-08-09T08:29:54.864Z"
   },
   {
    "duration": 4,
    "start_time": "2023-08-09T08:29:56.155Z"
   },
   {
    "duration": 335,
    "start_time": "2023-08-09T08:29:56.161Z"
   },
   {
    "duration": 26,
    "start_time": "2023-08-09T08:29:56.499Z"
   },
   {
    "duration": 21,
    "start_time": "2023-08-09T08:29:56.527Z"
   },
   {
    "duration": 7,
    "start_time": "2023-08-09T08:29:56.550Z"
   },
   {
    "duration": 48,
    "start_time": "2023-08-09T08:29:56.558Z"
   },
   {
    "duration": 5,
    "start_time": "2023-08-09T08:29:56.614Z"
   },
   {
    "duration": 15,
    "start_time": "2023-08-09T08:29:56.621Z"
   },
   {
    "duration": 19,
    "start_time": "2023-08-09T08:29:56.639Z"
   },
   {
    "duration": 7,
    "start_time": "2023-08-09T08:29:56.660Z"
   },
   {
    "duration": 18,
    "start_time": "2023-08-09T08:29:56.668Z"
   },
   {
    "duration": 14,
    "start_time": "2023-08-09T08:29:56.699Z"
   },
   {
    "duration": 14,
    "start_time": "2023-08-09T08:29:56.717Z"
   },
   {
    "duration": 18,
    "start_time": "2023-08-09T08:29:56.733Z"
   },
   {
    "duration": 6,
    "start_time": "2023-08-09T08:29:56.753Z"
   },
   {
    "duration": 13,
    "start_time": "2023-08-09T08:29:56.761Z"
   },
   {
    "duration": 40,
    "start_time": "2023-08-09T08:29:56.775Z"
   },
   {
    "duration": 6,
    "start_time": "2023-08-09T08:29:56.817Z"
   },
   {
    "duration": 201,
    "start_time": "2023-08-09T08:29:56.824Z"
   },
   {
    "duration": 165,
    "start_time": "2023-08-09T08:29:57.027Z"
   },
   {
    "duration": 16,
    "start_time": "2023-08-09T08:29:57.194Z"
   },
   {
    "duration": 310,
    "start_time": "2023-08-09T08:29:57.212Z"
   },
   {
    "duration": 318,
    "start_time": "2023-08-09T08:29:57.525Z"
   },
   {
    "duration": 578,
    "start_time": "2023-08-09T08:29:57.845Z"
   },
   {
    "duration": 417,
    "start_time": "2023-08-09T08:29:58.425Z"
   },
   {
    "duration": 475,
    "start_time": "2023-08-09T08:29:58.843Z"
   },
   {
    "duration": 13,
    "start_time": "2023-08-09T08:29:59.322Z"
   },
   {
    "duration": 307,
    "start_time": "2023-08-09T08:29:59.337Z"
   },
   {
    "duration": 73,
    "start_time": "2023-08-09T08:29:59.646Z"
   },
   {
    "duration": 12,
    "start_time": "2023-08-09T08:29:59.721Z"
   },
   {
    "duration": 317,
    "start_time": "2023-08-09T08:29:59.734Z"
   },
   {
    "duration": 167,
    "start_time": "2023-08-09T08:30:00.053Z"
   },
   {
    "duration": 5,
    "start_time": "2023-08-09T08:30:00.223Z"
   },
   {
    "duration": 64,
    "start_time": "2023-08-09T08:30:00.230Z"
   },
   {
    "duration": 316,
    "start_time": "2023-08-09T08:30:00.295Z"
   },
   {
    "duration": 14,
    "start_time": "2023-08-09T08:30:00.613Z"
   },
   {
    "duration": 49,
    "start_time": "2023-08-09T08:30:00.629Z"
   },
   {
    "duration": 62,
    "start_time": "2023-08-09T08:30:00.680Z"
   },
   {
    "duration": 17,
    "start_time": "2023-08-09T08:30:00.743Z"
   },
   {
    "duration": 70,
    "start_time": "2023-08-09T10:49:40.282Z"
   },
   {
    "duration": 1348,
    "start_time": "2023-08-09T10:49:46.048Z"
   },
   {
    "duration": 2,
    "start_time": "2023-08-09T10:49:47.399Z"
   },
   {
    "duration": 189,
    "start_time": "2023-08-09T10:49:47.402Z"
   },
   {
    "duration": 20,
    "start_time": "2023-08-09T10:49:47.593Z"
   },
   {
    "duration": 18,
    "start_time": "2023-08-09T10:49:47.615Z"
   },
   {
    "duration": 4,
    "start_time": "2023-08-09T10:49:47.635Z"
   },
   {
    "duration": 22,
    "start_time": "2023-08-09T10:49:47.641Z"
   },
   {
    "duration": 6,
    "start_time": "2023-08-09T10:49:47.664Z"
   },
   {
    "duration": 14,
    "start_time": "2023-08-09T10:49:47.672Z"
   },
   {
    "duration": 19,
    "start_time": "2023-08-09T10:49:47.688Z"
   },
   {
    "duration": 6,
    "start_time": "2023-08-09T10:49:47.709Z"
   },
   {
    "duration": 48,
    "start_time": "2023-08-09T10:49:47.716Z"
   },
   {
    "duration": 5,
    "start_time": "2023-08-09T10:49:47.765Z"
   },
   {
    "duration": 22,
    "start_time": "2023-08-09T10:49:47.772Z"
   },
   {
    "duration": 14,
    "start_time": "2023-08-09T10:49:47.796Z"
   },
   {
    "duration": 8,
    "start_time": "2023-08-09T10:49:47.812Z"
   },
   {
    "duration": 21,
    "start_time": "2023-08-09T10:49:47.821Z"
   },
   {
    "duration": 13,
    "start_time": "2023-08-09T10:49:47.859Z"
   },
   {
    "duration": 8,
    "start_time": "2023-08-09T10:49:47.874Z"
   },
   {
    "duration": 177,
    "start_time": "2023-08-09T10:49:47.884Z"
   },
   {
    "duration": 146,
    "start_time": "2023-08-09T10:49:48.062Z"
   },
   {
    "duration": 18,
    "start_time": "2023-08-09T10:49:48.210Z"
   },
   {
    "duration": 312,
    "start_time": "2023-08-09T10:49:48.230Z"
   },
   {
    "duration": 208,
    "start_time": "2023-08-09T10:49:48.544Z"
   },
   {
    "duration": 335,
    "start_time": "2023-08-09T10:49:48.759Z"
   },
   {
    "duration": 237,
    "start_time": "2023-08-09T10:49:49.095Z"
   },
   {
    "duration": 306,
    "start_time": "2023-08-09T10:49:49.334Z"
   },
   {
    "duration": 22,
    "start_time": "2023-08-09T10:49:49.643Z"
   },
   {
    "duration": 153,
    "start_time": "2023-08-09T10:49:49.667Z"
   },
   {
    "duration": 5,
    "start_time": "2023-08-09T10:49:49.822Z"
   },
   {
    "duration": 25,
    "start_time": "2023-08-09T10:49:49.828Z"
   },
   {
    "duration": 161,
    "start_time": "2023-08-09T10:49:49.854Z"
   },
   {
    "duration": 159,
    "start_time": "2023-08-09T10:49:50.017Z"
   },
   {
    "duration": 5,
    "start_time": "2023-08-09T10:49:50.178Z"
   },
   {
    "duration": 21,
    "start_time": "2023-08-09T10:49:50.184Z"
   },
   {
    "duration": 299,
    "start_time": "2023-08-09T10:49:50.207Z"
   },
   {
    "duration": 14,
    "start_time": "2023-08-09T10:49:50.507Z"
   },
   {
    "duration": 6,
    "start_time": "2023-08-09T10:49:50.522Z"
   },
   {
    "duration": 25,
    "start_time": "2023-08-09T10:49:50.529Z"
   },
   {
    "duration": 12,
    "start_time": "2023-08-09T10:49:50.557Z"
   },
   {
    "duration": 14,
    "start_time": "2023-08-09T10:49:50.571Z"
   },
   {
    "duration": 103,
    "start_time": "2023-08-09T10:50:21.116Z"
   },
   {
    "duration": 5,
    "start_time": "2023-08-09T10:50:31.947Z"
   },
   {
    "duration": 23,
    "start_time": "2023-08-09T10:53:49.097Z"
   },
   {
    "duration": 12,
    "start_time": "2023-08-09T10:58:46.890Z"
   },
   {
    "duration": 1305,
    "start_time": "2023-08-09T12:52:54.368Z"
   },
   {
    "duration": 6,
    "start_time": "2023-08-09T12:52:55.675Z"
   },
   {
    "duration": 89,
    "start_time": "2023-08-09T12:52:55.683Z"
   },
   {
    "duration": 21,
    "start_time": "2023-08-09T12:52:55.775Z"
   },
   {
    "duration": 20,
    "start_time": "2023-08-09T12:52:55.798Z"
   },
   {
    "duration": 18,
    "start_time": "2023-08-09T12:52:55.820Z"
   },
   {
    "duration": 42,
    "start_time": "2023-08-09T12:52:55.839Z"
   },
   {
    "duration": 9,
    "start_time": "2023-08-09T12:52:55.884Z"
   },
   {
    "duration": 37,
    "start_time": "2023-08-09T12:52:55.895Z"
   },
   {
    "duration": 20,
    "start_time": "2023-08-09T12:52:55.935Z"
   },
   {
    "duration": 8,
    "start_time": "2023-08-09T12:52:55.956Z"
   },
   {
    "duration": 28,
    "start_time": "2023-08-09T12:52:55.967Z"
   },
   {
    "duration": 7,
    "start_time": "2023-08-09T12:52:55.997Z"
   },
   {
    "duration": 17,
    "start_time": "2023-08-09T12:52:56.005Z"
   },
   {
    "duration": 13,
    "start_time": "2023-08-09T12:52:56.023Z"
   },
   {
    "duration": 23,
    "start_time": "2023-08-09T12:52:56.037Z"
   },
   {
    "duration": 22,
    "start_time": "2023-08-09T12:52:56.062Z"
   },
   {
    "duration": 16,
    "start_time": "2023-08-09T12:52:56.086Z"
   },
   {
    "duration": 13,
    "start_time": "2023-08-09T12:52:56.103Z"
   },
   {
    "duration": 175,
    "start_time": "2023-08-09T12:52:56.117Z"
   },
   {
    "duration": 141,
    "start_time": "2023-08-09T12:52:56.293Z"
   },
   {
    "duration": 24,
    "start_time": "2023-08-09T12:52:56.436Z"
   },
   {
    "duration": 298,
    "start_time": "2023-08-09T12:52:56.461Z"
   },
   {
    "duration": 237,
    "start_time": "2023-08-09T12:52:56.762Z"
   },
   {
    "duration": 315,
    "start_time": "2023-08-09T12:52:57.001Z"
   },
   {
    "duration": 236,
    "start_time": "2023-08-09T12:52:57.318Z"
   },
   {
    "duration": 314,
    "start_time": "2023-08-09T12:52:57.557Z"
   },
   {
    "duration": 14,
    "start_time": "2023-08-09T12:52:57.875Z"
   },
   {
    "duration": 174,
    "start_time": "2023-08-09T12:52:57.891Z"
   },
   {
    "duration": 7,
    "start_time": "2023-08-09T12:52:58.068Z"
   },
   {
    "duration": 11,
    "start_time": "2023-08-09T12:52:58.078Z"
   },
   {
    "duration": 235,
    "start_time": "2023-08-09T12:52:58.091Z"
   },
   {
    "duration": 214,
    "start_time": "2023-08-09T12:52:58.328Z"
   },
   {
    "duration": 5,
    "start_time": "2023-08-09T12:52:58.544Z"
   },
   {
    "duration": 9,
    "start_time": "2023-08-09T12:52:58.560Z"
   },
   {
    "duration": 287,
    "start_time": "2023-08-09T12:52:58.571Z"
   },
   {
    "duration": 18,
    "start_time": "2023-08-09T12:52:58.861Z"
   },
   {
    "duration": 18,
    "start_time": "2023-08-09T12:52:58.881Z"
   },
   {
    "duration": 41,
    "start_time": "2023-08-09T12:52:58.901Z"
   },
   {
    "duration": 21,
    "start_time": "2023-08-09T12:52:58.944Z"
   },
   {
    "duration": 39,
    "start_time": "2023-08-09T12:52:58.967Z"
   },
   {
    "duration": 13,
    "start_time": "2023-08-09T12:52:59.008Z"
   },
   {
    "duration": 35,
    "start_time": "2023-08-09T12:52:59.023Z"
   },
   {
    "duration": 14,
    "start_time": "2023-08-09T12:52:59.060Z"
   },
   {
    "duration": 1403,
    "start_time": "2023-08-09T13:21:50.287Z"
   },
   {
    "duration": 3,
    "start_time": "2023-08-09T13:21:51.692Z"
   },
   {
    "duration": 214,
    "start_time": "2023-08-09T13:21:51.697Z"
   },
   {
    "duration": 21,
    "start_time": "2023-08-09T13:21:51.913Z"
   },
   {
    "duration": 24,
    "start_time": "2023-08-09T13:21:51.936Z"
   },
   {
    "duration": 31,
    "start_time": "2023-08-09T13:21:51.962Z"
   },
   {
    "duration": 38,
    "start_time": "2023-08-09T13:21:51.994Z"
   },
   {
    "duration": 45,
    "start_time": "2023-08-09T13:21:52.034Z"
   },
   {
    "duration": 32,
    "start_time": "2023-08-09T13:21:52.081Z"
   },
   {
    "duration": 51,
    "start_time": "2023-08-09T13:21:52.117Z"
   },
   {
    "duration": 52,
    "start_time": "2023-08-09T13:21:52.170Z"
   },
   {
    "duration": 68,
    "start_time": "2023-08-09T13:21:52.225Z"
   },
   {
    "duration": 4,
    "start_time": "2023-08-09T13:21:52.294Z"
   },
   {
    "duration": 13,
    "start_time": "2023-08-09T13:21:52.300Z"
   },
   {
    "duration": 25,
    "start_time": "2023-08-09T13:21:52.315Z"
   },
   {
    "duration": 42,
    "start_time": "2023-08-09T13:21:52.342Z"
   },
   {
    "duration": 23,
    "start_time": "2023-08-09T13:21:52.386Z"
   },
   {
    "duration": 18,
    "start_time": "2023-08-09T13:21:52.411Z"
   },
   {
    "duration": 14,
    "start_time": "2023-08-09T13:21:52.432Z"
   },
   {
    "duration": 200,
    "start_time": "2023-08-09T13:21:52.448Z"
   },
   {
    "duration": 159,
    "start_time": "2023-08-09T13:21:52.650Z"
   },
   {
    "duration": 15,
    "start_time": "2023-08-09T13:21:52.811Z"
   },
   {
    "duration": 335,
    "start_time": "2023-08-09T13:21:52.827Z"
   },
   {
    "duration": 245,
    "start_time": "2023-08-09T13:21:53.164Z"
   },
   {
    "duration": 414,
    "start_time": "2023-08-09T13:21:53.411Z"
   },
   {
    "duration": 266,
    "start_time": "2023-08-09T13:21:53.827Z"
   },
   {
    "duration": 315,
    "start_time": "2023-08-09T13:21:54.095Z"
   },
   {
    "duration": 12,
    "start_time": "2023-08-09T13:21:54.413Z"
   },
   {
    "duration": 196,
    "start_time": "2023-08-09T13:21:54.426Z"
   },
   {
    "duration": 6,
    "start_time": "2023-08-09T13:21:54.623Z"
   },
   {
    "duration": 52,
    "start_time": "2023-08-09T13:21:54.630Z"
   },
   {
    "duration": 191,
    "start_time": "2023-08-09T13:21:54.684Z"
   },
   {
    "duration": 188,
    "start_time": "2023-08-09T13:21:54.877Z"
   },
   {
    "duration": 6,
    "start_time": "2023-08-09T13:21:55.068Z"
   },
   {
    "duration": 19,
    "start_time": "2023-08-09T13:21:55.076Z"
   },
   {
    "duration": 309,
    "start_time": "2023-08-09T13:21:55.097Z"
   },
   {
    "duration": 16,
    "start_time": "2023-08-09T13:21:55.408Z"
   },
   {
    "duration": 9,
    "start_time": "2023-08-09T13:21:55.426Z"
   },
   {
    "duration": 35,
    "start_time": "2023-08-09T13:21:55.437Z"
   },
   {
    "duration": 17,
    "start_time": "2023-08-09T13:21:55.474Z"
   },
   {
    "duration": 14,
    "start_time": "2023-08-09T13:21:55.493Z"
   },
   {
    "duration": 11,
    "start_time": "2023-08-09T13:21:55.509Z"
   },
   {
    "duration": 42,
    "start_time": "2023-08-09T13:21:55.522Z"
   },
   {
    "duration": 24,
    "start_time": "2023-08-09T13:21:55.568Z"
   },
   {
    "duration": 1279,
    "start_time": "2023-08-09T16:26:30.153Z"
   },
   {
    "duration": 4,
    "start_time": "2023-08-09T16:26:31.435Z"
   },
   {
    "duration": 260,
    "start_time": "2023-08-09T16:26:31.440Z"
   },
   {
    "duration": 23,
    "start_time": "2023-08-09T16:26:31.702Z"
   },
   {
    "duration": 77,
    "start_time": "2023-08-09T16:26:31.727Z"
   },
   {
    "duration": 40,
    "start_time": "2023-08-09T16:26:31.806Z"
   },
   {
    "duration": 78,
    "start_time": "2023-08-09T16:26:31.848Z"
   },
   {
    "duration": 85,
    "start_time": "2023-08-09T16:26:31.927Z"
   },
   {
    "duration": 57,
    "start_time": "2023-08-09T16:26:32.014Z"
   },
   {
    "duration": 54,
    "start_time": "2023-08-09T16:26:32.074Z"
   },
   {
    "duration": 5,
    "start_time": "2023-08-09T16:26:32.131Z"
   },
   {
    "duration": 57,
    "start_time": "2023-08-09T16:26:32.138Z"
   },
   {
    "duration": 25,
    "start_time": "2023-08-09T16:26:32.197Z"
   },
   {
    "duration": 37,
    "start_time": "2023-08-09T16:26:32.225Z"
   },
   {
    "duration": 29,
    "start_time": "2023-08-09T16:26:32.264Z"
   },
   {
    "duration": 31,
    "start_time": "2023-08-09T16:26:32.295Z"
   },
   {
    "duration": 26,
    "start_time": "2023-08-09T16:26:32.328Z"
   },
   {
    "duration": 66,
    "start_time": "2023-08-09T16:26:32.356Z"
   },
   {
    "duration": 33,
    "start_time": "2023-08-09T16:26:32.423Z"
   },
   {
    "duration": 161,
    "start_time": "2023-08-09T16:26:32.459Z"
   },
   {
    "duration": 154,
    "start_time": "2023-08-09T16:26:32.622Z"
   },
   {
    "duration": 14,
    "start_time": "2023-08-09T16:26:32.778Z"
   },
   {
    "duration": 360,
    "start_time": "2023-08-09T16:26:32.793Z"
   },
   {
    "duration": 202,
    "start_time": "2023-08-09T16:26:33.158Z"
   },
   {
    "duration": 317,
    "start_time": "2023-08-09T16:26:33.361Z"
   },
   {
    "duration": 202,
    "start_time": "2023-08-09T16:26:33.680Z"
   },
   {
    "duration": 314,
    "start_time": "2023-08-09T16:26:33.884Z"
   },
   {
    "duration": 15,
    "start_time": "2023-08-09T16:26:34.201Z"
   },
   {
    "duration": 176,
    "start_time": "2023-08-09T16:26:34.218Z"
   },
   {
    "duration": 4,
    "start_time": "2023-08-09T16:26:34.396Z"
   },
   {
    "duration": 15,
    "start_time": "2023-08-09T16:26:34.402Z"
   },
   {
    "duration": 153,
    "start_time": "2023-08-09T16:26:34.418Z"
   },
   {
    "duration": 169,
    "start_time": "2023-08-09T16:26:34.573Z"
   },
   {
    "duration": 15,
    "start_time": "2023-08-09T16:26:34.744Z"
   },
   {
    "duration": 6,
    "start_time": "2023-08-09T16:26:34.761Z"
   },
   {
    "duration": 254,
    "start_time": "2023-08-09T16:26:34.769Z"
   },
   {
    "duration": 13,
    "start_time": "2023-08-09T16:26:35.026Z"
   },
   {
    "duration": 18,
    "start_time": "2023-08-09T16:26:35.041Z"
   },
   {
    "duration": 27,
    "start_time": "2023-08-09T16:26:35.061Z"
   },
   {
    "duration": 13,
    "start_time": "2023-08-09T16:26:35.090Z"
   },
   {
    "duration": 30,
    "start_time": "2023-08-09T16:26:35.105Z"
   },
   {
    "duration": 41,
    "start_time": "2023-08-09T16:26:35.137Z"
   },
   {
    "duration": 48,
    "start_time": "2023-08-09T16:26:35.180Z"
   },
   {
    "duration": 19,
    "start_time": "2023-08-09T16:26:35.230Z"
   },
   {
    "duration": 49,
    "start_time": "2023-08-10T09:28:56.583Z"
   },
   {
    "duration": 1388,
    "start_time": "2023-08-10T09:29:06.395Z"
   },
   {
    "duration": 4,
    "start_time": "2023-08-10T09:29:07.785Z"
   },
   {
    "duration": 289,
    "start_time": "2023-08-10T09:29:07.790Z"
   },
   {
    "duration": 21,
    "start_time": "2023-08-10T09:29:08.081Z"
   },
   {
    "duration": 62,
    "start_time": "2023-08-10T09:29:08.104Z"
   },
   {
    "duration": 5,
    "start_time": "2023-08-10T09:29:08.168Z"
   },
   {
    "duration": 22,
    "start_time": "2023-08-10T09:29:08.175Z"
   },
   {
    "duration": 56,
    "start_time": "2023-08-10T09:29:08.200Z"
   },
   {
    "duration": 16,
    "start_time": "2023-08-10T09:29:08.258Z"
   },
   {
    "duration": 21,
    "start_time": "2023-08-10T09:29:08.276Z"
   },
   {
    "duration": 56,
    "start_time": "2023-08-10T09:29:08.299Z"
   },
   {
    "duration": 21,
    "start_time": "2023-08-10T09:29:08.357Z"
   },
   {
    "duration": 12,
    "start_time": "2023-08-10T09:29:08.380Z"
   },
   {
    "duration": 20,
    "start_time": "2023-08-10T09:29:08.395Z"
   },
   {
    "duration": 11,
    "start_time": "2023-08-10T09:29:08.454Z"
   },
   {
    "duration": 10,
    "start_time": "2023-08-10T09:29:08.466Z"
   },
   {
    "duration": 13,
    "start_time": "2023-08-10T09:29:08.478Z"
   },
   {
    "duration": 69,
    "start_time": "2023-08-10T09:29:08.493Z"
   },
   {
    "duration": 214,
    "start_time": "2023-08-10T09:29:08.564Z"
   },
   {
    "duration": 0,
    "start_time": "2023-08-10T09:29:08.780Z"
   },
   {
    "duration": 0,
    "start_time": "2023-08-10T09:29:08.781Z"
   },
   {
    "duration": 0,
    "start_time": "2023-08-10T09:29:08.782Z"
   },
   {
    "duration": 0,
    "start_time": "2023-08-10T09:29:08.783Z"
   },
   {
    "duration": 0,
    "start_time": "2023-08-10T09:29:08.784Z"
   },
   {
    "duration": 0,
    "start_time": "2023-08-10T09:29:08.785Z"
   },
   {
    "duration": 0,
    "start_time": "2023-08-10T09:29:08.786Z"
   },
   {
    "duration": 0,
    "start_time": "2023-08-10T09:29:08.787Z"
   },
   {
    "duration": 0,
    "start_time": "2023-08-10T09:29:08.789Z"
   },
   {
    "duration": 0,
    "start_time": "2023-08-10T09:29:08.790Z"
   },
   {
    "duration": 0,
    "start_time": "2023-08-10T09:29:08.791Z"
   },
   {
    "duration": 0,
    "start_time": "2023-08-10T09:29:08.792Z"
   },
   {
    "duration": 0,
    "start_time": "2023-08-10T09:29:08.793Z"
   },
   {
    "duration": 0,
    "start_time": "2023-08-10T09:29:08.854Z"
   },
   {
    "duration": 0,
    "start_time": "2023-08-10T09:29:08.855Z"
   },
   {
    "duration": 0,
    "start_time": "2023-08-10T09:29:08.856Z"
   },
   {
    "duration": 0,
    "start_time": "2023-08-10T09:29:08.857Z"
   },
   {
    "duration": 0,
    "start_time": "2023-08-10T09:29:08.859Z"
   },
   {
    "duration": 0,
    "start_time": "2023-08-10T09:29:08.859Z"
   },
   {
    "duration": 0,
    "start_time": "2023-08-10T09:29:08.861Z"
   },
   {
    "duration": 0,
    "start_time": "2023-08-10T09:29:08.862Z"
   },
   {
    "duration": 0,
    "start_time": "2023-08-10T09:29:08.863Z"
   },
   {
    "duration": 0,
    "start_time": "2023-08-10T09:29:08.864Z"
   },
   {
    "duration": 0,
    "start_time": "2023-08-10T09:29:08.865Z"
   },
   {
    "duration": 0,
    "start_time": "2023-08-10T09:29:08.866Z"
   },
   {
    "duration": 0,
    "start_time": "2023-08-10T09:29:08.867Z"
   },
   {
    "duration": 14,
    "start_time": "2023-08-10T09:29:22.402Z"
   },
   {
    "duration": 71,
    "start_time": "2023-08-10T09:33:17.331Z"
   },
   {
    "duration": 5,
    "start_time": "2023-08-10T09:36:36.293Z"
   },
   {
    "duration": 4,
    "start_time": "2023-08-10T09:37:31.381Z"
   },
   {
    "duration": 12,
    "start_time": "2023-08-10T09:37:36.308Z"
   },
   {
    "duration": 7,
    "start_time": "2023-08-10T09:37:52.970Z"
   },
   {
    "duration": 1270,
    "start_time": "2023-08-10T09:38:01.515Z"
   },
   {
    "duration": 2,
    "start_time": "2023-08-10T09:38:02.787Z"
   },
   {
    "duration": 153,
    "start_time": "2023-08-10T09:38:02.790Z"
   },
   {
    "duration": 20,
    "start_time": "2023-08-10T09:38:02.954Z"
   },
   {
    "duration": 33,
    "start_time": "2023-08-10T09:38:02.976Z"
   },
   {
    "duration": 16,
    "start_time": "2023-08-10T09:38:03.055Z"
   },
   {
    "duration": 22,
    "start_time": "2023-08-10T09:38:03.072Z"
   },
   {
    "duration": 61,
    "start_time": "2023-08-10T09:38:03.096Z"
   },
   {
    "duration": 34,
    "start_time": "2023-08-10T09:38:03.159Z"
   },
   {
    "duration": 59,
    "start_time": "2023-08-10T09:38:03.196Z"
   },
   {
    "duration": 6,
    "start_time": "2023-08-10T09:38:03.257Z"
   },
   {
    "duration": 20,
    "start_time": "2023-08-10T09:38:03.264Z"
   },
   {
    "duration": 3,
    "start_time": "2023-08-10T09:38:03.286Z"
   },
   {
    "duration": 13,
    "start_time": "2023-08-10T09:38:03.291Z"
   },
   {
    "duration": 11,
    "start_time": "2023-08-10T09:38:03.354Z"
   },
   {
    "duration": 11,
    "start_time": "2023-08-10T09:38:03.367Z"
   },
   {
    "duration": 13,
    "start_time": "2023-08-10T09:38:03.379Z"
   },
   {
    "duration": 61,
    "start_time": "2023-08-10T09:38:03.394Z"
   },
   {
    "duration": 16,
    "start_time": "2023-08-10T09:38:03.457Z"
   },
   {
    "duration": 10,
    "start_time": "2023-08-10T09:38:03.474Z"
   },
   {
    "duration": 5,
    "start_time": "2023-08-10T09:38:03.486Z"
   },
   {
    "duration": 298,
    "start_time": "2023-08-10T09:38:03.493Z"
   },
   {
    "duration": 277,
    "start_time": "2023-08-10T09:38:03.793Z"
   },
   {
    "duration": 14,
    "start_time": "2023-08-10T09:38:04.071Z"
   },
   {
    "duration": 430,
    "start_time": "2023-08-10T09:38:04.086Z"
   },
   {
    "duration": 205,
    "start_time": "2023-08-10T09:38:04.518Z"
   },
   {
    "duration": 331,
    "start_time": "2023-08-10T09:38:04.725Z"
   },
   {
    "duration": 200,
    "start_time": "2023-08-10T09:38:05.059Z"
   },
   {
    "duration": 288,
    "start_time": "2023-08-10T09:38:05.260Z"
   },
   {
    "duration": 12,
    "start_time": "2023-08-10T09:38:05.554Z"
   },
   {
    "duration": 166,
    "start_time": "2023-08-10T09:38:05.567Z"
   },
   {
    "duration": 6,
    "start_time": "2023-08-10T09:38:05.735Z"
   },
   {
    "duration": 185,
    "start_time": "2023-08-10T09:38:05.742Z"
   },
   {
    "duration": 176,
    "start_time": "2023-08-10T09:38:05.929Z"
   },
   {
    "duration": 155,
    "start_time": "2023-08-10T09:38:06.107Z"
   },
   {
    "duration": 19,
    "start_time": "2023-08-10T09:38:06.264Z"
   },
   {
    "duration": 34,
    "start_time": "2023-08-10T09:38:06.285Z"
   },
   {
    "duration": 248,
    "start_time": "2023-08-10T09:38:06.321Z"
   },
   {
    "duration": 13,
    "start_time": "2023-08-10T09:38:06.570Z"
   },
   {
    "duration": 31,
    "start_time": "2023-08-10T09:38:06.584Z"
   },
   {
    "duration": 74,
    "start_time": "2023-08-10T09:38:06.616Z"
   },
   {
    "duration": 12,
    "start_time": "2023-08-10T09:38:06.692Z"
   },
   {
    "duration": 24,
    "start_time": "2023-08-10T09:38:06.706Z"
   },
   {
    "duration": 23,
    "start_time": "2023-08-10T09:38:06.731Z"
   },
   {
    "duration": 35,
    "start_time": "2023-08-10T09:38:06.755Z"
   },
   {
    "duration": 40,
    "start_time": "2023-08-10T09:38:06.791Z"
   },
   {
    "duration": 1219,
    "start_time": "2023-08-10T09:40:28.575Z"
   },
   {
    "duration": 3,
    "start_time": "2023-08-10T09:40:29.796Z"
   },
   {
    "duration": 127,
    "start_time": "2023-08-10T09:40:29.800Z"
   },
   {
    "duration": 39,
    "start_time": "2023-08-10T09:40:29.928Z"
   },
   {
    "duration": 19,
    "start_time": "2023-08-10T09:40:29.969Z"
   },
   {
    "duration": 10,
    "start_time": "2023-08-10T09:40:29.989Z"
   },
   {
    "duration": 66,
    "start_time": "2023-08-10T09:40:30.000Z"
   },
   {
    "duration": 31,
    "start_time": "2023-08-10T09:40:30.067Z"
   },
   {
    "duration": 62,
    "start_time": "2023-08-10T09:40:30.099Z"
   },
   {
    "duration": 15,
    "start_time": "2023-08-10T09:40:30.163Z"
   },
   {
    "duration": 12,
    "start_time": "2023-08-10T09:40:30.179Z"
   },
   {
    "duration": 72,
    "start_time": "2023-08-10T09:40:30.192Z"
   },
   {
    "duration": 3,
    "start_time": "2023-08-10T09:40:30.266Z"
   },
   {
    "duration": 83,
    "start_time": "2023-08-10T09:40:30.272Z"
   },
   {
    "duration": 44,
    "start_time": "2023-08-10T09:40:30.357Z"
   },
   {
    "duration": 51,
    "start_time": "2023-08-10T09:40:30.404Z"
   },
   {
    "duration": 36,
    "start_time": "2023-08-10T09:40:30.457Z"
   },
   {
    "duration": 61,
    "start_time": "2023-08-10T09:40:30.495Z"
   },
   {
    "duration": 114,
    "start_time": "2023-08-10T09:40:30.558Z"
   },
   {
    "duration": 42,
    "start_time": "2023-08-10T09:40:30.673Z"
   },
   {
    "duration": 40,
    "start_time": "2023-08-10T09:40:30.716Z"
   },
   {
    "duration": 324,
    "start_time": "2023-08-10T09:40:30.758Z"
   },
   {
    "duration": 169,
    "start_time": "2023-08-10T09:40:31.084Z"
   },
   {
    "duration": 13,
    "start_time": "2023-08-10T09:40:31.255Z"
   },
   {
    "duration": 324,
    "start_time": "2023-08-10T09:40:31.269Z"
   },
   {
    "duration": 207,
    "start_time": "2023-08-10T09:40:31.594Z"
   },
   {
    "duration": 289,
    "start_time": "2023-08-10T09:40:31.802Z"
   },
   {
    "duration": 202,
    "start_time": "2023-08-10T09:40:32.093Z"
   },
   {
    "duration": 293,
    "start_time": "2023-08-10T09:40:32.297Z"
   },
   {
    "duration": 10,
    "start_time": "2023-08-10T09:40:32.592Z"
   },
   {
    "duration": 181,
    "start_time": "2023-08-10T09:40:32.603Z"
   },
   {
    "duration": 4,
    "start_time": "2023-08-10T09:40:32.786Z"
   },
   {
    "duration": 16,
    "start_time": "2023-08-10T09:40:32.792Z"
   },
   {
    "duration": 150,
    "start_time": "2023-08-10T09:40:32.810Z"
   },
   {
    "duration": 147,
    "start_time": "2023-08-10T09:40:32.961Z"
   },
   {
    "duration": 5,
    "start_time": "2023-08-10T09:40:33.109Z"
   },
   {
    "duration": 69,
    "start_time": "2023-08-10T09:40:33.116Z"
   },
   {
    "duration": 299,
    "start_time": "2023-08-10T09:40:33.187Z"
   },
   {
    "duration": 12,
    "start_time": "2023-08-10T09:40:33.487Z"
   },
   {
    "duration": 76,
    "start_time": "2023-08-10T09:40:33.501Z"
   },
   {
    "duration": 54,
    "start_time": "2023-08-10T09:40:33.580Z"
   },
   {
    "duration": 68,
    "start_time": "2023-08-10T09:40:33.636Z"
   },
   {
    "duration": 84,
    "start_time": "2023-08-10T09:40:33.706Z"
   },
   {
    "duration": 85,
    "start_time": "2023-08-10T09:40:33.791Z"
   },
   {
    "duration": 53,
    "start_time": "2023-08-10T09:40:33.878Z"
   },
   {
    "duration": 40,
    "start_time": "2023-08-10T09:40:33.932Z"
   },
   {
    "duration": 1251,
    "start_time": "2023-08-10T10:00:57.572Z"
   },
   {
    "duration": 3,
    "start_time": "2023-08-10T10:00:58.825Z"
   },
   {
    "duration": 119,
    "start_time": "2023-08-10T10:00:58.830Z"
   },
   {
    "duration": 19,
    "start_time": "2023-08-10T10:00:58.952Z"
   },
   {
    "duration": 62,
    "start_time": "2023-08-10T10:00:58.973Z"
   },
   {
    "duration": 33,
    "start_time": "2023-08-10T10:00:59.038Z"
   },
   {
    "duration": 67,
    "start_time": "2023-08-10T10:00:59.073Z"
   },
   {
    "duration": 23,
    "start_time": "2023-08-10T10:00:59.142Z"
   },
   {
    "duration": 29,
    "start_time": "2023-08-10T10:00:59.168Z"
   },
   {
    "duration": 59,
    "start_time": "2023-08-10T10:00:59.200Z"
   },
   {
    "duration": 30,
    "start_time": "2023-08-10T10:00:59.261Z"
   },
   {
    "duration": 44,
    "start_time": "2023-08-10T10:00:59.292Z"
   },
   {
    "duration": 45,
    "start_time": "2023-08-10T10:00:59.338Z"
   },
   {
    "duration": 46,
    "start_time": "2023-08-10T10:00:59.385Z"
   },
   {
    "duration": 38,
    "start_time": "2023-08-10T10:00:59.433Z"
   },
   {
    "duration": 42,
    "start_time": "2023-08-10T10:00:59.473Z"
   },
   {
    "duration": 59,
    "start_time": "2023-08-10T10:00:59.517Z"
   },
   {
    "duration": 52,
    "start_time": "2023-08-10T10:00:59.578Z"
   },
   {
    "duration": 52,
    "start_time": "2023-08-10T10:00:59.633Z"
   },
   {
    "duration": 31,
    "start_time": "2023-08-10T10:00:59.686Z"
   },
   {
    "duration": 45,
    "start_time": "2023-08-10T10:00:59.719Z"
   },
   {
    "duration": 180,
    "start_time": "2023-08-10T10:00:59.766Z"
   },
   {
    "duration": 141,
    "start_time": "2023-08-10T10:00:59.948Z"
   },
   {
    "duration": 13,
    "start_time": "2023-08-10T10:01:00.091Z"
   },
   {
    "duration": 310,
    "start_time": "2023-08-10T10:01:00.106Z"
   },
   {
    "duration": 231,
    "start_time": "2023-08-10T10:01:00.418Z"
   },
   {
    "duration": 294,
    "start_time": "2023-08-10T10:01:00.651Z"
   },
   {
    "duration": 227,
    "start_time": "2023-08-10T10:01:00.953Z"
   },
   {
    "duration": 266,
    "start_time": "2023-08-10T10:01:01.182Z"
   },
   {
    "duration": 15,
    "start_time": "2023-08-10T10:01:01.449Z"
   },
   {
    "duration": 206,
    "start_time": "2023-08-10T10:01:01.465Z"
   },
   {
    "duration": 5,
    "start_time": "2023-08-10T10:01:01.672Z"
   },
   {
    "duration": 59,
    "start_time": "2023-08-10T10:01:01.679Z"
   },
   {
    "duration": 200,
    "start_time": "2023-08-10T10:01:01.739Z"
   },
   {
    "duration": 163,
    "start_time": "2023-08-10T10:01:01.940Z"
   },
   {
    "duration": 6,
    "start_time": "2023-08-10T10:01:02.104Z"
   },
   {
    "duration": 46,
    "start_time": "2023-08-10T10:01:02.112Z"
   },
   {
    "duration": 287,
    "start_time": "2023-08-10T10:01:02.160Z"
   },
   {
    "duration": 18,
    "start_time": "2023-08-10T10:01:02.453Z"
   },
   {
    "duration": 17,
    "start_time": "2023-08-10T10:01:02.473Z"
   },
   {
    "duration": 47,
    "start_time": "2023-08-10T10:01:02.492Z"
   },
   {
    "duration": 28,
    "start_time": "2023-08-10T10:01:02.541Z"
   },
   {
    "duration": 25,
    "start_time": "2023-08-10T10:01:02.571Z"
   },
   {
    "duration": 6,
    "start_time": "2023-08-10T10:01:02.599Z"
   },
   {
    "duration": 43,
    "start_time": "2023-08-10T10:01:02.607Z"
   },
   {
    "duration": 16,
    "start_time": "2023-08-10T10:01:02.652Z"
   },
   {
    "duration": 1197,
    "start_time": "2023-08-10T13:06:46.653Z"
   },
   {
    "duration": 3,
    "start_time": "2023-08-10T13:06:47.853Z"
   },
   {
    "duration": 217,
    "start_time": "2023-08-10T13:06:47.857Z"
   },
   {
    "duration": 14,
    "start_time": "2023-08-10T13:06:48.075Z"
   },
   {
    "duration": 21,
    "start_time": "2023-08-10T13:06:48.091Z"
   },
   {
    "duration": 9,
    "start_time": "2023-08-10T13:06:48.114Z"
   },
   {
    "duration": 15,
    "start_time": "2023-08-10T13:06:48.125Z"
   },
   {
    "duration": 14,
    "start_time": "2023-08-10T13:06:48.142Z"
   },
   {
    "duration": 8,
    "start_time": "2023-08-10T13:06:48.158Z"
   },
   {
    "duration": 16,
    "start_time": "2023-08-10T13:06:48.168Z"
   },
   {
    "duration": 9,
    "start_time": "2023-08-10T13:06:48.185Z"
   },
   {
    "duration": 17,
    "start_time": "2023-08-10T13:06:48.202Z"
   },
   {
    "duration": 4,
    "start_time": "2023-08-10T13:06:48.221Z"
   },
   {
    "duration": 11,
    "start_time": "2023-08-10T13:06:48.229Z"
   },
   {
    "duration": 10,
    "start_time": "2023-08-10T13:06:48.242Z"
   },
   {
    "duration": 16,
    "start_time": "2023-08-10T13:06:48.254Z"
   },
   {
    "duration": 10,
    "start_time": "2023-08-10T13:06:48.272Z"
   },
   {
    "duration": 35,
    "start_time": "2023-08-10T13:06:48.283Z"
   },
   {
    "duration": 8,
    "start_time": "2023-08-10T13:06:48.320Z"
   },
   {
    "duration": 7,
    "start_time": "2023-08-10T13:06:48.329Z"
   },
   {
    "duration": 4,
    "start_time": "2023-08-10T13:06:48.338Z"
   },
   {
    "duration": 131,
    "start_time": "2023-08-10T13:06:48.343Z"
   },
   {
    "duration": 122,
    "start_time": "2023-08-10T13:06:48.475Z"
   },
   {
    "duration": 21,
    "start_time": "2023-08-10T13:06:48.606Z"
   },
   {
    "duration": 191,
    "start_time": "2023-08-10T13:06:48.629Z"
   },
   {
    "duration": 193,
    "start_time": "2023-08-10T13:06:48.822Z"
   },
   {
    "duration": 261,
    "start_time": "2023-08-10T13:06:49.016Z"
   },
   {
    "duration": 178,
    "start_time": "2023-08-10T13:06:49.279Z"
   },
   {
    "duration": 306,
    "start_time": "2023-08-10T13:06:49.458Z"
   },
   {
    "duration": 10,
    "start_time": "2023-08-10T13:06:49.766Z"
   },
   {
    "duration": 217,
    "start_time": "2023-08-10T13:06:49.778Z"
   },
   {
    "duration": 19,
    "start_time": "2023-08-10T13:06:49.999Z"
   },
   {
    "duration": 33,
    "start_time": "2023-08-10T13:06:50.020Z"
   },
   {
    "duration": 130,
    "start_time": "2023-08-10T13:06:50.055Z"
   },
   {
    "duration": 131,
    "start_time": "2023-08-10T13:06:50.186Z"
   },
   {
    "duration": 4,
    "start_time": "2023-08-10T13:06:50.319Z"
   },
   {
    "duration": 35,
    "start_time": "2023-08-10T13:06:50.325Z"
   },
   {
    "duration": 156,
    "start_time": "2023-08-10T13:06:50.361Z"
   },
   {
    "duration": 12,
    "start_time": "2023-08-10T13:06:50.519Z"
   },
   {
    "duration": 27,
    "start_time": "2023-08-10T13:06:50.533Z"
   },
   {
    "duration": 23,
    "start_time": "2023-08-10T13:06:50.564Z"
   },
   {
    "duration": 38,
    "start_time": "2023-08-10T13:06:50.588Z"
   },
   {
    "duration": 21,
    "start_time": "2023-08-10T13:06:50.627Z"
   },
   {
    "duration": 41,
    "start_time": "2023-08-10T13:06:50.650Z"
   },
   {
    "duration": 57,
    "start_time": "2023-08-10T13:06:50.693Z"
   },
   {
    "duration": 26,
    "start_time": "2023-08-10T13:06:50.752Z"
   }
  ],
  "kernelspec": {
   "display_name": "Python 3 (ipykernel)",
   "language": "python",
   "name": "python3"
  },
  "language_info": {
   "codemirror_mode": {
    "name": "ipython",
    "version": 3
   },
   "file_extension": ".py",
   "mimetype": "text/x-python",
   "name": "python",
   "nbconvert_exporter": "python",
   "pygments_lexer": "ipython3",
   "version": "3.11.5"
  },
  "toc": {
   "base_numbering": 1,
   "nav_menu": {},
   "number_sections": true,
   "sideBar": true,
   "skip_h1_title": true,
   "title_cell": "Содержание",
   "title_sidebar": "Contents",
   "toc_cell": true,
   "toc_position": {
    "height": "calc(100% - 180px)",
    "left": "10px",
    "top": "150px",
    "width": "294.225px"
   },
   "toc_section_display": true,
   "toc_window_display": true
  }
 },
 "nbformat": 4,
 "nbformat_minor": 2
}
