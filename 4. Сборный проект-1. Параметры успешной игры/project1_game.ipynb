{
 "cells": [
  {
   "cell_type": "markdown",
   "metadata": {},
   "source": [
    "# Сборный проект \"Анализ интернет-магазина\""
   ]
  },
  {
   "cell_type": "markdown",
   "metadata": {
    "toc": true
   },
   "source": [
    "<h1>Содержание<span class=\"tocSkip\"></span></h1>\n",
    "<div class=\"toc\"><ul class=\"toc-item\"><li><span><a href=\"#Описание-проекта\" data-toc-modified-id=\"Описание-проекта-1\"><span class=\"toc-item-num\">1&nbsp;&nbsp;</span>Описание проекта</a></span></li><li><span><a href=\"#Загрузка-данных\" data-toc-modified-id=\"Загрузка-данных-2\"><span class=\"toc-item-num\">2&nbsp;&nbsp;</span>Загрузка данных</a></span><ul class=\"toc-item\"><li><span><a href=\"#Импорт-библиотек-и-загрузка-данных\" data-toc-modified-id=\"Импорт-библиотек-и-загрузка-данных-2.1\"><span class=\"toc-item-num\">2.1&nbsp;&nbsp;</span>Импорт библиотек и загрузка данных</a></span></li><li><span><a href=\"#Общая-информация-о-датафрейме\" data-toc-modified-id=\"Общая-информация-о-датафрейме-2.2\"><span class=\"toc-item-num\">2.2&nbsp;&nbsp;</span>Общая информация о датафрейме</a></span></li></ul></li><li><span><a href=\"#Преодобработка-данных\" data-toc-modified-id=\"Преодобработка-данных-3\"><span class=\"toc-item-num\">3&nbsp;&nbsp;</span>Преодобработка данных</a></span><ul class=\"toc-item\"><li><span><a href=\"#Изменение-название-столбцов\" data-toc-modified-id=\"Изменение-название-столбцов-3.1\"><span class=\"toc-item-num\">3.1&nbsp;&nbsp;</span>Изменение название столбцов</a></span></li><li><span><a href=\"#Изменения-типа-данных\" data-toc-modified-id=\"Изменения-типа-данных-3.2\"><span class=\"toc-item-num\">3.2&nbsp;&nbsp;</span>Изменения типа данных</a></span></li><li><span><a href=\"#Создание-столбца-с-суммарными-продажами-во-всех-регионах\" data-toc-modified-id=\"Создание-столбца-с-суммарными-продажами-во-всех-регионах-3.3\"><span class=\"toc-item-num\">3.3&nbsp;&nbsp;</span>Создание столбца с суммарными продажами во всех регионах</a></span></li></ul></li><li><span><a href=\"#Исследовательский-анализ-данных\" data-toc-modified-id=\"Исследовательский-анализ-данных-4\"><span class=\"toc-item-num\">4&nbsp;&nbsp;</span>Исследовательский анализ данных</a></span><ul class=\"toc-item\"><li><span><a href=\"#Сколько-игр-выпускалось-в-разные-годы.-Важны-ли-данные-за-все-периоды?\" data-toc-modified-id=\"Сколько-игр-выпускалось-в-разные-годы.-Важны-ли-данные-за-все-периоды?-4.1\"><span class=\"toc-item-num\">4.1&nbsp;&nbsp;</span>Сколько игр выпускалось в разные годы. Важны ли данные за все периоды?</a></span></li><li><span><a href=\"#Как-менялись-продажи-по-платформам.-Платформы-с-наибольшими-суммарными-продажами-и-постройте-распределение-по-годам.-За-какой-характерный-срок-появляются-новые-и-исчезают-старые-платформы?\" data-toc-modified-id=\"Как-менялись-продажи-по-платформам.-Платформы-с-наибольшими-суммарными-продажами-и-постройте-распределение-по-годам.-За-какой-характерный-срок-появляются-новые-и-исчезают-старые-платформы?-4.2\"><span class=\"toc-item-num\">4.2&nbsp;&nbsp;</span>Как менялись продажи по платформам. Платформы с наибольшими суммарными продажами и постройте распределение по годам. За какой характерный срок появляются новые и исчезают старые платформы?</a></span></li><li><span><a href=\"#Определение-актуального-периода\" data-toc-modified-id=\"Определение-актуального-периода-4.3\"><span class=\"toc-item-num\">4.3&nbsp;&nbsp;</span>Определение актуального периода</a></span></li><li><span><a href=\"#Топ-5-прибыльных-платформ.\" data-toc-modified-id=\"Топ-5-прибыльных-платформ.-4.4\"><span class=\"toc-item-num\">4.4&nbsp;&nbsp;</span>Топ-5 прибыльных платформ.</a></span></li><li><span><a href=\"#График-«ящик-с-усами»-по-глобальным-продажам-игр-в-разбивке-по-платформам.\" data-toc-modified-id=\"График-«ящик-с-усами»-по-глобальным-продажам-игр-в-разбивке-по-платформам.-4.5\"><span class=\"toc-item-num\">4.5&nbsp;&nbsp;</span>График «ящик с усами» по глобальным продажам игр в разбивке по платформам.</a></span></li><li><span><a href=\"#Как-влияют-на-продажи-внутри-одной-популярной-платформы-отзывы-пользователей-и-критиков.\" data-toc-modified-id=\"Как-влияют-на-продажи-внутри-одной-популярной-платформы-отзывы-пользователей-и-критиков.-4.6\"><span class=\"toc-item-num\">4.6&nbsp;&nbsp;</span>Как влияют на продажи внутри одной популярной платформы отзывы пользователей и критиков.</a></span></li><li><span><a href=\"#Продажи-игр-на-других-платформах\" data-toc-modified-id=\"Продажи-игр-на-других-платформах-4.7\"><span class=\"toc-item-num\">4.7&nbsp;&nbsp;</span>Продажи игр на других платформах</a></span></li><li><span><a href=\"#Общее-распределение-игр-по-жанрам.-Что-можно-сказать-о-самых-прибыльных-жанрах?-Выделяются-ли-жанры-с-высокими-и-низкими-продажами?\" data-toc-modified-id=\"Общее-распределение-игр-по-жанрам.-Что-можно-сказать-о-самых-прибыльных-жанрах?-Выделяются-ли-жанры-с-высокими-и-низкими-продажами?-4.8\"><span class=\"toc-item-num\">4.8&nbsp;&nbsp;</span>Общее распределение игр по жанрам. Что можно сказать о самых прибыльных жанрах? Выделяются ли жанры с высокими и низкими продажами?</a></span></li></ul></li><li><span><a href=\"#Портрет-пользователя-каждого-региона\" data-toc-modified-id=\"Портрет-пользователя-каждого-региона-5\"><span class=\"toc-item-num\">5&nbsp;&nbsp;</span>Портрет пользователя каждого региона</a></span><ul class=\"toc-item\"><li><span><a href=\"#Самые-популярные-платформы\" data-toc-modified-id=\"Самые-популярные-платформы-5.1\"><span class=\"toc-item-num\">5.1&nbsp;&nbsp;</span>Самые популярные платформы</a></span></li><li><span><a href=\"#Самые-популярные-жанры\" data-toc-modified-id=\"Самые-популярные-жанры-5.2\"><span class=\"toc-item-num\">5.2&nbsp;&nbsp;</span>Самые популярные жанры</a></span></li><li><span><a href=\"#Влияние-рейтинга-ESRB-на-продажи\" data-toc-modified-id=\"Влияние-рейтинга-ESRB-на-продажи-5.3\"><span class=\"toc-item-num\">5.3&nbsp;&nbsp;</span>Влияние рейтинга ESRB на продажи</a></span></li></ul></li><li><span><a href=\"#Проверка-гипотез\" data-toc-modified-id=\"Проверка-гипотез-6\"><span class=\"toc-item-num\">6&nbsp;&nbsp;</span>Проверка гипотез</a></span><ul class=\"toc-item\"><li><span><a href=\"#Средние-пользовательские-рейтинги-платформ-Xbox-One-и-PC-одинаковые\" data-toc-modified-id=\"Средние-пользовательские-рейтинги-платформ-Xbox-One-и-PC-одинаковые-6.1\"><span class=\"toc-item-num\">6.1&nbsp;&nbsp;</span>Средние пользовательские рейтинги платформ Xbox One и PC одинаковые</a></span></li><li><span><a href=\"#Средние-пользовательские-рейтинги-жанров-Action-(англ.-«действие»,-экшен-игры)-и-Sports-(англ.-«спортивные-соревнования»)-разные\" data-toc-modified-id=\"Средние-пользовательские-рейтинги-жанров-Action-(англ.-«действие»,-экшен-игры)-и-Sports-(англ.-«спортивные-соревнования»)-разные-6.2\"><span class=\"toc-item-num\">6.2&nbsp;&nbsp;</span>Средние пользовательские рейтинги жанров Action (англ. «действие», экшен-игры) и Sports (англ. «спортивные соревнования») разные</a></span></li><li><span><a href=\"#Как-была-сформулирована-нулевая-и-альтернативная-гипотезы\" data-toc-modified-id=\"Как-была-сформулирована-нулевая-и-альтернативная-гипотезы-6.3\"><span class=\"toc-item-num\">6.3&nbsp;&nbsp;</span>Как была сформулирована нулевая и альтернативная гипотезы</a></span></li><li><span><a href=\"#Какой-критерий-был-применен-для-проверки-гипотез-и-почему:\" data-toc-modified-id=\"Какой-критерий-был-применен-для-проверки-гипотез-и-почему:-6.4\"><span class=\"toc-item-num\">6.4&nbsp;&nbsp;</span>Какой критерий был применен для проверки гипотез и почему:</a></span></li></ul></li><li><span><a href=\"#Общий-вывод\" data-toc-modified-id=\"Общий-вывод-7\"><span class=\"toc-item-num\">7&nbsp;&nbsp;</span>Общий вывод</a></span></li></ul></div>"
   ]
  },
  {
   "cell_type": "markdown",
   "metadata": {},
   "source": [
    "## Описание проекта"
   ]
  },
  {
   "cell_type": "markdown",
   "metadata": {},
   "source": [
    "<div class=\"alert alert-info\">\n",
    "<font size=\"3\", color = \"black\"><b> Задание:  </b> Вы работаете в интернет-магазине «Стримчик», который продаёт по всему миру компьютерные игры. Из открытых источников доступны исторические данные о продажах игр, оценки пользователей и экспертов, жанры и платформы (например, Xbox или PlayStation). Вам нужно выявить определяющие успешность игры закономерности. Это позволит сделать ставку на потенциально популярный продукт и спланировать рекламные кампании.\n",
    "    <br />\n",
    "     <br />\n",
    "<b>Описание данных:</b> <br />\n",
    "     <br />\n",
    "Пользователи (games.csv):\n",
    "    \n",
    "- Name — название игры\n",
    "- Platform — платформа\n",
    "- Year_of_Release — год выпуска\n",
    "- Genre — жанр игры\n",
    "- NA_sales — продажи в Северной Америке (миллионы проданных копий)\n",
    "- EU_sales — продажи в Европе (миллионы проданных копий)\n",
    "- JP_sales — продажи в Японии (миллионы проданных копий)\n",
    "- Other_sales — продажи в других странах (миллионы проданных копий)\n",
    "- Critic_Score — оценка критиков (максимум 100)\n",
    "- User_Score — оценка пользователей (максимум 10)\n",
    "- Rating — рейтинг от организации ESRB (англ. Entertainment Software Rating Board). Эта ассоциация определяет рейтинг компьютерных игр и присваивает им подходящую возрастную категорию.\n",
    " <br />\n",
    "\n",
    "<br />\n",
    "<b>План действий:</b>\n",
    "    \n",
    "1. Импортировать библиотеки, загрузить данные и изучить информацию по каждому из них. <br /><br />\n",
    "2. Обработать данные: привести названия столбцов к нижнему регистру, привести данные к нужному типу, создать необходимые на основе уже имеющихся. Проверить данные на наличие пропусков и дубликатов и обработать их. <br /><br />\n",
    "3. Проанализировать данные: сколько игр выпускалось в разные годы,  как менялись продажи по платформам, определить актуальный период, определить лидеров по продажам и построить график. Посмотреть, как влияют на продажи внутри одной популярной платформы отзывы пользователей и критиков. Построить диаграмму рассеяния и посчитать корреляцию между отзывами и продажами. Оценить продажу игр в зависимости от жанров. <br /><br />\n",
    "4. Определить для пользователя каждого региона (NA, EU, JP):\n",
    "- Самые популярные платформы (топ-5). Опишите различия в долях продаж.\n",
    "- Самые популярные жанры (топ-5). Поясните разницу.\n",
    "- Влияет ли рейтинг ESRB на продажи в отдельном регионе?\n",
    "5. Проверить гипотезы, сделать выводы по ним.  <br /><br />\n",
    "6. Сделать заключительный вывод по всей проделанной работе.\n",
    "<br />\n",
    "    </font>"
   ]
  },
  {
   "cell_type": "markdown",
   "metadata": {},
   "source": [
    "## Загрузка данных"
   ]
  },
  {
   "cell_type": "markdown",
   "metadata": {},
   "source": [
    "### Импорт библиотек и загрузка данных"
   ]
  },
  {
   "cell_type": "code",
   "execution_count": 1,
   "metadata": {},
   "outputs": [],
   "source": [
    "import pandas as pd\n",
    "from scipy import stats as st\n",
    "import numpy as np\n",
    "import matplotlib.pyplot as plt"
   ]
  },
  {
   "cell_type": "code",
   "execution_count": 2,
   "metadata": {},
   "outputs": [],
   "source": [
    "games = pd.read_csv('/datasets/games.csv')"
   ]
  },
  {
   "cell_type": "markdown",
   "metadata": {},
   "source": [
    "### Общая информация о датафрейме"
   ]
  },
  {
   "cell_type": "code",
   "execution_count": 3,
   "metadata": {},
   "outputs": [
    {
     "data": {
      "text/html": [
       "<div>\n",
       "<style scoped>\n",
       "    .dataframe tbody tr th:only-of-type {\n",
       "        vertical-align: middle;\n",
       "    }\n",
       "\n",
       "    .dataframe tbody tr th {\n",
       "        vertical-align: top;\n",
       "    }\n",
       "\n",
       "    .dataframe thead th {\n",
       "        text-align: right;\n",
       "    }\n",
       "</style>\n",
       "<table border=\"1\" class=\"dataframe\">\n",
       "  <thead>\n",
       "    <tr style=\"text-align: right;\">\n",
       "      <th></th>\n",
       "      <th>Name</th>\n",
       "      <th>Platform</th>\n",
       "      <th>Year_of_Release</th>\n",
       "      <th>Genre</th>\n",
       "      <th>NA_sales</th>\n",
       "      <th>EU_sales</th>\n",
       "      <th>JP_sales</th>\n",
       "      <th>Other_sales</th>\n",
       "      <th>Critic_Score</th>\n",
       "      <th>User_Score</th>\n",
       "      <th>Rating</th>\n",
       "    </tr>\n",
       "  </thead>\n",
       "  <tbody>\n",
       "    <tr>\n",
       "      <th>0</th>\n",
       "      <td>Wii Sports</td>\n",
       "      <td>Wii</td>\n",
       "      <td>2006.0</td>\n",
       "      <td>Sports</td>\n",
       "      <td>41.36</td>\n",
       "      <td>28.96</td>\n",
       "      <td>3.77</td>\n",
       "      <td>8.45</td>\n",
       "      <td>76.0</td>\n",
       "      <td>8</td>\n",
       "      <td>E</td>\n",
       "    </tr>\n",
       "    <tr>\n",
       "      <th>1</th>\n",
       "      <td>Super Mario Bros.</td>\n",
       "      <td>NES</td>\n",
       "      <td>1985.0</td>\n",
       "      <td>Platform</td>\n",
       "      <td>29.08</td>\n",
       "      <td>3.58</td>\n",
       "      <td>6.81</td>\n",
       "      <td>0.77</td>\n",
       "      <td>NaN</td>\n",
       "      <td>NaN</td>\n",
       "      <td>NaN</td>\n",
       "    </tr>\n",
       "    <tr>\n",
       "      <th>2</th>\n",
       "      <td>Mario Kart Wii</td>\n",
       "      <td>Wii</td>\n",
       "      <td>2008.0</td>\n",
       "      <td>Racing</td>\n",
       "      <td>15.68</td>\n",
       "      <td>12.76</td>\n",
       "      <td>3.79</td>\n",
       "      <td>3.29</td>\n",
       "      <td>82.0</td>\n",
       "      <td>8.3</td>\n",
       "      <td>E</td>\n",
       "    </tr>\n",
       "    <tr>\n",
       "      <th>3</th>\n",
       "      <td>Wii Sports Resort</td>\n",
       "      <td>Wii</td>\n",
       "      <td>2009.0</td>\n",
       "      <td>Sports</td>\n",
       "      <td>15.61</td>\n",
       "      <td>10.93</td>\n",
       "      <td>3.28</td>\n",
       "      <td>2.95</td>\n",
       "      <td>80.0</td>\n",
       "      <td>8</td>\n",
       "      <td>E</td>\n",
       "    </tr>\n",
       "    <tr>\n",
       "      <th>4</th>\n",
       "      <td>Pokemon Red/Pokemon Blue</td>\n",
       "      <td>GB</td>\n",
       "      <td>1996.0</td>\n",
       "      <td>Role-Playing</td>\n",
       "      <td>11.27</td>\n",
       "      <td>8.89</td>\n",
       "      <td>10.22</td>\n",
       "      <td>1.00</td>\n",
       "      <td>NaN</td>\n",
       "      <td>NaN</td>\n",
       "      <td>NaN</td>\n",
       "    </tr>\n",
       "  </tbody>\n",
       "</table>\n",
       "</div>"
      ],
      "text/plain": [
       "                       Name Platform  Year_of_Release         Genre  NA_sales  \\\n",
       "0                Wii Sports      Wii           2006.0        Sports     41.36   \n",
       "1         Super Mario Bros.      NES           1985.0      Platform     29.08   \n",
       "2            Mario Kart Wii      Wii           2008.0        Racing     15.68   \n",
       "3         Wii Sports Resort      Wii           2009.0        Sports     15.61   \n",
       "4  Pokemon Red/Pokemon Blue       GB           1996.0  Role-Playing     11.27   \n",
       "\n",
       "   EU_sales  JP_sales  Other_sales  Critic_Score User_Score Rating  \n",
       "0     28.96      3.77         8.45          76.0          8      E  \n",
       "1      3.58      6.81         0.77           NaN        NaN    NaN  \n",
       "2     12.76      3.79         3.29          82.0        8.3      E  \n",
       "3     10.93      3.28         2.95          80.0          8      E  \n",
       "4      8.89     10.22         1.00           NaN        NaN    NaN  "
      ]
     },
     "execution_count": 3,
     "metadata": {},
     "output_type": "execute_result"
    }
   ],
   "source": [
    "games.head()"
   ]
  },
  {
   "cell_type": "code",
   "execution_count": 4,
   "metadata": {},
   "outputs": [
    {
     "data": {
      "text/html": [
       "<div>\n",
       "<style scoped>\n",
       "    .dataframe tbody tr th:only-of-type {\n",
       "        vertical-align: middle;\n",
       "    }\n",
       "\n",
       "    .dataframe tbody tr th {\n",
       "        vertical-align: top;\n",
       "    }\n",
       "\n",
       "    .dataframe thead th {\n",
       "        text-align: right;\n",
       "    }\n",
       "</style>\n",
       "<table border=\"1\" class=\"dataframe\">\n",
       "  <thead>\n",
       "    <tr style=\"text-align: right;\">\n",
       "      <th></th>\n",
       "      <th>Year_of_Release</th>\n",
       "      <th>NA_sales</th>\n",
       "      <th>EU_sales</th>\n",
       "      <th>JP_sales</th>\n",
       "      <th>Other_sales</th>\n",
       "      <th>Critic_Score</th>\n",
       "    </tr>\n",
       "  </thead>\n",
       "  <tbody>\n",
       "    <tr>\n",
       "      <th>count</th>\n",
       "      <td>16446.000000</td>\n",
       "      <td>16715.000000</td>\n",
       "      <td>16715.000000</td>\n",
       "      <td>16715.000000</td>\n",
       "      <td>16715.000000</td>\n",
       "      <td>8137.000000</td>\n",
       "    </tr>\n",
       "    <tr>\n",
       "      <th>mean</th>\n",
       "      <td>2006.484616</td>\n",
       "      <td>0.263377</td>\n",
       "      <td>0.145060</td>\n",
       "      <td>0.077617</td>\n",
       "      <td>0.047342</td>\n",
       "      <td>68.967679</td>\n",
       "    </tr>\n",
       "    <tr>\n",
       "      <th>std</th>\n",
       "      <td>5.877050</td>\n",
       "      <td>0.813604</td>\n",
       "      <td>0.503339</td>\n",
       "      <td>0.308853</td>\n",
       "      <td>0.186731</td>\n",
       "      <td>13.938165</td>\n",
       "    </tr>\n",
       "    <tr>\n",
       "      <th>min</th>\n",
       "      <td>1980.000000</td>\n",
       "      <td>0.000000</td>\n",
       "      <td>0.000000</td>\n",
       "      <td>0.000000</td>\n",
       "      <td>0.000000</td>\n",
       "      <td>13.000000</td>\n",
       "    </tr>\n",
       "    <tr>\n",
       "      <th>25%</th>\n",
       "      <td>2003.000000</td>\n",
       "      <td>0.000000</td>\n",
       "      <td>0.000000</td>\n",
       "      <td>0.000000</td>\n",
       "      <td>0.000000</td>\n",
       "      <td>60.000000</td>\n",
       "    </tr>\n",
       "    <tr>\n",
       "      <th>50%</th>\n",
       "      <td>2007.000000</td>\n",
       "      <td>0.080000</td>\n",
       "      <td>0.020000</td>\n",
       "      <td>0.000000</td>\n",
       "      <td>0.010000</td>\n",
       "      <td>71.000000</td>\n",
       "    </tr>\n",
       "    <tr>\n",
       "      <th>75%</th>\n",
       "      <td>2010.000000</td>\n",
       "      <td>0.240000</td>\n",
       "      <td>0.110000</td>\n",
       "      <td>0.040000</td>\n",
       "      <td>0.030000</td>\n",
       "      <td>79.000000</td>\n",
       "    </tr>\n",
       "    <tr>\n",
       "      <th>max</th>\n",
       "      <td>2016.000000</td>\n",
       "      <td>41.360000</td>\n",
       "      <td>28.960000</td>\n",
       "      <td>10.220000</td>\n",
       "      <td>10.570000</td>\n",
       "      <td>98.000000</td>\n",
       "    </tr>\n",
       "  </tbody>\n",
       "</table>\n",
       "</div>"
      ],
      "text/plain": [
       "       Year_of_Release      NA_sales      EU_sales      JP_sales  \\\n",
       "count     16446.000000  16715.000000  16715.000000  16715.000000   \n",
       "mean       2006.484616      0.263377      0.145060      0.077617   \n",
       "std           5.877050      0.813604      0.503339      0.308853   \n",
       "min        1980.000000      0.000000      0.000000      0.000000   \n",
       "25%        2003.000000      0.000000      0.000000      0.000000   \n",
       "50%        2007.000000      0.080000      0.020000      0.000000   \n",
       "75%        2010.000000      0.240000      0.110000      0.040000   \n",
       "max        2016.000000     41.360000     28.960000     10.220000   \n",
       "\n",
       "        Other_sales  Critic_Score  \n",
       "count  16715.000000   8137.000000  \n",
       "mean       0.047342     68.967679  \n",
       "std        0.186731     13.938165  \n",
       "min        0.000000     13.000000  \n",
       "25%        0.000000     60.000000  \n",
       "50%        0.010000     71.000000  \n",
       "75%        0.030000     79.000000  \n",
       "max       10.570000     98.000000  "
      ]
     },
     "execution_count": 4,
     "metadata": {},
     "output_type": "execute_result"
    }
   ],
   "source": [
    "games.describe()"
   ]
  },
  {
   "cell_type": "code",
   "execution_count": 5,
   "metadata": {},
   "outputs": [
    {
     "name": "stdout",
     "output_type": "stream",
     "text": [
      "<class 'pandas.core.frame.DataFrame'>\n",
      "RangeIndex: 16715 entries, 0 to 16714\n",
      "Data columns (total 11 columns):\n",
      " #   Column           Non-Null Count  Dtype  \n",
      "---  ------           --------------  -----  \n",
      " 0   Name             16713 non-null  object \n",
      " 1   Platform         16715 non-null  object \n",
      " 2   Year_of_Release  16446 non-null  float64\n",
      " 3   Genre            16713 non-null  object \n",
      " 4   NA_sales         16715 non-null  float64\n",
      " 5   EU_sales         16715 non-null  float64\n",
      " 6   JP_sales         16715 non-null  float64\n",
      " 7   Other_sales      16715 non-null  float64\n",
      " 8   Critic_Score     8137 non-null   float64\n",
      " 9   User_Score       10014 non-null  object \n",
      " 10  Rating           9949 non-null   object \n",
      "dtypes: float64(6), object(5)\n",
      "memory usage: 1.4+ MB\n"
     ]
    }
   ],
   "source": [
    "games.info()"
   ]
  },
  {
   "cell_type": "markdown",
   "metadata": {},
   "source": [
    "Данные имеют пропуски в столбцах Name, Year_of_Release, Genre, Critic_Score, User_Score, Rating. <br />\n",
    "Также имеется неверный тип данных у столбца Year_of_Release"
   ]
  },
  {
   "cell_type": "markdown",
   "metadata": {},
   "source": [
    "## Преодобработка данных"
   ]
  },
  {
   "cell_type": "markdown",
   "metadata": {},
   "source": [
    "### Изменение название столбцов"
   ]
  },
  {
   "cell_type": "code",
   "execution_count": 6,
   "metadata": {},
   "outputs": [
    {
     "name": "stdout",
     "output_type": "stream",
     "text": [
      "<class 'pandas.core.frame.DataFrame'>\n",
      "RangeIndex: 16715 entries, 0 to 16714\n",
      "Data columns (total 11 columns):\n",
      " #   Column           Non-Null Count  Dtype  \n",
      "---  ------           --------------  -----  \n",
      " 0   name             16713 non-null  object \n",
      " 1   platform         16715 non-null  object \n",
      " 2   year_of_release  16446 non-null  float64\n",
      " 3   genre            16713 non-null  object \n",
      " 4   na_sales         16715 non-null  float64\n",
      " 5   eu_sales         16715 non-null  float64\n",
      " 6   jp_sales         16715 non-null  float64\n",
      " 7   other_sales      16715 non-null  float64\n",
      " 8   critic_score     8137 non-null   float64\n",
      " 9   user_score       10014 non-null  object \n",
      " 10  rating           9949 non-null   object \n",
      "dtypes: float64(6), object(5)\n",
      "memory usage: 1.4+ MB\n"
     ]
    }
   ],
   "source": [
    "games.columns = [column.lower() for column in games.columns]\n",
    "games.info()"
   ]
  },
  {
   "cell_type": "markdown",
   "metadata": {},
   "source": [
    "### Изменения типа данных"
   ]
  },
  {
   "cell_type": "code",
   "execution_count": 7,
   "metadata": {},
   "outputs": [
    {
     "data": {
      "text/plain": [
       "array([76., nan, 82., 80., 89., 58., 87., 91., 61., 97., 95., 77., 88.,\n",
       "       83., 94., 93., 85., 86., 98., 96., 90., 84., 73., 74., 78., 92.,\n",
       "       71., 72., 68., 62., 49., 67., 81., 66., 56., 79., 70., 59., 64.,\n",
       "       75., 60., 63., 69., 50., 25., 42., 44., 55., 48., 57., 29., 47.,\n",
       "       65., 54., 20., 53., 37., 38., 33., 52., 30., 32., 43., 45., 51.,\n",
       "       40., 46., 39., 34., 35., 41., 36., 28., 31., 27., 26., 19., 23.,\n",
       "       24., 21., 17., 22., 13.])"
      ]
     },
     "execution_count": 7,
     "metadata": {},
     "output_type": "execute_result"
    }
   ],
   "source": [
    "games['critic_score'].unique()"
   ]
  },
  {
   "cell_type": "code",
   "execution_count": 8,
   "metadata": {},
   "outputs": [
    {
     "data": {
      "text/plain": [
       "array(['8', nan, '8.3', '8.5', '6.6', '8.4', '8.6', '7.7', '6.3', '7.4',\n",
       "       '8.2', '9', '7.9', '8.1', '8.7', '7.1', '3.4', '5.3', '4.8', '3.2',\n",
       "       '8.9', '6.4', '7.8', '7.5', '2.6', '7.2', '9.2', '7', '7.3', '4.3',\n",
       "       '7.6', '5.7', '5', '9.1', '6.5', 'tbd', '8.8', '6.9', '9.4', '6.8',\n",
       "       '6.1', '6.7', '5.4', '4', '4.9', '4.5', '9.3', '6.2', '4.2', '6',\n",
       "       '3.7', '4.1', '5.8', '5.6', '5.5', '4.4', '4.6', '5.9', '3.9',\n",
       "       '3.1', '2.9', '5.2', '3.3', '4.7', '5.1', '3.5', '2.5', '1.9', '3',\n",
       "       '2.7', '2.2', '2', '9.5', '2.1', '3.6', '2.8', '1.8', '3.8', '0',\n",
       "       '1.6', '9.6', '2.4', '1.7', '1.1', '0.3', '1.5', '0.7', '1.2',\n",
       "       '2.3', '0.5', '1.3', '0.2', '0.6', '1.4', '0.9', '1', '9.7'],\n",
       "      dtype=object)"
      ]
     },
     "execution_count": 8,
     "metadata": {},
     "output_type": "execute_result"
    }
   ],
   "source": [
    "games['user_score'].unique()"
   ]
  },
  {
   "cell_type": "markdown",
   "metadata": {},
   "source": [
    "Год должен быть целым числом. Оценка критиков и пользователей включает пропущенные значения и tbd, который просто означает, что оценки ещё нет, поэтому заменить его nan будет оптимально."
   ]
  },
  {
   "cell_type": "code",
   "execution_count": 9,
   "metadata": {
    "scrolled": true
   },
   "outputs": [
    {
     "name": "stdout",
     "output_type": "stream",
     "text": [
      "<class 'pandas.core.frame.DataFrame'>\n",
      "RangeIndex: 16715 entries, 0 to 16714\n",
      "Data columns (total 11 columns):\n",
      " #   Column           Non-Null Count  Dtype  \n",
      "---  ------           --------------  -----  \n",
      " 0   name             16713 non-null  object \n",
      " 1   platform         16715 non-null  object \n",
      " 2   year_of_release  16446 non-null  float64\n",
      " 3   genre            16713 non-null  object \n",
      " 4   na_sales         16715 non-null  float64\n",
      " 5   eu_sales         16715 non-null  float64\n",
      " 6   jp_sales         16715 non-null  float64\n",
      " 7   other_sales      16715 non-null  float64\n",
      " 8   critic_score     8137 non-null   float64\n",
      " 9   user_score       10014 non-null  object \n",
      " 10  rating           9949 non-null   object \n",
      "dtypes: float64(6), object(5)\n",
      "memory usage: 1.4+ MB\n"
     ]
    }
   ],
   "source": [
    "games.drop_duplicates()\n",
    "games.info()"
   ]
  },
  {
   "cell_type": "markdown",
   "metadata": {},
   "source": [
    "Сначала избавимся от полных дубликатов."
   ]
  },
  {
   "cell_type": "code",
   "execution_count": 10,
   "metadata": {},
   "outputs": [],
   "source": [
    "# пропущенные значения бары\n",
    "\n",
    "def pass_value_barh(df):\n",
    "    try:\n",
    "        (\n",
    "            (df.isna().mean()*100)\n",
    "            .to_frame()\n",
    "            .rename(columns = {0:'space'})\n",
    "            .query('space > 0')\n",
    "            .sort_values(by = 'space', ascending = True)\n",
    "            .plot(kind = 'barh', figsize = (19,10), rot = -5, legend = False, fontsize = 16, grid=True)\n",
    "            .set_title('Пример' + \"\\n\", fontsize = 22, color = 'SteelBlue')    \n",
    "        );    \n",
    "    except:\n",
    "        print('пропусков не осталось :) или произошла ошибка в первой части функции ')"
   ]
  },
  {
   "cell_type": "code",
   "execution_count": 11,
   "metadata": {},
   "outputs": [
    {
     "data": {
      "image/png": "[encoded data removed]",
      "text/plain": [
       "<Figure size 1368x720 with 1 Axes>"
      ]
     },
     "metadata": {
      "needs_background": "light"
     },
     "output_type": "display_data"
    }
   ],
   "source": [
    "pass_value_barh(games)"
   ]
  },
  {
   "cell_type": "markdown",
   "metadata": {},
   "source": [
    "Для анализа важен год выпуска игры, при этом количество пропущенных значений не так велико,  можем смело избавиться от них, после чего сможем перевести год к типу int."
   ]
  },
  {
   "cell_type": "code",
   "execution_count": 12,
   "metadata": {},
   "outputs": [
    {
     "name": "stdout",
     "output_type": "stream",
     "text": [
      "<class 'pandas.core.frame.DataFrame'>\n",
      "Int64Index: 16446 entries, 0 to 16714\n",
      "Data columns (total 11 columns):\n",
      " #   Column           Non-Null Count  Dtype  \n",
      "---  ------           --------------  -----  \n",
      " 0   name             16444 non-null  object \n",
      " 1   platform         16446 non-null  object \n",
      " 2   year_of_release  16446 non-null  int16  \n",
      " 3   genre            16444 non-null  object \n",
      " 4   na_sales         16446 non-null  float64\n",
      " 5   eu_sales         16446 non-null  float64\n",
      " 6   jp_sales         16446 non-null  float64\n",
      " 7   other_sales      16446 non-null  float64\n",
      " 8   critic_score     7983 non-null   float64\n",
      " 9   user_score       9839 non-null   object \n",
      " 10  rating           9768 non-null   object \n",
      "dtypes: float64(5), int16(1), object(5)\n",
      "memory usage: 1.4+ MB\n"
     ]
    }
   ],
   "source": [
    "games.drop(games[games['year_of_release'].isna()].index,inplace=True)\n",
    "games['year_of_release'] = pd.to_numeric(games['year_of_release'], downcast='integer')\n",
    "games.info()"
   ]
  },
  {
   "cell_type": "code",
   "execution_count": 13,
   "metadata": {},
   "outputs": [
    {
     "data": {
      "text/plain": [
       "array(['8', nan, '8.3', '8.5', '6.6', '8.4', '8.6', '7.7', '6.3', '7.4',\n",
       "       '8.2', '9', '7.9', '8.1', '8.7', '7.1', '3.4', '5.3', '4.8', '3.2',\n",
       "       '8.9', '6.4', '7.8', '7.5', '2.6', '7.2', '9.2', '7', '7.3', '4.3',\n",
       "       '7.6', '5.7', '5', '9.1', '6.5', 'tbd', '8.8', '6.9', '9.4', '6.8',\n",
       "       '6.1', '6.7', '5.4', '4', '4.9', '4.5', '9.3', '6.2', '4.2', '6',\n",
       "       '3.7', '4.1', '5.8', '5.6', '5.5', '4.4', '4.6', '5.9', '3.9',\n",
       "       '3.1', '2.9', '5.2', '3.3', '4.7', '5.1', '3.5', '2.5', '1.9', '3',\n",
       "       '2.7', '2.2', '2', '9.5', '2.1', '3.6', '2.8', '1.8', '3.8', '0',\n",
       "       '1.6', '9.6', '2.4', '1.7', '1.1', '0.3', '1.5', '0.7', '1.2',\n",
       "       '2.3', '0.5', '1.3', '0.2', '0.6', '1.4', '0.9', '1', '9.7'],\n",
       "      dtype=object)"
      ]
     },
     "execution_count": 13,
     "metadata": {},
     "output_type": "execute_result"
    }
   ],
   "source": [
    "games['user_score'].unique()"
   ]
  },
  {
   "cell_type": "code",
   "execution_count": 14,
   "metadata": {},
   "outputs": [
    {
     "name": "stdout",
     "output_type": "stream",
     "text": [
      "<class 'pandas.core.frame.DataFrame'>\n",
      "Int64Index: 16446 entries, 0 to 16714\n",
      "Data columns (total 11 columns):\n",
      " #   Column           Non-Null Count  Dtype  \n",
      "---  ------           --------------  -----  \n",
      " 0   name             16444 non-null  object \n",
      " 1   platform         16446 non-null  object \n",
      " 2   year_of_release  16446 non-null  int16  \n",
      " 3   genre            16444 non-null  object \n",
      " 4   na_sales         16446 non-null  float64\n",
      " 5   eu_sales         16446 non-null  float64\n",
      " 6   jp_sales         16446 non-null  float64\n",
      " 7   other_sales      16446 non-null  float64\n",
      " 8   critic_score     7983 non-null   float32\n",
      " 9   user_score       7463 non-null   float32\n",
      " 10  rating           9768 non-null   object \n",
      "dtypes: float32(2), float64(4), int16(1), object(4)\n",
      "memory usage: 1.3+ MB\n"
     ]
    }
   ],
   "source": [
    "games['critic_score'] = pd.to_numeric(games['critic_score'], downcast='float')\n",
    "games['user_score'] = pd.to_numeric(games['user_score'], downcast='float', errors ='coerce')\n",
    "games.info()"
   ]
  },
  {
   "cell_type": "markdown",
   "metadata": {},
   "source": [
    "По-хорошему было бы установить оценке критиков тип int, так как там целые числа, но нам не дают это сделать nan. Также нецелесообразно заполнять nan какими-либо значениями, так как оценки могло ещё просто не быть, и оценка не зависит от жанра, года выпуска или любого другого параметра, только от самой игры. Оставим пропуски в critic_score, user_score и rating. "
   ]
  },
  {
   "cell_type": "code",
   "execution_count": 15,
   "metadata": {},
   "outputs": [
    {
     "data": {
      "text/html": [
       "<div>\n",
       "<style scoped>\n",
       "    .dataframe tbody tr th:only-of-type {\n",
       "        vertical-align: middle;\n",
       "    }\n",
       "\n",
       "    .dataframe tbody tr th {\n",
       "        vertical-align: top;\n",
       "    }\n",
       "\n",
       "    .dataframe thead th {\n",
       "        text-align: right;\n",
       "    }\n",
       "</style>\n",
       "<table border=\"1\" class=\"dataframe\">\n",
       "  <thead>\n",
       "    <tr style=\"text-align: right;\">\n",
       "      <th></th>\n",
       "      <th>name</th>\n",
       "      <th>platform</th>\n",
       "      <th>year_of_release</th>\n",
       "      <th>genre</th>\n",
       "      <th>na_sales</th>\n",
       "      <th>eu_sales</th>\n",
       "      <th>jp_sales</th>\n",
       "      <th>other_sales</th>\n",
       "      <th>critic_score</th>\n",
       "      <th>user_score</th>\n",
       "      <th>rating</th>\n",
       "    </tr>\n",
       "  </thead>\n",
       "  <tbody>\n",
       "    <tr>\n",
       "      <th>659</th>\n",
       "      <td>NaN</td>\n",
       "      <td>GEN</td>\n",
       "      <td>1993</td>\n",
       "      <td>NaN</td>\n",
       "      <td>1.78</td>\n",
       "      <td>0.53</td>\n",
       "      <td>0.00</td>\n",
       "      <td>0.08</td>\n",
       "      <td>NaN</td>\n",
       "      <td>NaN</td>\n",
       "      <td>NaN</td>\n",
       "    </tr>\n",
       "    <tr>\n",
       "      <th>14244</th>\n",
       "      <td>NaN</td>\n",
       "      <td>GEN</td>\n",
       "      <td>1993</td>\n",
       "      <td>NaN</td>\n",
       "      <td>0.00</td>\n",
       "      <td>0.00</td>\n",
       "      <td>0.03</td>\n",
       "      <td>0.00</td>\n",
       "      <td>NaN</td>\n",
       "      <td>NaN</td>\n",
       "      <td>NaN</td>\n",
       "    </tr>\n",
       "  </tbody>\n",
       "</table>\n",
       "</div>"
      ],
      "text/plain": [
       "      name platform  year_of_release genre  na_sales  eu_sales  jp_sales  \\\n",
       "659    NaN      GEN             1993   NaN      1.78      0.53      0.00   \n",
       "14244  NaN      GEN             1993   NaN      0.00      0.00      0.03   \n",
       "\n",
       "       other_sales  critic_score  user_score rating  \n",
       "659           0.08           NaN         NaN    NaN  \n",
       "14244         0.00           NaN         NaN    NaN  "
      ]
     },
     "execution_count": 15,
     "metadata": {},
     "output_type": "execute_result"
    }
   ],
   "source": [
    "games[games['name'].isna()]"
   ]
  },
  {
   "cell_type": "markdown",
   "metadata": {},
   "source": [
    "Вряд ли нас заинтересуют игры за 1993 год, да и их всего две, поэтому смело удаляем."
   ]
  },
  {
   "cell_type": "code",
   "execution_count": 16,
   "metadata": {},
   "outputs": [
    {
     "name": "stdout",
     "output_type": "stream",
     "text": [
      "<class 'pandas.core.frame.DataFrame'>\n",
      "Int64Index: 16444 entries, 0 to 16714\n",
      "Data columns (total 11 columns):\n",
      " #   Column           Non-Null Count  Dtype  \n",
      "---  ------           --------------  -----  \n",
      " 0   name             16444 non-null  object \n",
      " 1   platform         16444 non-null  object \n",
      " 2   year_of_release  16444 non-null  int16  \n",
      " 3   genre            16444 non-null  object \n",
      " 4   na_sales         16444 non-null  float64\n",
      " 5   eu_sales         16444 non-null  float64\n",
      " 6   jp_sales         16444 non-null  float64\n",
      " 7   other_sales      16444 non-null  float64\n",
      " 8   critic_score     7983 non-null   float32\n",
      " 9   user_score       7463 non-null   float32\n",
      " 10  rating           9768 non-null   object \n",
      "dtypes: float32(2), float64(4), int16(1), object(4)\n",
      "memory usage: 1.3+ MB\n"
     ]
    }
   ],
   "source": [
    "games.drop([659, 14244],inplace=True)\n",
    "games.info()"
   ]
  },
  {
   "cell_type": "code",
   "execution_count": 17,
   "metadata": {},
   "outputs": [
    {
     "data": {
      "image/png": "[encoded data removed]",
      "text/plain": [
       "<Figure size 1368x720 with 1 Axes>"
      ]
     },
     "metadata": {
      "needs_background": "light"
     },
     "output_type": "display_data"
    }
   ],
   "source": [
    "pass_value_barh(games)"
   ]
  },
  {
   "cell_type": "code",
   "execution_count": 18,
   "metadata": {},
   "outputs": [
    {
     "data": {
      "text/plain": [
       "array(['E', 'unknown', 'M', 'T', 'E10+', 'K-A', 'AO', 'EC', 'RP'],\n",
       "      dtype=object)"
      ]
     },
     "execution_count": 18,
     "metadata": {},
     "output_type": "execute_result"
    }
   ],
   "source": [
    "games['rating'] = games['rating'].fillna('unknown')\n",
    "games['rating'].unique()"
   ]
  },
  {
   "cell_type": "markdown",
   "metadata": {},
   "source": [
    "Данные обработаны, переходим к следующему этапу."
   ]
  },
  {
   "cell_type": "markdown",
   "metadata": {},
   "source": [
    "### Создание столбца с суммарными продажами во всех регионах"
   ]
  },
  {
   "cell_type": "code",
   "execution_count": 19,
   "metadata": {},
   "outputs": [
    {
     "data": {
      "text/html": [
       "<div>\n",
       "<style scoped>\n",
       "    .dataframe tbody tr th:only-of-type {\n",
       "        vertical-align: middle;\n",
       "    }\n",
       "\n",
       "    .dataframe tbody tr th {\n",
       "        vertical-align: top;\n",
       "    }\n",
       "\n",
       "    .dataframe thead th {\n",
       "        text-align: right;\n",
       "    }\n",
       "</style>\n",
       "<table border=\"1\" class=\"dataframe\">\n",
       "  <thead>\n",
       "    <tr style=\"text-align: right;\">\n",
       "      <th></th>\n",
       "      <th>name</th>\n",
       "      <th>platform</th>\n",
       "      <th>year_of_release</th>\n",
       "      <th>genre</th>\n",
       "      <th>na_sales</th>\n",
       "      <th>eu_sales</th>\n",
       "      <th>jp_sales</th>\n",
       "      <th>other_sales</th>\n",
       "      <th>critic_score</th>\n",
       "      <th>user_score</th>\n",
       "      <th>rating</th>\n",
       "      <th>total_sales</th>\n",
       "    </tr>\n",
       "  </thead>\n",
       "  <tbody>\n",
       "    <tr>\n",
       "      <th>0</th>\n",
       "      <td>Wii Sports</td>\n",
       "      <td>Wii</td>\n",
       "      <td>2006</td>\n",
       "      <td>Sports</td>\n",
       "      <td>41.36</td>\n",
       "      <td>28.96</td>\n",
       "      <td>3.77</td>\n",
       "      <td>8.45</td>\n",
       "      <td>76.0</td>\n",
       "      <td>8.0</td>\n",
       "      <td>E</td>\n",
       "      <td>82.54</td>\n",
       "    </tr>\n",
       "    <tr>\n",
       "      <th>1</th>\n",
       "      <td>Super Mario Bros.</td>\n",
       "      <td>NES</td>\n",
       "      <td>1985</td>\n",
       "      <td>Platform</td>\n",
       "      <td>29.08</td>\n",
       "      <td>3.58</td>\n",
       "      <td>6.81</td>\n",
       "      <td>0.77</td>\n",
       "      <td>NaN</td>\n",
       "      <td>NaN</td>\n",
       "      <td>unknown</td>\n",
       "      <td>40.24</td>\n",
       "    </tr>\n",
       "    <tr>\n",
       "      <th>2</th>\n",
       "      <td>Mario Kart Wii</td>\n",
       "      <td>Wii</td>\n",
       "      <td>2008</td>\n",
       "      <td>Racing</td>\n",
       "      <td>15.68</td>\n",
       "      <td>12.76</td>\n",
       "      <td>3.79</td>\n",
       "      <td>3.29</td>\n",
       "      <td>82.0</td>\n",
       "      <td>8.3</td>\n",
       "      <td>E</td>\n",
       "      <td>35.52</td>\n",
       "    </tr>\n",
       "    <tr>\n",
       "      <th>3</th>\n",
       "      <td>Wii Sports Resort</td>\n",
       "      <td>Wii</td>\n",
       "      <td>2009</td>\n",
       "      <td>Sports</td>\n",
       "      <td>15.61</td>\n",
       "      <td>10.93</td>\n",
       "      <td>3.28</td>\n",
       "      <td>2.95</td>\n",
       "      <td>80.0</td>\n",
       "      <td>8.0</td>\n",
       "      <td>E</td>\n",
       "      <td>32.77</td>\n",
       "    </tr>\n",
       "    <tr>\n",
       "      <th>4</th>\n",
       "      <td>Pokemon Red/Pokemon Blue</td>\n",
       "      <td>GB</td>\n",
       "      <td>1996</td>\n",
       "      <td>Role-Playing</td>\n",
       "      <td>11.27</td>\n",
       "      <td>8.89</td>\n",
       "      <td>10.22</td>\n",
       "      <td>1.00</td>\n",
       "      <td>NaN</td>\n",
       "      <td>NaN</td>\n",
       "      <td>unknown</td>\n",
       "      <td>31.38</td>\n",
       "    </tr>\n",
       "  </tbody>\n",
       "</table>\n",
       "</div>"
      ],
      "text/plain": [
       "                       name platform  year_of_release         genre  na_sales  \\\n",
       "0                Wii Sports      Wii             2006        Sports     41.36   \n",
       "1         Super Mario Bros.      NES             1985      Platform     29.08   \n",
       "2            Mario Kart Wii      Wii             2008        Racing     15.68   \n",
       "3         Wii Sports Resort      Wii             2009        Sports     15.61   \n",
       "4  Pokemon Red/Pokemon Blue       GB             1996  Role-Playing     11.27   \n",
       "\n",
       "   eu_sales  jp_sales  other_sales  critic_score  user_score   rating  \\\n",
       "0     28.96      3.77         8.45          76.0         8.0        E   \n",
       "1      3.58      6.81         0.77           NaN         NaN  unknown   \n",
       "2     12.76      3.79         3.29          82.0         8.3        E   \n",
       "3     10.93      3.28         2.95          80.0         8.0        E   \n",
       "4      8.89     10.22         1.00           NaN         NaN  unknown   \n",
       "\n",
       "   total_sales  \n",
       "0        82.54  \n",
       "1        40.24  \n",
       "2        35.52  \n",
       "3        32.77  \n",
       "4        31.38  "
      ]
     },
     "execution_count": 19,
     "metadata": {},
     "output_type": "execute_result"
    }
   ],
   "source": [
    "games['total_sales'] = games['na_sales'] + games['eu_sales'] + games['jp_sales'] + games['other_sales']\n",
    "games.head()"
   ]
  },
  {
   "cell_type": "markdown",
   "metadata": {},
   "source": [
    "Все необходимые преобразования выполнены, можно приступать к анализу."
   ]
  },
  {
   "cell_type": "markdown",
   "metadata": {},
   "source": [
    "## Исследовательский анализ данных"
   ]
  },
  {
   "cell_type": "markdown",
   "metadata": {},
   "source": [
    "### Сколько игр выпускалось в разные годы. Важны ли данные за все периоды?"
   ]
  },
  {
   "cell_type": "code",
   "execution_count": 20,
   "metadata": {},
   "outputs": [
    {
     "data": {
      "image/png": "[encoded data removed]",
      "text/plain": [
       "<Figure size 1080x360 with 1 Axes>"
      ]
     },
     "metadata": {
      "needs_background": "light"
     },
     "output_type": "display_data"
    }
   ],
   "source": [
    "year_of_release = pd.pivot_table(games, index='year_of_release', values='name', aggfunc='count')\n",
    "year_of_release.columns = ['count']\n",
    "year_of_release.plot(kind='bar', figsize=(15,5), title = 'Количество игр по году выпуска').set(xlabel='Год выпуска', ylabel='Количество игр');"
   ]
  },
  {
   "cell_type": "markdown",
   "metadata": {},
   "source": [
    "<b>Вывод: </b> данные за все периоды не важны. С 1980 по 1994 выпускалось очень мало игр (меньше 200). Заметно значительное увеличение количества игр в 1995 и 2002 годах (примерно в 2 раза по сравнению с предыдущим)."
   ]
  },
  {
   "cell_type": "markdown",
   "metadata": {},
   "source": [
    "### Как менялись продажи по платформам. Платформы с наибольшими суммарными продажами и постройте распределение по годам. За какой характерный срок появляются новые и исчезают старые платформы?"
   ]
  },
  {
   "cell_type": "code",
   "execution_count": 21,
   "metadata": {},
   "outputs": [
    {
     "data": {
      "image/png": "[encoded data removed]",
      "text/plain": [
       "<Figure size 1080x720 with 1 Axes>"
      ]
     },
     "metadata": {
      "needs_background": "light"
     },
     "output_type": "display_data"
    }
   ],
   "source": [
    "platform_sales = pd.pivot_table(games, index='platform', values='total_sales', aggfunc='sum').sort_values('total_sales')\n",
    "platform_sales.columns = ['sum']\n",
    "platform_sales.plot(kind='barh', figsize=(15,10), title = 'Продажи игр по платформам').set(xlabel='Год выпуска', ylabel='Платформы');\n"
   ]
  },
  {
   "cell_type": "code",
   "execution_count": 22,
   "metadata": {},
   "outputs": [
    {
     "data": {
      "text/plain": [
       "['PS2', 'X360', 'PS3', 'Wii', 'DS', 'PS']"
      ]
     },
     "execution_count": 22,
     "metadata": {},
     "output_type": "execute_result"
    }
   ],
   "source": [
    "platform_sales = platform_sales.sort_values('sum', ascending=False)\n",
    "best_platform = list(platform_sales.index[:6])\n",
    "best_platform"
   ]
  },
  {
   "cell_type": "code",
   "execution_count": 23,
   "metadata": {},
   "outputs": [
    {
     "name": "stdout",
     "output_type": "stream",
     "text": [
      "                          total_sales\n",
      "platform year_of_release             \n",
      "PS2      2000                   39.17\n",
      "         2001                  166.43\n",
      "         2002                  205.38\n",
      "         2003                  184.31\n",
      "         2004                  211.81\n",
      "         2005                  160.66\n",
      "         2006                  103.42\n",
      "         2007                   75.99\n",
      "         2008                   53.90\n",
      "         2009                   26.40\n",
      "         2010                    5.64\n",
      "         2011                    0.45\n",
      "                          total_sales\n",
      "platform year_of_release             \n",
      "X360     2005                    8.25\n",
      "         2006                   51.62\n",
      "         2007                   95.41\n",
      "         2008                  135.26\n",
      "         2009                  120.29\n",
      "         2010                  170.03\n",
      "         2011                  143.84\n",
      "         2012                   99.74\n",
      "         2013                   88.58\n",
      "         2014                   34.74\n",
      "         2015                   11.96\n",
      "         2016                    1.52\n",
      "                          total_sales\n",
      "platform year_of_release             \n",
      "PS3      2006                   20.96\n",
      "         2007                   73.19\n",
      "         2008                  118.52\n",
      "         2009                  130.93\n",
      "         2010                  142.17\n",
      "         2011                  156.78\n",
      "         2012                  107.36\n",
      "         2013                  113.25\n",
      "         2014                   47.76\n",
      "         2015                   16.82\n",
      "         2016                    3.60\n",
      "                          total_sales\n",
      "platform year_of_release             \n",
      "Wii      2006                  137.15\n",
      "         2007                  152.77\n",
      "         2008                  171.32\n",
      "         2009                  206.97\n",
      "         2010                  127.95\n",
      "         2011                   59.65\n",
      "         2012                   21.71\n",
      "         2013                    8.59\n",
      "         2014                    3.75\n",
      "         2015                    1.14\n",
      "         2016                    0.18\n",
      "                          total_sales\n",
      "platform year_of_release             \n",
      "DS       1985                    0.02\n",
      "         2004                   17.27\n",
      "         2005                  130.14\n",
      "         2006                  119.81\n",
      "         2007                  146.94\n",
      "         2008                  145.31\n",
      "         2009                  119.54\n",
      "         2010                   85.02\n",
      "         2011                   26.18\n",
      "         2012                   11.01\n",
      "         2013                    1.54\n",
      "                          total_sales\n",
      "platform year_of_release             \n",
      "PS       1994                    6.03\n",
      "         1995                   35.96\n",
      "         1996                   94.70\n",
      "         1997                  136.17\n",
      "         1998                  169.49\n",
      "         1999                  144.53\n",
      "         2000                   96.37\n",
      "         2001                   35.59\n",
      "         2002                    6.67\n",
      "         2003                    2.07\n"
     ]
    }
   ],
   "source": [
    "for platform in best_platform:\n",
    "    platform_sales = pd.pivot_table(games.query('platform == @platform'), index=['platform','year_of_release'], values='total_sales', aggfunc='sum')\n",
    "    print(platform_sales)"
   ]
  },
  {
   "cell_type": "markdown",
   "metadata": {},
   "source": [
    "<b>Вывод: </b> популярные платформы появляются и исчезают примерно за 10-12 лет. Особенно хорошо это заметно на примере PS, новые платформы у которых регулярно выпускаются."
   ]
  },
  {
   "cell_type": "markdown",
   "metadata": {},
   "source": [
    "### Определение актуального периода"
   ]
  },
  {
   "cell_type": "markdown",
   "metadata": {},
   "source": [
    "Стоит взять период с 2012 по 2016, так как в этом периоде есть данные по всем популярным консолям на данный момент."
   ]
  },
  {
   "cell_type": "code",
   "execution_count": 24,
   "metadata": {},
   "outputs": [
    {
     "name": "stdout",
     "output_type": "stream",
     "text": [
      "<class 'pandas.core.frame.DataFrame'>\n",
      "Int64Index: 2886 entries, 16 to 16714\n",
      "Data columns (total 12 columns):\n",
      " #   Column           Non-Null Count  Dtype  \n",
      "---  ------           --------------  -----  \n",
      " 0   name             2886 non-null   object \n",
      " 1   platform         2886 non-null   object \n",
      " 2   year_of_release  2886 non-null   int16  \n",
      " 3   genre            2886 non-null   object \n",
      " 4   na_sales         2886 non-null   float64\n",
      " 5   eu_sales         2886 non-null   float64\n",
      " 6   jp_sales         2886 non-null   float64\n",
      " 7   other_sales      2886 non-null   float64\n",
      " 8   critic_score     1312 non-null   float32\n",
      " 9   user_score       1531 non-null   float32\n",
      " 10  rating           2886 non-null   object \n",
      " 11  total_sales      2886 non-null   float64\n",
      "dtypes: float32(2), float64(5), int16(1), object(4)\n",
      "memory usage: 253.7+ KB\n"
     ]
    }
   ],
   "source": [
    "actual_games = games.query('year_of_release > 2011')\n",
    "actual_games.info()"
   ]
  },
  {
   "cell_type": "markdown",
   "metadata": {},
   "source": [
    "### Топ-5 прибыльных платформ."
   ]
  },
  {
   "cell_type": "code",
   "execution_count": 25,
   "metadata": {
    "scrolled": false
   },
   "outputs": [
    {
     "data": {
      "text/html": [
       "<div>\n",
       "<style scoped>\n",
       "    .dataframe tbody tr th:only-of-type {\n",
       "        vertical-align: middle;\n",
       "    }\n",
       "\n",
       "    .dataframe tbody tr th {\n",
       "        vertical-align: top;\n",
       "    }\n",
       "\n",
       "    .dataframe thead th {\n",
       "        text-align: right;\n",
       "    }\n",
       "</style>\n",
       "<table border=\"1\" class=\"dataframe\">\n",
       "  <thead>\n",
       "    <tr style=\"text-align: right;\">\n",
       "      <th></th>\n",
       "      <th>total_sales</th>\n",
       "    </tr>\n",
       "    <tr>\n",
       "      <th>platform</th>\n",
       "      <th></th>\n",
       "    </tr>\n",
       "  </thead>\n",
       "  <tbody>\n",
       "    <tr>\n",
       "      <th>PS4</th>\n",
       "      <td>314.14</td>\n",
       "    </tr>\n",
       "    <tr>\n",
       "      <th>PS3</th>\n",
       "      <td>288.79</td>\n",
       "    </tr>\n",
       "    <tr>\n",
       "      <th>X360</th>\n",
       "      <td>236.54</td>\n",
       "    </tr>\n",
       "    <tr>\n",
       "      <th>3DS</th>\n",
       "      <td>194.61</td>\n",
       "    </tr>\n",
       "    <tr>\n",
       "      <th>XOne</th>\n",
       "      <td>159.32</td>\n",
       "    </tr>\n",
       "    <tr>\n",
       "      <th>WiiU</th>\n",
       "      <td>82.19</td>\n",
       "    </tr>\n",
       "    <tr>\n",
       "      <th>PC</th>\n",
       "      <td>62.65</td>\n",
       "    </tr>\n",
       "    <tr>\n",
       "      <th>PSV</th>\n",
       "      <td>49.18</td>\n",
       "    </tr>\n",
       "    <tr>\n",
       "      <th>Wii</th>\n",
       "      <td>35.37</td>\n",
       "    </tr>\n",
       "    <tr>\n",
       "      <th>DS</th>\n",
       "      <td>12.55</td>\n",
       "    </tr>\n",
       "    <tr>\n",
       "      <th>PSP</th>\n",
       "      <td>11.19</td>\n",
       "    </tr>\n",
       "  </tbody>\n",
       "</table>\n",
       "</div>"
      ],
      "text/plain": [
       "          total_sales\n",
       "platform             \n",
       "PS4            314.14\n",
       "PS3            288.79\n",
       "X360           236.54\n",
       "3DS            194.61\n",
       "XOne           159.32\n",
       "WiiU            82.19\n",
       "PC              62.65\n",
       "PSV             49.18\n",
       "Wii             35.37\n",
       "DS              12.55\n",
       "PSP             11.19"
      ]
     },
     "execution_count": 25,
     "metadata": {},
     "output_type": "execute_result"
    }
   ],
   "source": [
    "pd.set_option('display.max_rows', None)\n",
    "actual_games_sales = pd.pivot_table(actual_games, index='platform', values='total_sales', aggfunc = 'sum').sort_values('total_sales', ascending=False)\n",
    "actual_games_sales"
   ]
  },
  {
   "cell_type": "code",
   "execution_count": 26,
   "metadata": {},
   "outputs": [
    {
     "data": {
      "text/plain": [
       "['PS4', 'PS3', 'X360', '3DS', 'XOne']"
      ]
     },
     "execution_count": 26,
     "metadata": {},
     "output_type": "execute_result"
    }
   ],
   "source": [
    "best_actual_platform = list(actual_games_sales.index[:5])\n",
    "best_actual_platform"
   ]
  },
  {
   "cell_type": "code",
   "execution_count": 27,
   "metadata": {
    "scrolled": false
   },
   "outputs": [
    {
     "data": {
      "image/png": "[encoded data removed]",
      "text/plain": [
       "<Figure size 720x288 with 1 Axes>"
      ]
     },
     "metadata": {
      "needs_background": "light"
     },
     "output_type": "display_data"
    },
    {
     "data": {
      "image/png": "[encoded data removed]",
      "text/plain": [
       "<Figure size 720x288 with 1 Axes>"
      ]
     },
     "metadata": {
      "needs_background": "light"
     },
     "output_type": "display_data"
    },
    {
     "data": {
      "image/png": "[encoded data removed]",
      "text/plain": [
       "<Figure size 720x288 with 1 Axes>"
      ]
     },
     "metadata": {
      "needs_background": "light"
     },
     "output_type": "display_data"
    },
    {
     "data": {
      "image/png": "[encoded data removed]",
      "text/plain": [
       "<Figure size 720x288 with 1 Axes>"
      ]
     },
     "metadata": {
      "needs_background": "light"
     },
     "output_type": "display_data"
    },
    {
     "data": {
      "image/png": "[encoded data removed]",
      "text/plain": [
       "<Figure size 720x288 with 1 Axes>"
      ]
     },
     "metadata": {
      "needs_background": "light"
     },
     "output_type": "display_data"
    }
   ],
   "source": [
    "for platform in best_actual_platform:\n",
    "    platform__actual_sales = (\n",
    "        pd.pivot_table(actual_games.query('platform == @platform'), \n",
    "                       index='year_of_release', \n",
    "                       values='total_sales', aggfunc='sum')\n",
    "        .plot(title=platform, figsize=(10, 4))\n",
    "    )"
   ]
  },
  {
   "cell_type": "markdown",
   "metadata": {},
   "source": [
    "<b>Вывод: </b> За актуальный период топ-5 платформ по мировым продажам составляют: PS4, PS3, X360, 3DS и XOne. При этом потенциально прибыльными в следующем году являются PS4 и XOne, так как являются более новыми консолями и у них заметно растут продажи."
   ]
  },
  {
   "cell_type": "markdown",
   "metadata": {},
   "source": [
    "### График «ящик с усами» по глобальным продажам игр в разбивке по платформам."
   ]
  },
  {
   "cell_type": "code",
   "execution_count": 28,
   "metadata": {},
   "outputs": [
    {
     "data": {
      "image/png": "[encoded data removed]",
      "text/plain": [
       "<Figure size 1800x720 with 1 Axes>"
      ]
     },
     "metadata": {
      "needs_background": "light"
     },
     "output_type": "display_data"
    }
   ],
   "source": [
    "query_condition=\"platform in @best_actual_platform\"\n",
    "df_query = games.query(query_condition)\n",
    "by_column = query_condition.split()[0]\n",
    "ax = df_query.boxplot(column='total_sales', by=by_column, fontsize=25, figsize=(25,10),\n",
    "                      boxprops=dict(linestyle='-', linewidth=3),\n",
    "                      medianprops=dict(linestyle='-', linewidth=3),\n",
    "                      whiskerprops=dict(linestyle='-', linewidth=3),\n",
    "                      capprops=dict(linestyle='-', linewidth=3),\n",
    "                      notch=True)\n",
    "ax.set_xlabel('Прибыльные платформы', fontsize=20)\n",
    "ax.set_title('')\n",
    "ax.set_ylim([0, 40])\n",
    "plt.suptitle('Продажи по прибыльным платформам', y=1, fontsize=30, fontweight='bold');"
   ]
  },
  {
   "cell_type": "markdown",
   "metadata": {},
   "source": [
    "Можно рассмотреть более внимательно низкие значения:"
   ]
  },
  {
   "cell_type": "code",
   "execution_count": 29,
   "metadata": {},
   "outputs": [
    {
     "data": {
      "image/png": "[encoded data removed]",
      "text/plain": [
       "<Figure size 1800x720 with 1 Axes>"
      ]
     },
     "metadata": {
      "needs_background": "light"
     },
     "output_type": "display_data"
    }
   ],
   "source": [
    "query_condition=\"platform in @best_actual_platform\"\n",
    "df_query = games.query(query_condition)\n",
    "by_column = query_condition.split()[0]\n",
    "ax = df_query.boxplot(column='total_sales', by=by_column, fontsize=25, figsize=(25,10),\n",
    "                      boxprops=dict(linestyle='-', linewidth=3),\n",
    "                      medianprops=dict(linestyle='-', linewidth=3),\n",
    "                      whiskerprops=dict(linestyle='-', linewidth=3),\n",
    "                      capprops=dict(linestyle='-', linewidth=3),\n",
    "                      notch=True)\n",
    "ax.set_xlabel('')\n",
    "ax.set_title('')\n",
    "ax.set_ylim([0, 2])\n",
    "plt.suptitle('Продажи по прибыльным платформам (подробнее)', y=1, fontsize=40, fontweight='bold');"
   ]
  },
  {
   "cell_type": "code",
   "execution_count": 30,
   "metadata": {},
   "outputs": [
    {
     "data": {
      "text/html": [
       "<div>\n",
       "<style scoped>\n",
       "    .dataframe tbody tr th:only-of-type {\n",
       "        vertical-align: middle;\n",
       "    }\n",
       "\n",
       "    .dataframe tbody tr th {\n",
       "        vertical-align: top;\n",
       "    }\n",
       "\n",
       "    .dataframe thead th {\n",
       "        text-align: right;\n",
       "    }\n",
       "</style>\n",
       "<table border=\"1\" class=\"dataframe\">\n",
       "  <thead>\n",
       "    <tr style=\"text-align: right;\">\n",
       "      <th></th>\n",
       "      <th>year_of_release</th>\n",
       "      <th>na_sales</th>\n",
       "      <th>eu_sales</th>\n",
       "      <th>jp_sales</th>\n",
       "      <th>other_sales</th>\n",
       "      <th>critic_score</th>\n",
       "      <th>user_score</th>\n",
       "      <th>total_sales</th>\n",
       "    </tr>\n",
       "  </thead>\n",
       "  <tbody>\n",
       "    <tr>\n",
       "      <th>count</th>\n",
       "      <td>2886.000000</td>\n",
       "      <td>2886.000000</td>\n",
       "      <td>2886.000000</td>\n",
       "      <td>2886.000000</td>\n",
       "      <td>2886.000000</td>\n",
       "      <td>1312.000000</td>\n",
       "      <td>1531.000000</td>\n",
       "      <td>2886.000000</td>\n",
       "    </tr>\n",
       "    <tr>\n",
       "      <th>mean</th>\n",
       "      <td>2013.916840</td>\n",
       "      <td>0.204771</td>\n",
       "      <td>0.175613</td>\n",
       "      <td>0.066729</td>\n",
       "      <td>0.054109</td>\n",
       "      <td>72.258385</td>\n",
       "      <td>6.636120</td>\n",
       "      <td>0.501223</td>\n",
       "    </tr>\n",
       "    <tr>\n",
       "      <th>std</th>\n",
       "      <td>1.411766</td>\n",
       "      <td>0.566696</td>\n",
       "      <td>0.505346</td>\n",
       "      <td>0.241575</td>\n",
       "      <td>0.164639</td>\n",
       "      <td>12.687087</td>\n",
       "      <td>1.569033</td>\n",
       "      <td>1.249157</td>\n",
       "    </tr>\n",
       "    <tr>\n",
       "      <th>min</th>\n",
       "      <td>2012.000000</td>\n",
       "      <td>0.000000</td>\n",
       "      <td>0.000000</td>\n",
       "      <td>0.000000</td>\n",
       "      <td>0.000000</td>\n",
       "      <td>13.000000</td>\n",
       "      <td>0.200000</td>\n",
       "      <td>0.010000</td>\n",
       "    </tr>\n",
       "    <tr>\n",
       "      <th>25%</th>\n",
       "      <td>2013.000000</td>\n",
       "      <td>0.000000</td>\n",
       "      <td>0.000000</td>\n",
       "      <td>0.000000</td>\n",
       "      <td>0.000000</td>\n",
       "      <td>66.000000</td>\n",
       "      <td>5.800000</td>\n",
       "      <td>0.040000</td>\n",
       "    </tr>\n",
       "    <tr>\n",
       "      <th>50%</th>\n",
       "      <td>2014.000000</td>\n",
       "      <td>0.030000</td>\n",
       "      <td>0.030000</td>\n",
       "      <td>0.010000</td>\n",
       "      <td>0.010000</td>\n",
       "      <td>74.000000</td>\n",
       "      <td>7.000000</td>\n",
       "      <td>0.120000</td>\n",
       "    </tr>\n",
       "    <tr>\n",
       "      <th>75%</th>\n",
       "      <td>2015.000000</td>\n",
       "      <td>0.170000</td>\n",
       "      <td>0.140000</td>\n",
       "      <td>0.050000</td>\n",
       "      <td>0.040000</td>\n",
       "      <td>81.000000</td>\n",
       "      <td>7.800000</td>\n",
       "      <td>0.430000</td>\n",
       "    </tr>\n",
       "    <tr>\n",
       "      <th>max</th>\n",
       "      <td>2016.000000</td>\n",
       "      <td>9.660000</td>\n",
       "      <td>9.090000</td>\n",
       "      <td>4.390000</td>\n",
       "      <td>3.960000</td>\n",
       "      <td>97.000000</td>\n",
       "      <td>9.300000</td>\n",
       "      <td>21.050000</td>\n",
       "    </tr>\n",
       "  </tbody>\n",
       "</table>\n",
       "</div>"
      ],
      "text/plain": [
       "       year_of_release     na_sales     eu_sales     jp_sales  other_sales  \\\n",
       "count      2886.000000  2886.000000  2886.000000  2886.000000  2886.000000   \n",
       "mean       2013.916840     0.204771     0.175613     0.066729     0.054109   \n",
       "std           1.411766     0.566696     0.505346     0.241575     0.164639   \n",
       "min        2012.000000     0.000000     0.000000     0.000000     0.000000   \n",
       "25%        2013.000000     0.000000     0.000000     0.000000     0.000000   \n",
       "50%        2014.000000     0.030000     0.030000     0.010000     0.010000   \n",
       "75%        2015.000000     0.170000     0.140000     0.050000     0.040000   \n",
       "max        2016.000000     9.660000     9.090000     4.390000     3.960000   \n",
       "\n",
       "       critic_score   user_score  total_sales  \n",
       "count   1312.000000  1531.000000  2886.000000  \n",
       "mean      72.258385     6.636120     0.501223  \n",
       "std       12.687087     1.569033     1.249157  \n",
       "min       13.000000     0.200000     0.010000  \n",
       "25%       66.000000     5.800000     0.040000  \n",
       "50%       74.000000     7.000000     0.120000  \n",
       "75%       81.000000     7.800000     0.430000  \n",
       "max       97.000000     9.300000    21.050000  "
      ]
     },
     "execution_count": 30,
     "metadata": {},
     "output_type": "execute_result"
    }
   ],
   "source": [
    "actual_games.describe()"
   ]
  },
  {
   "cell_type": "code",
   "execution_count": 31,
   "metadata": {},
   "outputs": [
    {
     "data": {
      "text/html": [
       "<div>\n",
       "<style scoped>\n",
       "    .dataframe tbody tr th:only-of-type {\n",
       "        vertical-align: middle;\n",
       "    }\n",
       "\n",
       "    .dataframe tbody tr th {\n",
       "        vertical-align: top;\n",
       "    }\n",
       "\n",
       "    .dataframe thead th {\n",
       "        text-align: right;\n",
       "    }\n",
       "</style>\n",
       "<table border=\"1\" class=\"dataframe\">\n",
       "  <thead>\n",
       "    <tr style=\"text-align: right;\">\n",
       "      <th></th>\n",
       "      <th>year_of_release</th>\n",
       "      <th>na_sales</th>\n",
       "      <th>eu_sales</th>\n",
       "      <th>jp_sales</th>\n",
       "      <th>other_sales</th>\n",
       "      <th>critic_score</th>\n",
       "      <th>user_score</th>\n",
       "      <th>total_sales</th>\n",
       "    </tr>\n",
       "  </thead>\n",
       "  <tbody>\n",
       "    <tr>\n",
       "      <th>count</th>\n",
       "      <td>392.000000</td>\n",
       "      <td>392.000000</td>\n",
       "      <td>392.000000</td>\n",
       "      <td>392.000000</td>\n",
       "      <td>392.000000</td>\n",
       "      <td>252.000000</td>\n",
       "      <td>257.000000</td>\n",
       "      <td>392.000000</td>\n",
       "    </tr>\n",
       "    <tr>\n",
       "      <th>mean</th>\n",
       "      <td>2015.145408</td>\n",
       "      <td>0.277398</td>\n",
       "      <td>0.359923</td>\n",
       "      <td>0.040714</td>\n",
       "      <td>0.123342</td>\n",
       "      <td>72.091270</td>\n",
       "      <td>6.748249</td>\n",
       "      <td>0.801378</td>\n",
       "    </tr>\n",
       "    <tr>\n",
       "      <th>std</th>\n",
       "      <td>0.868181</td>\n",
       "      <td>0.583723</td>\n",
       "      <td>0.810843</td>\n",
       "      <td>0.069101</td>\n",
       "      <td>0.254825</td>\n",
       "      <td>12.485992</td>\n",
       "      <td>1.459481</td>\n",
       "      <td>1.609456</td>\n",
       "    </tr>\n",
       "    <tr>\n",
       "      <th>min</th>\n",
       "      <td>2013.000000</td>\n",
       "      <td>0.000000</td>\n",
       "      <td>0.000000</td>\n",
       "      <td>0.000000</td>\n",
       "      <td>0.000000</td>\n",
       "      <td>19.000000</td>\n",
       "      <td>1.500000</td>\n",
       "      <td>0.010000</td>\n",
       "    </tr>\n",
       "    <tr>\n",
       "      <th>25%</th>\n",
       "      <td>2015.000000</td>\n",
       "      <td>0.007500</td>\n",
       "      <td>0.000000</td>\n",
       "      <td>0.000000</td>\n",
       "      <td>0.010000</td>\n",
       "      <td>66.000000</td>\n",
       "      <td>6.100000</td>\n",
       "      <td>0.060000</td>\n",
       "    </tr>\n",
       "    <tr>\n",
       "      <th>50%</th>\n",
       "      <td>2015.000000</td>\n",
       "      <td>0.060000</td>\n",
       "      <td>0.080000</td>\n",
       "      <td>0.010000</td>\n",
       "      <td>0.030000</td>\n",
       "      <td>73.000000</td>\n",
       "      <td>7.000000</td>\n",
       "      <td>0.200000</td>\n",
       "    </tr>\n",
       "    <tr>\n",
       "      <th>75%</th>\n",
       "      <td>2016.000000</td>\n",
       "      <td>0.260000</td>\n",
       "      <td>0.300000</td>\n",
       "      <td>0.050000</td>\n",
       "      <td>0.110000</td>\n",
       "      <td>80.000000</td>\n",
       "      <td>7.800000</td>\n",
       "      <td>0.730000</td>\n",
       "    </tr>\n",
       "    <tr>\n",
       "      <th>max</th>\n",
       "      <td>2016.000000</td>\n",
       "      <td>6.030000</td>\n",
       "      <td>6.310000</td>\n",
       "      <td>0.490000</td>\n",
       "      <td>2.380000</td>\n",
       "      <td>97.000000</td>\n",
       "      <td>9.200000</td>\n",
       "      <td>14.630000</td>\n",
       "    </tr>\n",
       "  </tbody>\n",
       "</table>\n",
       "</div>"
      ],
      "text/plain": [
       "       year_of_release    na_sales    eu_sales    jp_sales  other_sales  \\\n",
       "count       392.000000  392.000000  392.000000  392.000000   392.000000   \n",
       "mean       2015.145408    0.277398    0.359923    0.040714     0.123342   \n",
       "std           0.868181    0.583723    0.810843    0.069101     0.254825   \n",
       "min        2013.000000    0.000000    0.000000    0.000000     0.000000   \n",
       "25%        2015.000000    0.007500    0.000000    0.000000     0.010000   \n",
       "50%        2015.000000    0.060000    0.080000    0.010000     0.030000   \n",
       "75%        2016.000000    0.260000    0.300000    0.050000     0.110000   \n",
       "max        2016.000000    6.030000    6.310000    0.490000     2.380000   \n",
       "\n",
       "       critic_score  user_score  total_sales  \n",
       "count    252.000000  257.000000   392.000000  \n",
       "mean      72.091270    6.748249     0.801378  \n",
       "std       12.485992    1.459481     1.609456  \n",
       "min       19.000000    1.500000     0.010000  \n",
       "25%       66.000000    6.100000     0.060000  \n",
       "50%       73.000000    7.000000     0.200000  \n",
       "75%       80.000000    7.800000     0.730000  \n",
       "max       97.000000    9.200000    14.630000  "
      ]
     },
     "execution_count": 31,
     "metadata": {},
     "output_type": "execute_result"
    }
   ],
   "source": [
    "PS4_games_sales = actual_games.query('platform ==\"PS4\"')\n",
    "PS4_games_sales.describe()"
   ]
  },
  {
   "cell_type": "code",
   "execution_count": 32,
   "metadata": {},
   "outputs": [
    {
     "data": {
      "text/html": [
       "<div>\n",
       "<style scoped>\n",
       "    .dataframe tbody tr th:only-of-type {\n",
       "        vertical-align: middle;\n",
       "    }\n",
       "\n",
       "    .dataframe tbody tr th {\n",
       "        vertical-align: top;\n",
       "    }\n",
       "\n",
       "    .dataframe thead th {\n",
       "        text-align: right;\n",
       "    }\n",
       "</style>\n",
       "<table border=\"1\" class=\"dataframe\">\n",
       "  <thead>\n",
       "    <tr style=\"text-align: right;\">\n",
       "      <th></th>\n",
       "      <th>year_of_release</th>\n",
       "      <th>na_sales</th>\n",
       "      <th>eu_sales</th>\n",
       "      <th>jp_sales</th>\n",
       "      <th>other_sales</th>\n",
       "      <th>critic_score</th>\n",
       "      <th>user_score</th>\n",
       "      <th>total_sales</th>\n",
       "    </tr>\n",
       "  </thead>\n",
       "  <tbody>\n",
       "    <tr>\n",
       "      <th>count</th>\n",
       "      <td>493.000000</td>\n",
       "      <td>493.000000</td>\n",
       "      <td>493.000000</td>\n",
       "      <td>493.000000</td>\n",
       "      <td>493.000000</td>\n",
       "      <td>214.000000</td>\n",
       "      <td>283.000000</td>\n",
       "      <td>493.000000</td>\n",
       "    </tr>\n",
       "    <tr>\n",
       "      <th>mean</th>\n",
       "      <td>2013.446247</td>\n",
       "      <td>0.209696</td>\n",
       "      <td>0.216755</td>\n",
       "      <td>0.071582</td>\n",
       "      <td>0.087748</td>\n",
       "      <td>71.565422</td>\n",
       "      <td>6.532862</td>\n",
       "      <td>0.585781</td>\n",
       "    </tr>\n",
       "    <tr>\n",
       "      <th>std</th>\n",
       "      <td>1.268622</td>\n",
       "      <td>0.527961</td>\n",
       "      <td>0.666724</td>\n",
       "      <td>0.123389</td>\n",
       "      <td>0.266112</td>\n",
       "      <td>13.352671</td>\n",
       "      <td>1.648451</td>\n",
       "      <td>1.462855</td>\n",
       "    </tr>\n",
       "    <tr>\n",
       "      <th>min</th>\n",
       "      <td>2012.000000</td>\n",
       "      <td>0.000000</td>\n",
       "      <td>0.000000</td>\n",
       "      <td>0.000000</td>\n",
       "      <td>0.000000</td>\n",
       "      <td>13.000000</td>\n",
       "      <td>0.200000</td>\n",
       "      <td>0.010000</td>\n",
       "    </tr>\n",
       "    <tr>\n",
       "      <th>25%</th>\n",
       "      <td>2012.000000</td>\n",
       "      <td>0.000000</td>\n",
       "      <td>0.000000</td>\n",
       "      <td>0.000000</td>\n",
       "      <td>0.000000</td>\n",
       "      <td>65.000000</td>\n",
       "      <td>5.500000</td>\n",
       "      <td>0.050000</td>\n",
       "    </tr>\n",
       "    <tr>\n",
       "      <th>50%</th>\n",
       "      <td>2013.000000</td>\n",
       "      <td>0.050000</td>\n",
       "      <td>0.030000</td>\n",
       "      <td>0.030000</td>\n",
       "      <td>0.020000</td>\n",
       "      <td>74.000000</td>\n",
       "      <td>7.000000</td>\n",
       "      <td>0.200000</td>\n",
       "    </tr>\n",
       "    <tr>\n",
       "      <th>75%</th>\n",
       "      <td>2014.000000</td>\n",
       "      <td>0.220000</td>\n",
       "      <td>0.200000</td>\n",
       "      <td>0.090000</td>\n",
       "      <td>0.080000</td>\n",
       "      <td>81.000000</td>\n",
       "      <td>7.800000</td>\n",
       "      <td>0.610000</td>\n",
       "    </tr>\n",
       "    <tr>\n",
       "      <th>max</th>\n",
       "      <td>2016.000000</td>\n",
       "      <td>7.020000</td>\n",
       "      <td>9.090000</td>\n",
       "      <td>0.980000</td>\n",
       "      <td>3.960000</td>\n",
       "      <td>97.000000</td>\n",
       "      <td>9.100000</td>\n",
       "      <td>21.050000</td>\n",
       "    </tr>\n",
       "  </tbody>\n",
       "</table>\n",
       "</div>"
      ],
      "text/plain": [
       "       year_of_release    na_sales    eu_sales    jp_sales  other_sales  \\\n",
       "count       493.000000  493.000000  493.000000  493.000000   493.000000   \n",
       "mean       2013.446247    0.209696    0.216755    0.071582     0.087748   \n",
       "std           1.268622    0.527961    0.666724    0.123389     0.266112   \n",
       "min        2012.000000    0.000000    0.000000    0.000000     0.000000   \n",
       "25%        2012.000000    0.000000    0.000000    0.000000     0.000000   \n",
       "50%        2013.000000    0.050000    0.030000    0.030000     0.020000   \n",
       "75%        2014.000000    0.220000    0.200000    0.090000     0.080000   \n",
       "max        2016.000000    7.020000    9.090000    0.980000     3.960000   \n",
       "\n",
       "       critic_score  user_score  total_sales  \n",
       "count    214.000000  283.000000   493.000000  \n",
       "mean      71.565422    6.532862     0.585781  \n",
       "std       13.352671    1.648451     1.462855  \n",
       "min       13.000000    0.200000     0.010000  \n",
       "25%       65.000000    5.500000     0.050000  \n",
       "50%       74.000000    7.000000     0.200000  \n",
       "75%       81.000000    7.800000     0.610000  \n",
       "max       97.000000    9.100000    21.050000  "
      ]
     },
     "execution_count": 32,
     "metadata": {},
     "output_type": "execute_result"
    }
   ],
   "source": [
    "PS3_games_sales = actual_games.query('platform ==\"PS3\"')\n",
    "PS3_games_sales.describe()"
   ]
  },
  {
   "cell_type": "code",
   "execution_count": 33,
   "metadata": {},
   "outputs": [
    {
     "data": {
      "text/html": [
       "<div>\n",
       "<style scoped>\n",
       "    .dataframe tbody tr th:only-of-type {\n",
       "        vertical-align: middle;\n",
       "    }\n",
       "\n",
       "    .dataframe tbody tr th {\n",
       "        vertical-align: top;\n",
       "    }\n",
       "\n",
       "    .dataframe thead th {\n",
       "        text-align: right;\n",
       "    }\n",
       "</style>\n",
       "<table border=\"1\" class=\"dataframe\">\n",
       "  <thead>\n",
       "    <tr style=\"text-align: right;\">\n",
       "      <th></th>\n",
       "      <th>year_of_release</th>\n",
       "      <th>na_sales</th>\n",
       "      <th>eu_sales</th>\n",
       "      <th>jp_sales</th>\n",
       "      <th>other_sales</th>\n",
       "      <th>critic_score</th>\n",
       "      <th>user_score</th>\n",
       "      <th>total_sales</th>\n",
       "    </tr>\n",
       "  </thead>\n",
       "  <tbody>\n",
       "    <tr>\n",
       "      <th>count</th>\n",
       "      <td>247.000000</td>\n",
       "      <td>247.000000</td>\n",
       "      <td>247.000000</td>\n",
       "      <td>247.000000</td>\n",
       "      <td>247.000000</td>\n",
       "      <td>169.000000</td>\n",
       "      <td>182.000000</td>\n",
       "      <td>247.000000</td>\n",
       "    </tr>\n",
       "    <tr>\n",
       "      <th>mean</th>\n",
       "      <td>2014.951417</td>\n",
       "      <td>0.377004</td>\n",
       "      <td>0.208866</td>\n",
       "      <td>0.001377</td>\n",
       "      <td>0.057773</td>\n",
       "      <td>73.325447</td>\n",
       "      <td>6.521429</td>\n",
       "      <td>0.645020</td>\n",
       "    </tr>\n",
       "    <tr>\n",
       "      <th>std</th>\n",
       "      <td>0.952995</td>\n",
       "      <td>0.630618</td>\n",
       "      <td>0.365306</td>\n",
       "      <td>0.005153</td>\n",
       "      <td>0.094221</td>\n",
       "      <td>12.953465</td>\n",
       "      <td>1.380941</td>\n",
       "      <td>1.036139</td>\n",
       "    </tr>\n",
       "    <tr>\n",
       "      <th>min</th>\n",
       "      <td>2013.000000</td>\n",
       "      <td>0.000000</td>\n",
       "      <td>0.000000</td>\n",
       "      <td>0.000000</td>\n",
       "      <td>0.000000</td>\n",
       "      <td>20.000000</td>\n",
       "      <td>1.600000</td>\n",
       "      <td>0.010000</td>\n",
       "    </tr>\n",
       "    <tr>\n",
       "      <th>25%</th>\n",
       "      <td>2014.000000</td>\n",
       "      <td>0.030000</td>\n",
       "      <td>0.020000</td>\n",
       "      <td>0.000000</td>\n",
       "      <td>0.010000</td>\n",
       "      <td>66.000000</td>\n",
       "      <td>5.800000</td>\n",
       "      <td>0.060000</td>\n",
       "    </tr>\n",
       "    <tr>\n",
       "      <th>50%</th>\n",
       "      <td>2015.000000</td>\n",
       "      <td>0.120000</td>\n",
       "      <td>0.070000</td>\n",
       "      <td>0.000000</td>\n",
       "      <td>0.020000</td>\n",
       "      <td>76.000000</td>\n",
       "      <td>6.800000</td>\n",
       "      <td>0.220000</td>\n",
       "    </tr>\n",
       "    <tr>\n",
       "      <th>75%</th>\n",
       "      <td>2016.000000</td>\n",
       "      <td>0.385000</td>\n",
       "      <td>0.220000</td>\n",
       "      <td>0.000000</td>\n",
       "      <td>0.060000</td>\n",
       "      <td>82.000000</td>\n",
       "      <td>7.500000</td>\n",
       "      <td>0.685000</td>\n",
       "    </tr>\n",
       "    <tr>\n",
       "      <th>max</th>\n",
       "      <td>2016.000000</td>\n",
       "      <td>4.590000</td>\n",
       "      <td>2.190000</td>\n",
       "      <td>0.040000</td>\n",
       "      <td>0.680000</td>\n",
       "      <td>97.000000</td>\n",
       "      <td>9.200000</td>\n",
       "      <td>7.390000</td>\n",
       "    </tr>\n",
       "  </tbody>\n",
       "</table>\n",
       "</div>"
      ],
      "text/plain": [
       "       year_of_release    na_sales    eu_sales    jp_sales  other_sales  \\\n",
       "count       247.000000  247.000000  247.000000  247.000000   247.000000   \n",
       "mean       2014.951417    0.377004    0.208866    0.001377     0.057773   \n",
       "std           0.952995    0.630618    0.365306    0.005153     0.094221   \n",
       "min        2013.000000    0.000000    0.000000    0.000000     0.000000   \n",
       "25%        2014.000000    0.030000    0.020000    0.000000     0.010000   \n",
       "50%        2015.000000    0.120000    0.070000    0.000000     0.020000   \n",
       "75%        2016.000000    0.385000    0.220000    0.000000     0.060000   \n",
       "max        2016.000000    4.590000    2.190000    0.040000     0.680000   \n",
       "\n",
       "       critic_score  user_score  total_sales  \n",
       "count    169.000000  182.000000   247.000000  \n",
       "mean      73.325447    6.521429     0.645020  \n",
       "std       12.953465    1.380941     1.036139  \n",
       "min       20.000000    1.600000     0.010000  \n",
       "25%       66.000000    5.800000     0.060000  \n",
       "50%       76.000000    6.800000     0.220000  \n",
       "75%       82.000000    7.500000     0.685000  \n",
       "max       97.000000    9.200000     7.390000  "
      ]
     },
     "execution_count": 33,
     "metadata": {},
     "output_type": "execute_result"
    }
   ],
   "source": [
    "XOne_games_sales = actual_games.query('platform ==\"XOne\"')\n",
    "XOne_games_sales.describe()"
   ]
  },
  {
   "cell_type": "code",
   "execution_count": 34,
   "metadata": {},
   "outputs": [
    {
     "data": {
      "text/html": [
       "<div>\n",
       "<style scoped>\n",
       "    .dataframe tbody tr th:only-of-type {\n",
       "        vertical-align: middle;\n",
       "    }\n",
       "\n",
       "    .dataframe tbody tr th {\n",
       "        vertical-align: top;\n",
       "    }\n",
       "\n",
       "    .dataframe thead th {\n",
       "        text-align: right;\n",
       "    }\n",
       "</style>\n",
       "<table border=\"1\" class=\"dataframe\">\n",
       "  <thead>\n",
       "    <tr style=\"text-align: right;\">\n",
       "      <th></th>\n",
       "      <th>year_of_release</th>\n",
       "      <th>na_sales</th>\n",
       "      <th>eu_sales</th>\n",
       "      <th>jp_sales</th>\n",
       "      <th>other_sales</th>\n",
       "      <th>critic_score</th>\n",
       "      <th>user_score</th>\n",
       "      <th>total_sales</th>\n",
       "    </tr>\n",
       "  </thead>\n",
       "  <tbody>\n",
       "    <tr>\n",
       "      <th>count</th>\n",
       "      <td>292.000000</td>\n",
       "      <td>292.000000</td>\n",
       "      <td>292.000000</td>\n",
       "      <td>292.000000</td>\n",
       "      <td>292.000000</td>\n",
       "      <td>171.000000</td>\n",
       "      <td>235.000000</td>\n",
       "      <td>292.000000</td>\n",
       "    </tr>\n",
       "    <tr>\n",
       "      <th>mean</th>\n",
       "      <td>2013.226027</td>\n",
       "      <td>0.479623</td>\n",
       "      <td>0.255205</td>\n",
       "      <td>0.005377</td>\n",
       "      <td>0.069863</td>\n",
       "      <td>70.871346</td>\n",
       "      <td>6.220850</td>\n",
       "      <td>0.810068</td>\n",
       "    </tr>\n",
       "    <tr>\n",
       "      <th>std</th>\n",
       "      <td>1.188551</td>\n",
       "      <td>1.055389</td>\n",
       "      <td>0.564480</td>\n",
       "      <td>0.011878</td>\n",
       "      <td>0.146965</td>\n",
       "      <td>14.193861</td>\n",
       "      <td>1.578823</td>\n",
       "      <td>1.712069</td>\n",
       "    </tr>\n",
       "    <tr>\n",
       "      <th>min</th>\n",
       "      <td>2012.000000</td>\n",
       "      <td>0.000000</td>\n",
       "      <td>0.000000</td>\n",
       "      <td>0.000000</td>\n",
       "      <td>0.000000</td>\n",
       "      <td>19.000000</td>\n",
       "      <td>0.700000</td>\n",
       "      <td>0.010000</td>\n",
       "    </tr>\n",
       "    <tr>\n",
       "      <th>25%</th>\n",
       "      <td>2012.000000</td>\n",
       "      <td>0.050000</td>\n",
       "      <td>0.020000</td>\n",
       "      <td>0.000000</td>\n",
       "      <td>0.010000</td>\n",
       "      <td>63.500000</td>\n",
       "      <td>5.250000</td>\n",
       "      <td>0.100000</td>\n",
       "    </tr>\n",
       "    <tr>\n",
       "      <th>50%</th>\n",
       "      <td>2013.000000</td>\n",
       "      <td>0.170000</td>\n",
       "      <td>0.100000</td>\n",
       "      <td>0.000000</td>\n",
       "      <td>0.030000</td>\n",
       "      <td>74.000000</td>\n",
       "      <td>6.500000</td>\n",
       "      <td>0.310000</td>\n",
       "    </tr>\n",
       "    <tr>\n",
       "      <th>75%</th>\n",
       "      <td>2014.000000</td>\n",
       "      <td>0.480000</td>\n",
       "      <td>0.252500</td>\n",
       "      <td>0.010000</td>\n",
       "      <td>0.072500</td>\n",
       "      <td>81.000000</td>\n",
       "      <td>7.400000</td>\n",
       "      <td>0.870000</td>\n",
       "    </tr>\n",
       "    <tr>\n",
       "      <th>max</th>\n",
       "      <td>2016.000000</td>\n",
       "      <td>9.660000</td>\n",
       "      <td>5.140000</td>\n",
       "      <td>0.070000</td>\n",
       "      <td>1.410000</td>\n",
       "      <td>97.000000</td>\n",
       "      <td>8.900000</td>\n",
       "      <td>16.270000</td>\n",
       "    </tr>\n",
       "  </tbody>\n",
       "</table>\n",
       "</div>"
      ],
      "text/plain": [
       "       year_of_release    na_sales    eu_sales    jp_sales  other_sales  \\\n",
       "count       292.000000  292.000000  292.000000  292.000000   292.000000   \n",
       "mean       2013.226027    0.479623    0.255205    0.005377     0.069863   \n",
       "std           1.188551    1.055389    0.564480    0.011878     0.146965   \n",
       "min        2012.000000    0.000000    0.000000    0.000000     0.000000   \n",
       "25%        2012.000000    0.050000    0.020000    0.000000     0.010000   \n",
       "50%        2013.000000    0.170000    0.100000    0.000000     0.030000   \n",
       "75%        2014.000000    0.480000    0.252500    0.010000     0.072500   \n",
       "max        2016.000000    9.660000    5.140000    0.070000     1.410000   \n",
       "\n",
       "       critic_score  user_score  total_sales  \n",
       "count    171.000000  235.000000   292.000000  \n",
       "mean      70.871346    6.220850     0.810068  \n",
       "std       14.193861    1.578823     1.712069  \n",
       "min       19.000000    0.700000     0.010000  \n",
       "25%       63.500000    5.250000     0.100000  \n",
       "50%       74.000000    6.500000     0.310000  \n",
       "75%       81.000000    7.400000     0.870000  \n",
       "max       97.000000    8.900000    16.270000  "
      ]
     },
     "execution_count": 34,
     "metadata": {},
     "output_type": "execute_result"
    }
   ],
   "source": [
    "X360_games_sales = actual_games.query('platform ==\"X360\"')\n",
    "X360_games_sales.describe()"
   ]
  },
  {
   "cell_type": "code",
   "execution_count": 35,
   "metadata": {},
   "outputs": [
    {
     "data": {
      "text/html": [
       "<div>\n",
       "<style scoped>\n",
       "    .dataframe tbody tr th:only-of-type {\n",
       "        vertical-align: middle;\n",
       "    }\n",
       "\n",
       "    .dataframe tbody tr th {\n",
       "        vertical-align: top;\n",
       "    }\n",
       "\n",
       "    .dataframe thead th {\n",
       "        text-align: right;\n",
       "    }\n",
       "</style>\n",
       "<table border=\"1\" class=\"dataframe\">\n",
       "  <thead>\n",
       "    <tr style=\"text-align: right;\">\n",
       "      <th></th>\n",
       "      <th>year_of_release</th>\n",
       "      <th>na_sales</th>\n",
       "      <th>eu_sales</th>\n",
       "      <th>jp_sales</th>\n",
       "      <th>other_sales</th>\n",
       "      <th>critic_score</th>\n",
       "      <th>user_score</th>\n",
       "      <th>total_sales</th>\n",
       "    </tr>\n",
       "  </thead>\n",
       "  <tbody>\n",
       "    <tr>\n",
       "      <th>count</th>\n",
       "      <td>396.000000</td>\n",
       "      <td>396.000000</td>\n",
       "      <td>396.000000</td>\n",
       "      <td>396.000000</td>\n",
       "      <td>396.000000</td>\n",
       "      <td>104.000000</td>\n",
       "      <td>114.000000</td>\n",
       "      <td>396.000000</td>\n",
       "    </tr>\n",
       "    <tr>\n",
       "      <th>mean</th>\n",
       "      <td>2013.750000</td>\n",
       "      <td>0.139672</td>\n",
       "      <td>0.107677</td>\n",
       "      <td>0.221692</td>\n",
       "      <td>0.022399</td>\n",
       "      <td>69.817307</td>\n",
       "      <td>7.033334</td>\n",
       "      <td>0.491439</td>\n",
       "    </tr>\n",
       "    <tr>\n",
       "      <th>std</th>\n",
       "      <td>1.339044</td>\n",
       "      <td>0.491059</td>\n",
       "      <td>0.389226</td>\n",
       "      <td>0.558128</td>\n",
       "      <td>0.078660</td>\n",
       "      <td>12.034550</td>\n",
       "      <td>1.482265</td>\n",
       "      <td>1.387161</td>\n",
       "    </tr>\n",
       "    <tr>\n",
       "      <th>min</th>\n",
       "      <td>2012.000000</td>\n",
       "      <td>0.000000</td>\n",
       "      <td>0.000000</td>\n",
       "      <td>0.000000</td>\n",
       "      <td>0.000000</td>\n",
       "      <td>26.000000</td>\n",
       "      <td>2.400000</td>\n",
       "      <td>0.010000</td>\n",
       "    </tr>\n",
       "    <tr>\n",
       "      <th>25%</th>\n",
       "      <td>2013.000000</td>\n",
       "      <td>0.000000</td>\n",
       "      <td>0.000000</td>\n",
       "      <td>0.010000</td>\n",
       "      <td>0.000000</td>\n",
       "      <td>63.750000</td>\n",
       "      <td>6.300000</td>\n",
       "      <td>0.040000</td>\n",
       "    </tr>\n",
       "    <tr>\n",
       "      <th>50%</th>\n",
       "      <td>2014.000000</td>\n",
       "      <td>0.000000</td>\n",
       "      <td>0.000000</td>\n",
       "      <td>0.060000</td>\n",
       "      <td>0.000000</td>\n",
       "      <td>71.000000</td>\n",
       "      <td>7.400000</td>\n",
       "      <td>0.110000</td>\n",
       "    </tr>\n",
       "    <tr>\n",
       "      <th>75%</th>\n",
       "      <td>2015.000000</td>\n",
       "      <td>0.090000</td>\n",
       "      <td>0.050000</td>\n",
       "      <td>0.170000</td>\n",
       "      <td>0.010000</td>\n",
       "      <td>78.000000</td>\n",
       "      <td>8.200000</td>\n",
       "      <td>0.312500</td>\n",
       "    </tr>\n",
       "    <tr>\n",
       "      <th>max</th>\n",
       "      <td>2016.000000</td>\n",
       "      <td>5.280000</td>\n",
       "      <td>4.190000</td>\n",
       "      <td>4.390000</td>\n",
       "      <td>0.780000</td>\n",
       "      <td>92.000000</td>\n",
       "      <td>9.100000</td>\n",
       "      <td>14.600000</td>\n",
       "    </tr>\n",
       "  </tbody>\n",
       "</table>\n",
       "</div>"
      ],
      "text/plain": [
       "       year_of_release    na_sales    eu_sales    jp_sales  other_sales  \\\n",
       "count       396.000000  396.000000  396.000000  396.000000   396.000000   \n",
       "mean       2013.750000    0.139672    0.107677    0.221692     0.022399   \n",
       "std           1.339044    0.491059    0.389226    0.558128     0.078660   \n",
       "min        2012.000000    0.000000    0.000000    0.000000     0.000000   \n",
       "25%        2013.000000    0.000000    0.000000    0.010000     0.000000   \n",
       "50%        2014.000000    0.000000    0.000000    0.060000     0.000000   \n",
       "75%        2015.000000    0.090000    0.050000    0.170000     0.010000   \n",
       "max        2016.000000    5.280000    4.190000    4.390000     0.780000   \n",
       "\n",
       "       critic_score  user_score  total_sales  \n",
       "count    104.000000  114.000000   396.000000  \n",
       "mean      69.817307    7.033334     0.491439  \n",
       "std       12.034550    1.482265     1.387161  \n",
       "min       26.000000    2.400000     0.010000  \n",
       "25%       63.750000    6.300000     0.040000  \n",
       "50%       71.000000    7.400000     0.110000  \n",
       "75%       78.000000    8.200000     0.312500  \n",
       "max       92.000000    9.100000    14.600000  "
      ]
     },
     "execution_count": 35,
     "metadata": {},
     "output_type": "execute_result"
    }
   ],
   "source": [
    "_3DS_games_sales = actual_games.query('platform ==\"3DS\"')\n",
    "_3DS_games_sales.describe()"
   ]
  },
  {
   "cell_type": "markdown",
   "metadata": {},
   "source": [
    "<b>Вывод: </b> средние продажи за период 2012-2016 по миру составляют 501 тыс. проданных копий и это больше, чем третий квартиль, который составляет 430 тыс. копий. Это говорит нам о том, что большую часть продаж делают единичные крупные проекты игровой индустрии, что также подтверждается графиками. И в разрезе каждой отдельной платформы ситуация аналогичная. Несмотря на то, что у XOne и X360 среднее меньше третьего квартиля, оно всё ещё сильно больше медианы, а значит на все 5 популярных платформ также выпускают игры крупные производители.  "
   ]
  },
  {
   "cell_type": "markdown",
   "metadata": {},
   "source": [
    "### Как влияют на продажи внутри одной популярной платформы отзывы пользователей и критиков."
   ]
  },
  {
   "cell_type": "code",
   "execution_count": 36,
   "metadata": {},
   "outputs": [
    {
     "data": {
      "text/html": [
       "<div>\n",
       "<style scoped>\n",
       "    .dataframe tbody tr th:only-of-type {\n",
       "        vertical-align: middle;\n",
       "    }\n",
       "\n",
       "    .dataframe tbody tr th {\n",
       "        vertical-align: top;\n",
       "    }\n",
       "\n",
       "    .dataframe thead th {\n",
       "        text-align: right;\n",
       "    }\n",
       "</style>\n",
       "<table border=\"1\" class=\"dataframe\">\n",
       "  <thead>\n",
       "    <tr style=\"text-align: right;\">\n",
       "      <th></th>\n",
       "      <th>total_sales</th>\n",
       "      <th>critic_score</th>\n",
       "      <th>user_score</th>\n",
       "    </tr>\n",
       "  </thead>\n",
       "  <tbody>\n",
       "    <tr>\n",
       "      <th>31</th>\n",
       "      <td>14.63</td>\n",
       "      <td>NaN</td>\n",
       "      <td>NaN</td>\n",
       "    </tr>\n",
       "    <tr>\n",
       "      <th>42</th>\n",
       "      <td>12.62</td>\n",
       "      <td>97.0</td>\n",
       "      <td>8.3</td>\n",
       "    </tr>\n",
       "    <tr>\n",
       "      <th>77</th>\n",
       "      <td>8.58</td>\n",
       "      <td>82.0</td>\n",
       "      <td>4.3</td>\n",
       "    </tr>\n",
       "    <tr>\n",
       "      <th>87</th>\n",
       "      <td>7.98</td>\n",
       "      <td>NaN</td>\n",
       "      <td>NaN</td>\n",
       "    </tr>\n",
       "    <tr>\n",
       "      <th>92</th>\n",
       "      <td>7.66</td>\n",
       "      <td>83.0</td>\n",
       "      <td>5.7</td>\n",
       "    </tr>\n",
       "  </tbody>\n",
       "</table>\n",
       "</div>"
      ],
      "text/plain": [
       "    total_sales  critic_score  user_score\n",
       "31        14.63           NaN         NaN\n",
       "42        12.62          97.0         8.3\n",
       "77         8.58          82.0         4.3\n",
       "87         7.98           NaN         NaN\n",
       "92         7.66          83.0         5.7"
      ]
     },
     "execution_count": 36,
     "metadata": {},
     "output_type": "execute_result"
    }
   ],
   "source": [
    "PS4_ratings = PS4_games_sales.loc[:,['total_sales', 'critic_score', 'user_score']]\n",
    "PS4_ratings.head()"
   ]
  },
  {
   "cell_type": "code",
   "execution_count": 37,
   "metadata": {},
   "outputs": [
    {
     "data": {
      "text/html": [
       "<div>\n",
       "<style scoped>\n",
       "    .dataframe tbody tr th:only-of-type {\n",
       "        vertical-align: middle;\n",
       "    }\n",
       "\n",
       "    .dataframe tbody tr th {\n",
       "        vertical-align: top;\n",
       "    }\n",
       "\n",
       "    .dataframe thead th {\n",
       "        text-align: right;\n",
       "    }\n",
       "</style>\n",
       "<table border=\"1\" class=\"dataframe\">\n",
       "  <thead>\n",
       "    <tr style=\"text-align: right;\">\n",
       "      <th></th>\n",
       "      <th>total_sales</th>\n",
       "      <th>critic_score</th>\n",
       "      <th>user_score</th>\n",
       "    </tr>\n",
       "  </thead>\n",
       "  <tbody>\n",
       "    <tr>\n",
       "      <th>total_sales</th>\n",
       "      <td>1.000000</td>\n",
       "      <td>0.406568</td>\n",
       "      <td>-0.031957</td>\n",
       "    </tr>\n",
       "    <tr>\n",
       "      <th>critic_score</th>\n",
       "      <td>0.406568</td>\n",
       "      <td>1.000000</td>\n",
       "      <td>0.557654</td>\n",
       "    </tr>\n",
       "    <tr>\n",
       "      <th>user_score</th>\n",
       "      <td>-0.031957</td>\n",
       "      <td>0.557654</td>\n",
       "      <td>1.000000</td>\n",
       "    </tr>\n",
       "  </tbody>\n",
       "</table>\n",
       "</div>"
      ],
      "text/plain": [
       "              total_sales  critic_score  user_score\n",
       "total_sales      1.000000      0.406568   -0.031957\n",
       "critic_score     0.406568      1.000000    0.557654\n",
       "user_score      -0.031957      0.557654    1.000000"
      ]
     },
     "execution_count": 37,
     "metadata": {},
     "output_type": "execute_result"
    }
   ],
   "source": [
    "PS4_ratings.corr()"
   ]
  },
  {
   "cell_type": "code",
   "execution_count": 38,
   "metadata": {},
   "outputs": [
    {
     "data": {
      "image/png": "[encoded data removed]",
      "text/plain": [
       "<Figure size 1080x576 with 1 Axes>"
      ]
     },
     "metadata": {
      "needs_background": "light"
     },
     "output_type": "display_data"
    }
   ],
   "source": [
    "PS4_ratings.plot(kind='scatter', x = 'total_sales', y = 'critic_score', \n",
    "                 alpha=0.5, subplots=True, figsize=(15,8), c = 'b', s = 100)\n",
    "plt.title('Мировые продажи — оценка критиков');"
   ]
  },
  {
   "cell_type": "code",
   "execution_count": 39,
   "metadata": {},
   "outputs": [
    {
     "data": {
      "image/png": "[encoded data removed]",
      "text/plain": [
       "<Figure size 1080x576 with 1 Axes>"
      ]
     },
     "metadata": {
      "needs_background": "light"
     },
     "output_type": "display_data"
    }
   ],
   "source": [
    "PS4_ratings.plot(kind='scatter', x = 'total_sales', y = 'user_score', \n",
    "                 alpha=0.5, subplots=True, figsize=(15,8), c = 'b', s = 100)\n",
    "plt.title('Мировые продажи — оценка пользователей');"
   ]
  },
  {
   "cell_type": "markdown",
   "metadata": {},
   "source": [
    "<b>Вывод: </b> можно заметить положительную корреляцию между продажами и оценкой критиков. \n",
    "Отрицательная корреляция между продажами и оценкой пользователей несущественна. "
   ]
  },
  {
   "cell_type": "markdown",
   "metadata": {},
   "source": [
    "### Продажи игр на других платформах"
   ]
  },
  {
   "cell_type": "code",
   "execution_count": 40,
   "metadata": {},
   "outputs": [
    {
     "data": {
      "text/html": [
       "<div>\n",
       "<style scoped>\n",
       "    .dataframe tbody tr th:only-of-type {\n",
       "        vertical-align: middle;\n",
       "    }\n",
       "\n",
       "    .dataframe tbody tr th {\n",
       "        vertical-align: top;\n",
       "    }\n",
       "\n",
       "    .dataframe thead th {\n",
       "        text-align: right;\n",
       "    }\n",
       "</style>\n",
       "<table border=\"1\" class=\"dataframe\">\n",
       "  <thead>\n",
       "    <tr style=\"text-align: right;\">\n",
       "      <th></th>\n",
       "      <th>total_sales</th>\n",
       "      <th>critic_score</th>\n",
       "      <th>user_score</th>\n",
       "    </tr>\n",
       "  </thead>\n",
       "  <tbody>\n",
       "    <tr>\n",
       "      <th>16</th>\n",
       "      <td>21.05</td>\n",
       "      <td>97.0</td>\n",
       "      <td>8.2</td>\n",
       "    </tr>\n",
       "    <tr>\n",
       "      <th>34</th>\n",
       "      <td>13.79</td>\n",
       "      <td>83.0</td>\n",
       "      <td>5.3</td>\n",
       "    </tr>\n",
       "    <tr>\n",
       "      <th>69</th>\n",
       "      <td>9.36</td>\n",
       "      <td>71.0</td>\n",
       "      <td>2.6</td>\n",
       "    </tr>\n",
       "    <tr>\n",
       "      <th>81</th>\n",
       "      <td>8.17</td>\n",
       "      <td>88.0</td>\n",
       "      <td>6.6</td>\n",
       "    </tr>\n",
       "    <tr>\n",
       "      <th>126</th>\n",
       "      <td>6.46</td>\n",
       "      <td>86.0</td>\n",
       "      <td>4.3</td>\n",
       "    </tr>\n",
       "  </tbody>\n",
       "</table>\n",
       "</div>"
      ],
      "text/plain": [
       "     total_sales  critic_score  user_score\n",
       "16         21.05          97.0         8.2\n",
       "34         13.79          83.0         5.3\n",
       "69          9.36          71.0         2.6\n",
       "81          8.17          88.0         6.6\n",
       "126         6.46          86.0         4.3"
      ]
     },
     "execution_count": 40,
     "metadata": {},
     "output_type": "execute_result"
    }
   ],
   "source": [
    "PS3_ratings = PS3_games_sales.loc[:,['total_sales', 'critic_score', 'user_score']]\n",
    "PS3_ratings.head()"
   ]
  },
  {
   "cell_type": "code",
   "execution_count": 41,
   "metadata": {},
   "outputs": [
    {
     "data": {
      "text/html": [
       "<div>\n",
       "<style scoped>\n",
       "    .dataframe tbody tr th:only-of-type {\n",
       "        vertical-align: middle;\n",
       "    }\n",
       "\n",
       "    .dataframe tbody tr th {\n",
       "        vertical-align: top;\n",
       "    }\n",
       "\n",
       "    .dataframe thead th {\n",
       "        text-align: right;\n",
       "    }\n",
       "</style>\n",
       "<table border=\"1\" class=\"dataframe\">\n",
       "  <thead>\n",
       "    <tr style=\"text-align: right;\">\n",
       "      <th></th>\n",
       "      <th>total_sales</th>\n",
       "      <th>critic_score</th>\n",
       "      <th>user_score</th>\n",
       "    </tr>\n",
       "  </thead>\n",
       "  <tbody>\n",
       "    <tr>\n",
       "      <th>total_sales</th>\n",
       "      <td>1.000000</td>\n",
       "      <td>0.331497</td>\n",
       "      <td>-0.005144</td>\n",
       "    </tr>\n",
       "    <tr>\n",
       "      <th>critic_score</th>\n",
       "      <td>0.331497</td>\n",
       "      <td>1.000000</td>\n",
       "      <td>0.539456</td>\n",
       "    </tr>\n",
       "    <tr>\n",
       "      <th>user_score</th>\n",
       "      <td>-0.005144</td>\n",
       "      <td>0.539456</td>\n",
       "      <td>1.000000</td>\n",
       "    </tr>\n",
       "  </tbody>\n",
       "</table>\n",
       "</div>"
      ],
      "text/plain": [
       "              total_sales  critic_score  user_score\n",
       "total_sales      1.000000      0.331497   -0.005144\n",
       "critic_score     0.331497      1.000000    0.539456\n",
       "user_score      -0.005144      0.539456    1.000000"
      ]
     },
     "execution_count": 41,
     "metadata": {},
     "output_type": "execute_result"
    }
   ],
   "source": [
    "PS3_ratings.corr()"
   ]
  },
  {
   "cell_type": "code",
   "execution_count": 42,
   "metadata": {},
   "outputs": [
    {
     "data": {
      "text/html": [
       "<div>\n",
       "<style scoped>\n",
       "    .dataframe tbody tr th:only-of-type {\n",
       "        vertical-align: middle;\n",
       "    }\n",
       "\n",
       "    .dataframe tbody tr th {\n",
       "        vertical-align: top;\n",
       "    }\n",
       "\n",
       "    .dataframe thead th {\n",
       "        text-align: right;\n",
       "    }\n",
       "</style>\n",
       "<table border=\"1\" class=\"dataframe\">\n",
       "  <thead>\n",
       "    <tr style=\"text-align: right;\">\n",
       "      <th></th>\n",
       "      <th>total_sales</th>\n",
       "      <th>critic_score</th>\n",
       "      <th>user_score</th>\n",
       "    </tr>\n",
       "  </thead>\n",
       "  <tbody>\n",
       "    <tr>\n",
       "      <th>99</th>\n",
       "      <td>7.39</td>\n",
       "      <td>NaN</td>\n",
       "      <td>NaN</td>\n",
       "    </tr>\n",
       "    <tr>\n",
       "      <th>165</th>\n",
       "      <td>5.47</td>\n",
       "      <td>97.0</td>\n",
       "      <td>7.9</td>\n",
       "    </tr>\n",
       "    <tr>\n",
       "      <th>179</th>\n",
       "      <td>5.26</td>\n",
       "      <td>81.0</td>\n",
       "      <td>5.4</td>\n",
       "    </tr>\n",
       "    <tr>\n",
       "      <th>242</th>\n",
       "      <td>4.49</td>\n",
       "      <td>84.0</td>\n",
       "      <td>6.4</td>\n",
       "    </tr>\n",
       "    <tr>\n",
       "      <th>270</th>\n",
       "      <td>4.22</td>\n",
       "      <td>88.0</td>\n",
       "      <td>6.2</td>\n",
       "    </tr>\n",
       "  </tbody>\n",
       "</table>\n",
       "</div>"
      ],
      "text/plain": [
       "     total_sales  critic_score  user_score\n",
       "99          7.39           NaN         NaN\n",
       "165         5.47          97.0         7.9\n",
       "179         5.26          81.0         5.4\n",
       "242         4.49          84.0         6.4\n",
       "270         4.22          88.0         6.2"
      ]
     },
     "execution_count": 42,
     "metadata": {},
     "output_type": "execute_result"
    }
   ],
   "source": [
    "XOne_ratings = XOne_games_sales.loc[:,['total_sales', 'critic_score', 'user_score']]\n",
    "XOne_ratings.head()"
   ]
  },
  {
   "cell_type": "code",
   "execution_count": 43,
   "metadata": {},
   "outputs": [
    {
     "data": {
      "text/html": [
       "<div>\n",
       "<style scoped>\n",
       "    .dataframe tbody tr th:only-of-type {\n",
       "        vertical-align: middle;\n",
       "    }\n",
       "\n",
       "    .dataframe tbody tr th {\n",
       "        vertical-align: top;\n",
       "    }\n",
       "\n",
       "    .dataframe thead th {\n",
       "        text-align: right;\n",
       "    }\n",
       "</style>\n",
       "<table border=\"1\" class=\"dataframe\">\n",
       "  <thead>\n",
       "    <tr style=\"text-align: right;\">\n",
       "      <th></th>\n",
       "      <th>total_sales</th>\n",
       "      <th>critic_score</th>\n",
       "      <th>user_score</th>\n",
       "    </tr>\n",
       "  </thead>\n",
       "  <tbody>\n",
       "    <tr>\n",
       "      <th>total_sales</th>\n",
       "      <td>1.000000</td>\n",
       "      <td>0.416998</td>\n",
       "      <td>-0.068925</td>\n",
       "    </tr>\n",
       "    <tr>\n",
       "      <th>critic_score</th>\n",
       "      <td>0.416998</td>\n",
       "      <td>1.000000</td>\n",
       "      <td>0.472462</td>\n",
       "    </tr>\n",
       "    <tr>\n",
       "      <th>user_score</th>\n",
       "      <td>-0.068925</td>\n",
       "      <td>0.472462</td>\n",
       "      <td>1.000000</td>\n",
       "    </tr>\n",
       "  </tbody>\n",
       "</table>\n",
       "</div>"
      ],
      "text/plain": [
       "              total_sales  critic_score  user_score\n",
       "total_sales      1.000000      0.416998   -0.068925\n",
       "critic_score     0.416998      1.000000    0.472462\n",
       "user_score      -0.068925      0.472462    1.000000"
      ]
     },
     "execution_count": 43,
     "metadata": {},
     "output_type": "execute_result"
    }
   ],
   "source": [
    "XOne_ratings.corr()"
   ]
  },
  {
   "cell_type": "code",
   "execution_count": 44,
   "metadata": {},
   "outputs": [
    {
     "data": {
      "text/html": [
       "<div>\n",
       "<style scoped>\n",
       "    .dataframe tbody tr th:only-of-type {\n",
       "        vertical-align: middle;\n",
       "    }\n",
       "\n",
       "    .dataframe tbody tr th {\n",
       "        vertical-align: top;\n",
       "    }\n",
       "\n",
       "    .dataframe thead th {\n",
       "        text-align: right;\n",
       "    }\n",
       "</style>\n",
       "<table border=\"1\" class=\"dataframe\">\n",
       "  <thead>\n",
       "    <tr style=\"text-align: right;\">\n",
       "      <th></th>\n",
       "      <th>total_sales</th>\n",
       "      <th>critic_score</th>\n",
       "      <th>user_score</th>\n",
       "    </tr>\n",
       "  </thead>\n",
       "  <tbody>\n",
       "    <tr>\n",
       "      <th>23</th>\n",
       "      <td>16.27</td>\n",
       "      <td>97.0</td>\n",
       "      <td>8.1</td>\n",
       "    </tr>\n",
       "    <tr>\n",
       "      <th>35</th>\n",
       "      <td>13.68</td>\n",
       "      <td>83.0</td>\n",
       "      <td>4.8</td>\n",
       "    </tr>\n",
       "    <tr>\n",
       "      <th>60</th>\n",
       "      <td>10.24</td>\n",
       "      <td>73.0</td>\n",
       "      <td>2.6</td>\n",
       "    </tr>\n",
       "    <tr>\n",
       "      <th>66</th>\n",
       "      <td>9.71</td>\n",
       "      <td>87.0</td>\n",
       "      <td>7.0</td>\n",
       "    </tr>\n",
       "    <tr>\n",
       "      <th>72</th>\n",
       "      <td>9.18</td>\n",
       "      <td>NaN</td>\n",
       "      <td>NaN</td>\n",
       "    </tr>\n",
       "  </tbody>\n",
       "</table>\n",
       "</div>"
      ],
      "text/plain": [
       "    total_sales  critic_score  user_score\n",
       "23        16.27          97.0         8.1\n",
       "35        13.68          83.0         4.8\n",
       "60        10.24          73.0         2.6\n",
       "66         9.71          87.0         7.0\n",
       "72         9.18           NaN         NaN"
      ]
     },
     "execution_count": 44,
     "metadata": {},
     "output_type": "execute_result"
    }
   ],
   "source": [
    "X360_ratings = X360_games_sales.loc[:,['total_sales', 'critic_score', 'user_score']]\n",
    "X360_ratings.head()"
   ]
  },
  {
   "cell_type": "code",
   "execution_count": 45,
   "metadata": {},
   "outputs": [
    {
     "data": {
      "text/html": [
       "<div>\n",
       "<style scoped>\n",
       "    .dataframe tbody tr th:only-of-type {\n",
       "        vertical-align: middle;\n",
       "    }\n",
       "\n",
       "    .dataframe tbody tr th {\n",
       "        vertical-align: top;\n",
       "    }\n",
       "\n",
       "    .dataframe thead th {\n",
       "        text-align: right;\n",
       "    }\n",
       "</style>\n",
       "<table border=\"1\" class=\"dataframe\">\n",
       "  <thead>\n",
       "    <tr style=\"text-align: right;\">\n",
       "      <th></th>\n",
       "      <th>total_sales</th>\n",
       "      <th>critic_score</th>\n",
       "      <th>user_score</th>\n",
       "    </tr>\n",
       "  </thead>\n",
       "  <tbody>\n",
       "    <tr>\n",
       "      <th>total_sales</th>\n",
       "      <td>1.000000</td>\n",
       "      <td>0.360573</td>\n",
       "      <td>0.006164</td>\n",
       "    </tr>\n",
       "    <tr>\n",
       "      <th>critic_score</th>\n",
       "      <td>0.360573</td>\n",
       "      <td>1.000000</td>\n",
       "      <td>0.557352</td>\n",
       "    </tr>\n",
       "    <tr>\n",
       "      <th>user_score</th>\n",
       "      <td>0.006164</td>\n",
       "      <td>0.557352</td>\n",
       "      <td>1.000000</td>\n",
       "    </tr>\n",
       "  </tbody>\n",
       "</table>\n",
       "</div>"
      ],
      "text/plain": [
       "              total_sales  critic_score  user_score\n",
       "total_sales      1.000000      0.360573    0.006164\n",
       "critic_score     0.360573      1.000000    0.557352\n",
       "user_score       0.006164      0.557352    1.000000"
      ]
     },
     "execution_count": 45,
     "metadata": {},
     "output_type": "execute_result"
    }
   ],
   "source": [
    "X360_ratings.corr()"
   ]
  },
  {
   "cell_type": "code",
   "execution_count": 46,
   "metadata": {},
   "outputs": [
    {
     "data": {
      "text/html": [
       "<div>\n",
       "<style scoped>\n",
       "    .dataframe tbody tr th:only-of-type {\n",
       "        vertical-align: middle;\n",
       "    }\n",
       "\n",
       "    .dataframe tbody tr th {\n",
       "        vertical-align: top;\n",
       "    }\n",
       "\n",
       "    .dataframe thead th {\n",
       "        text-align: right;\n",
       "    }\n",
       "</style>\n",
       "<table border=\"1\" class=\"dataframe\">\n",
       "  <thead>\n",
       "    <tr style=\"text-align: right;\">\n",
       "      <th></th>\n",
       "      <th>total_sales</th>\n",
       "      <th>critic_score</th>\n",
       "      <th>user_score</th>\n",
       "    </tr>\n",
       "  </thead>\n",
       "  <tbody>\n",
       "    <tr>\n",
       "      <th>33</th>\n",
       "      <td>14.60</td>\n",
       "      <td>NaN</td>\n",
       "      <td>NaN</td>\n",
       "    </tr>\n",
       "    <tr>\n",
       "      <th>47</th>\n",
       "      <td>11.68</td>\n",
       "      <td>NaN</td>\n",
       "      <td>NaN</td>\n",
       "    </tr>\n",
       "    <tr>\n",
       "      <th>62</th>\n",
       "      <td>9.90</td>\n",
       "      <td>78.0</td>\n",
       "      <td>7.2</td>\n",
       "    </tr>\n",
       "    <tr>\n",
       "      <th>73</th>\n",
       "      <td>9.17</td>\n",
       "      <td>88.0</td>\n",
       "      <td>8.7</td>\n",
       "    </tr>\n",
       "    <tr>\n",
       "      <th>96</th>\n",
       "      <td>7.55</td>\n",
       "      <td>NaN</td>\n",
       "      <td>NaN</td>\n",
       "    </tr>\n",
       "  </tbody>\n",
       "</table>\n",
       "</div>"
      ],
      "text/plain": [
       "    total_sales  critic_score  user_score\n",
       "33        14.60           NaN         NaN\n",
       "47        11.68           NaN         NaN\n",
       "62         9.90          78.0         7.2\n",
       "73         9.17          88.0         8.7\n",
       "96         7.55           NaN         NaN"
      ]
     },
     "execution_count": 46,
     "metadata": {},
     "output_type": "execute_result"
    }
   ],
   "source": [
    "_3DS_ratings = _3DS_games_sales.loc[:,['total_sales', 'critic_score', 'user_score']]\n",
    "_3DS_ratings.head()"
   ]
  },
  {
   "cell_type": "code",
   "execution_count": 47,
   "metadata": {},
   "outputs": [
    {
     "data": {
      "text/html": [
       "<div>\n",
       "<style scoped>\n",
       "    .dataframe tbody tr th:only-of-type {\n",
       "        vertical-align: middle;\n",
       "    }\n",
       "\n",
       "    .dataframe tbody tr th {\n",
       "        vertical-align: top;\n",
       "    }\n",
       "\n",
       "    .dataframe thead th {\n",
       "        text-align: right;\n",
       "    }\n",
       "</style>\n",
       "<table border=\"1\" class=\"dataframe\">\n",
       "  <thead>\n",
       "    <tr style=\"text-align: right;\">\n",
       "      <th></th>\n",
       "      <th>total_sales</th>\n",
       "      <th>critic_score</th>\n",
       "      <th>user_score</th>\n",
       "    </tr>\n",
       "  </thead>\n",
       "  <tbody>\n",
       "    <tr>\n",
       "      <th>total_sales</th>\n",
       "      <td>1.000000</td>\n",
       "      <td>0.320803</td>\n",
       "      <td>0.197583</td>\n",
       "    </tr>\n",
       "    <tr>\n",
       "      <th>critic_score</th>\n",
       "      <td>0.320803</td>\n",
       "      <td>1.000000</td>\n",
       "      <td>0.722762</td>\n",
       "    </tr>\n",
       "    <tr>\n",
       "      <th>user_score</th>\n",
       "      <td>0.197583</td>\n",
       "      <td>0.722762</td>\n",
       "      <td>1.000000</td>\n",
       "    </tr>\n",
       "  </tbody>\n",
       "</table>\n",
       "</div>"
      ],
      "text/plain": [
       "              total_sales  critic_score  user_score\n",
       "total_sales      1.000000      0.320803    0.197583\n",
       "critic_score     0.320803      1.000000    0.722762\n",
       "user_score       0.197583      0.722762    1.000000"
      ]
     },
     "execution_count": 47,
     "metadata": {},
     "output_type": "execute_result"
    }
   ],
   "source": [
    "_3DS_ratings.corr()"
   ]
  },
  {
   "cell_type": "markdown",
   "metadata": {},
   "source": [
    "<b>Вывод: </b> аналогичные выводы можно сделать и по корреляциям других платформ, а значит продажи игр действительно зависят от оценки критиков."
   ]
  },
  {
   "cell_type": "markdown",
   "metadata": {},
   "source": [
    "### Общее распределение игр по жанрам. Что можно сказать о самых прибыльных жанрах? Выделяются ли жанры с высокими и низкими продажами?"
   ]
  },
  {
   "cell_type": "code",
   "execution_count": 48,
   "metadata": {},
   "outputs": [
    {
     "data": {
      "text/html": [
       "<div>\n",
       "<style scoped>\n",
       "    .dataframe tbody tr th:only-of-type {\n",
       "        vertical-align: middle;\n",
       "    }\n",
       "\n",
       "    .dataframe tbody tr th {\n",
       "        vertical-align: top;\n",
       "    }\n",
       "\n",
       "    .dataframe thead th {\n",
       "        text-align: right;\n",
       "    }\n",
       "</style>\n",
       "<table border=\"1\" class=\"dataframe\">\n",
       "  <thead>\n",
       "    <tr style=\"text-align: right;\">\n",
       "      <th></th>\n",
       "      <th>total_sales</th>\n",
       "    </tr>\n",
       "    <tr>\n",
       "      <th>genre</th>\n",
       "      <th></th>\n",
       "    </tr>\n",
       "  </thead>\n",
       "  <tbody>\n",
       "    <tr>\n",
       "      <th>Shooter</th>\n",
       "      <td>1.296723</td>\n",
       "    </tr>\n",
       "    <tr>\n",
       "      <th>Platform</th>\n",
       "      <td>0.717647</td>\n",
       "    </tr>\n",
       "    <tr>\n",
       "      <th>Sports</th>\n",
       "      <td>0.675634</td>\n",
       "    </tr>\n",
       "    <tr>\n",
       "      <th>Role-Playing</th>\n",
       "      <td>0.521081</td>\n",
       "    </tr>\n",
       "    <tr>\n",
       "      <th>Racing</th>\n",
       "      <td>0.465217</td>\n",
       "    </tr>\n",
       "    <tr>\n",
       "      <th>Misc</th>\n",
       "      <td>0.442917</td>\n",
       "    </tr>\n",
       "    <tr>\n",
       "      <th>Simulation</th>\n",
       "      <td>0.439000</td>\n",
       "    </tr>\n",
       "    <tr>\n",
       "      <th>Action</th>\n",
       "      <td>0.427856</td>\n",
       "    </tr>\n",
       "    <tr>\n",
       "      <th>Fighting</th>\n",
       "      <td>0.408165</td>\n",
       "    </tr>\n",
       "    <tr>\n",
       "      <th>Strategy</th>\n",
       "      <td>0.187887</td>\n",
       "    </tr>\n",
       "    <tr>\n",
       "      <th>Puzzle</th>\n",
       "      <td>0.174643</td>\n",
       "    </tr>\n",
       "    <tr>\n",
       "      <th>Adventure</th>\n",
       "      <td>0.097450</td>\n",
       "    </tr>\n",
       "  </tbody>\n",
       "</table>\n",
       "</div>"
      ],
      "text/plain": [
       "              total_sales\n",
       "genre                    \n",
       "Shooter          1.296723\n",
       "Platform         0.717647\n",
       "Sports           0.675634\n",
       "Role-Playing     0.521081\n",
       "Racing           0.465217\n",
       "Misc             0.442917\n",
       "Simulation       0.439000\n",
       "Action           0.427856\n",
       "Fighting         0.408165\n",
       "Strategy         0.187887\n",
       "Puzzle           0.174643\n",
       "Adventure        0.097450"
      ]
     },
     "execution_count": 48,
     "metadata": {},
     "output_type": "execute_result"
    }
   ],
   "source": [
    "genre = pd.pivot_table(actual_games, index='genre', values='total_sales', aggfunc='mean').sort_values('total_sales', ascending=False)\n",
    "genre"
   ]
  },
  {
   "cell_type": "code",
   "execution_count": 49,
   "metadata": {},
   "outputs": [
    {
     "data": {
      "image/png": "[encoded data removed]",
      "text/plain": [
       "<Figure size 1368x720 with 1 Axes>"
      ]
     },
     "metadata": {
      "needs_background": "light"
     },
     "output_type": "display_data"
    }
   ],
   "source": [
    "(\n",
    "    genre.sort_values('total_sales')\n",
    "    .plot(kind = 'barh', figsize = (19,10), rot = -5, legend = False, fontsize = 16)\n",
    "    .set_title('Распределение прибыли игр по жанрам' + \"\\n\", fontsize = 22, color = 'SteelBlue')   \n",
    ");"
   ]
  },
  {
   "cell_type": "markdown",
   "metadata": {},
   "source": [
    "<b>Вывод: </b> самыми прибыльными жанрами являются Shooter, Platform и Sports. Меньше всего приносят прибыль жанра Adventure, Puzzle и Strategy. Но если было бы возможно уточнить данные по тому, сколько денег было потрачено на создание каждой игры и распределить по жанрам, я думаю, мы получили бы примерно похожий график, ведь менее продающиеся жанры требуют меньше всего средств на создание и среди игр этого жанра не так много крупных проектов, чего нельзя сказать о шутерах."
   ]
  },
  {
   "cell_type": "markdown",
   "metadata": {},
   "source": [
    "<div class=\"alert alert-info\">\n",
    "<font size=\"4\", color = \"black\"><b>✍ Общий вывод по анализу:</b></font>\n",
    "    <br /> \n",
    "    <font size=\"3\", color = \"black\">\n",
    "<br /> Были получены ответы на все интересующие вопросы. Благодаря анализу мы можем предположить, что в 2017 году самые большие продажи будут на платформах PS4 и XOne. Даже если выйдет новая приставка, переход игр и продаж на неё будет переходить плавно и в течение нескольких лет. Также самые большие продажи будут у игр жанра Шутер, Платформеры и Спортивные. "
   ]
  },
  {
   "cell_type": "markdown",
   "metadata": {},
   "source": [
    "## Портрет пользователя каждого региона"
   ]
  },
  {
   "cell_type": "markdown",
   "metadata": {},
   "source": [
    "### Самые популярные платформы"
   ]
  },
  {
   "cell_type": "code",
   "execution_count": 50,
   "metadata": {},
   "outputs": [
    {
     "data": {
      "image/png": "[encoded data removed]",
      "text/plain": [
       "<Figure size 720x360 with 1 Axes>"
      ]
     },
     "metadata": {
      "needs_background": "light"
     },
     "output_type": "display_data"
    }
   ],
   "source": [
    "NA_top = actual_games.pivot_table(index='platform', values='na_sales', aggfunc='sum')\n",
    "NA_top.columns = ['sum']\n",
    "NA_top = NA_top.sort_values(by=['sum'], ascending=False).iloc[:5].sort_values(by=['sum'])\n",
    "NA_top.plot(kind='barh', figsize=(10,5), title = 'Продажи игр в Северной Америке по платформам').set(xlabel='Проданные копии в млн.', ylabel='Платформы');"
   ]
  },
  {
   "cell_type": "code",
   "execution_count": 51,
   "metadata": {},
   "outputs": [
    {
     "data": {
      "image/png": "[encoded data removed]",
      "text/plain": [
       "<Figure size 720x360 with 1 Axes>"
      ]
     },
     "metadata": {
      "needs_background": "light"
     },
     "output_type": "display_data"
    }
   ],
   "source": [
    "EU_top = actual_games.pivot_table(index='platform', values='eu_sales', aggfunc='sum')\n",
    "EU_top.columns = ['sum']\n",
    "EU_top = EU_top.sort_values(by=['sum'], ascending=False).iloc[:5].sort_values(by=['sum'])\n",
    "EU_top.plot(kind='barh', figsize=(10,5), title = 'Продажи игр в Европе по платформам').set(xlabel='Проданные копии в млн.', ylabel='Платформы');"
   ]
  },
  {
   "cell_type": "code",
   "execution_count": 52,
   "metadata": {},
   "outputs": [
    {
     "data": {
      "image/png": "[encoded data removed]",
      "text/plain": [
       "<Figure size 720x360 with 1 Axes>"
      ]
     },
     "metadata": {
      "needs_background": "light"
     },
     "output_type": "display_data"
    }
   ],
   "source": [
    "JP_top = actual_games.pivot_table(index='platform', values='jp_sales', aggfunc='sum')\n",
    "JP_top.columns = ['sum']\n",
    "JP_top = JP_top.sort_values(by=['sum'], ascending=False).iloc[:5].sort_values(by=['sum'])\n",
    "JP_top.plot(kind='barh', figsize=(10,5), title = 'Продажи игр в Японии по платформам').set(xlabel='Проданные копии в млн.', ylabel='Платформы');"
   ]
  },
  {
   "cell_type": "markdown",
   "metadata": {},
   "source": [
    "<b>Вывод: </b> Топ-5 самых популярные платформы в Северной Америке и Европе совпадает, хотя в Европе больше любят PS3 и PS4, а в Северной Америке X360. Особенным получился топ-5 в Японии, где лидирует 3DS, что связано с тем, что у себя в регионе данная платформа популярна. "
   ]
  },
  {
   "cell_type": "markdown",
   "metadata": {},
   "source": [
    "### Самые популярные жанры"
   ]
  },
  {
   "cell_type": "code",
   "execution_count": 53,
   "metadata": {},
   "outputs": [
    {
     "data": {
      "image/png": "[encoded data removed]",
      "text/plain": [
       "<Figure size 720x360 with 1 Axes>"
      ]
     },
     "metadata": {
      "needs_background": "light"
     },
     "output_type": "display_data"
    }
   ],
   "source": [
    "NA_genre = actual_games.pivot_table(index='genre', values='na_sales', aggfunc='sum')\n",
    "NA_genre.columns = ['sum']\n",
    "NA_genre = NA_genre.sort_values(by=['sum'], ascending=False).iloc[:5].sort_values(by=['sum'])\n",
    "NA_genre.plot(kind='barh', figsize=(10,5), title = 'Продажи игр в Северной Америке по жанру').set(xlabel='Проданные копии в млн.', ylabel='Жанры');"
   ]
  },
  {
   "cell_type": "code",
   "execution_count": 54,
   "metadata": {},
   "outputs": [
    {
     "data": {
      "image/png": "[encoded data removed]",
      "text/plain": [
       "<Figure size 720x360 with 1 Axes>"
      ]
     },
     "metadata": {
      "needs_background": "light"
     },
     "output_type": "display_data"
    }
   ],
   "source": [
    "EU_genre = actual_games.pivot_table(index='genre', values='eu_sales', aggfunc='sum')\n",
    "EU_genre.columns = ['sum']\n",
    "EU_genre = EU_genre.sort_values(by=['sum'], ascending=False).iloc[:5].sort_values(by=['sum'])\n",
    "EU_genre.plot(kind='barh', figsize=(10,5), title = 'Продажи игр в Европе по жанру').set(xlabel='Проданные копии в млн.', ylabel='Жанры');"
   ]
  },
  {
   "cell_type": "code",
   "execution_count": 55,
   "metadata": {},
   "outputs": [
    {
     "data": {
      "image/png": "[encoded data removed]",
      "text/plain": [
       "<Figure size 720x360 with 1 Axes>"
      ]
     },
     "metadata": {
      "needs_background": "light"
     },
     "output_type": "display_data"
    }
   ],
   "source": [
    "JP_genre = actual_games.pivot_table(index='genre', values='jp_sales', aggfunc='sum')\n",
    "JP_genre.columns = ['sum']\n",
    "JP_genre = JP_genre.sort_values(by=['sum'], ascending=False).iloc[:5].sort_values(by=['sum'])\n",
    "JP_genre.plot(kind='barh', figsize=(10,5), title = 'Продажи игр в Японии по жанру').set(xlabel='Проданные копии в млн.', ylabel='Жанры');"
   ]
  },
  {
   "cell_type": "markdown",
   "metadata": {},
   "source": [
    "<b>Вывод: </b> Топ-5 самых популярных жанров в Северной Америке и Европе практически совпадает, разница лишь в 5 месте. И опять особенным получился топ-5 в Японии, где лидирует RPG с хорошим отрывом в 10 млн. проданных копий. Также в топ-5 вошли Simulation и Fighting, что обуславливается особенностями японской аудитории. Зато можно выделить жанр Action, который любят везде."
   ]
  },
  {
   "cell_type": "markdown",
   "metadata": {},
   "source": [
    "### Влияние рейтинга ESRB на продажи"
   ]
  },
  {
   "cell_type": "code",
   "execution_count": 56,
   "metadata": {},
   "outputs": [
    {
     "data": {
      "image/png": "[encoded data removed]",
      "text/plain": [
       "<Figure size 720x360 with 1 Axes>"
      ]
     },
     "metadata": {
      "needs_background": "light"
     },
     "output_type": "display_data"
    }
   ],
   "source": [
    "NA_ESRB = actual_games.pivot_table(index='rating', values='na_sales', aggfunc='sum')\n",
    "NA_ESRB.columns = ['sum']\n",
    "NA_ESRB = NA_ESRB.sort_values(by=['sum'])\n",
    "NA_ESRB.plot(kind='barh', figsize=(10,5), title = 'Продажи игр в Северной Америке по рейтингу').set(xlabel='Проданные копии в млн.', ylabel='ESRB рейтинг');"
   ]
  },
  {
   "cell_type": "code",
   "execution_count": 57,
   "metadata": {},
   "outputs": [
    {
     "data": {
      "image/png": "[encoded data removed]",
      "text/plain": [
       "<Figure size 720x360 with 1 Axes>"
      ]
     },
     "metadata": {
      "needs_background": "light"
     },
     "output_type": "display_data"
    }
   ],
   "source": [
    "EU_ESRB = actual_games.pivot_table(index='rating', values='eu_sales', aggfunc='sum')\n",
    "EU_ESRB.columns = ['sum']\n",
    "EU_ESRB = EU_ESRB.sort_values(by=['sum'])\n",
    "EU_ESRB.plot(kind='barh', figsize=(10,5), title = 'Продажи игр в Европе по рейтингу').set(xlabel='Проданные копии в млн.', ylabel='ESRB рейтинг');"
   ]
  },
  {
   "cell_type": "code",
   "execution_count": 58,
   "metadata": {},
   "outputs": [
    {
     "data": {
      "image/png": "[encoded data removed]",
      "text/plain": [
       "<Figure size 720x360 with 1 Axes>"
      ]
     },
     "metadata": {
      "needs_background": "light"
     },
     "output_type": "display_data"
    }
   ],
   "source": [
    "JP_ESRB = actual_games.pivot_table(index='rating', values='jp_sales', aggfunc='sum')\n",
    "JP_ESRB.columns = ['sum']\n",
    "JP_ESRB = JP_ESRB.sort_values(by=['sum'])\n",
    "JP_ESRB.plot(kind='barh', figsize=(10,5), title = 'Продажи игр в Японии по рейтингу').set(xlabel='Проданные копии в млн.', ylabel='ESRB рейтинг');"
   ]
  },
  {
   "cell_type": "markdown",
   "metadata": {},
   "source": [
    "<b>Вывод: </b> схожие продажи игр в зависимости от рейтинга в Европе и Северной Америке. С большим отрывом лидирует рейтинг Mature (17+). В Японии ситуация опять же отличается, лидируют игры без рейтинга, что можно объяснить тем, что рейтинг американский и не все игры японского производителя оцениваются. Тем не менее, даже из оцененных игр лидирует рейтинг E (для всех)."
   ]
  },
  {
   "cell_type": "markdown",
   "metadata": {},
   "source": [
    "<div class=\"alert alert-info\">\n",
    "<font size=\"4\", color = \"black\"><b>✍ Общий вывод по регионам:</b></font>\n",
    "    <br /> \n",
    "    <font size=\"3\", color = \"black\">\n",
    "<br /> В ходе анализа было выяснено, что популярные платформы и жанры, а также предпочитаемый рейтинг игр сильно отличаются от остальных в Японии. В Северной Америке и Европе вкусы очень схожи между собой. "
   ]
  },
  {
   "cell_type": "markdown",
   "metadata": {},
   "source": [
    "## Проверка гипотез"
   ]
  },
  {
   "cell_type": "markdown",
   "metadata": {},
   "source": [
    "### Средние пользовательские рейтинги платформ Xbox One и PC одинаковые"
   ]
  },
  {
   "cell_type": "markdown",
   "metadata": {},
   "source": [
    "Нулевая гипотеза: средние пользовательские рейтинги платформ Xbox One и PC равны. <br/>\n",
    "Альтернативная гипотеза: средние пользовательские рейтинги платформ Xbox One и PC не равны."
   ]
  },
  {
   "cell_type": "code",
   "execution_count": 59,
   "metadata": {},
   "outputs": [
    {
     "name": "stdout",
     "output_type": "stream",
     "text": [
      "p-значение: 0.5535102819461235\n",
      "Не получилось отвергнуть нулевую гипотезу\n"
     ]
    }
   ],
   "source": [
    "alpha = .05\n",
    "\n",
    "xone_ratings = actual_games[(actual_games['platform'] == 'XOne') & (actual_games['user_score'] > 0)]['user_score']\n",
    "pc_ratings = actual_games[(actual_games['platform'] == 'PC') & (actual_games['user_score'] > 0)]['user_score']\n",
    "\n",
    "results = st.ttest_ind(xone_ratings, pc_ratings)\n",
    "\n",
    "print('p-значение:', results.pvalue)\n",
    "\n",
    "if results.pvalue < alpha:\n",
    "    print('Отвергаем нулевую гипотезу')\n",
    "else:\n",
    "    print('Не получилось отвергнуть нулевую гипотезу') "
   ]
  },
  {
   "cell_type": "code",
   "execution_count": 60,
   "metadata": {},
   "outputs": [
    {
     "name": "stdout",
     "output_type": "stream",
     "text": [
      "6.521428\n"
     ]
    },
    {
     "data": {
      "text/plain": [
       "6.428641"
      ]
     },
     "execution_count": 60,
     "metadata": {},
     "output_type": "execute_result"
    }
   ],
   "source": [
    "print(xone_ratings.mean())\n",
    "pc_ratings.mean()"
   ]
  },
  {
   "cell_type": "markdown",
   "metadata": {},
   "source": [
    "Не получилось отвергнуть нулевую гипотезу, похоже на то, что средние пользовательские рейтинги платформ Xbox One и PC равны. На поставленный вопрос даем положительный ответ."
   ]
  },
  {
   "cell_type": "markdown",
   "metadata": {},
   "source": [
    "### Средние пользовательские рейтинги жанров Action (англ. «действие», экшен-игры) и Sports (англ. «спортивные соревнования») разные"
   ]
  },
  {
   "cell_type": "markdown",
   "metadata": {},
   "source": [
    "Нулевая гипотеза: средние пользовательские рейтинги жанров Action и Sports равны. <br/>\n",
    "Альтернативная гипотеза: средние пользовательские рейтинги жанров Action и Sports не равны."
   ]
  },
  {
   "cell_type": "code",
   "execution_count": 61,
   "metadata": {},
   "outputs": [
    {
     "name": "stdout",
     "output_type": "stream",
     "text": [
      "p-значение: 3.716101071226201e-26\n",
      "Отвергаем нулевую гипотезу\n"
     ]
    }
   ],
   "source": [
    "alpha = .05\n",
    "\n",
    "action_ratings = actual_games[(actual_games['genre'] == 'Action') & (actual_games['user_score'] > 0)]['user_score']\n",
    "sports_ratings = actual_games[(actual_games['genre'] == 'Sports') & (actual_games['user_score'] > 0)]['user_score']\n",
    "\n",
    "\n",
    "\n",
    "results = st.ttest_ind(action_ratings, sports_ratings)\n",
    "\n",
    "print('p-значение:', results.pvalue)\n",
    "\n",
    "if results.pvalue < alpha:\n",
    "    print('Отвергаем нулевую гипотезу')\n",
    "else:\n",
    "    print('Не получилось отвергнуть нулевую гипотезу') "
   ]
  },
  {
   "cell_type": "code",
   "execution_count": 62,
   "metadata": {
    "scrolled": true
   },
   "outputs": [
    {
     "name": "stdout",
     "output_type": "stream",
     "text": [
      "6.825048\n"
     ]
    },
    {
     "data": {
      "text/plain": [
       "5.455897"
      ]
     },
     "execution_count": 62,
     "metadata": {},
     "output_type": "execute_result"
    }
   ],
   "source": [
    "print(action_ratings.mean())\n",
    "sports_ratings.mean()"
   ]
  },
  {
   "cell_type": "markdown",
   "metadata": {},
   "source": [
    "Отвергаем нулевую гипотезу в пользу альтернативной и похоже на то, что средние пользовательские рейтинги не равны. На поставленный вопрос отвечаем положительно."
   ]
  },
  {
   "cell_type": "markdown",
   "metadata": {},
   "source": [
    "### Как была сформулирована нулевая и альтернативная гипотезы"
   ]
  },
  {
   "cell_type": "markdown",
   "metadata": {},
   "source": [
    "Для формулирования нулевой гипотезы необходимо обратиться к интересующему нас вопросу и сделать предположение на его основе. После этого нужно определить, какую мы хотим сформулировать альтернативную гипотезу: двустороннюю или одностороннюю. Для задания подходила двусторонняя, которая предполагает возможное отклонение и в большую, и в меньшую стороны. \n",
    "\n",
    "\n",
    "\n",
    "\n"
   ]
  },
  {
   "cell_type": "markdown",
   "metadata": {},
   "source": [
    "### Какой критерий был применен для проверки гипотез и почему:"
   ]
  },
  {
   "cell_type": "markdown",
   "metadata": {},
   "source": [
    "Был использован тест для проверки гипотезы о равенстве средних двух генеральных совокупностей.</b>\n",
    "\n",
    "Главными условиями для применения этого вида тестирования являются:\n",
    "- Генеральные совокупности не зависят друг от друга. \n",
    "- Выборочные средние нормально распределены. \n",
    "- Дисперсии рассматриваемых генеральных совокупностей равны. "
   ]
  },
  {
   "cell_type": "markdown",
   "metadata": {},
   "source": [
    "<b>Вывод: </b> в ходе проверки гипотез мы отвергли нулевую гипотезу о том, что средние пользовательские рейтинги жанров Action и Sports равны. Нулевую гипотезу о том, что средние пользовательские рейтинги платформ Xbox One и PC равны, отвергнуть не удалось. Таким образом, мы нашли ответы на интересующие вопросы. "
   ]
  },
  {
   "cell_type": "markdown",
   "metadata": {},
   "source": [
    "## Общий вывод"
   ]
  },
  {
   "cell_type": "markdown",
   "metadata": {},
   "source": [
    "<div class=\"alert alert-info\">\n",
    "<font size=\"3\", color = \"black\"> \n",
    "    \n",
    "<b> ✍Были выполнены следующие шаги:</b>\n",
    "    \n",
    "Шаг 1. Было дано краткое описание задание, проекта и плана действий. \n",
    "    <br /> <br /> \n",
    "Шаг 2. Импортированы библиотеки, загружен датафрейм и изучина информация по нему: обнаружены пропуски в столбцах Name, Year_of_Release, Genre, Critic_Score, User_Score, Rating, имеется некорректный тип данных для столбцов Year_of_Release, Critic_Score и User_Score.\n",
    "    <br /> <br /> \n",
    "Шаг 3. Обработаны данные: все названия столбцов приведены к нижнему регистру, приведены столбцы Year_of_Release, Critic_Score и User_Score к нужному типу, избавились от двух игр с пропущенными значениям почти во всех строках. Избавились от пропусков в Year_of_Release, а пропуски в столбцах с оценками было решено оставить. Был создан столбец с суммарными продажами по всем регионам.\n",
    "    <br />  <br />\n",
    "    \n",
    "Шаг 4. В ходе анализа данных мы:\n",
    "- Узнали сколько было игр выпущено в разные года.\n",
    "- Посмотрели как менялись продажи по платформам.\n",
    "- Определили актуальный период для дальнейшего исследования с 2012 по 2016 год.\n",
    "- Вывели топ-5 прибыльных платформ.\n",
    "- Построили информативные графики по глобальным продажам игр для каждой платформы.\n",
    "- Узнали как влияют на продажи отзывы пользователей и критиков для каждой платформы.\n",
    "- Определили самые прибыльные жанры для каждой платформы.\n",
    "- Сделали предположение, что в 2017 году самые большие продажи будут на платформах PS4 и XOne. \n",
    "<br /> <br /> \n",
    "\n",
    "Шаг 5. Был составлен портрет пользователя каждого региона: определили самую популярную платформу, жанр и рейтинг. Сделали вывод о том, что в среднем пользователи из Европы и Северной Америки схожи между собой, но кардинально отличается средний пользователь из Японии.    \n",
    "    <br /> <br /> \n",
    "Шаг 6. Были проверены следующие гипотезы:\n",
    "- Средние пользовательские рейтинги платформ Xbox One и PC одинаковые\n",
    "- Средние пользовательские рейтинги жанров Action (англ. «действие», экшен-игры) и Sports (англ. «спортивные соревнования») разные<br />\n",
    "\n",
    "По результатам проверки гипотез были даны ответы на задаваемые вопросы.<br /> <br /> \n",
    "    \n",
    "Шаг 7. Сформирован заключительный вывод по всей проделанной работе. <br /> <br /> \n",
    "    \n",
    "<b> При работе с данным проектом я научился и повторил каким образом: <br /> </b>\n",
    "    \n",
    "+ Читать тех. задание проекта\n",
    "+ Проводить предобработку данных\n",
    "+ Строить информативные визуализации\n",
    "+ Формировать выводы\n",
    "+ Заниматься предобработкой данных\n",
    "+ Объединять столбцы\n",
    "+ Формулировать нулевые и альтернативные гипотезы\n",
    "+ Проверять нулевые и альтернативные гипотезы\n",
    "+ Подбирать метод тестирования для каждой гипотезы\n",
    "\n",
    "В ходе проекта были закреплены знания о методах исследовательского и статистического анализа данных.  <br /> <br />\n",
    "\n",
    "<b> В ходе анализа были выделены определяющие успешность игры закономерности: платформа игры, жанр и оценка критиков. </b>\n",
    "    </font>\n",
    "    <br /> "
   ]
  },
  {
   "cell_type": "code",
   "execution_count": null,
   "metadata": {},
   "outputs": [],
   "source": []
  }
 ],
 "metadata": {
  "ExecuteTimeLog": [
   {
    "duration": 3,
    "start_time": "2023-06-05T07:28:57.090Z"
   },
   {
    "duration": 1226,
    "start_time": "2023-06-05T07:42:57.403Z"
   },
   {
    "duration": 168,
    "start_time": "2023-06-05T07:43:52.103Z"
   },
   {
    "duration": 16,
    "start_time": "2023-06-05T07:44:23.540Z"
   },
   {
    "duration": 26,
    "start_time": "2023-06-05T07:44:29.741Z"
   },
   {
    "duration": 19,
    "start_time": "2023-06-05T07:44:57.809Z"
   },
   {
    "duration": 14,
    "start_time": "2023-06-05T07:54:56.227Z"
   },
   {
    "duration": 106,
    "start_time": "2023-06-05T08:26:33.373Z"
   },
   {
    "duration": 5,
    "start_time": "2023-06-05T08:26:38.554Z"
   },
   {
    "duration": 5,
    "start_time": "2023-06-05T08:26:52.238Z"
   },
   {
    "duration": 9,
    "start_time": "2023-06-05T08:29:13.895Z"
   },
   {
    "duration": 21,
    "start_time": "2023-06-05T08:30:05.287Z"
   },
   {
    "duration": 5,
    "start_time": "2023-06-05T08:30:29.327Z"
   },
   {
    "duration": 19,
    "start_time": "2023-06-05T08:36:26.264Z"
   },
   {
    "duration": 1280,
    "start_time": "2023-06-06T06:06:26.054Z"
   },
   {
    "duration": 263,
    "start_time": "2023-06-06T06:06:27.344Z"
   },
   {
    "duration": 27,
    "start_time": "2023-06-06T06:06:27.609Z"
   },
   {
    "duration": 34,
    "start_time": "2023-06-06T06:06:27.637Z"
   },
   {
    "duration": 13,
    "start_time": "2023-06-06T06:06:27.673Z"
   },
   {
    "duration": 13,
    "start_time": "2023-06-06T06:06:27.687Z"
   },
   {
    "duration": 12,
    "start_time": "2023-06-06T06:06:27.701Z"
   },
   {
    "duration": 14,
    "start_time": "2023-06-06T06:06:27.725Z"
   },
   {
    "duration": 21,
    "start_time": "2023-06-06T06:06:27.740Z"
   },
   {
    "duration": 226,
    "start_time": "2023-06-06T06:06:27.762Z"
   },
   {
    "duration": 5,
    "start_time": "2023-06-06T06:06:27.990Z"
   },
   {
    "duration": 61,
    "start_time": "2023-06-06T06:06:27.997Z"
   },
   {
    "duration": 4,
    "start_time": "2023-06-06T06:08:11.377Z"
   },
   {
    "duration": 221,
    "start_time": "2023-06-06T06:08:16.850Z"
   },
   {
    "duration": 35,
    "start_time": "2023-06-06T06:11:10.040Z"
   },
   {
    "duration": 30,
    "start_time": "2023-06-06T06:12:35.267Z"
   },
   {
    "duration": 34,
    "start_time": "2023-06-06T06:12:42.038Z"
   },
   {
    "duration": 23,
    "start_time": "2023-06-06T06:20:25.349Z"
   },
   {
    "duration": 19,
    "start_time": "2023-06-06T06:20:57.320Z"
   },
   {
    "duration": 15,
    "start_time": "2023-06-06T06:21:07.573Z"
   },
   {
    "duration": 174,
    "start_time": "2023-06-06T06:22:57.277Z"
   },
   {
    "duration": 66,
    "start_time": "2023-06-06T06:23:22.094Z"
   },
   {
    "duration": 16,
    "start_time": "2023-06-06T06:23:41.395Z"
   },
   {
    "duration": 1129,
    "start_time": "2023-06-06T06:37:51.304Z"
   },
   {
    "duration": 129,
    "start_time": "2023-06-06T06:37:52.437Z"
   },
   {
    "duration": 18,
    "start_time": "2023-06-06T06:37:52.568Z"
   },
   {
    "duration": 64,
    "start_time": "2023-06-06T06:37:52.588Z"
   },
   {
    "duration": 22,
    "start_time": "2023-06-06T06:37:52.655Z"
   },
   {
    "duration": 27,
    "start_time": "2023-06-06T06:37:52.679Z"
   },
   {
    "duration": 6,
    "start_time": "2023-06-06T06:37:52.709Z"
   },
   {
    "duration": 13,
    "start_time": "2023-06-06T06:37:52.717Z"
   },
   {
    "duration": 38,
    "start_time": "2023-06-06T06:37:52.732Z"
   },
   {
    "duration": 4,
    "start_time": "2023-06-06T06:37:52.772Z"
   },
   {
    "duration": 252,
    "start_time": "2023-06-06T06:37:52.778Z"
   },
   {
    "duration": 29,
    "start_time": "2023-06-06T06:37:53.032Z"
   },
   {
    "duration": 5,
    "start_time": "2023-06-06T06:37:53.063Z"
   },
   {
    "duration": 33,
    "start_time": "2023-06-06T06:37:53.070Z"
   },
   {
    "duration": 21,
    "start_time": "2023-06-06T06:37:53.105Z"
   },
   {
    "duration": 25,
    "start_time": "2023-06-06T06:37:53.128Z"
   },
   {
    "duration": 203,
    "start_time": "2023-06-06T06:37:53.154Z"
   },
   {
    "duration": 17,
    "start_time": "2023-06-06T06:42:44.955Z"
   },
   {
    "duration": 58,
    "start_time": "2023-06-07T06:36:26.301Z"
   },
   {
    "duration": 1200,
    "start_time": "2023-06-07T06:36:46.974Z"
   },
   {
    "duration": 236,
    "start_time": "2023-06-07T06:36:48.176Z"
   },
   {
    "duration": 19,
    "start_time": "2023-06-07T06:36:48.413Z"
   },
   {
    "duration": 29,
    "start_time": "2023-06-07T06:36:48.434Z"
   },
   {
    "duration": 16,
    "start_time": "2023-06-07T06:36:48.464Z"
   },
   {
    "duration": 14,
    "start_time": "2023-06-07T06:36:48.482Z"
   },
   {
    "duration": 7,
    "start_time": "2023-06-07T06:36:48.498Z"
   },
   {
    "duration": 6,
    "start_time": "2023-06-07T06:36:48.506Z"
   },
   {
    "duration": 25,
    "start_time": "2023-06-07T06:36:48.514Z"
   },
   {
    "duration": 4,
    "start_time": "2023-06-07T06:36:48.542Z"
   },
   {
    "duration": 207,
    "start_time": "2023-06-07T06:36:48.574Z"
   },
   {
    "duration": 19,
    "start_time": "2023-06-07T06:36:48.782Z"
   },
   {
    "duration": 6,
    "start_time": "2023-06-07T06:36:48.803Z"
   },
   {
    "duration": 19,
    "start_time": "2023-06-07T06:36:48.811Z"
   },
   {
    "duration": 12,
    "start_time": "2023-06-07T06:36:48.832Z"
   },
   {
    "duration": 44,
    "start_time": "2023-06-07T06:36:48.845Z"
   },
   {
    "duration": 184,
    "start_time": "2023-06-07T06:36:48.891Z"
   },
   {
    "duration": 15,
    "start_time": "2023-06-07T06:36:49.077Z"
   },
   {
    "duration": 13,
    "start_time": "2023-06-07T06:36:49.094Z"
   },
   {
    "duration": 139,
    "start_time": "2023-06-07T06:40:58.962Z"
   },
   {
    "duration": 13,
    "start_time": "2023-06-07T06:41:15.842Z"
   },
   {
    "duration": 96,
    "start_time": "2023-06-07T06:41:45.150Z"
   },
   {
    "duration": 13,
    "start_time": "2023-06-07T06:41:52.944Z"
   },
   {
    "duration": 16,
    "start_time": "2023-06-07T06:43:24.715Z"
   },
   {
    "duration": 16,
    "start_time": "2023-06-07T06:43:50.904Z"
   },
   {
    "duration": 344,
    "start_time": "2023-06-07T06:44:24.967Z"
   },
   {
    "duration": 336,
    "start_time": "2023-06-07T06:44:45.692Z"
   },
   {
    "duration": 324,
    "start_time": "2023-06-07T06:45:07.272Z"
   },
   {
    "duration": 457,
    "start_time": "2023-06-07T06:46:23.906Z"
   },
   {
    "duration": 340,
    "start_time": "2023-06-07T06:47:18.831Z"
   },
   {
    "duration": 10,
    "start_time": "2023-06-07T06:59:22.376Z"
   },
   {
    "duration": 16,
    "start_time": "2023-06-07T06:59:45.530Z"
   },
   {
    "duration": 333,
    "start_time": "2023-06-07T07:00:32.772Z"
   },
   {
    "duration": 323,
    "start_time": "2023-06-07T07:00:38.756Z"
   },
   {
    "duration": 302,
    "start_time": "2023-06-07T07:00:47.984Z"
   },
   {
    "duration": 321,
    "start_time": "2023-06-07T07:01:03.272Z"
   },
   {
    "duration": 15,
    "start_time": "2023-06-07T07:01:21.747Z"
   },
   {
    "duration": 397,
    "start_time": "2023-06-07T07:01:49.172Z"
   },
   {
    "duration": 321,
    "start_time": "2023-06-07T07:01:59.153Z"
   },
   {
    "duration": 6,
    "start_time": "2023-06-07T07:05:14.900Z"
   },
   {
    "duration": 68,
    "start_time": "2023-06-07T07:05:55.944Z"
   },
   {
    "duration": 81,
    "start_time": "2023-06-07T07:06:16.383Z"
   },
   {
    "duration": 106,
    "start_time": "2023-06-07T07:06:23.747Z"
   },
   {
    "duration": 14,
    "start_time": "2023-06-07T07:06:30.059Z"
   },
   {
    "duration": 8,
    "start_time": "2023-06-07T07:06:44.973Z"
   },
   {
    "duration": 5,
    "start_time": "2023-06-07T07:14:04.421Z"
   },
   {
    "duration": 5,
    "start_time": "2023-06-07T07:14:27.975Z"
   },
   {
    "duration": 28,
    "start_time": "2023-06-07T07:15:52.642Z"
   },
   {
    "duration": 27,
    "start_time": "2023-06-07T07:16:09.648Z"
   },
   {
    "duration": 10,
    "start_time": "2023-06-07T07:21:10.273Z"
   },
   {
    "duration": 8,
    "start_time": "2023-06-07T07:21:14.324Z"
   },
   {
    "duration": 7,
    "start_time": "2023-06-07T07:22:04.026Z"
   },
   {
    "duration": 26,
    "start_time": "2023-06-07T07:22:10.559Z"
   },
   {
    "duration": 73,
    "start_time": "2023-06-07T07:22:14.502Z"
   },
   {
    "duration": 70,
    "start_time": "2023-06-07T07:22:54.699Z"
   },
   {
    "duration": 96,
    "start_time": "2023-06-07T07:23:05.564Z"
   },
   {
    "duration": 67,
    "start_time": "2023-06-07T07:24:30.297Z"
   },
   {
    "duration": 19,
    "start_time": "2023-06-07T07:48:36.297Z"
   },
   {
    "duration": 10,
    "start_time": "2023-06-07T07:49:45.194Z"
   },
   {
    "duration": 19,
    "start_time": "2023-06-07T07:49:53.835Z"
   },
   {
    "duration": 19,
    "start_time": "2023-06-07T07:50:29.226Z"
   },
   {
    "duration": 22,
    "start_time": "2023-06-07T07:51:54.642Z"
   },
   {
    "duration": 17,
    "start_time": "2023-06-07T07:52:42.782Z"
   },
   {
    "duration": 24,
    "start_time": "2023-06-07T07:52:48.656Z"
   },
   {
    "duration": 21,
    "start_time": "2023-06-07T07:53:55.498Z"
   },
   {
    "duration": 21,
    "start_time": "2023-06-07T07:54:03.034Z"
   },
   {
    "duration": 20,
    "start_time": "2023-06-07T07:54:05.891Z"
   },
   {
    "duration": 4,
    "start_time": "2023-06-07T07:57:01.012Z"
   },
   {
    "duration": 15,
    "start_time": "2023-06-07T07:57:55.105Z"
   },
   {
    "duration": 5,
    "start_time": "2023-06-07T07:58:12.172Z"
   },
   {
    "duration": 4,
    "start_time": "2023-06-07T07:58:20.167Z"
   },
   {
    "duration": 1311,
    "start_time": "2023-06-07T08:01:39.978Z"
   },
   {
    "duration": 1434,
    "start_time": "2023-06-07T08:02:37.199Z"
   },
   {
    "duration": 11,
    "start_time": "2023-06-07T08:04:28.805Z"
   },
   {
    "duration": 11,
    "start_time": "2023-06-07T08:04:47.311Z"
   },
   {
    "duration": 1392,
    "start_time": "2023-06-07T08:04:59.710Z"
   },
   {
    "duration": 1638,
    "start_time": "2023-06-07T08:05:33.589Z"
   },
   {
    "duration": 1366,
    "start_time": "2023-06-07T08:06:05.912Z"
   },
   {
    "duration": 1533,
    "start_time": "2023-06-07T08:07:53.645Z"
   },
   {
    "duration": 73,
    "start_time": "2023-06-07T08:08:11.153Z"
   },
   {
    "duration": 1387,
    "start_time": "2023-06-07T08:08:14.749Z"
   },
   {
    "duration": 1284,
    "start_time": "2023-06-07T08:08:38.420Z"
   },
   {
    "duration": 1590,
    "start_time": "2023-06-07T08:09:31.458Z"
   },
   {
    "duration": 1453,
    "start_time": "2023-06-07T08:09:37.860Z"
   },
   {
    "duration": 15,
    "start_time": "2023-06-07T08:13:32.310Z"
   },
   {
    "duration": 15,
    "start_time": "2023-06-07T08:13:43.120Z"
   },
   {
    "duration": 4,
    "start_time": "2023-06-07T08:13:53.103Z"
   },
   {
    "duration": 5,
    "start_time": "2023-06-07T08:14:17.935Z"
   },
   {
    "duration": 874,
    "start_time": "2023-06-07T08:14:27.086Z"
   },
   {
    "duration": 114,
    "start_time": "2023-06-07T08:23:45.400Z"
   },
   {
    "duration": 107,
    "start_time": "2023-06-07T08:23:52.132Z"
   },
   {
    "duration": 139,
    "start_time": "2023-06-07T08:24:14.803Z"
   },
   {
    "duration": 98,
    "start_time": "2023-06-07T08:24:20.558Z"
   },
   {
    "duration": 99,
    "start_time": "2023-06-07T08:24:25.242Z"
   },
   {
    "duration": 114,
    "start_time": "2023-06-07T08:24:30.443Z"
   },
   {
    "duration": 26,
    "start_time": "2023-06-07T08:26:19.187Z"
   },
   {
    "duration": 21,
    "start_time": "2023-06-07T08:26:26.455Z"
   },
   {
    "duration": 123,
    "start_time": "2023-06-07T08:26:48.943Z"
   },
   {
    "duration": 201,
    "start_time": "2023-06-07T08:26:59.750Z"
   },
   {
    "duration": 207,
    "start_time": "2023-06-07T08:29:11.007Z"
   },
   {
    "duration": 169,
    "start_time": "2023-06-07T08:29:48.340Z"
   },
   {
    "duration": 204,
    "start_time": "2023-06-07T08:30:13.814Z"
   },
   {
    "duration": 226,
    "start_time": "2023-06-07T08:31:23.445Z"
   },
   {
    "duration": 169,
    "start_time": "2023-06-07T08:31:34.766Z"
   },
   {
    "duration": 130,
    "start_time": "2023-06-07T08:32:08.759Z"
   },
   {
    "duration": 132,
    "start_time": "2023-06-07T08:32:32.067Z"
   },
   {
    "duration": 138,
    "start_time": "2023-06-07T08:32:48.405Z"
   },
   {
    "duration": 186,
    "start_time": "2023-06-07T08:33:30.848Z"
   },
   {
    "duration": 144,
    "start_time": "2023-06-07T08:34:56.799Z"
   },
   {
    "duration": 193,
    "start_time": "2023-06-07T08:35:11.980Z"
   },
   {
    "duration": 158,
    "start_time": "2023-06-07T08:35:24.186Z"
   },
   {
    "duration": 203,
    "start_time": "2023-06-07T08:35:34.912Z"
   },
   {
    "duration": 147,
    "start_time": "2023-06-07T08:35:45.202Z"
   },
   {
    "duration": 137,
    "start_time": "2023-06-07T08:35:54.564Z"
   },
   {
    "duration": 897,
    "start_time": "2023-06-07T08:37:26.492Z"
   },
   {
    "duration": 17,
    "start_time": "2023-06-07T09:04:34.811Z"
   },
   {
    "duration": 10,
    "start_time": "2023-06-07T09:04:53.360Z"
   },
   {
    "duration": 733,
    "start_time": "2023-06-07T09:05:18.477Z"
   },
   {
    "duration": 707,
    "start_time": "2023-06-07T09:05:22.630Z"
   },
   {
    "duration": 845,
    "start_time": "2023-06-07T09:06:18.259Z"
   },
   {
    "duration": 765,
    "start_time": "2023-06-07T09:08:13.696Z"
   },
   {
    "duration": 753,
    "start_time": "2023-06-07T09:08:30.570Z"
   },
   {
    "duration": 962,
    "start_time": "2023-06-07T09:13:03.295Z"
   },
   {
    "duration": 25,
    "start_time": "2023-06-07T09:14:08.364Z"
   },
   {
    "duration": 118,
    "start_time": "2023-06-07T09:15:00.798Z"
   },
   {
    "duration": 213,
    "start_time": "2023-06-07T09:15:09.702Z"
   },
   {
    "duration": 242,
    "start_time": "2023-06-07T09:15:16.012Z"
   },
   {
    "duration": 221,
    "start_time": "2023-06-07T09:15:20.540Z"
   },
   {
    "duration": 208,
    "start_time": "2023-06-07T09:15:26.353Z"
   },
   {
    "duration": 226,
    "start_time": "2023-06-07T09:15:44.748Z"
   },
   {
    "duration": 206,
    "start_time": "2023-06-07T09:16:29.612Z"
   },
   {
    "duration": 198,
    "start_time": "2023-06-07T09:16:37.640Z"
   },
   {
    "duration": 202,
    "start_time": "2023-06-07T09:17:30.113Z"
   },
   {
    "duration": 219,
    "start_time": "2023-06-07T09:17:46.142Z"
   },
   {
    "duration": 200,
    "start_time": "2023-06-07T09:17:50.932Z"
   },
   {
    "duration": 303,
    "start_time": "2023-06-07T09:25:04.175Z"
   },
   {
    "duration": 239,
    "start_time": "2023-06-07T09:25:08.158Z"
   },
   {
    "duration": 54,
    "start_time": "2023-06-07T13:16:18.707Z"
   },
   {
    "duration": 7,
    "start_time": "2023-06-07T13:16:47.592Z"
   },
   {
    "duration": 1234,
    "start_time": "2023-06-07T13:17:18.383Z"
   },
   {
    "duration": 159,
    "start_time": "2023-06-07T13:17:19.619Z"
   },
   {
    "duration": 18,
    "start_time": "2023-06-07T13:17:19.779Z"
   },
   {
    "duration": 28,
    "start_time": "2023-06-07T13:17:19.799Z"
   },
   {
    "duration": 20,
    "start_time": "2023-06-07T13:17:19.828Z"
   },
   {
    "duration": 12,
    "start_time": "2023-06-07T13:17:19.849Z"
   },
   {
    "duration": 8,
    "start_time": "2023-06-07T13:17:19.862Z"
   },
   {
    "duration": 8,
    "start_time": "2023-06-07T13:17:19.871Z"
   },
   {
    "duration": 27,
    "start_time": "2023-06-07T13:17:19.881Z"
   },
   {
    "duration": 4,
    "start_time": "2023-06-07T13:17:19.911Z"
   },
   {
    "duration": 455,
    "start_time": "2023-06-07T13:17:19.916Z"
   },
   {
    "duration": 70,
    "start_time": "2023-06-07T13:17:20.372Z"
   },
   {
    "duration": 5,
    "start_time": "2023-06-07T13:17:20.444Z"
   },
   {
    "duration": 27,
    "start_time": "2023-06-07T13:17:20.451Z"
   },
   {
    "duration": 63,
    "start_time": "2023-06-07T13:17:20.480Z"
   },
   {
    "duration": 16,
    "start_time": "2023-06-07T13:17:20.545Z"
   },
   {
    "duration": 381,
    "start_time": "2023-06-07T13:17:20.563Z"
   },
   {
    "duration": 19,
    "start_time": "2023-06-07T13:17:20.946Z"
   },
   {
    "duration": 720,
    "start_time": "2023-06-07T13:17:20.967Z"
   },
   {
    "duration": 425,
    "start_time": "2023-06-07T13:17:21.689Z"
   },
   {
    "duration": 6,
    "start_time": "2023-06-07T13:17:22.116Z"
   },
   {
    "duration": 93,
    "start_time": "2023-06-07T13:17:22.124Z"
   },
   {
    "duration": 14,
    "start_time": "2023-06-07T13:17:22.220Z"
   },
   {
    "duration": 23,
    "start_time": "2023-06-07T13:17:22.241Z"
   },
   {
    "duration": 22,
    "start_time": "2023-06-07T13:17:22.265Z"
   },
   {
    "duration": 769,
    "start_time": "2023-06-07T13:17:22.289Z"
   },
   {
    "duration": 140,
    "start_time": "2023-06-07T13:17:23.060Z"
   },
   {
    "duration": 262,
    "start_time": "2023-06-07T13:17:23.203Z"
   },
   {
    "duration": 142,
    "start_time": "2023-06-07T13:17:23.467Z"
   },
   {
    "duration": 161,
    "start_time": "2023-06-07T13:17:23.611Z"
   },
   {
    "duration": 152,
    "start_time": "2023-06-07T13:17:23.773Z"
   },
   {
    "duration": 153,
    "start_time": "2023-06-07T13:17:23.927Z"
   },
   {
    "duration": 11,
    "start_time": "2023-06-07T13:17:24.083Z"
   },
   {
    "duration": 20,
    "start_time": "2023-06-07T13:17:24.096Z"
   },
   {
    "duration": 217,
    "start_time": "2023-06-07T13:17:24.119Z"
   },
   {
    "duration": 199,
    "start_time": "2023-06-07T13:17:24.338Z"
   },
   {
    "duration": 10,
    "start_time": "2023-06-07T13:17:24.541Z"
   },
   {
    "duration": 19,
    "start_time": "2023-06-07T13:17:24.552Z"
   },
   {
    "duration": 10,
    "start_time": "2023-06-07T13:18:07.941Z"
   },
   {
    "duration": 10,
    "start_time": "2023-06-07T13:18:15.082Z"
   },
   {
    "duration": 11,
    "start_time": "2023-06-07T13:18:39.286Z"
   },
   {
    "duration": 11,
    "start_time": "2023-06-07T13:18:46.225Z"
   },
   {
    "duration": 10,
    "start_time": "2023-06-07T13:19:16.900Z"
   },
   {
    "duration": 9,
    "start_time": "2023-06-07T13:19:22.283Z"
   },
   {
    "duration": 21,
    "start_time": "2023-06-07T13:22:02.910Z"
   },
   {
    "duration": 15,
    "start_time": "2023-06-07T13:22:51.495Z"
   },
   {
    "duration": 225,
    "start_time": "2023-06-07T13:23:52.952Z"
   },
   {
    "duration": 227,
    "start_time": "2023-06-07T13:23:58.752Z"
   },
   {
    "duration": 207,
    "start_time": "2023-06-07T13:25:08.874Z"
   },
   {
    "duration": 61,
    "start_time": "2023-06-07T13:34:06.466Z"
   },
   {
    "duration": 105,
    "start_time": "2023-06-07T14:07:56.720Z"
   },
   {
    "duration": 194,
    "start_time": "2023-06-07T14:08:40.748Z"
   },
   {
    "duration": 290,
    "start_time": "2023-06-07T14:08:53.490Z"
   },
   {
    "duration": 240,
    "start_time": "2023-06-07T14:08:57.814Z"
   },
   {
    "duration": 223,
    "start_time": "2023-06-07T14:09:06.946Z"
   },
   {
    "duration": 33,
    "start_time": "2023-06-07T14:09:12.418Z"
   },
   {
    "duration": 246,
    "start_time": "2023-06-07T14:09:24.996Z"
   },
   {
    "duration": 244,
    "start_time": "2023-06-07T14:09:56.127Z"
   },
   {
    "duration": 244,
    "start_time": "2023-06-07T14:10:29.602Z"
   },
   {
    "duration": 213,
    "start_time": "2023-06-07T14:11:43.314Z"
   },
   {
    "duration": 206,
    "start_time": "2023-06-07T14:11:49.643Z"
   },
   {
    "duration": 189,
    "start_time": "2023-06-07T14:11:54.467Z"
   },
   {
    "duration": 180,
    "start_time": "2023-06-07T14:12:17.961Z"
   },
   {
    "duration": 188,
    "start_time": "2023-06-07T14:12:30.939Z"
   },
   {
    "duration": 348,
    "start_time": "2023-06-07T14:12:33.949Z"
   },
   {
    "duration": 188,
    "start_time": "2023-06-07T14:12:48.080Z"
   },
   {
    "duration": 211,
    "start_time": "2023-06-07T14:12:52.219Z"
   },
   {
    "duration": 223,
    "start_time": "2023-06-07T14:13:03.016Z"
   },
   {
    "duration": 169,
    "start_time": "2023-06-07T14:15:19.243Z"
   },
   {
    "duration": 164,
    "start_time": "2023-06-07T14:16:02.813Z"
   },
   {
    "duration": 160,
    "start_time": "2023-06-07T14:16:37.161Z"
   },
   {
    "duration": 18,
    "start_time": "2023-06-07T14:17:05.816Z"
   },
   {
    "duration": 18,
    "start_time": "2023-06-07T14:17:21.452Z"
   },
   {
    "duration": 200,
    "start_time": "2023-06-07T14:18:27.042Z"
   },
   {
    "duration": 12,
    "start_time": "2023-06-07T14:18:39.373Z"
   },
   {
    "duration": 19,
    "start_time": "2023-06-07T14:18:44.917Z"
   },
   {
    "duration": 20,
    "start_time": "2023-06-07T14:18:59.817Z"
   },
   {
    "duration": 17,
    "start_time": "2023-06-07T14:19:11.419Z"
   },
   {
    "duration": 19,
    "start_time": "2023-06-07T14:19:18.639Z"
   },
   {
    "duration": 21,
    "start_time": "2023-06-07T14:19:26.965Z"
   },
   {
    "duration": 18,
    "start_time": "2023-06-07T14:19:32.194Z"
   },
   {
    "duration": 19,
    "start_time": "2023-06-07T14:19:36.164Z"
   },
   {
    "duration": 182,
    "start_time": "2023-06-07T14:19:43.249Z"
   },
   {
    "duration": 185,
    "start_time": "2023-06-07T14:20:02.111Z"
   },
   {
    "duration": 172,
    "start_time": "2023-06-07T14:21:14.337Z"
   },
   {
    "duration": 314,
    "start_time": "2023-06-07T14:22:26.395Z"
   },
   {
    "duration": 175,
    "start_time": "2023-06-07T14:31:35.802Z"
   },
   {
    "duration": 194,
    "start_time": "2023-06-07T14:32:33.461Z"
   },
   {
    "duration": 207,
    "start_time": "2023-06-07T14:33:48.525Z"
   },
   {
    "duration": 152,
    "start_time": "2023-06-07T14:50:53.322Z"
   },
   {
    "duration": 149,
    "start_time": "2023-06-07T14:51:16.560Z"
   },
   {
    "duration": 154,
    "start_time": "2023-06-07T14:54:09.003Z"
   },
   {
    "duration": 177,
    "start_time": "2023-06-07T14:55:06.592Z"
   },
   {
    "duration": 139,
    "start_time": "2023-06-07T14:58:13.282Z"
   },
   {
    "duration": 159,
    "start_time": "2023-06-07T15:06:59.341Z"
   },
   {
    "duration": 320,
    "start_time": "2023-06-07T15:10:08.012Z"
   },
   {
    "duration": 2,
    "start_time": "2023-06-07T15:18:29.134Z"
   },
   {
    "duration": 47,
    "start_time": "2023-06-08T11:20:00.574Z"
   },
   {
    "duration": 18,
    "start_time": "2023-06-08T11:20:38.867Z"
   },
   {
    "duration": 103,
    "start_time": "2023-06-08T11:20:38.887Z"
   },
   {
    "duration": 92,
    "start_time": "2023-06-08T11:20:38.994Z"
   },
   {
    "duration": 93,
    "start_time": "2023-06-08T11:20:39.088Z"
   },
   {
    "duration": 78,
    "start_time": "2023-06-08T11:20:39.189Z"
   },
   {
    "duration": 19,
    "start_time": "2023-06-08T11:20:39.278Z"
   },
   {
    "duration": 6,
    "start_time": "2023-06-08T11:20:39.299Z"
   },
   {
    "duration": 55,
    "start_time": "2023-06-08T11:20:39.307Z"
   },
   {
    "duration": 45,
    "start_time": "2023-06-08T11:20:39.364Z"
   },
   {
    "duration": 7,
    "start_time": "2023-06-08T11:20:39.458Z"
   },
   {
    "duration": 531,
    "start_time": "2023-06-08T11:20:39.467Z"
   },
   {
    "duration": 85,
    "start_time": "2023-06-08T11:20:40.000Z"
   },
   {
    "duration": 22,
    "start_time": "2023-06-08T11:20:40.090Z"
   },
   {
    "duration": 48,
    "start_time": "2023-06-08T11:20:40.160Z"
   },
   {
    "duration": 64,
    "start_time": "2023-06-08T11:20:40.210Z"
   },
   {
    "duration": 20,
    "start_time": "2023-06-08T11:20:40.277Z"
   },
   {
    "duration": 503,
    "start_time": "2023-06-08T11:20:40.298Z"
   },
   {
    "duration": 86,
    "start_time": "2023-06-08T11:20:40.803Z"
   },
   {
    "duration": 572,
    "start_time": "2023-06-08T11:20:40.891Z"
   },
   {
    "duration": 347,
    "start_time": "2023-06-08T11:20:41.465Z"
   },
   {
    "duration": 5,
    "start_time": "2023-06-08T11:20:41.814Z"
   },
   {
    "duration": 185,
    "start_time": "2023-06-08T11:20:41.820Z"
   },
   {
    "duration": 14,
    "start_time": "2023-06-08T11:20:42.007Z"
   },
   {
    "duration": 14,
    "start_time": "2023-06-08T11:20:42.022Z"
   },
   {
    "duration": 9,
    "start_time": "2023-06-08T11:20:42.061Z"
   },
   {
    "duration": 871,
    "start_time": "2023-06-08T11:20:42.078Z"
   },
   {
    "duration": 168,
    "start_time": "2023-06-08T11:20:42.950Z"
   },
   {
    "duration": 182,
    "start_time": "2023-06-08T11:20:43.120Z"
   },
   {
    "duration": 186,
    "start_time": "2023-06-08T11:20:43.304Z"
   },
   {
    "duration": 226,
    "start_time": "2023-06-08T11:20:43.492Z"
   },
   {
    "duration": 186,
    "start_time": "2023-06-08T11:20:43.720Z"
   },
   {
    "duration": 190,
    "start_time": "2023-06-08T11:20:43.909Z"
   },
   {
    "duration": 10,
    "start_time": "2023-06-08T11:20:44.101Z"
   },
   {
    "duration": 15,
    "start_time": "2023-06-08T11:20:44.113Z"
   },
   {
    "duration": 249,
    "start_time": "2023-06-08T11:20:44.130Z"
   },
   {
    "duration": 286,
    "start_time": "2023-06-08T11:20:44.381Z"
   },
   {
    "duration": 16,
    "start_time": "2023-06-08T11:20:44.670Z"
   },
   {
    "duration": 13,
    "start_time": "2023-06-08T11:20:44.689Z"
   },
   {
    "duration": 16,
    "start_time": "2023-06-08T11:20:44.704Z"
   },
   {
    "duration": 13,
    "start_time": "2023-06-08T11:20:44.722Z"
   },
   {
    "duration": 46,
    "start_time": "2023-06-08T11:20:44.737Z"
   },
   {
    "duration": 9,
    "start_time": "2023-06-08T11:20:44.788Z"
   },
   {
    "duration": 35,
    "start_time": "2023-06-08T11:20:44.799Z"
   },
   {
    "duration": 30,
    "start_time": "2023-06-08T11:20:44.836Z"
   },
   {
    "duration": 19,
    "start_time": "2023-06-08T11:20:44.869Z"
   },
   {
    "duration": 393,
    "start_time": "2023-06-08T11:20:44.891Z"
   },
   {
    "duration": 197,
    "start_time": "2023-06-08T11:20:45.285Z"
   },
   {
    "duration": 188,
    "start_time": "2023-06-08T11:20:45.484Z"
   },
   {
    "duration": 161,
    "start_time": "2023-06-08T11:20:45.674Z"
   },
   {
    "duration": 199,
    "start_time": "2023-06-08T11:20:45.837Z"
   },
   {
    "duration": 187,
    "start_time": "2023-06-08T11:20:46.037Z"
   },
   {
    "duration": 203,
    "start_time": "2023-06-08T11:20:46.226Z"
   },
   {
    "duration": 171,
    "start_time": "2023-06-08T11:20:46.431Z"
   },
   {
    "duration": 184,
    "start_time": "2023-06-08T11:20:46.604Z"
   },
   {
    "duration": 165,
    "start_time": "2023-06-08T11:20:46.790Z"
   },
   {
    "duration": 15,
    "start_time": "2023-06-08T11:20:46.969Z"
   },
   {
    "duration": 12,
    "start_time": "2023-06-08T11:21:04.218Z"
   },
   {
    "duration": 11,
    "start_time": "2023-06-08T11:21:37.686Z"
   },
   {
    "duration": 91,
    "start_time": "2023-06-08T11:22:32.478Z"
   },
   {
    "duration": 5,
    "start_time": "2023-06-08T11:22:49.585Z"
   },
   {
    "duration": 18,
    "start_time": "2023-06-08T11:26:39.716Z"
   },
   {
    "duration": 11,
    "start_time": "2023-06-08T11:26:49.328Z"
   },
   {
    "duration": 6,
    "start_time": "2023-06-08T11:26:55.282Z"
   },
   {
    "duration": 13,
    "start_time": "2023-06-08T11:42:27.426Z"
   },
   {
    "duration": 6,
    "start_time": "2023-06-08T11:42:46.672Z"
   },
   {
    "duration": 1401,
    "start_time": "2023-06-09T07:43:36.234Z"
   },
   {
    "duration": 211,
    "start_time": "2023-06-09T07:43:37.638Z"
   },
   {
    "duration": 19,
    "start_time": "2023-06-09T07:43:37.851Z"
   },
   {
    "duration": 35,
    "start_time": "2023-06-09T07:43:37.871Z"
   },
   {
    "duration": 14,
    "start_time": "2023-06-09T07:43:37.908Z"
   },
   {
    "duration": 36,
    "start_time": "2023-06-09T07:43:37.923Z"
   },
   {
    "duration": 34,
    "start_time": "2023-06-09T07:43:37.961Z"
   },
   {
    "duration": 25,
    "start_time": "2023-06-09T07:43:37.997Z"
   },
   {
    "duration": 33,
    "start_time": "2023-06-09T07:43:38.024Z"
   },
   {
    "duration": 5,
    "start_time": "2023-06-09T07:43:38.059Z"
   },
   {
    "duration": 246,
    "start_time": "2023-06-09T07:43:38.065Z"
   },
   {
    "duration": 18,
    "start_time": "2023-06-09T07:43:38.313Z"
   },
   {
    "duration": 6,
    "start_time": "2023-06-09T07:43:38.351Z"
   },
   {
    "duration": 46,
    "start_time": "2023-06-09T07:43:38.360Z"
   },
   {
    "duration": 20,
    "start_time": "2023-06-09T07:43:38.408Z"
   },
   {
    "duration": 25,
    "start_time": "2023-06-09T07:43:38.429Z"
   },
   {
    "duration": 202,
    "start_time": "2023-06-09T07:43:38.458Z"
   },
   {
    "duration": 18,
    "start_time": "2023-06-09T07:43:38.662Z"
   },
   {
    "duration": 415,
    "start_time": "2023-06-09T07:43:38.682Z"
   },
   {
    "duration": 366,
    "start_time": "2023-06-09T07:43:39.099Z"
   },
   {
    "duration": 7,
    "start_time": "2023-06-09T07:43:39.467Z"
   },
   {
    "duration": 76,
    "start_time": "2023-06-09T07:43:39.475Z"
   },
   {
    "duration": 13,
    "start_time": "2023-06-09T07:43:39.553Z"
   },
   {
    "duration": 15,
    "start_time": "2023-06-09T07:43:39.568Z"
   },
   {
    "duration": 11,
    "start_time": "2023-06-09T07:43:39.585Z"
   },
   {
    "duration": 849,
    "start_time": "2023-06-09T07:43:39.598Z"
   },
   {
    "duration": 154,
    "start_time": "2023-06-09T07:43:40.450Z"
   },
   {
    "duration": 229,
    "start_time": "2023-06-09T07:43:40.606Z"
   },
   {
    "duration": 140,
    "start_time": "2023-06-09T07:43:40.836Z"
   },
   {
    "duration": 148,
    "start_time": "2023-06-09T07:43:40.978Z"
   },
   {
    "duration": 162,
    "start_time": "2023-06-09T07:43:41.128Z"
   },
   {
    "duration": 143,
    "start_time": "2023-06-09T07:43:41.292Z"
   },
   {
    "duration": 17,
    "start_time": "2023-06-09T07:43:41.436Z"
   },
   {
    "duration": 12,
    "start_time": "2023-06-09T07:43:41.455Z"
   },
   {
    "duration": 198,
    "start_time": "2023-06-09T07:43:41.469Z"
   },
   {
    "duration": 202,
    "start_time": "2023-06-09T07:43:41.668Z"
   },
   {
    "duration": 10,
    "start_time": "2023-06-09T07:43:41.872Z"
   },
   {
    "duration": 66,
    "start_time": "2023-06-09T07:43:41.884Z"
   },
   {
    "duration": 12,
    "start_time": "2023-06-09T07:43:41.951Z"
   },
   {
    "duration": 14,
    "start_time": "2023-06-09T07:43:41.965Z"
   },
   {
    "duration": 10,
    "start_time": "2023-06-09T07:43:41.983Z"
   },
   {
    "duration": 9,
    "start_time": "2023-06-09T07:43:41.994Z"
   },
   {
    "duration": 17,
    "start_time": "2023-06-09T07:43:42.005Z"
   },
   {
    "duration": 29,
    "start_time": "2023-06-09T07:43:42.024Z"
   },
   {
    "duration": 28,
    "start_time": "2023-06-09T07:43:42.055Z"
   },
   {
    "duration": 257,
    "start_time": "2023-06-09T07:43:42.085Z"
   },
   {
    "duration": 190,
    "start_time": "2023-06-09T07:43:42.344Z"
   },
   {
    "duration": 196,
    "start_time": "2023-06-09T07:43:42.536Z"
   },
   {
    "duration": 158,
    "start_time": "2023-06-09T07:43:42.735Z"
   },
   {
    "duration": 248,
    "start_time": "2023-06-09T07:43:42.895Z"
   },
   {
    "duration": 173,
    "start_time": "2023-06-09T07:43:43.145Z"
   },
   {
    "duration": 162,
    "start_time": "2023-06-09T07:43:43.320Z"
   },
   {
    "duration": 155,
    "start_time": "2023-06-09T07:43:43.483Z"
   },
   {
    "duration": 175,
    "start_time": "2023-06-09T07:43:43.640Z"
   },
   {
    "duration": 156,
    "start_time": "2023-06-09T07:43:43.817Z"
   },
   {
    "duration": 10,
    "start_time": "2023-06-09T07:43:43.974Z"
   },
   {
    "duration": 10,
    "start_time": "2023-06-09T07:43:43.985Z"
   },
   {
    "duration": 10,
    "start_time": "2023-06-09T07:43:43.997Z"
   },
   {
    "duration": 6,
    "start_time": "2023-06-09T07:43:44.009Z"
   },
   {
    "duration": 52,
    "start_time": "2023-06-09T08:50:25.340Z"
   },
   {
    "duration": 1852,
    "start_time": "2023-06-09T08:50:33.215Z"
   },
   {
    "duration": 289,
    "start_time": "2023-06-09T08:50:35.069Z"
   },
   {
    "duration": 21,
    "start_time": "2023-06-09T08:50:35.360Z"
   },
   {
    "duration": 94,
    "start_time": "2023-06-09T08:50:35.384Z"
   },
   {
    "duration": 14,
    "start_time": "2023-06-09T08:50:35.479Z"
   },
   {
    "duration": 68,
    "start_time": "2023-06-09T08:50:35.494Z"
   },
   {
    "duration": 9,
    "start_time": "2023-06-09T08:50:35.563Z"
   },
   {
    "duration": 12,
    "start_time": "2023-06-09T08:50:35.574Z"
   },
   {
    "duration": 93,
    "start_time": "2023-06-09T08:50:35.588Z"
   },
   {
    "duration": 6,
    "start_time": "2023-06-09T08:50:35.685Z"
   },
   {
    "duration": 488,
    "start_time": "2023-06-09T08:50:35.693Z"
   },
   {
    "duration": 18,
    "start_time": "2023-06-09T08:50:36.183Z"
   },
   {
    "duration": 5,
    "start_time": "2023-06-09T08:50:36.203Z"
   },
   {
    "duration": 57,
    "start_time": "2023-06-09T08:50:36.210Z"
   },
   {
    "duration": 15,
    "start_time": "2023-06-09T08:50:36.269Z"
   },
   {
    "duration": 17,
    "start_time": "2023-06-09T08:50:36.286Z"
   },
   {
    "duration": 202,
    "start_time": "2023-06-09T08:50:36.305Z"
   },
   {
    "duration": 105,
    "start_time": "2023-06-09T08:50:36.509Z"
   },
   {
    "duration": 0,
    "start_time": "2023-06-09T08:50:36.616Z"
   },
   {
    "duration": 0,
    "start_time": "2023-06-09T08:50:36.618Z"
   },
   {
    "duration": 0,
    "start_time": "2023-06-09T08:50:36.619Z"
   },
   {
    "duration": 0,
    "start_time": "2023-06-09T08:50:36.620Z"
   },
   {
    "duration": 0,
    "start_time": "2023-06-09T08:50:36.621Z"
   },
   {
    "duration": 0,
    "start_time": "2023-06-09T08:50:36.623Z"
   },
   {
    "duration": 0,
    "start_time": "2023-06-09T08:50:36.624Z"
   },
   {
    "duration": 0,
    "start_time": "2023-06-09T08:50:36.625Z"
   },
   {
    "duration": 0,
    "start_time": "2023-06-09T08:50:36.626Z"
   },
   {
    "duration": 0,
    "start_time": "2023-06-09T08:50:36.628Z"
   },
   {
    "duration": 0,
    "start_time": "2023-06-09T08:50:36.629Z"
   },
   {
    "duration": 0,
    "start_time": "2023-06-09T08:50:36.630Z"
   },
   {
    "duration": 0,
    "start_time": "2023-06-09T08:50:36.631Z"
   },
   {
    "duration": 0,
    "start_time": "2023-06-09T08:50:36.632Z"
   },
   {
    "duration": 0,
    "start_time": "2023-06-09T08:50:36.657Z"
   },
   {
    "duration": 0,
    "start_time": "2023-06-09T08:50:36.659Z"
   },
   {
    "duration": 0,
    "start_time": "2023-06-09T08:50:36.660Z"
   },
   {
    "duration": 0,
    "start_time": "2023-06-09T08:50:36.662Z"
   },
   {
    "duration": 0,
    "start_time": "2023-06-09T08:50:36.664Z"
   },
   {
    "duration": 0,
    "start_time": "2023-06-09T08:50:36.665Z"
   },
   {
    "duration": 0,
    "start_time": "2023-06-09T08:50:36.667Z"
   },
   {
    "duration": 0,
    "start_time": "2023-06-09T08:50:36.669Z"
   },
   {
    "duration": 0,
    "start_time": "2023-06-09T08:50:36.670Z"
   },
   {
    "duration": 0,
    "start_time": "2023-06-09T08:50:36.672Z"
   },
   {
    "duration": 0,
    "start_time": "2023-06-09T08:50:36.673Z"
   },
   {
    "duration": 0,
    "start_time": "2023-06-09T08:50:36.674Z"
   },
   {
    "duration": 0,
    "start_time": "2023-06-09T08:50:36.676Z"
   },
   {
    "duration": 0,
    "start_time": "2023-06-09T08:50:36.677Z"
   },
   {
    "duration": 0,
    "start_time": "2023-06-09T08:50:36.679Z"
   },
   {
    "duration": 0,
    "start_time": "2023-06-09T08:50:36.681Z"
   },
   {
    "duration": 0,
    "start_time": "2023-06-09T08:50:36.682Z"
   },
   {
    "duration": 0,
    "start_time": "2023-06-09T08:50:36.684Z"
   },
   {
    "duration": 0,
    "start_time": "2023-06-09T08:50:36.685Z"
   },
   {
    "duration": 0,
    "start_time": "2023-06-09T08:50:36.687Z"
   },
   {
    "duration": 0,
    "start_time": "2023-06-09T08:50:36.689Z"
   },
   {
    "duration": 0,
    "start_time": "2023-06-09T08:50:36.691Z"
   },
   {
    "duration": 0,
    "start_time": "2023-06-09T08:50:36.692Z"
   },
   {
    "duration": 0,
    "start_time": "2023-06-09T08:50:36.693Z"
   },
   {
    "duration": 0,
    "start_time": "2023-06-09T08:50:36.695Z"
   },
   {
    "duration": 0,
    "start_time": "2023-06-09T08:50:36.758Z"
   },
   {
    "duration": 0,
    "start_time": "2023-06-09T08:50:36.759Z"
   },
   {
    "duration": 0,
    "start_time": "2023-06-09T08:50:36.760Z"
   },
   {
    "duration": 8,
    "start_time": "2023-06-09T08:51:43.326Z"
   },
   {
    "duration": 1092,
    "start_time": "2023-06-09T08:53:46.026Z"
   },
   {
    "duration": 107,
    "start_time": "2023-06-09T08:53:47.120Z"
   },
   {
    "duration": 18,
    "start_time": "2023-06-09T08:53:47.229Z"
   },
   {
    "duration": 29,
    "start_time": "2023-06-09T08:53:47.256Z"
   },
   {
    "duration": 16,
    "start_time": "2023-06-09T08:53:47.286Z"
   },
   {
    "duration": 16,
    "start_time": "2023-06-09T08:53:47.303Z"
   },
   {
    "duration": 37,
    "start_time": "2023-06-09T08:53:47.321Z"
   },
   {
    "duration": 8,
    "start_time": "2023-06-09T08:53:47.360Z"
   },
   {
    "duration": 24,
    "start_time": "2023-06-09T08:53:47.370Z"
   },
   {
    "duration": 5,
    "start_time": "2023-06-09T08:53:47.396Z"
   },
   {
    "duration": 223,
    "start_time": "2023-06-09T08:53:47.402Z"
   },
   {
    "duration": 17,
    "start_time": "2023-06-09T08:53:47.627Z"
   },
   {
    "duration": 5,
    "start_time": "2023-06-09T08:53:47.657Z"
   },
   {
    "duration": 29,
    "start_time": "2023-06-09T08:53:47.665Z"
   },
   {
    "duration": 16,
    "start_time": "2023-06-09T08:53:47.696Z"
   },
   {
    "duration": 16,
    "start_time": "2023-06-09T08:53:47.714Z"
   },
   {
    "duration": 189,
    "start_time": "2023-06-09T08:53:47.757Z"
   },
   {
    "duration": 10,
    "start_time": "2023-06-09T08:53:47.948Z"
   },
   {
    "duration": 21,
    "start_time": "2023-06-09T08:53:47.960Z"
   },
   {
    "duration": 399,
    "start_time": "2023-06-09T08:53:47.982Z"
   },
   {
    "duration": 367,
    "start_time": "2023-06-09T08:53:48.383Z"
   },
   {
    "duration": 7,
    "start_time": "2023-06-09T08:53:48.757Z"
   },
   {
    "duration": 80,
    "start_time": "2023-06-09T08:53:48.766Z"
   },
   {
    "duration": 14,
    "start_time": "2023-06-09T08:53:48.857Z"
   },
   {
    "duration": 20,
    "start_time": "2023-06-09T08:53:48.873Z"
   },
   {
    "duration": 5,
    "start_time": "2023-06-09T08:53:48.895Z"
   },
   {
    "duration": 998,
    "start_time": "2023-06-09T08:53:48.902Z"
   },
   {
    "duration": 301,
    "start_time": "2023-06-09T08:53:49.903Z"
   },
   {
    "duration": 523,
    "start_time": "2023-06-09T08:53:50.256Z"
   },
   {
    "duration": 280,
    "start_time": "2023-06-09T08:53:50.781Z"
   },
   {
    "duration": 343,
    "start_time": "2023-06-09T08:53:51.063Z"
   },
   {
    "duration": 264,
    "start_time": "2023-06-09T08:53:51.458Z"
   },
   {
    "duration": 185,
    "start_time": "2023-06-09T08:53:51.758Z"
   },
   {
    "duration": 13,
    "start_time": "2023-06-09T08:53:51.945Z"
   },
   {
    "duration": 17,
    "start_time": "2023-06-09T08:53:51.959Z"
   },
   {
    "duration": 187,
    "start_time": "2023-06-09T08:53:51.978Z"
   },
   {
    "duration": 272,
    "start_time": "2023-06-09T08:53:52.166Z"
   },
   {
    "duration": 19,
    "start_time": "2023-06-09T08:53:52.439Z"
   },
   {
    "duration": 8,
    "start_time": "2023-06-09T08:53:52.460Z"
   },
   {
    "duration": 8,
    "start_time": "2023-06-09T08:53:52.470Z"
   },
   {
    "duration": 20,
    "start_time": "2023-06-09T08:53:52.480Z"
   },
   {
    "duration": 9,
    "start_time": "2023-06-09T08:53:52.502Z"
   },
   {
    "duration": 13,
    "start_time": "2023-06-09T08:53:52.513Z"
   },
   {
    "duration": 31,
    "start_time": "2023-06-09T08:53:52.528Z"
   },
   {
    "duration": 15,
    "start_time": "2023-06-09T08:53:52.561Z"
   },
   {
    "duration": 21,
    "start_time": "2023-06-09T08:53:52.578Z"
   },
   {
    "duration": 284,
    "start_time": "2023-06-09T08:53:52.601Z"
   },
   {
    "duration": 187,
    "start_time": "2023-06-09T08:53:52.886Z"
   },
   {
    "duration": 169,
    "start_time": "2023-06-09T08:53:53.075Z"
   },
   {
    "duration": 161,
    "start_time": "2023-06-09T08:53:53.246Z"
   },
   {
    "duration": 253,
    "start_time": "2023-06-09T08:53:53.409Z"
   },
   {
    "duration": 176,
    "start_time": "2023-06-09T08:53:53.665Z"
   },
   {
    "duration": 240,
    "start_time": "2023-06-09T08:53:53.843Z"
   },
   {
    "duration": 201,
    "start_time": "2023-06-09T08:53:54.085Z"
   },
   {
    "duration": 249,
    "start_time": "2023-06-09T08:53:54.288Z"
   },
   {
    "duration": 205,
    "start_time": "2023-06-09T08:53:54.539Z"
   },
   {
    "duration": 20,
    "start_time": "2023-06-09T08:53:54.746Z"
   },
   {
    "duration": 17,
    "start_time": "2023-06-09T08:53:54.768Z"
   },
   {
    "duration": 15,
    "start_time": "2023-06-09T08:53:54.788Z"
   },
   {
    "duration": 8,
    "start_time": "2023-06-09T08:53:54.806Z"
   },
   {
    "duration": 251,
    "start_time": "2023-06-09T08:57:33.656Z"
   },
   {
    "duration": 224,
    "start_time": "2023-06-09T08:57:41.174Z"
   },
   {
    "duration": 1038,
    "start_time": "2023-06-09T08:58:05.701Z"
   },
   {
    "duration": 110,
    "start_time": "2023-06-09T08:58:06.741Z"
   },
   {
    "duration": 24,
    "start_time": "2023-06-09T08:58:06.852Z"
   },
   {
    "duration": 37,
    "start_time": "2023-06-09T08:58:06.879Z"
   },
   {
    "duration": 13,
    "start_time": "2023-06-09T08:58:06.918Z"
   },
   {
    "duration": 32,
    "start_time": "2023-06-09T08:58:06.932Z"
   },
   {
    "duration": 5,
    "start_time": "2023-06-09T08:58:06.975Z"
   },
   {
    "duration": 5,
    "start_time": "2023-06-09T08:58:06.982Z"
   },
   {
    "duration": 29,
    "start_time": "2023-06-09T08:58:06.989Z"
   },
   {
    "duration": 5,
    "start_time": "2023-06-09T08:58:07.020Z"
   },
   {
    "duration": 261,
    "start_time": "2023-06-09T08:58:07.027Z"
   },
   {
    "duration": 18,
    "start_time": "2023-06-09T08:58:07.289Z"
   },
   {
    "duration": 5,
    "start_time": "2023-06-09T08:58:07.309Z"
   },
   {
    "duration": 21,
    "start_time": "2023-06-09T08:58:07.316Z"
   },
   {
    "duration": 16,
    "start_time": "2023-06-09T08:58:07.363Z"
   },
   {
    "duration": 14,
    "start_time": "2023-06-09T08:58:07.381Z"
   },
   {
    "duration": 191,
    "start_time": "2023-06-09T08:58:07.397Z"
   },
   {
    "duration": 6,
    "start_time": "2023-06-09T08:58:07.590Z"
   },
   {
    "duration": 18,
    "start_time": "2023-06-09T08:58:07.598Z"
   },
   {
    "duration": 770,
    "start_time": "2023-06-09T08:58:07.618Z"
   },
   {
    "duration": 774,
    "start_time": "2023-06-09T08:58:08.390Z"
   },
   {
    "duration": 7,
    "start_time": "2023-06-09T08:58:09.168Z"
   },
   {
    "duration": 190,
    "start_time": "2023-06-09T08:58:09.177Z"
   },
   {
    "duration": 18,
    "start_time": "2023-06-09T08:58:09.369Z"
   },
   {
    "duration": 71,
    "start_time": "2023-06-09T08:58:09.389Z"
   },
   {
    "duration": 10,
    "start_time": "2023-06-09T08:58:09.462Z"
   },
   {
    "duration": 1013,
    "start_time": "2023-06-09T08:58:09.474Z"
   },
   {
    "duration": 209,
    "start_time": "2023-06-09T08:58:10.491Z"
   },
   {
    "duration": 31,
    "start_time": "2023-06-09T08:58:10.701Z"
   },
   {
    "duration": 54,
    "start_time": "2023-06-09T08:58:10.734Z"
   },
   {
    "duration": 33,
    "start_time": "2023-06-09T08:58:10.790Z"
   },
   {
    "duration": 112,
    "start_time": "2023-06-09T08:58:10.824Z"
   },
   {
    "duration": 39,
    "start_time": "2023-06-09T08:58:10.938Z"
   },
   {
    "duration": 40,
    "start_time": "2023-06-09T08:58:10.979Z"
   },
   {
    "duration": 12,
    "start_time": "2023-06-09T08:58:11.020Z"
   },
   {
    "duration": 33,
    "start_time": "2023-06-09T08:58:11.033Z"
   },
   {
    "duration": 188,
    "start_time": "2023-06-09T08:58:11.067Z"
   },
   {
    "duration": 215,
    "start_time": "2023-06-09T08:58:11.257Z"
   },
   {
    "duration": 9,
    "start_time": "2023-06-09T08:58:11.474Z"
   },
   {
    "duration": 10,
    "start_time": "2023-06-09T08:58:11.485Z"
   },
   {
    "duration": 15,
    "start_time": "2023-06-09T08:58:11.496Z"
   },
   {
    "duration": 25,
    "start_time": "2023-06-09T08:58:11.513Z"
   },
   {
    "duration": 34,
    "start_time": "2023-06-09T08:58:11.539Z"
   },
   {
    "duration": 11,
    "start_time": "2023-06-09T08:58:11.575Z"
   },
   {
    "duration": 13,
    "start_time": "2023-06-09T08:58:11.588Z"
   },
   {
    "duration": 12,
    "start_time": "2023-06-09T08:58:11.603Z"
   },
   {
    "duration": 16,
    "start_time": "2023-06-09T08:58:11.617Z"
   },
   {
    "duration": 257,
    "start_time": "2023-06-09T08:58:11.637Z"
   },
   {
    "duration": 180,
    "start_time": "2023-06-09T08:58:11.896Z"
   },
   {
    "duration": 168,
    "start_time": "2023-06-09T08:58:12.078Z"
   },
   {
    "duration": 166,
    "start_time": "2023-06-09T08:58:12.248Z"
   },
   {
    "duration": 185,
    "start_time": "2023-06-09T08:58:12.415Z"
   },
   {
    "duration": 178,
    "start_time": "2023-06-09T08:58:12.602Z"
   },
   {
    "duration": 181,
    "start_time": "2023-06-09T08:58:12.781Z"
   },
   {
    "duration": 162,
    "start_time": "2023-06-09T08:58:12.963Z"
   },
   {
    "duration": 184,
    "start_time": "2023-06-09T08:58:13.127Z"
   },
   {
    "duration": 235,
    "start_time": "2023-06-09T08:58:13.313Z"
   },
   {
    "duration": 21,
    "start_time": "2023-06-09T08:58:13.550Z"
   },
   {
    "duration": 5,
    "start_time": "2023-06-09T08:58:13.575Z"
   },
   {
    "duration": 10,
    "start_time": "2023-06-09T08:58:13.582Z"
   },
   {
    "duration": 6,
    "start_time": "2023-06-09T08:58:13.594Z"
   },
   {
    "duration": 90,
    "start_time": "2023-06-09T09:23:44.076Z"
   },
   {
    "duration": 96,
    "start_time": "2023-06-09T09:24:03.667Z"
   },
   {
    "duration": 40,
    "start_time": "2023-06-09T09:25:41.068Z"
   },
   {
    "duration": 249,
    "start_time": "2023-06-09T09:26:37.515Z"
   },
   {
    "duration": 272,
    "start_time": "2023-06-09T09:27:08.173Z"
   },
   {
    "duration": 244,
    "start_time": "2023-06-09T09:27:15.923Z"
   },
   {
    "duration": 293,
    "start_time": "2023-06-09T09:27:28.432Z"
   },
   {
    "duration": 271,
    "start_time": "2023-06-09T09:27:36.686Z"
   },
   {
    "duration": 248,
    "start_time": "2023-06-09T09:27:44.576Z"
   },
   {
    "duration": 310,
    "start_time": "2023-06-09T09:28:39.285Z"
   },
   {
    "duration": 267,
    "start_time": "2023-06-09T09:28:54.452Z"
   },
   {
    "duration": 286,
    "start_time": "2023-06-09T09:29:03.523Z"
   },
   {
    "duration": 309,
    "start_time": "2023-06-09T09:29:39.691Z"
   },
   {
    "duration": 381,
    "start_time": "2023-06-09T09:30:26.966Z"
   },
   {
    "duration": 254,
    "start_time": "2023-06-09T09:31:11.543Z"
   },
   {
    "duration": 282,
    "start_time": "2023-06-09T09:32:28.989Z"
   },
   {
    "duration": 268,
    "start_time": "2023-06-09T09:33:09.401Z"
   },
   {
    "duration": 260,
    "start_time": "2023-06-09T09:33:15.529Z"
   },
   {
    "duration": 274,
    "start_time": "2023-06-09T09:33:36.874Z"
   },
   {
    "duration": 272,
    "start_time": "2023-06-09T09:35:07.033Z"
   },
   {
    "duration": 270,
    "start_time": "2023-06-09T09:35:17.248Z"
   },
   {
    "duration": 311,
    "start_time": "2023-06-09T09:35:34.941Z"
   },
   {
    "duration": 301,
    "start_time": "2023-06-09T09:35:44.587Z"
   },
   {
    "duration": 296,
    "start_time": "2023-06-09T09:36:01.589Z"
   },
   {
    "duration": 73,
    "start_time": "2023-06-09T09:36:09.687Z"
   },
   {
    "duration": 407,
    "start_time": "2023-06-09T09:36:20.797Z"
   },
   {
    "duration": 1466,
    "start_time": "2023-06-09T09:37:41.917Z"
   },
   {
    "duration": 200,
    "start_time": "2023-06-09T09:37:43.385Z"
   },
   {
    "duration": 71,
    "start_time": "2023-06-09T09:37:43.587Z"
   },
   {
    "duration": 31,
    "start_time": "2023-06-09T09:37:43.660Z"
   },
   {
    "duration": 74,
    "start_time": "2023-06-09T09:37:43.693Z"
   },
   {
    "duration": 18,
    "start_time": "2023-06-09T09:37:43.769Z"
   },
   {
    "duration": 7,
    "start_time": "2023-06-09T09:37:43.788Z"
   },
   {
    "duration": 62,
    "start_time": "2023-06-09T09:37:43.796Z"
   },
   {
    "duration": 26,
    "start_time": "2023-06-09T09:37:43.860Z"
   },
   {
    "duration": 5,
    "start_time": "2023-06-09T09:37:43.888Z"
   },
   {
    "duration": 606,
    "start_time": "2023-06-09T09:37:43.894Z"
   },
   {
    "duration": 76,
    "start_time": "2023-06-09T09:37:44.502Z"
   },
   {
    "duration": 6,
    "start_time": "2023-06-09T09:37:44.580Z"
   },
   {
    "duration": 40,
    "start_time": "2023-06-09T09:37:44.588Z"
   },
   {
    "duration": 14,
    "start_time": "2023-06-09T09:37:44.630Z"
   },
   {
    "duration": 24,
    "start_time": "2023-06-09T09:37:44.645Z"
   },
   {
    "duration": 191,
    "start_time": "2023-06-09T09:37:44.670Z"
   },
   {
    "duration": 7,
    "start_time": "2023-06-09T09:37:44.863Z"
   },
   {
    "duration": 21,
    "start_time": "2023-06-09T09:37:44.871Z"
   },
   {
    "duration": 420,
    "start_time": "2023-06-09T09:37:44.895Z"
   },
   {
    "duration": 337,
    "start_time": "2023-06-09T09:37:45.316Z"
   },
   {
    "duration": 5,
    "start_time": "2023-06-09T09:37:45.657Z"
   },
   {
    "duration": 75,
    "start_time": "2023-06-09T09:37:45.663Z"
   },
   {
    "duration": 26,
    "start_time": "2023-06-09T09:37:45.739Z"
   },
   {
    "duration": 32,
    "start_time": "2023-06-09T09:37:45.767Z"
   },
   {
    "duration": 21,
    "start_time": "2023-06-09T09:37:45.801Z"
   },
   {
    "duration": 804,
    "start_time": "2023-06-09T09:37:45.824Z"
   },
   {
    "duration": 299,
    "start_time": "2023-06-09T09:37:46.631Z"
   },
   {
    "duration": 384,
    "start_time": "2023-06-09T09:37:46.932Z"
   },
   {
    "duration": 31,
    "start_time": "2023-06-09T09:37:47.317Z"
   },
   {
    "duration": 87,
    "start_time": "2023-06-09T09:37:47.350Z"
   },
   {
    "duration": 0,
    "start_time": "2023-06-09T09:37:47.439Z"
   },
   {
    "duration": 0,
    "start_time": "2023-06-09T09:37:47.440Z"
   },
   {
    "duration": 0,
    "start_time": "2023-06-09T09:37:47.441Z"
   },
   {
    "duration": 0,
    "start_time": "2023-06-09T09:37:47.442Z"
   },
   {
    "duration": 1,
    "start_time": "2023-06-09T09:37:47.443Z"
   },
   {
    "duration": 0,
    "start_time": "2023-06-09T09:37:47.444Z"
   },
   {
    "duration": 0,
    "start_time": "2023-06-09T09:37:47.446Z"
   },
   {
    "duration": 0,
    "start_time": "2023-06-09T09:37:47.457Z"
   },
   {
    "duration": 0,
    "start_time": "2023-06-09T09:37:47.458Z"
   },
   {
    "duration": 0,
    "start_time": "2023-06-09T09:37:47.459Z"
   },
   {
    "duration": 0,
    "start_time": "2023-06-09T09:37:47.460Z"
   },
   {
    "duration": 0,
    "start_time": "2023-06-09T09:37:47.461Z"
   },
   {
    "duration": 0,
    "start_time": "2023-06-09T09:37:47.462Z"
   },
   {
    "duration": 0,
    "start_time": "2023-06-09T09:37:47.463Z"
   },
   {
    "duration": 0,
    "start_time": "2023-06-09T09:37:47.465Z"
   },
   {
    "duration": 0,
    "start_time": "2023-06-09T09:37:47.466Z"
   },
   {
    "duration": 0,
    "start_time": "2023-06-09T09:37:47.467Z"
   },
   {
    "duration": 0,
    "start_time": "2023-06-09T09:37:47.468Z"
   },
   {
    "duration": 0,
    "start_time": "2023-06-09T09:37:47.469Z"
   },
   {
    "duration": 0,
    "start_time": "2023-06-09T09:37:47.470Z"
   },
   {
    "duration": 0,
    "start_time": "2023-06-09T09:37:47.471Z"
   },
   {
    "duration": 0,
    "start_time": "2023-06-09T09:37:47.472Z"
   },
   {
    "duration": 0,
    "start_time": "2023-06-09T09:37:47.474Z"
   },
   {
    "duration": 0,
    "start_time": "2023-06-09T09:37:47.475Z"
   },
   {
    "duration": 0,
    "start_time": "2023-06-09T09:37:47.476Z"
   },
   {
    "duration": 0,
    "start_time": "2023-06-09T09:37:47.477Z"
   },
   {
    "duration": 0,
    "start_time": "2023-06-09T09:37:47.478Z"
   },
   {
    "duration": 0,
    "start_time": "2023-06-09T09:37:47.479Z"
   },
   {
    "duration": 0,
    "start_time": "2023-06-09T09:37:47.480Z"
   },
   {
    "duration": 0,
    "start_time": "2023-06-09T09:37:47.481Z"
   },
   {
    "duration": 0,
    "start_time": "2023-06-09T09:37:47.482Z"
   },
   {
    "duration": 338,
    "start_time": "2023-06-09T09:40:42.081Z"
   },
   {
    "duration": 8,
    "start_time": "2023-06-09T09:40:51.655Z"
   },
   {
    "duration": 1088,
    "start_time": "2023-06-09T09:40:58.227Z"
   },
   {
    "duration": 117,
    "start_time": "2023-06-09T09:40:59.317Z"
   },
   {
    "duration": 42,
    "start_time": "2023-06-09T09:40:59.436Z"
   },
   {
    "duration": 82,
    "start_time": "2023-06-09T09:40:59.482Z"
   },
   {
    "duration": 18,
    "start_time": "2023-06-09T09:40:59.565Z"
   },
   {
    "duration": 74,
    "start_time": "2023-06-09T09:40:59.584Z"
   },
   {
    "duration": 7,
    "start_time": "2023-06-09T09:40:59.662Z"
   },
   {
    "duration": 8,
    "start_time": "2023-06-09T09:40:59.671Z"
   },
   {
    "duration": 83,
    "start_time": "2023-06-09T09:40:59.680Z"
   },
   {
    "duration": 6,
    "start_time": "2023-06-09T09:40:59.767Z"
   },
   {
    "duration": 503,
    "start_time": "2023-06-09T09:40:59.776Z"
   },
   {
    "duration": 86,
    "start_time": "2023-06-09T09:41:00.282Z"
   },
   {
    "duration": 9,
    "start_time": "2023-06-09T09:41:00.370Z"
   },
   {
    "duration": 81,
    "start_time": "2023-06-09T09:41:00.381Z"
   },
   {
    "duration": 15,
    "start_time": "2023-06-09T09:41:00.467Z"
   },
   {
    "duration": 85,
    "start_time": "2023-06-09T09:41:00.484Z"
   },
   {
    "duration": 418,
    "start_time": "2023-06-09T09:41:00.574Z"
   },
   {
    "duration": 9,
    "start_time": "2023-06-09T09:41:00.993Z"
   },
   {
    "duration": 23,
    "start_time": "2023-06-09T09:41:01.062Z"
   },
   {
    "duration": 732,
    "start_time": "2023-06-09T09:41:01.088Z"
   },
   {
    "duration": 389,
    "start_time": "2023-06-09T09:41:01.822Z"
   },
   {
    "duration": 9,
    "start_time": "2023-06-09T09:41:02.213Z"
   },
   {
    "duration": 110,
    "start_time": "2023-06-09T09:41:02.224Z"
   },
   {
    "duration": 16,
    "start_time": "2023-06-09T09:41:02.335Z"
   },
   {
    "duration": 26,
    "start_time": "2023-06-09T09:41:02.357Z"
   },
   {
    "duration": 18,
    "start_time": "2023-06-09T09:41:02.385Z"
   },
   {
    "duration": 810,
    "start_time": "2023-06-09T09:41:02.405Z"
   },
   {
    "duration": 296,
    "start_time": "2023-06-09T09:41:03.219Z"
   },
   {
    "duration": 408,
    "start_time": "2023-06-09T09:41:03.516Z"
   },
   {
    "duration": 45,
    "start_time": "2023-06-09T09:41:03.926Z"
   },
   {
    "duration": 10,
    "start_time": "2023-06-09T09:41:03.973Z"
   },
   {
    "duration": 48,
    "start_time": "2023-06-09T09:41:03.986Z"
   },
   {
    "duration": 137,
    "start_time": "2023-06-09T09:41:04.036Z"
   },
   {
    "duration": 0,
    "start_time": "2023-06-09T09:41:04.180Z"
   },
   {
    "duration": 0,
    "start_time": "2023-06-09T09:41:04.181Z"
   },
   {
    "duration": 0,
    "start_time": "2023-06-09T09:41:04.182Z"
   },
   {
    "duration": 0,
    "start_time": "2023-06-09T09:41:04.186Z"
   },
   {
    "duration": 0,
    "start_time": "2023-06-09T09:41:04.189Z"
   },
   {
    "duration": 0,
    "start_time": "2023-06-09T09:41:04.191Z"
   },
   {
    "duration": 0,
    "start_time": "2023-06-09T09:41:04.192Z"
   },
   {
    "duration": 0,
    "start_time": "2023-06-09T09:41:04.193Z"
   },
   {
    "duration": 0,
    "start_time": "2023-06-09T09:41:04.194Z"
   },
   {
    "duration": 0,
    "start_time": "2023-06-09T09:41:04.196Z"
   },
   {
    "duration": 0,
    "start_time": "2023-06-09T09:41:04.197Z"
   },
   {
    "duration": 0,
    "start_time": "2023-06-09T09:41:04.199Z"
   },
   {
    "duration": 0,
    "start_time": "2023-06-09T09:41:04.201Z"
   },
   {
    "duration": 0,
    "start_time": "2023-06-09T09:41:04.202Z"
   },
   {
    "duration": 0,
    "start_time": "2023-06-09T09:41:04.204Z"
   },
   {
    "duration": 0,
    "start_time": "2023-06-09T09:41:04.207Z"
   },
   {
    "duration": 0,
    "start_time": "2023-06-09T09:41:04.208Z"
   },
   {
    "duration": 0,
    "start_time": "2023-06-09T09:41:04.209Z"
   },
   {
    "duration": 1,
    "start_time": "2023-06-09T09:41:04.210Z"
   },
   {
    "duration": 0,
    "start_time": "2023-06-09T09:41:04.212Z"
   },
   {
    "duration": 0,
    "start_time": "2023-06-09T09:41:04.213Z"
   },
   {
    "duration": 0,
    "start_time": "2023-06-09T09:41:04.214Z"
   },
   {
    "duration": 0,
    "start_time": "2023-06-09T09:41:04.215Z"
   },
   {
    "duration": 0,
    "start_time": "2023-06-09T09:41:04.217Z"
   },
   {
    "duration": 0,
    "start_time": "2023-06-09T09:41:04.264Z"
   },
   {
    "duration": 0,
    "start_time": "2023-06-09T09:41:04.266Z"
   },
   {
    "duration": 0,
    "start_time": "2023-06-09T09:41:04.267Z"
   },
   {
    "duration": 0,
    "start_time": "2023-06-09T09:41:04.269Z"
   },
   {
    "duration": 1716,
    "start_time": "2023-06-09T09:42:08.156Z"
   },
   {
    "duration": 215,
    "start_time": "2023-06-09T09:42:09.875Z"
   },
   {
    "duration": 85,
    "start_time": "2023-06-09T09:42:10.093Z"
   },
   {
    "duration": 97,
    "start_time": "2023-06-09T09:42:10.182Z"
   },
   {
    "duration": 15,
    "start_time": "2023-06-09T09:42:10.281Z"
   },
   {
    "duration": 76,
    "start_time": "2023-06-09T09:42:10.298Z"
   },
   {
    "duration": 7,
    "start_time": "2023-06-09T09:42:10.376Z"
   },
   {
    "duration": 10,
    "start_time": "2023-06-09T09:42:10.386Z"
   },
   {
    "duration": 85,
    "start_time": "2023-06-09T09:42:10.398Z"
   },
   {
    "duration": 6,
    "start_time": "2023-06-09T09:42:10.487Z"
   },
   {
    "duration": 687,
    "start_time": "2023-06-09T09:42:10.495Z"
   },
   {
    "duration": 79,
    "start_time": "2023-06-09T09:42:11.184Z"
   },
   {
    "duration": 10,
    "start_time": "2023-06-09T09:42:11.265Z"
   },
   {
    "duration": 33,
    "start_time": "2023-06-09T09:42:11.277Z"
   },
   {
    "duration": 20,
    "start_time": "2023-06-09T09:42:11.312Z"
   },
   {
    "duration": 45,
    "start_time": "2023-06-09T09:42:11.334Z"
   },
   {
    "duration": 201,
    "start_time": "2023-06-09T09:42:11.381Z"
   },
   {
    "duration": 9,
    "start_time": "2023-06-09T09:42:11.584Z"
   },
   {
    "duration": 24,
    "start_time": "2023-06-09T09:42:11.595Z"
   },
   {
    "duration": 440,
    "start_time": "2023-06-09T09:42:11.621Z"
   },
   {
    "duration": 437,
    "start_time": "2023-06-09T09:42:12.063Z"
   },
   {
    "duration": 7,
    "start_time": "2023-06-09T09:42:12.503Z"
   },
   {
    "duration": 109,
    "start_time": "2023-06-09T09:42:12.512Z"
   },
   {
    "duration": 15,
    "start_time": "2023-06-09T09:42:12.622Z"
   },
   {
    "duration": 36,
    "start_time": "2023-06-09T09:42:12.639Z"
   },
   {
    "duration": 5,
    "start_time": "2023-06-09T09:42:12.679Z"
   },
   {
    "duration": 1204,
    "start_time": "2023-06-09T09:42:12.688Z"
   },
   {
    "duration": 891,
    "start_time": "2023-06-09T09:42:13.898Z"
   },
   {
    "duration": 820,
    "start_time": "2023-06-09T09:42:14.791Z"
   },
   {
    "duration": 32,
    "start_time": "2023-06-09T09:42:15.614Z"
   },
   {
    "duration": 38,
    "start_time": "2023-06-09T09:42:15.647Z"
   },
   {
    "duration": 33,
    "start_time": "2023-06-09T09:42:15.687Z"
   },
   {
    "duration": 66,
    "start_time": "2023-06-09T09:42:15.722Z"
   },
   {
    "duration": 42,
    "start_time": "2023-06-09T09:42:15.790Z"
   },
   {
    "duration": 64,
    "start_time": "2023-06-09T09:42:15.833Z"
   },
   {
    "duration": 21,
    "start_time": "2023-06-09T09:42:15.899Z"
   },
   {
    "duration": 20,
    "start_time": "2023-06-09T09:42:15.922Z"
   },
   {
    "duration": 208,
    "start_time": "2023-06-09T09:42:15.944Z"
   },
   {
    "duration": 229,
    "start_time": "2023-06-09T09:42:16.158Z"
   },
   {
    "duration": 15,
    "start_time": "2023-06-09T09:42:16.389Z"
   },
   {
    "duration": 14,
    "start_time": "2023-06-09T09:42:16.406Z"
   },
   {
    "duration": 19,
    "start_time": "2023-06-09T09:42:16.421Z"
   },
   {
    "duration": 31,
    "start_time": "2023-06-09T09:42:16.442Z"
   },
   {
    "duration": 25,
    "start_time": "2023-06-09T09:42:16.474Z"
   },
   {
    "duration": 37,
    "start_time": "2023-06-09T09:42:16.502Z"
   },
   {
    "duration": 13,
    "start_time": "2023-06-09T09:42:16.541Z"
   },
   {
    "duration": 30,
    "start_time": "2023-06-09T09:42:16.555Z"
   },
   {
    "duration": 20,
    "start_time": "2023-06-09T09:42:16.590Z"
   },
   {
    "duration": 240,
    "start_time": "2023-06-09T09:42:16.612Z"
   },
   {
    "duration": 186,
    "start_time": "2023-06-09T09:42:16.853Z"
   },
   {
    "duration": 170,
    "start_time": "2023-06-09T09:42:17.041Z"
   },
   {
    "duration": 179,
    "start_time": "2023-06-09T09:42:17.213Z"
   },
   {
    "duration": 186,
    "start_time": "2023-06-09T09:42:17.393Z"
   },
   {
    "duration": 196,
    "start_time": "2023-06-09T09:42:17.581Z"
   },
   {
    "duration": 203,
    "start_time": "2023-06-09T09:42:17.779Z"
   },
   {
    "duration": 167,
    "start_time": "2023-06-09T09:42:17.984Z"
   },
   {
    "duration": 268,
    "start_time": "2023-06-09T09:42:18.153Z"
   },
   {
    "duration": 175,
    "start_time": "2023-06-09T09:42:18.423Z"
   },
   {
    "duration": 9,
    "start_time": "2023-06-09T09:42:18.599Z"
   },
   {
    "duration": 7,
    "start_time": "2023-06-09T09:42:18.610Z"
   },
   {
    "duration": 10,
    "start_time": "2023-06-09T09:42:18.619Z"
   },
   {
    "duration": 17,
    "start_time": "2023-06-09T09:42:18.659Z"
   },
   {
    "duration": 329,
    "start_time": "2023-06-09T09:42:31.194Z"
   },
   {
    "duration": 86,
    "start_time": "2023-06-09T09:44:37.717Z"
   },
   {
    "duration": 16,
    "start_time": "2023-06-09T09:44:43.176Z"
   },
   {
    "duration": 268,
    "start_time": "2023-06-09T09:44:54.752Z"
   },
   {
    "duration": 1102,
    "start_time": "2023-06-09T09:45:00.568Z"
   },
   {
    "duration": 115,
    "start_time": "2023-06-09T09:45:01.672Z"
   },
   {
    "duration": 124,
    "start_time": "2023-06-09T09:45:01.789Z"
   },
   {
    "duration": 154,
    "start_time": "2023-06-09T09:45:01.915Z"
   },
   {
    "duration": 30,
    "start_time": "2023-06-09T09:45:02.071Z"
   },
   {
    "duration": 216,
    "start_time": "2023-06-09T09:45:02.103Z"
   },
   {
    "duration": 52,
    "start_time": "2023-06-09T09:45:02.321Z"
   },
   {
    "duration": 55,
    "start_time": "2023-06-09T09:45:02.376Z"
   },
   {
    "duration": 77,
    "start_time": "2023-06-09T09:45:02.433Z"
   },
   {
    "duration": 46,
    "start_time": "2023-06-09T09:45:02.512Z"
   },
   {
    "duration": 520,
    "start_time": "2023-06-09T09:45:02.560Z"
   },
   {
    "duration": 18,
    "start_time": "2023-06-09T09:45:03.083Z"
   },
   {
    "duration": 65,
    "start_time": "2023-06-09T09:45:03.102Z"
   },
   {
    "duration": 41,
    "start_time": "2023-06-09T09:45:03.169Z"
   },
   {
    "duration": 66,
    "start_time": "2023-06-09T09:45:03.212Z"
   },
   {
    "duration": 15,
    "start_time": "2023-06-09T09:45:03.280Z"
   },
   {
    "duration": 424,
    "start_time": "2023-06-09T09:45:03.297Z"
   },
   {
    "duration": 7,
    "start_time": "2023-06-09T09:45:03.723Z"
   },
   {
    "duration": 44,
    "start_time": "2023-06-09T09:45:03.732Z"
   },
   {
    "duration": 444,
    "start_time": "2023-06-09T09:45:03.777Z"
   },
   {
    "duration": 385,
    "start_time": "2023-06-09T09:45:04.224Z"
   },
   {
    "duration": 5,
    "start_time": "2023-06-09T09:45:04.611Z"
   },
   {
    "duration": 83,
    "start_time": "2023-06-09T09:45:04.618Z"
   },
   {
    "duration": 14,
    "start_time": "2023-06-09T09:45:04.702Z"
   },
   {
    "duration": 14,
    "start_time": "2023-06-09T09:45:04.717Z"
   },
   {
    "duration": 3,
    "start_time": "2023-06-09T09:45:04.733Z"
   },
   {
    "duration": 848,
    "start_time": "2023-06-09T09:45:04.757Z"
   },
   {
    "duration": 301,
    "start_time": "2023-06-09T09:45:05.609Z"
   },
   {
    "duration": 395,
    "start_time": "2023-06-09T09:45:05.912Z"
   },
   {
    "duration": 31,
    "start_time": "2023-06-09T09:45:06.309Z"
   },
   {
    "duration": 35,
    "start_time": "2023-06-09T09:45:06.342Z"
   },
   {
    "duration": 33,
    "start_time": "2023-06-09T09:45:06.378Z"
   },
   {
    "duration": 56,
    "start_time": "2023-06-09T09:45:06.413Z"
   },
   {
    "duration": 32,
    "start_time": "2023-06-09T09:45:06.471Z"
   },
   {
    "duration": 32,
    "start_time": "2023-06-09T09:45:06.505Z"
   },
   {
    "duration": 27,
    "start_time": "2023-06-09T09:45:06.538Z"
   },
   {
    "duration": 25,
    "start_time": "2023-06-09T09:45:06.567Z"
   },
   {
    "duration": 195,
    "start_time": "2023-06-09T09:45:06.594Z"
   },
   {
    "duration": 195,
    "start_time": "2023-06-09T09:45:06.790Z"
   },
   {
    "duration": 12,
    "start_time": "2023-06-09T09:45:06.987Z"
   },
   {
    "duration": 29,
    "start_time": "2023-06-09T09:45:07.001Z"
   },
   {
    "duration": 17,
    "start_time": "2023-06-09T09:45:07.032Z"
   },
   {
    "duration": 25,
    "start_time": "2023-06-09T09:45:07.050Z"
   },
   {
    "duration": 22,
    "start_time": "2023-06-09T09:45:07.076Z"
   },
   {
    "duration": 23,
    "start_time": "2023-06-09T09:45:07.099Z"
   },
   {
    "duration": 12,
    "start_time": "2023-06-09T09:45:07.124Z"
   },
   {
    "duration": 18,
    "start_time": "2023-06-09T09:45:07.138Z"
   },
   {
    "duration": 36,
    "start_time": "2023-06-09T09:45:07.157Z"
   },
   {
    "duration": 245,
    "start_time": "2023-06-09T09:45:07.195Z"
   },
   {
    "duration": 177,
    "start_time": "2023-06-09T09:45:07.442Z"
   },
   {
    "duration": 165,
    "start_time": "2023-06-09T09:45:07.621Z"
   },
   {
    "duration": 160,
    "start_time": "2023-06-09T09:45:07.787Z"
   },
   {
    "duration": 192,
    "start_time": "2023-06-09T09:45:07.949Z"
   },
   {
    "duration": 179,
    "start_time": "2023-06-09T09:45:08.143Z"
   },
   {
    "duration": 180,
    "start_time": "2023-06-09T09:45:08.324Z"
   },
   {
    "duration": 173,
    "start_time": "2023-06-09T09:45:08.506Z"
   },
   {
    "duration": 303,
    "start_time": "2023-06-09T09:45:08.681Z"
   },
   {
    "duration": 153,
    "start_time": "2023-06-09T09:45:08.985Z"
   },
   {
    "duration": 8,
    "start_time": "2023-06-09T09:45:09.140Z"
   },
   {
    "duration": 25,
    "start_time": "2023-06-09T09:45:09.150Z"
   },
   {
    "duration": 16,
    "start_time": "2023-06-09T09:45:09.177Z"
   },
   {
    "duration": 11,
    "start_time": "2023-06-09T09:45:09.194Z"
   },
   {
    "duration": 22,
    "start_time": "2023-06-09T09:52:26.167Z"
   },
   {
    "duration": 1049,
    "start_time": "2023-06-09T09:52:37.958Z"
   },
   {
    "duration": 112,
    "start_time": "2023-06-09T09:52:39.010Z"
   },
   {
    "duration": 18,
    "start_time": "2023-06-09T09:52:39.124Z"
   },
   {
    "duration": 47,
    "start_time": "2023-06-09T09:52:39.144Z"
   },
   {
    "duration": 12,
    "start_time": "2023-06-09T09:52:39.193Z"
   },
   {
    "duration": 22,
    "start_time": "2023-06-09T09:52:39.207Z"
   },
   {
    "duration": 17,
    "start_time": "2023-06-09T09:52:39.231Z"
   },
   {
    "duration": 39,
    "start_time": "2023-06-09T09:52:39.250Z"
   },
   {
    "duration": 45,
    "start_time": "2023-06-09T09:52:39.291Z"
   },
   {
    "duration": 5,
    "start_time": "2023-06-09T09:52:39.338Z"
   },
   {
    "duration": 241,
    "start_time": "2023-06-09T09:52:39.344Z"
   },
   {
    "duration": 16,
    "start_time": "2023-06-09T09:52:39.587Z"
   },
   {
    "duration": 5,
    "start_time": "2023-06-09T09:52:39.605Z"
   },
   {
    "duration": 23,
    "start_time": "2023-06-09T09:52:39.611Z"
   },
   {
    "duration": 33,
    "start_time": "2023-06-09T09:52:39.636Z"
   },
   {
    "duration": 25,
    "start_time": "2023-06-09T09:52:39.671Z"
   },
   {
    "duration": 285,
    "start_time": "2023-06-09T09:52:39.698Z"
   },
   {
    "duration": 7,
    "start_time": "2023-06-09T09:52:39.985Z"
   },
   {
    "duration": 79,
    "start_time": "2023-06-09T09:52:39.994Z"
   },
   {
    "duration": 692,
    "start_time": "2023-06-09T09:52:40.075Z"
   },
   {
    "duration": 696,
    "start_time": "2023-06-09T09:52:40.769Z"
   },
   {
    "duration": 5,
    "start_time": "2023-06-09T09:52:41.466Z"
   },
   {
    "duration": 143,
    "start_time": "2023-06-09T09:52:41.473Z"
   },
   {
    "duration": 45,
    "start_time": "2023-06-09T09:52:41.617Z"
   },
   {
    "duration": 14,
    "start_time": "2023-06-09T09:52:41.664Z"
   },
   {
    "duration": 14,
    "start_time": "2023-06-09T09:52:41.680Z"
   },
   {
    "duration": 794,
    "start_time": "2023-06-09T09:52:41.695Z"
   },
   {
    "duration": 281,
    "start_time": "2023-06-09T09:52:42.494Z"
   },
   {
    "duration": 386,
    "start_time": "2023-06-09T09:52:42.777Z"
   },
   {
    "duration": 33,
    "start_time": "2023-06-09T09:52:43.166Z"
   },
   {
    "duration": 31,
    "start_time": "2023-06-09T09:52:43.201Z"
   },
   {
    "duration": 51,
    "start_time": "2023-06-09T09:52:43.234Z"
   },
   {
    "duration": 32,
    "start_time": "2023-06-09T09:52:43.287Z"
   },
   {
    "duration": 58,
    "start_time": "2023-06-09T09:52:43.321Z"
   },
   {
    "duration": 35,
    "start_time": "2023-06-09T09:52:43.380Z"
   },
   {
    "duration": 10,
    "start_time": "2023-06-09T09:52:43.416Z"
   },
   {
    "duration": 35,
    "start_time": "2023-06-09T09:52:43.428Z"
   },
   {
    "duration": 202,
    "start_time": "2023-06-09T09:52:43.465Z"
   },
   {
    "duration": 203,
    "start_time": "2023-06-09T09:52:43.669Z"
   },
   {
    "duration": 11,
    "start_time": "2023-06-09T09:52:43.874Z"
   },
   {
    "duration": 21,
    "start_time": "2023-06-09T09:52:43.887Z"
   },
   {
    "duration": 14,
    "start_time": "2023-06-09T09:52:43.910Z"
   },
   {
    "duration": 33,
    "start_time": "2023-06-09T09:52:43.926Z"
   },
   {
    "duration": 14,
    "start_time": "2023-06-09T09:52:43.961Z"
   },
   {
    "duration": 12,
    "start_time": "2023-06-09T09:52:43.977Z"
   },
   {
    "duration": 14,
    "start_time": "2023-06-09T09:52:43.993Z"
   },
   {
    "duration": 12,
    "start_time": "2023-06-09T09:52:44.009Z"
   },
   {
    "duration": 19,
    "start_time": "2023-06-09T09:52:44.057Z"
   },
   {
    "duration": 272,
    "start_time": "2023-06-09T09:52:44.078Z"
   },
   {
    "duration": 181,
    "start_time": "2023-06-09T09:52:44.352Z"
   },
   {
    "duration": 172,
    "start_time": "2023-06-09T09:52:44.536Z"
   },
   {
    "duration": 159,
    "start_time": "2023-06-09T09:52:44.710Z"
   },
   {
    "duration": 175,
    "start_time": "2023-06-09T09:52:44.871Z"
   },
   {
    "duration": 172,
    "start_time": "2023-06-09T09:52:45.048Z"
   },
   {
    "duration": 171,
    "start_time": "2023-06-09T09:52:45.222Z"
   },
   {
    "duration": 155,
    "start_time": "2023-06-09T09:52:45.395Z"
   },
   {
    "duration": 273,
    "start_time": "2023-06-09T09:52:45.556Z"
   },
   {
    "duration": 200,
    "start_time": "2023-06-09T09:52:45.832Z"
   },
   {
    "duration": 9,
    "start_time": "2023-06-09T09:52:46.034Z"
   },
   {
    "duration": 6,
    "start_time": "2023-06-09T09:52:46.056Z"
   },
   {
    "duration": 23,
    "start_time": "2023-06-09T09:52:46.064Z"
   },
   {
    "duration": 6,
    "start_time": "2023-06-09T09:52:46.089Z"
   },
   {
    "duration": 10,
    "start_time": "2023-06-09T09:54:49.102Z"
   },
   {
    "duration": 1438,
    "start_time": "2023-06-09T20:42:03.612Z"
   },
   {
    "duration": 281,
    "start_time": "2023-06-09T20:42:05.052Z"
   },
   {
    "duration": 20,
    "start_time": "2023-06-09T20:42:05.335Z"
   },
   {
    "duration": 90,
    "start_time": "2023-06-09T20:42:05.357Z"
   },
   {
    "duration": 106,
    "start_time": "2023-06-09T20:42:05.449Z"
   },
   {
    "duration": 173,
    "start_time": "2023-06-09T20:42:05.558Z"
   },
   {
    "duration": 328,
    "start_time": "2023-06-09T20:42:05.733Z"
   },
   {
    "duration": 18,
    "start_time": "2023-06-09T20:42:06.064Z"
   },
   {
    "duration": 33,
    "start_time": "2023-06-09T20:42:06.084Z"
   },
   {
    "duration": 11,
    "start_time": "2023-06-09T20:42:06.121Z"
   },
   {
    "duration": 252,
    "start_time": "2023-06-09T20:42:06.136Z"
   },
   {
    "duration": 19,
    "start_time": "2023-06-09T20:42:06.389Z"
   },
   {
    "duration": 278,
    "start_time": "2023-06-09T20:42:06.409Z"
   },
   {
    "duration": 73,
    "start_time": "2023-06-09T20:42:06.689Z"
   },
   {
    "duration": 17,
    "start_time": "2023-06-09T20:42:06.764Z"
   },
   {
    "duration": 16,
    "start_time": "2023-06-09T20:42:06.783Z"
   },
   {
    "duration": 203,
    "start_time": "2023-06-09T20:42:06.801Z"
   },
   {
    "duration": 37,
    "start_time": "2023-06-09T20:42:07.006Z"
   },
   {
    "duration": 21,
    "start_time": "2023-06-09T20:42:07.045Z"
   },
   {
    "duration": 376,
    "start_time": "2023-06-09T20:42:07.068Z"
   },
   {
    "duration": 374,
    "start_time": "2023-06-09T20:42:07.446Z"
   },
   {
    "duration": 9,
    "start_time": "2023-06-09T20:42:07.822Z"
   },
   {
    "duration": 105,
    "start_time": "2023-06-09T20:42:07.833Z"
   },
   {
    "duration": 17,
    "start_time": "2023-06-09T20:42:07.939Z"
   },
   {
    "duration": 18,
    "start_time": "2023-06-09T20:42:07.958Z"
   },
   {
    "duration": 7,
    "start_time": "2023-06-09T20:42:07.978Z"
   },
   {
    "duration": 986,
    "start_time": "2023-06-09T20:42:07.987Z"
   },
   {
    "duration": 325,
    "start_time": "2023-06-09T20:42:08.977Z"
   },
   {
    "duration": 499,
    "start_time": "2023-06-09T20:42:09.304Z"
   },
   {
    "duration": 47,
    "start_time": "2023-06-09T20:42:09.806Z"
   },
   {
    "duration": 42,
    "start_time": "2023-06-09T20:42:09.855Z"
   },
   {
    "duration": 67,
    "start_time": "2023-06-09T20:42:09.899Z"
   },
   {
    "duration": 74,
    "start_time": "2023-06-09T20:42:09.968Z"
   },
   {
    "duration": 36,
    "start_time": "2023-06-09T20:42:10.044Z"
   },
   {
    "duration": 59,
    "start_time": "2023-06-09T20:42:10.082Z"
   },
   {
    "duration": 11,
    "start_time": "2023-06-09T20:42:10.142Z"
   },
   {
    "duration": 16,
    "start_time": "2023-06-09T20:42:10.154Z"
   },
   {
    "duration": 214,
    "start_time": "2023-06-09T20:42:10.172Z"
   },
   {
    "duration": 216,
    "start_time": "2023-06-09T20:42:10.388Z"
   },
   {
    "duration": 22,
    "start_time": "2023-06-09T20:42:10.605Z"
   },
   {
    "duration": 11,
    "start_time": "2023-06-09T20:42:10.629Z"
   },
   {
    "duration": 22,
    "start_time": "2023-06-09T20:42:10.642Z"
   },
   {
    "duration": 14,
    "start_time": "2023-06-09T20:42:10.666Z"
   },
   {
    "duration": 16,
    "start_time": "2023-06-09T20:42:10.682Z"
   },
   {
    "duration": 37,
    "start_time": "2023-06-09T20:42:10.700Z"
   },
   {
    "duration": 17,
    "start_time": "2023-06-09T20:42:10.739Z"
   },
   {
    "duration": 17,
    "start_time": "2023-06-09T20:42:10.758Z"
   },
   {
    "duration": 16,
    "start_time": "2023-06-09T20:42:10.777Z"
   },
   {
    "duration": 280,
    "start_time": "2023-06-09T20:42:10.795Z"
   },
   {
    "duration": 193,
    "start_time": "2023-06-09T20:42:11.077Z"
   },
   {
    "duration": 191,
    "start_time": "2023-06-09T20:42:11.272Z"
   },
   {
    "duration": 175,
    "start_time": "2023-06-09T20:42:11.465Z"
   },
   {
    "duration": 200,
    "start_time": "2023-06-09T20:42:11.642Z"
   },
   {
    "duration": 197,
    "start_time": "2023-06-09T20:42:11.844Z"
   },
   {
    "duration": 190,
    "start_time": "2023-06-09T20:42:12.043Z"
   },
   {
    "duration": 177,
    "start_time": "2023-06-09T20:42:12.234Z"
   },
   {
    "duration": 286,
    "start_time": "2023-06-09T20:42:12.413Z"
   },
   {
    "duration": 185,
    "start_time": "2023-06-09T20:42:12.701Z"
   },
   {
    "duration": 9,
    "start_time": "2023-06-09T20:42:12.888Z"
   },
   {
    "duration": 41,
    "start_time": "2023-06-09T20:42:12.899Z"
   },
   {
    "duration": 43,
    "start_time": "2023-06-09T20:42:12.942Z"
   },
   {
    "duration": 49,
    "start_time": "2023-06-09T20:42:12.986Z"
   }
  ],
  "kernelspec": {
   "display_name": "Python 3 (ipykernel)",
   "language": "python",
   "name": "python3"
  },
  "language_info": {
   "codemirror_mode": {
    "name": "ipython",
    "version": 3
   },
   "file_extension": ".py",
   "mimetype": "text/x-python",
   "name": "python",
   "nbconvert_exporter": "python",
   "pygments_lexer": "ipython3",
   "version": "3.10.9"
  },
  "toc": {
   "base_numbering": 1,
   "nav_menu": {
    "height": "419.8px",
    "width": "447.2px"
   },
   "number_sections": true,
   "sideBar": true,
   "skip_h1_title": true,
   "title_cell": "Содержание",
   "title_sidebar": "Contents",
   "toc_cell": true,
   "toc_position": {
    "height": "calc(100% - 180px)",
    "left": "10px",
    "top": "150px",
    "width": "251.2px"
   },
   "toc_section_display": true,
   "toc_window_display": true
  }
 },
 "nbformat": 4,
 "nbformat_minor": 2
}
