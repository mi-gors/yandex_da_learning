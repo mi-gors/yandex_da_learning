{
 "cells": [
  {
   "cell_type": "markdown",
   "id": "083733f7",
   "metadata": {},
   "source": [
    "<div style=\"border:solid green 3px; padding: 20px\">\n",
    "<b>🥇 Михаил, спасибо за доработки, проект принят, молодец!</b>\n",
    "    \n",
    "Ты провел очень хорошую работу над ошибками! Уверен, ты обязательно достигнешь своей цели! Успехов в дальнейшем обучении! 🙂\n",
    "    "
   ]
  },
  {
   "cell_type": "markdown",
   "id": "dd65722c",
   "metadata": {},
   "source": [
    "Михаил, привет! Меня зовут Ефимов Денис и сегодня я буду делать ревью твоего проекта!\\\n",
    "В Практикуме принято общаться на \"ты\", однако если это неудобно - дай знать, и можем перейти на более официальное общение.\n",
    "\n",
    "Ниже ты найдешь мои комментарии - пожалуйста, не перемещай, не изменяй и не удаляй их. Я буду использовать цветовую разметку: \n",
    "\n",
    "<div class=\"alert alert-block alert-success\">\n",
    "<b>✅Комментарий ревьюера:</b> Если все сделано хорошо. </div>\n",
    "\n",
    "<div class=\"alert alert-block alert-warning\">\n",
    "<b>🔁Комментарий ревьюера:</b> Некритичное замечание; если таких замечаний меньше трех — проект может быть принят без их отработки.</div>\n",
    "\n",
    "<div class=\"alert alert-block alert-danger\">\n",
    "<b>❌Комментарий ревьюера:</b> Грубая ошибка, необходимо исправить, иначе проект не будет принят.\n",
    "</div>\n",
    "\n",
    "Давай работать над проектом в диалоге: если ты что-то меняешь в проекте или отвечаешь на мои комментарии — пиши об этом. Мне будет легче отследить изменения, если ты выделишь свои комментарии:\n",
    "Например так:\n",
    "<div class=\"alert alert-block alert-info\">\n",
    "<b>🔄Комментарий студента:</b> \n",
    "Hello World! ✔\n",
    "</div>\n",
    "\n",
    "Или можешь использовать эту галочку ✔ в моих комментариях, если писать особо нечего.\n",
    "\n",
    "<div class=\"alert alert-block alert-warning\">\n",
    "<b>Общее впечатление:</b> \n",
    "    \n",
    "- Ты проделал огромную работу :)\n",
    "- У меня есть несколько замечаний, исправив которые ты сделаешь проект лучше.\n",
    "- Пробегись по моим комментариям, исправь недочёты и всё будет отлично :)\n",
    "    \n",
    "</div>\n",
    "\n"
   ]
  },
  {
   "cell_type": "markdown",
   "id": "e55fdf2e",
   "metadata": {},
   "source": [
    "<div class=\"alert alert-block alert-warning\">\n",
    "<b>🔁Комментарий ревьюера 2:</b>\n",
    "\n",
    "Почти все комментарии обработаны очень хорошо. Так как желтых комментариев более трех, то их тоже необходимо обработать. И написать вывод)</div>"
   ]
  },
  {
   "cell_type": "markdown",
   "id": "bfe2db23",
   "metadata": {},
   "source": [
    "# Статистический анализ сервиса аренды самокатов"
   ]
  },
  {
   "cell_type": "markdown",
   "id": "a0e13339",
   "metadata": {
    "toc": true
   },
   "source": [
    "<h1>Содержание<span class=\"tocSkip\"></span></h1>\n",
    "<div class=\"toc\"><ul class=\"toc-item\"><li><span><a href=\"#Шаг-1.-Загрузка-данных\" data-toc-modified-id=\"Шаг-1.-Загрузка-данных-1\"><span class=\"toc-item-num\">1&nbsp;&nbsp;</span>Шаг 1. Загрузка данных</a></span><ul class=\"toc-item\"><li><span><a href=\"#Импорт-библиотек-и-загрузка-данных\" data-toc-modified-id=\"Импорт-библиотек-и-загрузка-данных-1.1\"><span class=\"toc-item-num\">1.1&nbsp;&nbsp;</span>Импорт библиотек и загрузка данных</a></span></li><li><span><a href=\"#Общая-информация-о-каждом-датафрейме\" data-toc-modified-id=\"Общая-информация-о-каждом-датафрейме-1.2\"><span class=\"toc-item-num\">1.2&nbsp;&nbsp;</span>Общая информация о каждом датафрейме</a></span></li></ul></li><li><span><a href=\"#Шаг-2.-Предобработка-данных\" data-toc-modified-id=\"Шаг-2.-Предобработка-данных-2\"><span class=\"toc-item-num\">2&nbsp;&nbsp;</span>Шаг 2. Предобработка данных</a></span><ul class=\"toc-item\"><li><span><a href=\"#Приведение-столбца-date-к-типу-pandas\" data-toc-modified-id=\"Приведение-столбца-date-к-типу-pandas-2.1\"><span class=\"toc-item-num\">2.1&nbsp;&nbsp;</span>Приведение столбца date к типу pandas</a></span></li><li><span><a href=\"#Создание-столбца-с-номером-месяца\" data-toc-modified-id=\"Создание-столбца-с-номером-месяца-2.2\"><span class=\"toc-item-num\">2.2&nbsp;&nbsp;</span>Создание столбца с номером месяца</a></span></li><li><span><a href=\"#Проверка-пропусков-и-дубликатов\" data-toc-modified-id=\"Проверка-пропусков-и-дубликатов-2.3\"><span class=\"toc-item-num\">2.3&nbsp;&nbsp;</span>Проверка пропусков и дубликатов</a></span></li></ul></li><li><span><a href=\"#Шаг-3.-Исследовательский-анализ-данных\" data-toc-modified-id=\"Шаг-3.-Исследовательский-анализ-данных-3\"><span class=\"toc-item-num\">3&nbsp;&nbsp;</span>Шаг 3. Исследовательский анализ данных</a></span><ul class=\"toc-item\"><li><span><a href=\"#Частота-встречаемости-городов\" data-toc-modified-id=\"Частота-встречаемости-городов-3.1\"><span class=\"toc-item-num\">3.1&nbsp;&nbsp;</span>Частота встречаемости городов</a></span></li><li><span><a href=\"#Соотношение-пользователей-с-подпиской-и-без\" data-toc-modified-id=\"Соотношение-пользователей-с-подпиской-и-без-3.2\"><span class=\"toc-item-num\">3.2&nbsp;&nbsp;</span>Соотношение пользователей с подпиской и без</a></span></li><li><span><a href=\"#Возраст-пользователей\" data-toc-modified-id=\"Возраст-пользователей-3.3\"><span class=\"toc-item-num\">3.3&nbsp;&nbsp;</span>Возраст пользователей</a></span></li><li><span><a href=\"#Расстояние-за-одну-поездку\" data-toc-modified-id=\"Расстояние-за-одну-поездку-3.4\"><span class=\"toc-item-num\">3.4&nbsp;&nbsp;</span>Расстояние за одну поездку</a></span></li><li><span><a href=\"#Длительность-поездки\" data-toc-modified-id=\"Длительность-поездки-3.5\"><span class=\"toc-item-num\">3.5&nbsp;&nbsp;</span>Длительность поездки</a></span></li></ul></li><li><span><a href=\"#Шаг-4.-Объединение-данных\" data-toc-modified-id=\"Шаг-4.-Объединение-данных-4\"><span class=\"toc-item-num\">4&nbsp;&nbsp;</span>Шаг 4. Объединение данных</a></span><ul class=\"toc-item\"><li><span><a href=\"#Объединение-датафреймов\" data-toc-modified-id=\"Объединение-датафреймов-4.1\"><span class=\"toc-item-num\">4.1&nbsp;&nbsp;</span>Объединение датафреймов</a></span></li><li><span><a href=\"#Создание-датафреймов\" data-toc-modified-id=\"Создание-датафреймов-4.2\"><span class=\"toc-item-num\">4.2&nbsp;&nbsp;</span>Создание датафреймов</a></span></li><li><span><a href=\"#Расстояние-и-время-поездок-для-пассажиров-различных-категорий\" data-toc-modified-id=\"Расстояние-и-время-поездок-для-пассажиров-различных-категорий-4.3\"><span class=\"toc-item-num\">4.3&nbsp;&nbsp;</span>Расстояние и время поездок для пассажиров различных категорий</a></span></li></ul></li><li><span><a href=\"#Шаг-5.-Подсчёт-выручки\" data-toc-modified-id=\"Шаг-5.-Подсчёт-выручки-5\"><span class=\"toc-item-num\">5&nbsp;&nbsp;</span>Шаг 5. Подсчёт выручки</a></span><ul class=\"toc-item\"><li><span><a href=\"#Создание-датафрейма-с-агрегированными-данными\" data-toc-modified-id=\"Создание-датафрейма-с-агрегированными-данными-5.1\"><span class=\"toc-item-num\">5.1&nbsp;&nbsp;</span>Создание датафрейма с агрегированными данными</a></span></li><li><span><a href=\"#Добавление-столбца-с-помесячной-выручкой\" data-toc-modified-id=\"Добавление-столбца-с-помесячной-выручкой-5.2\"><span class=\"toc-item-num\">5.2&nbsp;&nbsp;</span>Добавление столбца с помесячной выручкой</a></span></li></ul></li><li><span><a href=\"#Шаг-6.-Проверка-гипотез\" data-toc-modified-id=\"Шаг-6.-Проверка-гипотез-6\"><span class=\"toc-item-num\">6&nbsp;&nbsp;</span>Шаг 6. Проверка гипотез</a></span><ul class=\"toc-item\"><li><span><a href=\"#Важно-понять,-тратят-ли-пользователи-с-подпиской-больше-времени-на-поездки?\" data-toc-modified-id=\"Важно-понять,-тратят-ли-пользователи-с-подпиской-больше-времени-на-поездки?-6.1\"><span class=\"toc-item-num\">6.1&nbsp;&nbsp;</span>Важно понять, тратят ли пользователи с подпиской больше времени на поездки?</a></span></li><li><span><a href=\"#Можно-ли-сказать,-что-расстояние,-которое-проезжают-пользователи-с-подпиской-за-одну-поездку,-не-превышает-3130-метров?\" data-toc-modified-id=\"Можно-ли-сказать,-что-расстояние,-которое-проезжают-пользователи-с-подпиской-за-одну-поездку,-не-превышает-3130-метров?-6.2\"><span class=\"toc-item-num\">6.2&nbsp;&nbsp;</span>Можно ли сказать, что расстояние, которое проезжают пользователи с подпиской за одну поездку, не превышает 3130 метров?</a></span></li><li><span><a href=\"#Будет-ли-помесячная-выручка-от-пользователей-с-подпиской-по-месяцам-выше,-чем-выручка-от-пользователей-без-подписки?\" data-toc-modified-id=\"Будет-ли-помесячная-выручка-от-пользователей-с-подпиской-по-месяцам-выше,-чем-выручка-от-пользователей-без-подписки?-6.3\"><span class=\"toc-item-num\">6.3&nbsp;&nbsp;</span>Будет ли помесячная выручка от пользователей с подпиской по месяцам выше, чем выручка от пользователей без подписки?</a></span></li><li><span><a href=\"#Представьте-такую-ситуацию:-техническая-команда-сервиса-обновила-сервера,-с-которыми-взаимодействует-мобильное-приложение.-Она-надеется,-что-из-за-этого-количество-обращений-в-техподдержку-значимо-снизилось.-Некоторый-файл-содержит-для-каждого-пользователя-данные-о-количестве-обращений-до-обновления-и-после-него.-Какой-тест-вам-понадобился-бы-для-проверки-этой-гипотезы?\" data-toc-modified-id=\"Представьте-такую-ситуацию:-техническая-команда-сервиса-обновила-сервера,-с-которыми-взаимодействует-мобильное-приложение.-Она-надеется,-что-из-за-этого-количество-обращений-в-техподдержку-значимо-снизилось.-Некоторый-файл-содержит-для-каждого-пользователя-данные-о-количестве-обращений-до-обновления-и-после-него.-Какой-тест-вам-понадобился-бы-для-проверки-этой-гипотезы?-6.4\"><span class=\"toc-item-num\">6.4&nbsp;&nbsp;</span>Представьте такую ситуацию: техническая команда сервиса обновила сервера, с которыми взаимодействует мобильное приложение. Она надеется, что из-за этого количество обращений в техподдержку значимо снизилось. Некоторый файл содержит для каждого пользователя данные о количестве обращений до обновления и после него. Какой тест вам понадобился бы для проверки этой гипотезы?</a></span></li></ul></li><li><span><a href=\"#Шаг-7.-Распределения\" data-toc-modified-id=\"Шаг-7.-Распределения-7\"><span class=\"toc-item-num\">7&nbsp;&nbsp;</span>Шаг 7. Распределения</a></span></li><li><span><a href=\"#Итоговый-вывод\" data-toc-modified-id=\"Итоговый-вывод-8\"><span class=\"toc-item-num\">8&nbsp;&nbsp;</span>Итоговый вывод</a></span></li></ul></div>"
   ]
  },
  {
   "cell_type": "markdown",
   "id": "ca50558d",
   "metadata": {},
   "source": [
    "\n",
    "\n",
    "<div class=\"alert alert-info\">\n",
    "<font size=\"3\", color = \"black\"><b> Задание:  </b> Вы аналитик популярного сервиса аренды самокатов GoFast. Вам передали данные о некоторых пользователях из нескольких городов, а также об их поездках. Проанализируйте данные и проверьте некоторые гипотезы, которые могут помочь бизнесу вырасти.\n",
    "    <br />\n",
    "     <br />\n",
    "<b>Описание данных:</b> <br />\n",
    "     <br />\n",
    "Пользователи (users_go.csv):\n",
    "    \n",
    "- user_id —\tуникальный идентификатор пользователя\n",
    "- name —\tимя пользователя\n",
    "- age —\tвозраст \n",
    "- city —\tгород\n",
    "- subscription_type —\tтип подписки (free, ultra)\n",
    " <br />\n",
    "\n",
    "Поездки (rides_go.csv):\n",
    "    \n",
    "- user_id —\tуникальный идентификатор пользователя\n",
    "- distance —\tрасстояние, которое пользователь проехал в текущей сессии (в метрах)\n",
    "- duration —\tпродолжительность сессии (в минутах) — время с того момента, как пользователь нажал кнопку «Начать поездку» до момента, как он нажал кнопку «Завершить поездку» \n",
    "- date —\tдата совершения поездки<br />\n",
    "\n",
    "Подписки (subscriptions_go.csv):\n",
    "    \n",
    "- subscription_type —\tтип подписки\n",
    "- minute_price —\tстоимость одной минуты поездки по данной подписке\n",
    "- start_ride_price —\tстоимость начала поездки \n",
    "- subscription_fee —\tстоимость ежемесячного платежа\n",
    " <br />\n",
    "\n",
    "<br />\n",
    "<b>План действий:</b>\n",
    "    \n",
    "1. Импортировать библиотеки, загрузить данные и изучить информацию по каждому из них.\n",
    "2. Обработать данные: привести столбцы к нужному типу, создать необходимые на основе уже имеющихся. Проверить данные на наличие пропусков и дубликатов и обработать их.\n",
    "3. Проанализировать данные: возраст пользователей, расстояние и длительность их поездок, узнать какие города встречаются чаще всего, посчитать соотношение пользователей с подпиской и без. Провизуализировать полученные данные.\n",
    "4. Объединить датафреймы, создать на основе объединенного новые и рассчитать по ним расстояние и время поездок.\n",
    "5. Посчитать помесячную выручку для каждого пользователя.\n",
    "6. Проверить гипотезы, сделать выводы по ним.\n",
    "7. Сделать заключительный вывод по всей проделанной работе.\n",
    "<br />\n",
    "    </font>"
   ]
  },
  {
   "cell_type": "markdown",
   "id": "55214026",
   "metadata": {},
   "source": [
    "<div class=\"alert alert-block alert-warning\">\n",
    "<b>🔁Комментарий ревьюера 2: ✔</b> \n",
    "    \n",
    "Можно добавить описание имеющихся данных и примерный план действий.\n",
    "</div>"
   ]
  },
  {
   "cell_type": "markdown",
   "id": "95ab8d93",
   "metadata": {},
   "source": [
    "<div class=\"alert alert-block alert-success\">\n",
    "<b>✅Комментарий ревьюера 3:</b> Отлично, исправлено!👍  </div>"
   ]
  },
  {
   "cell_type": "markdown",
   "id": "aba93498",
   "metadata": {},
   "source": [
    "<div class=\"alert alert-block alert-danger\">\n",
    "<b>❌Комментарий ревьюера:  ✔</b> \n",
    "    \n",
    " Проекту также нужно и название. Можно добавить описание имеющихся данных и примерный план действий. Также стоит задуматься, как еще можно дополнить введение, чтобы сделать более ценным для читателя. Все инструкции по оформлению проекта есть на платформе в разделе \"Полезные инструкции для учебы\"\n",
    "    \n",
    "Также советую тебе взглянуть на <a href=\"https://www.kaggle.com/notebooks/\">работы</a> профессиональных аналитиков, чтобы оценить, как другие люди оформляют и проводят исследования.   \n",
    "\n",
    "</div>"
   ]
  },
  {
   "cell_type": "markdown",
   "id": "e93f3df2",
   "metadata": {},
   "source": [
    "<div class=\"alert alert-block alert-success\">\n",
    "<b>✅Комментарий ревьюера 2:</b> Отлично, исправлено!👍  </div>"
   ]
  },
  {
   "cell_type": "markdown",
   "id": "4b614c2f",
   "metadata": {},
   "source": [
    "#### Шаг 1. Загрузка данных"
   ]
  },
  {
   "cell_type": "markdown",
   "id": "eac8a280",
   "metadata": {},
   "source": [
    "##### Импорт библиотек и загрузка данных"
   ]
  },
  {
   "cell_type": "code",
   "execution_count": 1,
   "id": "57948eb4",
   "metadata": {},
   "outputs": [],
   "source": [
    "import pandas as pd\n",
    "from scipy import stats as st\n",
    "import numpy as np\n",
    "import matplotlib.pyplot as plt"
   ]
  },
  {
   "cell_type": "markdown",
   "id": "11f8a92c",
   "metadata": {},
   "source": [
    "<div class=\"alert alert-block alert-success\">\n",
    "<b>✅Комментарий ревьюера:</b> Молодец, что импортируешь все библиотеки в отдельной ячейке!  </div>"
   ]
  },
  {
   "cell_type": "code",
   "execution_count": 2,
   "id": "e40e0b52",
   "metadata": {},
   "outputs": [],
   "source": [
    "users = pd.read_csv('/datasets/users_go.csv')\n",
    "rides = pd.read_csv('/datasets/rides_go.csv')\n",
    "subscriptions = pd.read_csv('/datasets/subscriptions_go.csv')"
   ]
  },
  {
   "cell_type": "markdown",
   "id": "3acfd50b",
   "metadata": {},
   "source": [
    "##### Общая информация о каждом датафрейме"
   ]
  },
  {
   "cell_type": "code",
   "execution_count": 3,
   "id": "f55ba1df",
   "metadata": {},
   "outputs": [
    {
     "data": {
      "text/html": [
       "<div>\n",
       "<style scoped>\n",
       "    .dataframe tbody tr th:only-of-type {\n",
       "        vertical-align: middle;\n",
       "    }\n",
       "\n",
       "    .dataframe tbody tr th {\n",
       "        vertical-align: top;\n",
       "    }\n",
       "\n",
       "    .dataframe thead th {\n",
       "        text-align: right;\n",
       "    }\n",
       "</style>\n",
       "<table border=\"1\" class=\"dataframe\">\n",
       "  <thead>\n",
       "    <tr style=\"text-align: right;\">\n",
       "      <th></th>\n",
       "      <th>user_id</th>\n",
       "      <th>name</th>\n",
       "      <th>age</th>\n",
       "      <th>city</th>\n",
       "      <th>subscription_type</th>\n",
       "    </tr>\n",
       "  </thead>\n",
       "  <tbody>\n",
       "    <tr>\n",
       "      <th>0</th>\n",
       "      <td>1</td>\n",
       "      <td>Кира</td>\n",
       "      <td>22</td>\n",
       "      <td>Тюмень</td>\n",
       "      <td>ultra</td>\n",
       "    </tr>\n",
       "    <tr>\n",
       "      <th>1</th>\n",
       "      <td>2</td>\n",
       "      <td>Станислав</td>\n",
       "      <td>31</td>\n",
       "      <td>Омск</td>\n",
       "      <td>ultra</td>\n",
       "    </tr>\n",
       "    <tr>\n",
       "      <th>2</th>\n",
       "      <td>3</td>\n",
       "      <td>Алексей</td>\n",
       "      <td>20</td>\n",
       "      <td>Москва</td>\n",
       "      <td>ultra</td>\n",
       "    </tr>\n",
       "    <tr>\n",
       "      <th>3</th>\n",
       "      <td>4</td>\n",
       "      <td>Константин</td>\n",
       "      <td>26</td>\n",
       "      <td>Ростов-на-Дону</td>\n",
       "      <td>ultra</td>\n",
       "    </tr>\n",
       "    <tr>\n",
       "      <th>4</th>\n",
       "      <td>5</td>\n",
       "      <td>Адель</td>\n",
       "      <td>28</td>\n",
       "      <td>Омск</td>\n",
       "      <td>ultra</td>\n",
       "    </tr>\n",
       "  </tbody>\n",
       "</table>\n",
       "</div>"
      ],
      "text/plain": [
       "   user_id        name  age            city subscription_type\n",
       "0        1        Кира   22          Тюмень             ultra\n",
       "1        2   Станислав   31            Омск             ultra\n",
       "2        3     Алексей   20          Москва             ultra\n",
       "3        4  Константин   26  Ростов-на-Дону             ultra\n",
       "4        5       Адель   28            Омск             ultra"
      ]
     },
     "execution_count": 3,
     "metadata": {},
     "output_type": "execute_result"
    }
   ],
   "source": [
    "users.head()"
   ]
  },
  {
   "cell_type": "code",
   "execution_count": 4,
   "id": "421b9675",
   "metadata": {},
   "outputs": [
    {
     "data": {
      "text/html": [
       "<div>\n",
       "<style scoped>\n",
       "    .dataframe tbody tr th:only-of-type {\n",
       "        vertical-align: middle;\n",
       "    }\n",
       "\n",
       "    .dataframe tbody tr th {\n",
       "        vertical-align: top;\n",
       "    }\n",
       "\n",
       "    .dataframe thead th {\n",
       "        text-align: right;\n",
       "    }\n",
       "</style>\n",
       "<table border=\"1\" class=\"dataframe\">\n",
       "  <thead>\n",
       "    <tr style=\"text-align: right;\">\n",
       "      <th></th>\n",
       "      <th>user_id</th>\n",
       "      <th>age</th>\n",
       "    </tr>\n",
       "  </thead>\n",
       "  <tbody>\n",
       "    <tr>\n",
       "      <th>count</th>\n",
       "      <td>1565.000000</td>\n",
       "      <td>1565.000000</td>\n",
       "    </tr>\n",
       "    <tr>\n",
       "      <th>mean</th>\n",
       "      <td>762.633866</td>\n",
       "      <td>24.922045</td>\n",
       "    </tr>\n",
       "    <tr>\n",
       "      <th>std</th>\n",
       "      <td>443.260155</td>\n",
       "      <td>4.553496</td>\n",
       "    </tr>\n",
       "    <tr>\n",
       "      <th>min</th>\n",
       "      <td>1.000000</td>\n",
       "      <td>12.000000</td>\n",
       "    </tr>\n",
       "    <tr>\n",
       "      <th>25%</th>\n",
       "      <td>378.000000</td>\n",
       "      <td>22.000000</td>\n",
       "    </tr>\n",
       "    <tr>\n",
       "      <th>50%</th>\n",
       "      <td>762.000000</td>\n",
       "      <td>25.000000</td>\n",
       "    </tr>\n",
       "    <tr>\n",
       "      <th>75%</th>\n",
       "      <td>1146.000000</td>\n",
       "      <td>28.000000</td>\n",
       "    </tr>\n",
       "    <tr>\n",
       "      <th>max</th>\n",
       "      <td>1534.000000</td>\n",
       "      <td>43.000000</td>\n",
       "    </tr>\n",
       "  </tbody>\n",
       "</table>\n",
       "</div>"
      ],
      "text/plain": [
       "           user_id          age\n",
       "count  1565.000000  1565.000000\n",
       "mean    762.633866    24.922045\n",
       "std     443.260155     4.553496\n",
       "min       1.000000    12.000000\n",
       "25%     378.000000    22.000000\n",
       "50%     762.000000    25.000000\n",
       "75%    1146.000000    28.000000\n",
       "max    1534.000000    43.000000"
      ]
     },
     "execution_count": 4,
     "metadata": {},
     "output_type": "execute_result"
    }
   ],
   "source": [
    "users.describe()"
   ]
  },
  {
   "cell_type": "code",
   "execution_count": 5,
   "id": "55414292",
   "metadata": {},
   "outputs": [
    {
     "name": "stdout",
     "output_type": "stream",
     "text": [
      "<class 'pandas.core.frame.DataFrame'>\n",
      "RangeIndex: 1565 entries, 0 to 1564\n",
      "Data columns (total 5 columns):\n",
      " #   Column             Non-Null Count  Dtype \n",
      "---  ------             --------------  ----- \n",
      " 0   user_id            1565 non-null   int64 \n",
      " 1   name               1565 non-null   object\n",
      " 2   age                1565 non-null   int64 \n",
      " 3   city               1565 non-null   object\n",
      " 4   subscription_type  1565 non-null   object\n",
      "dtypes: int64(2), object(3)\n",
      "memory usage: 61.3+ KB\n"
     ]
    }
   ],
   "source": [
    "users.info()"
   ]
  },
  {
   "cell_type": "code",
   "execution_count": 6,
   "id": "063f420c",
   "metadata": {},
   "outputs": [
    {
     "data": {
      "text/html": [
       "<div>\n",
       "<style scoped>\n",
       "    .dataframe tbody tr th:only-of-type {\n",
       "        vertical-align: middle;\n",
       "    }\n",
       "\n",
       "    .dataframe tbody tr th {\n",
       "        vertical-align: top;\n",
       "    }\n",
       "\n",
       "    .dataframe thead th {\n",
       "        text-align: right;\n",
       "    }\n",
       "</style>\n",
       "<table border=\"1\" class=\"dataframe\">\n",
       "  <thead>\n",
       "    <tr style=\"text-align: right;\">\n",
       "      <th></th>\n",
       "      <th>user_id</th>\n",
       "      <th>distance</th>\n",
       "      <th>duration</th>\n",
       "      <th>date</th>\n",
       "    </tr>\n",
       "  </thead>\n",
       "  <tbody>\n",
       "    <tr>\n",
       "      <th>0</th>\n",
       "      <td>1</td>\n",
       "      <td>4409.919140</td>\n",
       "      <td>25.599769</td>\n",
       "      <td>2021-01-01</td>\n",
       "    </tr>\n",
       "    <tr>\n",
       "      <th>1</th>\n",
       "      <td>1</td>\n",
       "      <td>2617.592153</td>\n",
       "      <td>15.816871</td>\n",
       "      <td>2021-01-18</td>\n",
       "    </tr>\n",
       "    <tr>\n",
       "      <th>2</th>\n",
       "      <td>1</td>\n",
       "      <td>754.159807</td>\n",
       "      <td>6.232113</td>\n",
       "      <td>2021-04-20</td>\n",
       "    </tr>\n",
       "    <tr>\n",
       "      <th>3</th>\n",
       "      <td>1</td>\n",
       "      <td>2694.783254</td>\n",
       "      <td>18.511000</td>\n",
       "      <td>2021-08-11</td>\n",
       "    </tr>\n",
       "    <tr>\n",
       "      <th>4</th>\n",
       "      <td>1</td>\n",
       "      <td>4028.687306</td>\n",
       "      <td>26.265803</td>\n",
       "      <td>2021-08-28</td>\n",
       "    </tr>\n",
       "  </tbody>\n",
       "</table>\n",
       "</div>"
      ],
      "text/plain": [
       "   user_id     distance   duration        date\n",
       "0        1  4409.919140  25.599769  2021-01-01\n",
       "1        1  2617.592153  15.816871  2021-01-18\n",
       "2        1   754.159807   6.232113  2021-04-20\n",
       "3        1  2694.783254  18.511000  2021-08-11\n",
       "4        1  4028.687306  26.265803  2021-08-28"
      ]
     },
     "execution_count": 6,
     "metadata": {},
     "output_type": "execute_result"
    }
   ],
   "source": [
    "rides.head()"
   ]
  },
  {
   "cell_type": "code",
   "execution_count": 7,
   "id": "6abb6283",
   "metadata": {},
   "outputs": [
    {
     "data": {
      "text/html": [
       "<div>\n",
       "<style scoped>\n",
       "    .dataframe tbody tr th:only-of-type {\n",
       "        vertical-align: middle;\n",
       "    }\n",
       "\n",
       "    .dataframe tbody tr th {\n",
       "        vertical-align: top;\n",
       "    }\n",
       "\n",
       "    .dataframe thead th {\n",
       "        text-align: right;\n",
       "    }\n",
       "</style>\n",
       "<table border=\"1\" class=\"dataframe\">\n",
       "  <thead>\n",
       "    <tr style=\"text-align: right;\">\n",
       "      <th></th>\n",
       "      <th>user_id</th>\n",
       "      <th>distance</th>\n",
       "      <th>duration</th>\n",
       "    </tr>\n",
       "  </thead>\n",
       "  <tbody>\n",
       "    <tr>\n",
       "      <th>count</th>\n",
       "      <td>18068.000000</td>\n",
       "      <td>18068.000000</td>\n",
       "      <td>18068.000000</td>\n",
       "    </tr>\n",
       "    <tr>\n",
       "      <th>mean</th>\n",
       "      <td>842.869936</td>\n",
       "      <td>3070.659976</td>\n",
       "      <td>17.805011</td>\n",
       "    </tr>\n",
       "    <tr>\n",
       "      <th>std</th>\n",
       "      <td>434.734317</td>\n",
       "      <td>1116.831209</td>\n",
       "      <td>6.091051</td>\n",
       "    </tr>\n",
       "    <tr>\n",
       "      <th>min</th>\n",
       "      <td>1.000000</td>\n",
       "      <td>0.855683</td>\n",
       "      <td>0.500000</td>\n",
       "    </tr>\n",
       "    <tr>\n",
       "      <th>25%</th>\n",
       "      <td>487.000000</td>\n",
       "      <td>2543.226360</td>\n",
       "      <td>13.597563</td>\n",
       "    </tr>\n",
       "    <tr>\n",
       "      <th>50%</th>\n",
       "      <td>889.000000</td>\n",
       "      <td>3133.609994</td>\n",
       "      <td>17.678395</td>\n",
       "    </tr>\n",
       "    <tr>\n",
       "      <th>75%</th>\n",
       "      <td>1213.250000</td>\n",
       "      <td>3776.222735</td>\n",
       "      <td>21.724800</td>\n",
       "    </tr>\n",
       "    <tr>\n",
       "      <th>max</th>\n",
       "      <td>1534.000000</td>\n",
       "      <td>7211.007745</td>\n",
       "      <td>40.823963</td>\n",
       "    </tr>\n",
       "  </tbody>\n",
       "</table>\n",
       "</div>"
      ],
      "text/plain": [
       "            user_id      distance      duration\n",
       "count  18068.000000  18068.000000  18068.000000\n",
       "mean     842.869936   3070.659976     17.805011\n",
       "std      434.734317   1116.831209      6.091051\n",
       "min        1.000000      0.855683      0.500000\n",
       "25%      487.000000   2543.226360     13.597563\n",
       "50%      889.000000   3133.609994     17.678395\n",
       "75%     1213.250000   3776.222735     21.724800\n",
       "max     1534.000000   7211.007745     40.823963"
      ]
     },
     "execution_count": 7,
     "metadata": {},
     "output_type": "execute_result"
    }
   ],
   "source": [
    "rides.describe()"
   ]
  },
  {
   "cell_type": "code",
   "execution_count": 8,
   "id": "1b4e862b",
   "metadata": {},
   "outputs": [
    {
     "name": "stdout",
     "output_type": "stream",
     "text": [
      "<class 'pandas.core.frame.DataFrame'>\n",
      "RangeIndex: 18068 entries, 0 to 18067\n",
      "Data columns (total 4 columns):\n",
      " #   Column    Non-Null Count  Dtype  \n",
      "---  ------    --------------  -----  \n",
      " 0   user_id   18068 non-null  int64  \n",
      " 1   distance  18068 non-null  float64\n",
      " 2   duration  18068 non-null  float64\n",
      " 3   date      18068 non-null  object \n",
      "dtypes: float64(2), int64(1), object(1)\n",
      "memory usage: 564.8+ KB\n"
     ]
    }
   ],
   "source": [
    "rides.info()"
   ]
  },
  {
   "cell_type": "code",
   "execution_count": 9,
   "id": "86d73e44",
   "metadata": {},
   "outputs": [
    {
     "data": {
      "text/html": [
       "<div>\n",
       "<style scoped>\n",
       "    .dataframe tbody tr th:only-of-type {\n",
       "        vertical-align: middle;\n",
       "    }\n",
       "\n",
       "    .dataframe tbody tr th {\n",
       "        vertical-align: top;\n",
       "    }\n",
       "\n",
       "    .dataframe thead th {\n",
       "        text-align: right;\n",
       "    }\n",
       "</style>\n",
       "<table border=\"1\" class=\"dataframe\">\n",
       "  <thead>\n",
       "    <tr style=\"text-align: right;\">\n",
       "      <th></th>\n",
       "      <th>subscription_type</th>\n",
       "      <th>minute_price</th>\n",
       "      <th>start_ride_price</th>\n",
       "      <th>subscription_fee</th>\n",
       "    </tr>\n",
       "  </thead>\n",
       "  <tbody>\n",
       "    <tr>\n",
       "      <th>0</th>\n",
       "      <td>free</td>\n",
       "      <td>8</td>\n",
       "      <td>50</td>\n",
       "      <td>0</td>\n",
       "    </tr>\n",
       "    <tr>\n",
       "      <th>1</th>\n",
       "      <td>ultra</td>\n",
       "      <td>6</td>\n",
       "      <td>0</td>\n",
       "      <td>199</td>\n",
       "    </tr>\n",
       "  </tbody>\n",
       "</table>\n",
       "</div>"
      ],
      "text/plain": [
       "  subscription_type  minute_price  start_ride_price  subscription_fee\n",
       "0              free             8                50                 0\n",
       "1             ultra             6                 0               199"
      ]
     },
     "execution_count": 9,
     "metadata": {},
     "output_type": "execute_result"
    }
   ],
   "source": [
    "subscriptions.head()"
   ]
  },
  {
   "cell_type": "code",
   "execution_count": 10,
   "id": "1e9acf64",
   "metadata": {},
   "outputs": [
    {
     "data": {
      "text/html": [
       "<div>\n",
       "<style scoped>\n",
       "    .dataframe tbody tr th:only-of-type {\n",
       "        vertical-align: middle;\n",
       "    }\n",
       "\n",
       "    .dataframe tbody tr th {\n",
       "        vertical-align: top;\n",
       "    }\n",
       "\n",
       "    .dataframe thead th {\n",
       "        text-align: right;\n",
       "    }\n",
       "</style>\n",
       "<table border=\"1\" class=\"dataframe\">\n",
       "  <thead>\n",
       "    <tr style=\"text-align: right;\">\n",
       "      <th></th>\n",
       "      <th>minute_price</th>\n",
       "      <th>start_ride_price</th>\n",
       "      <th>subscription_fee</th>\n",
       "    </tr>\n",
       "  </thead>\n",
       "  <tbody>\n",
       "    <tr>\n",
       "      <th>count</th>\n",
       "      <td>2.000000</td>\n",
       "      <td>2.000000</td>\n",
       "      <td>2.000000</td>\n",
       "    </tr>\n",
       "    <tr>\n",
       "      <th>mean</th>\n",
       "      <td>7.000000</td>\n",
       "      <td>25.000000</td>\n",
       "      <td>99.500000</td>\n",
       "    </tr>\n",
       "    <tr>\n",
       "      <th>std</th>\n",
       "      <td>1.414214</td>\n",
       "      <td>35.355339</td>\n",
       "      <td>140.714249</td>\n",
       "    </tr>\n",
       "    <tr>\n",
       "      <th>min</th>\n",
       "      <td>6.000000</td>\n",
       "      <td>0.000000</td>\n",
       "      <td>0.000000</td>\n",
       "    </tr>\n",
       "    <tr>\n",
       "      <th>25%</th>\n",
       "      <td>6.500000</td>\n",
       "      <td>12.500000</td>\n",
       "      <td>49.750000</td>\n",
       "    </tr>\n",
       "    <tr>\n",
       "      <th>50%</th>\n",
       "      <td>7.000000</td>\n",
       "      <td>25.000000</td>\n",
       "      <td>99.500000</td>\n",
       "    </tr>\n",
       "    <tr>\n",
       "      <th>75%</th>\n",
       "      <td>7.500000</td>\n",
       "      <td>37.500000</td>\n",
       "      <td>149.250000</td>\n",
       "    </tr>\n",
       "    <tr>\n",
       "      <th>max</th>\n",
       "      <td>8.000000</td>\n",
       "      <td>50.000000</td>\n",
       "      <td>199.000000</td>\n",
       "    </tr>\n",
       "  </tbody>\n",
       "</table>\n",
       "</div>"
      ],
      "text/plain": [
       "       minute_price  start_ride_price  subscription_fee\n",
       "count      2.000000          2.000000          2.000000\n",
       "mean       7.000000         25.000000         99.500000\n",
       "std        1.414214         35.355339        140.714249\n",
       "min        6.000000          0.000000          0.000000\n",
       "25%        6.500000         12.500000         49.750000\n",
       "50%        7.000000         25.000000         99.500000\n",
       "75%        7.500000         37.500000        149.250000\n",
       "max        8.000000         50.000000        199.000000"
      ]
     },
     "execution_count": 10,
     "metadata": {},
     "output_type": "execute_result"
    }
   ],
   "source": [
    "subscriptions.describe()"
   ]
  },
  {
   "cell_type": "code",
   "execution_count": 11,
   "id": "f97040d4",
   "metadata": {},
   "outputs": [
    {
     "name": "stdout",
     "output_type": "stream",
     "text": [
      "<class 'pandas.core.frame.DataFrame'>\n",
      "RangeIndex: 2 entries, 0 to 1\n",
      "Data columns (total 4 columns):\n",
      " #   Column             Non-Null Count  Dtype \n",
      "---  ------             --------------  ----- \n",
      " 0   subscription_type  2 non-null      object\n",
      " 1   minute_price       2 non-null      int64 \n",
      " 2   start_ride_price   2 non-null      int64 \n",
      " 3   subscription_fee   2 non-null      int64 \n",
      "dtypes: int64(3), object(1)\n",
      "memory usage: 192.0+ bytes\n"
     ]
    }
   ],
   "source": [
    "subscriptions.info()"
   ]
  },
  {
   "cell_type": "markdown",
   "id": "37ee2b0b",
   "metadata": {},
   "source": [
    "<div class=\"alert alert-block alert-danger\">\n",
    "<b>❌Комментарий ревьюера:</b> \n",
    "    \n",
    "Каждому пункту нужен вывод.\n",
    "    \n",
    "Что мы можем сказать о данных после первичного знакомства  с ними?\n",
    "\n",
    "</div>"
   ]
  },
  {
   "cell_type": "markdown",
   "id": "a7539b45",
   "metadata": {},
   "source": [
    "<div class=\"alert alert-block alert-info\">\n",
    "<b>🔄Комментарий студента:</b> \n",
    "В датафреймах пропущенных значений нет, в rides имеется некорректный тип данных для столбца date, это нужно будет исправить, в остальном всё в порядке ✔\n",
    "</div>"
   ]
  },
  {
   "cell_type": "markdown",
   "id": "ee9215a1",
   "metadata": {},
   "source": [
    "<div class=\"alert alert-block alert-success\">\n",
    "<b>✅Комментарий ревьюера 2:</b> Отлично, исправлено!👍  </div>"
   ]
  },
  {
   "cell_type": "markdown",
   "id": "6d08d090",
   "metadata": {},
   "source": [
    "#### Шаг 2. Предобработка данных"
   ]
  },
  {
   "cell_type": "markdown",
   "id": "9efe885a",
   "metadata": {},
   "source": [
    "##### Приведение столбца date к типу pandas"
   ]
  },
  {
   "cell_type": "code",
   "execution_count": 12,
   "id": "13361933",
   "metadata": {},
   "outputs": [
    {
     "data": {
      "text/plain": [
       "dtype('<M8[ns]')"
      ]
     },
     "execution_count": 12,
     "metadata": {},
     "output_type": "execute_result"
    }
   ],
   "source": [
    "rides['date'] = pd.to_datetime(rides['date'], format='%Y-%m-%dT%H:%M:%S')\n",
    "rides.date.dtype"
   ]
  },
  {
   "cell_type": "markdown",
   "id": "424108ff",
   "metadata": {},
   "source": [
    "##### Создание столбца с номером месяца"
   ]
  },
  {
   "cell_type": "code",
   "execution_count": 13,
   "id": "d5e0578a",
   "metadata": {},
   "outputs": [],
   "source": [
    "rides['month'] = rides['date'].dt.month"
   ]
  },
  {
   "cell_type": "code",
   "execution_count": 14,
   "id": "e59b54d4",
   "metadata": {},
   "outputs": [
    {
     "name": "stdout",
     "output_type": "stream",
     "text": [
      "Данные за период 2021-01-01 00:00:00 — 2021-12-30 00:00:00\n"
     ]
    }
   ],
   "source": [
    "print('Данные за период', rides['date'].min(), '—', rides['date'].max())\n"
   ]
  },
  {
   "cell_type": "markdown",
   "id": "cf7f5c0a",
   "metadata": {},
   "source": [
    "<div class=\"alert alert-block alert-warning\">\n",
    "<b>🔁Комментарий ревьюера: ✔</b> \n",
    "\n",
    "Дополнительно можно проверить данные за какой период у нас имеются</div>"
   ]
  },
  {
   "cell_type": "markdown",
   "id": "004da5c8",
   "metadata": {},
   "source": [
    "<div class=\"alert alert-block alert-info\">\n",
    "<b>🔄Комментарий студента:</b> \n",
    "✔\n",
    "</div>"
   ]
  },
  {
   "cell_type": "markdown",
   "id": "a1160293",
   "metadata": {},
   "source": [
    "##### Проверка пропусков и дубликатов"
   ]
  },
  {
   "cell_type": "code",
   "execution_count": 15,
   "id": "e55cb831",
   "metadata": {},
   "outputs": [],
   "source": [
    "# пропущенные значения\n",
    "\n",
    "def pass_value_barh(df):\n",
    "    return(df.isna().mean()*100)"
   ]
  },
  {
   "cell_type": "code",
   "execution_count": 16,
   "id": "6c651f89",
   "metadata": {},
   "outputs": [
    {
     "data": {
      "text/plain": [
       "user_id              0.0\n",
       "name                 0.0\n",
       "age                  0.0\n",
       "city                 0.0\n",
       "subscription_type    0.0\n",
       "dtype: float64"
      ]
     },
     "execution_count": 16,
     "metadata": {},
     "output_type": "execute_result"
    }
   ],
   "source": [
    "pass_value_barh(users)"
   ]
  },
  {
   "cell_type": "code",
   "execution_count": 17,
   "id": "cfbf9066",
   "metadata": {},
   "outputs": [
    {
     "data": {
      "text/plain": [
       "user_id     0.0\n",
       "distance    0.0\n",
       "duration    0.0\n",
       "date        0.0\n",
       "month       0.0\n",
       "dtype: float64"
      ]
     },
     "execution_count": 17,
     "metadata": {},
     "output_type": "execute_result"
    }
   ],
   "source": [
    "pass_value_barh(rides)"
   ]
  },
  {
   "cell_type": "code",
   "execution_count": 18,
   "id": "25a74502",
   "metadata": {},
   "outputs": [
    {
     "data": {
      "text/plain": [
       "subscription_type    0.0\n",
       "minute_price         0.0\n",
       "start_ride_price     0.0\n",
       "subscription_fee     0.0\n",
       "dtype: float64"
      ]
     },
     "execution_count": 18,
     "metadata": {},
     "output_type": "execute_result"
    }
   ],
   "source": [
    "pass_value_barh(subscriptions)"
   ]
  },
  {
   "cell_type": "markdown",
   "id": "126298ea",
   "metadata": {},
   "source": [
    "<div class=\"alert alert-block alert-warning\">\n",
    "<b>🔁Комментарий ревьюера:</b> \n",
    "\n",
    "Что показывают данные визуализации?)) Работает ли функция как было задумано?</div>"
   ]
  },
  {
   "cell_type": "markdown",
   "id": "ce2cddbb",
   "metadata": {},
   "source": [
    "<div class=\"alert alert-block alert-info\">\n",
    "<b>🔄Комментарий студента:</b> \n",
    "Данные визуализации отображают, что пропусков в датафреймах нет, если бы были, то график наглядно бы показал, в каких столбцах и в каком количестве они имеются ✔\n",
    "</div>"
   ]
  },
  {
   "cell_type": "markdown",
   "id": "bc485014",
   "metadata": {},
   "source": [
    "<div class=\"alert alert-block alert-warning\">\n",
    "<b>🔁Комментарий ревьюера 2: ✔</b> \n",
    "\n",
    "А если пропусков нет, то зачем показывать отсутствие визуализации? Можно задать условие в функции, чтобы график выводился только при наличии пропусков.</div>"
   ]
  },
  {
   "cell_type": "markdown",
   "id": "93ef106d",
   "metadata": {},
   "source": [
    "<div class=\"alert alert-block alert-info\">\n",
    "<b>🔄Комментарий студента 2:</b> \n",
    "Изменил функцию, теперь она показывает, есть ли пропуски в каждом столбце ✔\n",
    "</div>"
   ]
  },
  {
   "cell_type": "markdown",
   "id": "6d4b9407",
   "metadata": {},
   "source": [
    "<div class=\"alert alert-block alert-success\">\n",
    "<b>✅Комментарий ревьюера 3:</b> Отлично, исправлено!👍  </div>"
   ]
  },
  {
   "cell_type": "code",
   "execution_count": 19,
   "id": "a49f8114",
   "metadata": {},
   "outputs": [
    {
     "data": {
      "text/plain": [
       "31"
      ]
     },
     "execution_count": 19,
     "metadata": {},
     "output_type": "execute_result"
    }
   ],
   "source": [
    "users.duplicated().sum()"
   ]
  },
  {
   "cell_type": "code",
   "execution_count": 20,
   "id": "3ec29366",
   "metadata": {},
   "outputs": [
    {
     "data": {
      "text/plain": [
       "0"
      ]
     },
     "execution_count": 20,
     "metadata": {},
     "output_type": "execute_result"
    }
   ],
   "source": [
    "users.drop_duplicates(inplace=True)\n",
    "users.duplicated().sum()"
   ]
  },
  {
   "cell_type": "code",
   "execution_count": 21,
   "id": "139ceb13",
   "metadata": {},
   "outputs": [
    {
     "data": {
      "text/plain": [
       "0"
      ]
     },
     "execution_count": 21,
     "metadata": {},
     "output_type": "execute_result"
    }
   ],
   "source": [
    "rides.duplicated().sum()"
   ]
  },
  {
   "cell_type": "markdown",
   "id": "76700bc2",
   "metadata": {},
   "source": [
    "Пропущенных значений и дубликатов не осталось!"
   ]
  },
  {
   "cell_type": "markdown",
   "id": "000dc0b3",
   "metadata": {
    "id": "5766e785"
   },
   "source": [
    "<div class=\"alert alert-block alert-danger\">\n",
    "<b>❌Комментарий ревьюера:</b> \n",
    "    \n",
    "После этапа предобработки также нужно сделать краткий резюмирующий вывод о проделанной работе.</div>"
   ]
  },
  {
   "cell_type": "markdown",
   "id": "36382bdc",
   "metadata": {},
   "source": [
    "<div class=\"alert alert-block alert-success\">\n",
    "<b>✅Комментарий ревьюера 2:</b> Отлично, исправлено!👍  </div>"
   ]
  },
  {
   "cell_type": "markdown",
   "id": "9fdeae3a",
   "metadata": {},
   "source": [
    "<div class=\"alert alert-block alert-info\">\n",
    "<b>🔄Комментарий студента:</b> \n",
    "К счастью, пропусков в данных не оказалось, а вот с дубликатами пришлось немного поработать. Можно приступать к анализу! ✔\n",
    "</div>"
   ]
  },
  {
   "cell_type": "markdown",
   "id": "1a7e5d51",
   "metadata": {},
   "source": [
    "#### Шаг 3. Исследовательский анализ данных"
   ]
  },
  {
   "cell_type": "markdown",
   "id": "ed1a38df",
   "metadata": {},
   "source": [
    "##### Частота встречаемости городов"
   ]
  },
  {
   "cell_type": "code",
   "execution_count": 22,
   "id": "30cafb12",
   "metadata": {},
   "outputs": [
    {
     "data": {
      "image/png": "[encoded data removed]",
      "text/plain": [
       "<Figure size 1080x432 with 1 Axes>"
      ]
     },
     "metadata": {
      "needs_background": "light"
     },
     "output_type": "display_data"
    }
   ],
   "source": [
    "users['city'].value_counts().sort_values().to_frame().plot(kind = 'barh', figsize = (15,6), rot = 0, title = 'Частота встречаемости городов').set(xlabel='Количество пользователей', ylabel='Города');"
   ]
  },
  {
   "cell_type": "markdown",
   "id": "c49a328a",
   "metadata": {},
   "source": [
    "<div class=\"alert alert-block alert-danger\">\n",
    "<b>❌Комментарий ревьюера: ✔ </b>\n",
    "    \n",
    "Необходимо подписывать каждый график и оси на нем для удобства восприятия. Есть [хорошая статья](https://devpractice.ru/matplotlib-lesson-3-3-text-elements/), которая подскажет как это правильно сделать).\n",
    "\n",
    "</div>"
   ]
  },
  {
   "cell_type": "markdown",
   "id": "20e26941",
   "metadata": {},
   "source": [
    "<div class=\"alert alert-block alert-success\">\n",
    "<b>✅Комментарий ревьюера 2:</b> Отлично, исправлено!👍  </div>"
   ]
  },
  {
   "cell_type": "markdown",
   "id": "599f943f",
   "metadata": {},
   "source": [
    "<div class=\"alert alert-block alert-warning\">\n",
    "<b>🔁Комментарий ревьюера: ✔</b> \n",
    "Сортировку лучше сделать по убыванию</div>"
   ]
  },
  {
   "cell_type": "markdown",
   "id": "a71fac77",
   "metadata": {},
   "source": [
    "<div class=\"alert alert-block alert-success\">\n",
    "<b>✅Комментарий ревьюера 2:</b> Отлично, исправлено!👍  </div>"
   ]
  },
  {
   "cell_type": "markdown",
   "id": "3f448074",
   "metadata": {},
   "source": [
    "<div class=\"alert alert-block alert-info\">\n",
    "<b>🔄Комментарий студента:</b> \n",
    "Больше всего пользователей из Пятигорска, меньше всего из Москвы. При этом есть данные только по пользователям из 8 городов.  ✔\n",
    "</div>"
   ]
  },
  {
   "cell_type": "markdown",
   "id": "75d6dac0",
   "metadata": {},
   "source": [
    "##### Соотношение пользователей с подпиской и без"
   ]
  },
  {
   "cell_type": "code",
   "execution_count": 23,
   "id": "222c79e4",
   "metadata": {},
   "outputs": [
    {
     "data": {
      "image/png": "[encoded data removed]",
      "text/plain": [
       "<Figure size 1080x432 with 1 Axes>"
      ]
     },
     "metadata": {},
     "output_type": "display_data"
    }
   ],
   "source": [
    "users['subscription_type'].value_counts().plot(kind = 'pie', figsize = (15,6), title = 'Соотношение пользователей с подпиской и без',  autopct='%.2f', ylabel=' ');"
   ]
  },
  {
   "cell_type": "markdown",
   "id": "0ab139f1",
   "metadata": {},
   "source": [
    "<div class=\"alert alert-block alert-warning\">\n",
    "<b>🔁Комментарий ревьюера: ✔</b>\n",
    "\n",
    "Тут отлично подошла бы круговая диаграмма с соотношением групп пользователей в %</div>"
   ]
  },
  {
   "cell_type": "markdown",
   "id": "6174f794",
   "metadata": {},
   "source": [
    "<div class=\"alert alert-block alert-info\">\n",
    "<b>🔄Комментарий студента:</b> \n",
    "Пользователей без подписки больше, чем пользователей с подпиской.  ✔\n",
    "</div>"
   ]
  },
  {
   "cell_type": "markdown",
   "id": "7ef89bbe",
   "metadata": {
    "id": "5766e785"
   },
   "source": [
    "<div class=\"alert alert-block alert-warning\">\n",
    "<b>🔁Комментарий ревьюера 2:  ✔</b> \n",
    "    \n",
    "\n",
    " - Значения долей лучше отобразить на самой диаграмме. Сделать это можно с помощью аргумента `autopct`\n",
    "\n",
    " - Подпись оси тут лучше убрать, так как суть диаграммы  описана в названии.</div>"
   ]
  },
  {
   "cell_type": "markdown",
   "id": "33b08d83",
   "metadata": {},
   "source": [
    "<div class=\"alert alert-block alert-info\">\n",
    "<b>🔄Комментарий студента 2:</b> \n",
    "Готово  ✔\n",
    "</div>"
   ]
  },
  {
   "cell_type": "markdown",
   "id": "82b9cb6b",
   "metadata": {},
   "source": [
    "<div class=\"alert alert-block alert-success\">\n",
    "<b>✅Комментарий ревьюера 3:</b> Отлично, исправлено!👍  </div>"
   ]
  },
  {
   "cell_type": "markdown",
   "id": "ef6f1a6f",
   "metadata": {},
   "source": [
    "##### Возраст пользователей"
   ]
  },
  {
   "cell_type": "code",
   "execution_count": 24,
   "id": "d84ce61d",
   "metadata": {},
   "outputs": [
    {
     "data": {
      "image/png": "[encoded data removed]",
      "text/plain": [
       "<Figure size 1080x432 with 1 Axes>"
      ]
     },
     "metadata": {
      "needs_background": "light"
     },
     "output_type": "display_data"
    }
   ],
   "source": [
    "users['age'].plot(kind = 'hist', figsize = (15,6), rot = 0, bins = 30, title = 'Возраст пользователей').set(xlabel='Возраст', ylabel='Количество пользователей');"
   ]
  },
  {
   "cell_type": "code",
   "execution_count": 25,
   "id": "487cf9a8",
   "metadata": {},
   "outputs": [
    {
     "data": {
      "text/plain": [
       "count    1534.000000\n",
       "mean       24.903520\n",
       "std         4.572367\n",
       "min        12.000000\n",
       "25%        22.000000\n",
       "50%        25.000000\n",
       "75%        28.000000\n",
       "max        43.000000\n",
       "Name: age, dtype: float64"
      ]
     },
     "execution_count": 25,
     "metadata": {},
     "output_type": "execute_result"
    }
   ],
   "source": [
    "users['age'].describe()"
   ]
  },
  {
   "cell_type": "markdown",
   "id": "7b79395d",
   "metadata": {},
   "source": [
    "<div class=\"alert alert-block alert-warning\">\n",
    "<b>🔁Комментарий ревьюера: ✔</b>\n",
    "\n",
    "\n",
    "\n",
    "Дополнительно для анализа можно использовать метод `describe()` </div>"
   ]
  },
  {
   "cell_type": "markdown",
   "id": "6678ba55",
   "metadata": {},
   "source": [
    "<div class=\"alert alert-block alert-info\">\n",
    "<b>🔄Комментарий студента:</b> \n",
    "Основная часть пользователей входит в возрастной диапазон 15 - 35 лет, при этом средний возраст пользователей ~ 25 лет.   ✔\n",
    "</div>"
   ]
  },
  {
   "cell_type": "markdown",
   "id": "02b802b7",
   "metadata": {},
   "source": [
    "<div class=\"alert alert-block alert-success\">\n",
    "<b>✅Комментарий ревьюера 2:</b> Отлично, исправлено!👍  </div>"
   ]
  },
  {
   "cell_type": "markdown",
   "id": "7506fabe",
   "metadata": {},
   "source": [
    "##### Расстояние за одну поездку"
   ]
  },
  {
   "cell_type": "code",
   "execution_count": 26,
   "id": "ba486373",
   "metadata": {},
   "outputs": [
    {
     "data": {
      "image/png": "[encoded data removed]",
      "text/plain": [
       "<Figure size 1080x432 with 1 Axes>"
      ]
     },
     "metadata": {
      "needs_background": "light"
     },
     "output_type": "display_data"
    }
   ],
   "source": [
    "rides['distance'].plot(kind = 'hist', figsize = (15,6), rot = 0, bins = 30, title = 'Расстояние за одну поездку').set(xlabel='Расстояние в метрах', ylabel='Количество поездок');"
   ]
  },
  {
   "cell_type": "markdown",
   "id": "a774c6b6",
   "metadata": {},
   "source": [
    "<div class=\"alert alert-block alert-warning\">\n",
    "<b>🔁Комментарий ревьюера:</b>\n",
    "\n",
    "Как ты думаешь, чем можно объяснить два пиковых значения на распределении?</div>"
   ]
  },
  {
   "cell_type": "markdown",
   "id": "06664bbe",
   "metadata": {},
   "source": [
    "<div class=\"alert alert-block alert-info\">\n",
    "<b>🔄Комментарий студента:</b> \n",
    "Возможно, два пиковых значения связаны с различием в расстоянии между людьми с подпиской и без, так как людям с подпиской не нужно платить за начало поездки, поэтому они предпочтительнее выберут самокат даже для коротких расстояний.  ✔\n",
    "</div>"
   ]
  },
  {
   "cell_type": "markdown",
   "id": "b28090aa",
   "metadata": {},
   "source": [
    "<div class=\"alert alert-block alert-success\">\n",
    "<b>✅Комментарий ревьюера 2:</b> Отлично, исправлено!👍  </div>"
   ]
  },
  {
   "cell_type": "markdown",
   "id": "dded3e66",
   "metadata": {},
   "source": [
    "##### Длительность поездки"
   ]
  },
  {
   "cell_type": "code",
   "execution_count": 27,
   "id": "d6ad580d",
   "metadata": {},
   "outputs": [
    {
     "data": {
      "image/png": "[encoded data removed]",
      "text/plain": [
       "<Figure size 1080x432 with 1 Axes>"
      ]
     },
     "metadata": {
      "needs_background": "light"
     },
     "output_type": "display_data"
    }
   ],
   "source": [
    "rides['duration'].plot(kind = 'hist', figsize = (15,6), rot = 0, bins = 40, title = 'Длительность поездки').set(xlabel='Длительность в минутах', ylabel='Количество поездок');"
   ]
  },
  {
   "cell_type": "code",
   "execution_count": 28,
   "id": "071a877f",
   "metadata": {},
   "outputs": [
    {
     "data": {
      "text/plain": [
       "count    18068.000000\n",
       "mean        17.805011\n",
       "std          6.091051\n",
       "min          0.500000\n",
       "25%         13.597563\n",
       "50%         17.678395\n",
       "75%         21.724800\n",
       "max         40.823963\n",
       "Name: duration, dtype: float64"
      ]
     },
     "execution_count": 28,
     "metadata": {},
     "output_type": "execute_result"
    }
   ],
   "source": [
    "rides['duration'].describe()"
   ]
  },
  {
   "cell_type": "markdown",
   "id": "30539b90",
   "metadata": {},
   "source": [
    "<div class=\"alert alert-block alert-info\">\n",
    "<b>🔄Комментарий студента:</b> \n",
    "Средняя длительность поездки ~18 минут, при этом длительной можно считать поездку более 22 минут.  ✔\n",
    "</div>"
   ]
  },
  {
   "cell_type": "markdown",
   "id": "255880fb",
   "metadata": {
    "id": "5766e785"
   },
   "source": [
    "<div class=\"alert alert-block alert-danger\">\n",
    "<b>❌Комментарий ревьюера:</b> \n",
    "    \n",
    " - Каждое распределение нужно описать, обозначить диапазон значений для основного количества поездок,сделать выводы. Иначе для чего они были построены?\n",
    "\n",
    " - Напомню, что каждый график в проекте и оси на нем должны быть подписаны</div>"
   ]
  },
  {
   "cell_type": "markdown",
   "id": "a46eb2bf",
   "metadata": {},
   "source": [
    "<div class=\"alert alert-block alert-success\">\n",
    "<b>✅Комментарий ревьюера 2:</b> Отлично, исправлено!👍  </div>"
   ]
  },
  {
   "cell_type": "markdown",
   "id": "17306395",
   "metadata": {},
   "source": [
    "<div class=\"alert alert-block alert-info\">\n",
    "<b>🔄Комментарий студента:</b> \n",
    "Были проанализированы данные по пользователям и их поездкам. <br />\n",
    "Среднестатистический пользователь сервисом — 25-летний житель Пятигорска, не имеющий подписки.  ✔\n",
    "</div>"
   ]
  },
  {
   "cell_type": "markdown",
   "id": "f18c6c99",
   "metadata": {},
   "source": [
    "#### Шаг 4. Объединение данных"
   ]
  },
  {
   "cell_type": "markdown",
   "id": "c4bd91d8",
   "metadata": {},
   "source": [
    "##### Объединение датафреймов"
   ]
  },
  {
   "cell_type": "code",
   "execution_count": 29,
   "id": "9e47cc84",
   "metadata": {},
   "outputs": [
    {
     "data": {
      "text/html": [
       "<div>\n",
       "<style scoped>\n",
       "    .dataframe tbody tr th:only-of-type {\n",
       "        vertical-align: middle;\n",
       "    }\n",
       "\n",
       "    .dataframe tbody tr th {\n",
       "        vertical-align: top;\n",
       "    }\n",
       "\n",
       "    .dataframe thead th {\n",
       "        text-align: right;\n",
       "    }\n",
       "</style>\n",
       "<table border=\"1\" class=\"dataframe\">\n",
       "  <thead>\n",
       "    <tr style=\"text-align: right;\">\n",
       "      <th></th>\n",
       "      <th>user_id</th>\n",
       "      <th>distance</th>\n",
       "      <th>duration</th>\n",
       "      <th>date</th>\n",
       "      <th>month</th>\n",
       "      <th>name</th>\n",
       "      <th>age</th>\n",
       "      <th>city</th>\n",
       "      <th>subscription_type</th>\n",
       "    </tr>\n",
       "  </thead>\n",
       "  <tbody>\n",
       "    <tr>\n",
       "      <th>0</th>\n",
       "      <td>1</td>\n",
       "      <td>4409.919140</td>\n",
       "      <td>25.599769</td>\n",
       "      <td>2021-01-01</td>\n",
       "      <td>1</td>\n",
       "      <td>Кира</td>\n",
       "      <td>22</td>\n",
       "      <td>Тюмень</td>\n",
       "      <td>ultra</td>\n",
       "    </tr>\n",
       "    <tr>\n",
       "      <th>1</th>\n",
       "      <td>1</td>\n",
       "      <td>2617.592153</td>\n",
       "      <td>15.816871</td>\n",
       "      <td>2021-01-18</td>\n",
       "      <td>1</td>\n",
       "      <td>Кира</td>\n",
       "      <td>22</td>\n",
       "      <td>Тюмень</td>\n",
       "      <td>ultra</td>\n",
       "    </tr>\n",
       "    <tr>\n",
       "      <th>2</th>\n",
       "      <td>1</td>\n",
       "      <td>754.159807</td>\n",
       "      <td>6.232113</td>\n",
       "      <td>2021-04-20</td>\n",
       "      <td>4</td>\n",
       "      <td>Кира</td>\n",
       "      <td>22</td>\n",
       "      <td>Тюмень</td>\n",
       "      <td>ultra</td>\n",
       "    </tr>\n",
       "    <tr>\n",
       "      <th>3</th>\n",
       "      <td>1</td>\n",
       "      <td>2694.783254</td>\n",
       "      <td>18.511000</td>\n",
       "      <td>2021-08-11</td>\n",
       "      <td>8</td>\n",
       "      <td>Кира</td>\n",
       "      <td>22</td>\n",
       "      <td>Тюмень</td>\n",
       "      <td>ultra</td>\n",
       "    </tr>\n",
       "    <tr>\n",
       "      <th>4</th>\n",
       "      <td>1</td>\n",
       "      <td>4028.687306</td>\n",
       "      <td>26.265803</td>\n",
       "      <td>2021-08-28</td>\n",
       "      <td>8</td>\n",
       "      <td>Кира</td>\n",
       "      <td>22</td>\n",
       "      <td>Тюмень</td>\n",
       "      <td>ultra</td>\n",
       "    </tr>\n",
       "  </tbody>\n",
       "</table>\n",
       "</div>"
      ],
      "text/plain": [
       "   user_id     distance   duration       date  month  name  age    city  \\\n",
       "0        1  4409.919140  25.599769 2021-01-01      1  Кира   22  Тюмень   \n",
       "1        1  2617.592153  15.816871 2021-01-18      1  Кира   22  Тюмень   \n",
       "2        1   754.159807   6.232113 2021-04-20      4  Кира   22  Тюмень   \n",
       "3        1  2694.783254  18.511000 2021-08-11      8  Кира   22  Тюмень   \n",
       "4        1  4028.687306  26.265803 2021-08-28      8  Кира   22  Тюмень   \n",
       "\n",
       "  subscription_type  \n",
       "0             ultra  \n",
       "1             ultra  \n",
       "2             ultra  \n",
       "3             ultra  \n",
       "4             ultra  "
      ]
     },
     "execution_count": 29,
     "metadata": {},
     "output_type": "execute_result"
    }
   ],
   "source": [
    "df = rides.merge(users, on='user_id', how='left')\n",
    "df.head()"
   ]
  },
  {
   "cell_type": "code",
   "execution_count": 30,
   "id": "a8a2fafd",
   "metadata": {},
   "outputs": [
    {
     "data": {
      "text/html": [
       "<div>\n",
       "<style scoped>\n",
       "    .dataframe tbody tr th:only-of-type {\n",
       "        vertical-align: middle;\n",
       "    }\n",
       "\n",
       "    .dataframe tbody tr th {\n",
       "        vertical-align: top;\n",
       "    }\n",
       "\n",
       "    .dataframe thead th {\n",
       "        text-align: right;\n",
       "    }\n",
       "</style>\n",
       "<table border=\"1\" class=\"dataframe\">\n",
       "  <thead>\n",
       "    <tr style=\"text-align: right;\">\n",
       "      <th></th>\n",
       "      <th>user_id</th>\n",
       "      <th>distance</th>\n",
       "      <th>duration</th>\n",
       "      <th>date</th>\n",
       "      <th>month</th>\n",
       "      <th>name</th>\n",
       "      <th>age</th>\n",
       "      <th>city</th>\n",
       "      <th>subscription_type</th>\n",
       "      <th>minute_price</th>\n",
       "      <th>start_ride_price</th>\n",
       "      <th>subscription_fee</th>\n",
       "    </tr>\n",
       "  </thead>\n",
       "  <tbody>\n",
       "    <tr>\n",
       "      <th>0</th>\n",
       "      <td>700</td>\n",
       "      <td>2515.690719</td>\n",
       "      <td>14.944286</td>\n",
       "      <td>2021-01-02</td>\n",
       "      <td>1</td>\n",
       "      <td>Айдар</td>\n",
       "      <td>22</td>\n",
       "      <td>Омск</td>\n",
       "      <td>free</td>\n",
       "      <td>8</td>\n",
       "      <td>50</td>\n",
       "      <td>0</td>\n",
       "    </tr>\n",
       "    <tr>\n",
       "      <th>1</th>\n",
       "      <td>700</td>\n",
       "      <td>846.932642</td>\n",
       "      <td>16.234663</td>\n",
       "      <td>2021-02-01</td>\n",
       "      <td>2</td>\n",
       "      <td>Айдар</td>\n",
       "      <td>22</td>\n",
       "      <td>Омск</td>\n",
       "      <td>free</td>\n",
       "      <td>8</td>\n",
       "      <td>50</td>\n",
       "      <td>0</td>\n",
       "    </tr>\n",
       "    <tr>\n",
       "      <th>2</th>\n",
       "      <td>700</td>\n",
       "      <td>4004.434142</td>\n",
       "      <td>20.016628</td>\n",
       "      <td>2021-02-04</td>\n",
       "      <td>2</td>\n",
       "      <td>Айдар</td>\n",
       "      <td>22</td>\n",
       "      <td>Омск</td>\n",
       "      <td>free</td>\n",
       "      <td>8</td>\n",
       "      <td>50</td>\n",
       "      <td>0</td>\n",
       "    </tr>\n",
       "    <tr>\n",
       "      <th>3</th>\n",
       "      <td>700</td>\n",
       "      <td>1205.911290</td>\n",
       "      <td>9.782872</td>\n",
       "      <td>2021-02-10</td>\n",
       "      <td>2</td>\n",
       "      <td>Айдар</td>\n",
       "      <td>22</td>\n",
       "      <td>Омск</td>\n",
       "      <td>free</td>\n",
       "      <td>8</td>\n",
       "      <td>50</td>\n",
       "      <td>0</td>\n",
       "    </tr>\n",
       "    <tr>\n",
       "      <th>4</th>\n",
       "      <td>700</td>\n",
       "      <td>3047.379435</td>\n",
       "      <td>17.427673</td>\n",
       "      <td>2021-02-14</td>\n",
       "      <td>2</td>\n",
       "      <td>Айдар</td>\n",
       "      <td>22</td>\n",
       "      <td>Омск</td>\n",
       "      <td>free</td>\n",
       "      <td>8</td>\n",
       "      <td>50</td>\n",
       "      <td>0</td>\n",
       "    </tr>\n",
       "  </tbody>\n",
       "</table>\n",
       "</div>"
      ],
      "text/plain": [
       "   user_id     distance   duration       date  month   name  age  city  \\\n",
       "0      700  2515.690719  14.944286 2021-01-02      1  Айдар   22  Омск   \n",
       "1      700   846.932642  16.234663 2021-02-01      2  Айдар   22  Омск   \n",
       "2      700  4004.434142  20.016628 2021-02-04      2  Айдар   22  Омск   \n",
       "3      700  1205.911290   9.782872 2021-02-10      2  Айдар   22  Омск   \n",
       "4      700  3047.379435  17.427673 2021-02-14      2  Айдар   22  Омск   \n",
       "\n",
       "  subscription_type  minute_price  start_ride_price  subscription_fee  \n",
       "0              free             8                50                 0  \n",
       "1              free             8                50                 0  \n",
       "2              free             8                50                 0  \n",
       "3              free             8                50                 0  \n",
       "4              free             8                50                 0  "
      ]
     },
     "execution_count": 30,
     "metadata": {},
     "output_type": "execute_result"
    }
   ],
   "source": [
    "df = df.merge(subscriptions, on='subscription_type', how='right')\n",
    "df.head()"
   ]
  },
  {
   "cell_type": "markdown",
   "id": "5726a825",
   "metadata": {},
   "source": [
    "<div class=\"alert alert-block alert-warning\">\n",
    "<b>🔁Комментарий ревьюера:</b>\n",
    "\n",
    "Тут стоит проверить размерность полученной таблицы и сравнить ее с размерностями таблиц до объединения, чтобы убедиться что мы ничего не потеряли.\n",
    "\n",
    "</div>"
   ]
  },
  {
   "cell_type": "markdown",
   "id": "1d3e4931",
   "metadata": {},
   "source": [
    "<div class=\"alert alert-block alert-success\">\n",
    "<b>✅Комментарий ревьюера 2:</b> Отлично, исправлено!👍  </div>"
   ]
  },
  {
   "cell_type": "code",
   "execution_count": 31,
   "id": "60bcddac",
   "metadata": {},
   "outputs": [
    {
     "name": "stdout",
     "output_type": "stream",
     "text": [
      "<class 'pandas.core.frame.DataFrame'>\n",
      "Int64Index: 18068 entries, 0 to 18067\n",
      "Data columns (total 12 columns):\n",
      " #   Column             Non-Null Count  Dtype         \n",
      "---  ------             --------------  -----         \n",
      " 0   user_id            18068 non-null  int64         \n",
      " 1   distance           18068 non-null  float64       \n",
      " 2   duration           18068 non-null  float64       \n",
      " 3   date               18068 non-null  datetime64[ns]\n",
      " 4   month              18068 non-null  int64         \n",
      " 5   name               18068 non-null  object        \n",
      " 6   age                18068 non-null  int64         \n",
      " 7   city               18068 non-null  object        \n",
      " 8   subscription_type  18068 non-null  object        \n",
      " 9   minute_price       18068 non-null  int64         \n",
      " 10  start_ride_price   18068 non-null  int64         \n",
      " 11  subscription_fee   18068 non-null  int64         \n",
      "dtypes: datetime64[ns](1), float64(2), int64(6), object(3)\n",
      "memory usage: 1.8+ MB\n"
     ]
    }
   ],
   "source": [
    "df.info()"
   ]
  },
  {
   "cell_type": "markdown",
   "id": "7356869f",
   "metadata": {},
   "source": [
    "<div class=\"alert alert-block alert-info\">\n",
    "<b>🔄Комментарий студента:</b> \n",
    "Данные потеряны не были ✔\n",
    "</div>"
   ]
  },
  {
   "cell_type": "markdown",
   "id": "8ddf0e77",
   "metadata": {},
   "source": [
    "##### Создание датафреймов"
   ]
  },
  {
   "cell_type": "code",
   "execution_count": 32,
   "id": "2747daf1",
   "metadata": {},
   "outputs": [
    {
     "data": {
      "text/html": [
       "<div>\n",
       "<style scoped>\n",
       "    .dataframe tbody tr th:only-of-type {\n",
       "        vertical-align: middle;\n",
       "    }\n",
       "\n",
       "    .dataframe tbody tr th {\n",
       "        vertical-align: top;\n",
       "    }\n",
       "\n",
       "    .dataframe thead th {\n",
       "        text-align: right;\n",
       "    }\n",
       "</style>\n",
       "<table border=\"1\" class=\"dataframe\">\n",
       "  <thead>\n",
       "    <tr style=\"text-align: right;\">\n",
       "      <th></th>\n",
       "      <th>user_id</th>\n",
       "      <th>distance</th>\n",
       "      <th>duration</th>\n",
       "      <th>date</th>\n",
       "      <th>month</th>\n",
       "      <th>name</th>\n",
       "      <th>age</th>\n",
       "      <th>city</th>\n",
       "      <th>subscription_type</th>\n",
       "      <th>minute_price</th>\n",
       "      <th>start_ride_price</th>\n",
       "      <th>subscription_fee</th>\n",
       "    </tr>\n",
       "  </thead>\n",
       "  <tbody>\n",
       "    <tr>\n",
       "      <th>0</th>\n",
       "      <td>700</td>\n",
       "      <td>2515.690719</td>\n",
       "      <td>14.944286</td>\n",
       "      <td>2021-01-02</td>\n",
       "      <td>1</td>\n",
       "      <td>Айдар</td>\n",
       "      <td>22</td>\n",
       "      <td>Омск</td>\n",
       "      <td>free</td>\n",
       "      <td>8</td>\n",
       "      <td>50</td>\n",
       "      <td>0</td>\n",
       "    </tr>\n",
       "    <tr>\n",
       "      <th>1</th>\n",
       "      <td>700</td>\n",
       "      <td>846.932642</td>\n",
       "      <td>16.234663</td>\n",
       "      <td>2021-02-01</td>\n",
       "      <td>2</td>\n",
       "      <td>Айдар</td>\n",
       "      <td>22</td>\n",
       "      <td>Омск</td>\n",
       "      <td>free</td>\n",
       "      <td>8</td>\n",
       "      <td>50</td>\n",
       "      <td>0</td>\n",
       "    </tr>\n",
       "    <tr>\n",
       "      <th>2</th>\n",
       "      <td>700</td>\n",
       "      <td>4004.434142</td>\n",
       "      <td>20.016628</td>\n",
       "      <td>2021-02-04</td>\n",
       "      <td>2</td>\n",
       "      <td>Айдар</td>\n",
       "      <td>22</td>\n",
       "      <td>Омск</td>\n",
       "      <td>free</td>\n",
       "      <td>8</td>\n",
       "      <td>50</td>\n",
       "      <td>0</td>\n",
       "    </tr>\n",
       "    <tr>\n",
       "      <th>3</th>\n",
       "      <td>700</td>\n",
       "      <td>1205.911290</td>\n",
       "      <td>9.782872</td>\n",
       "      <td>2021-02-10</td>\n",
       "      <td>2</td>\n",
       "      <td>Айдар</td>\n",
       "      <td>22</td>\n",
       "      <td>Омск</td>\n",
       "      <td>free</td>\n",
       "      <td>8</td>\n",
       "      <td>50</td>\n",
       "      <td>0</td>\n",
       "    </tr>\n",
       "    <tr>\n",
       "      <th>4</th>\n",
       "      <td>700</td>\n",
       "      <td>3047.379435</td>\n",
       "      <td>17.427673</td>\n",
       "      <td>2021-02-14</td>\n",
       "      <td>2</td>\n",
       "      <td>Айдар</td>\n",
       "      <td>22</td>\n",
       "      <td>Омск</td>\n",
       "      <td>free</td>\n",
       "      <td>8</td>\n",
       "      <td>50</td>\n",
       "      <td>0</td>\n",
       "    </tr>\n",
       "  </tbody>\n",
       "</table>\n",
       "</div>"
      ],
      "text/plain": [
       "   user_id     distance   duration       date  month   name  age  city  \\\n",
       "0      700  2515.690719  14.944286 2021-01-02      1  Айдар   22  Омск   \n",
       "1      700   846.932642  16.234663 2021-02-01      2  Айдар   22  Омск   \n",
       "2      700  4004.434142  20.016628 2021-02-04      2  Айдар   22  Омск   \n",
       "3      700  1205.911290   9.782872 2021-02-10      2  Айдар   22  Омск   \n",
       "4      700  3047.379435  17.427673 2021-02-14      2  Айдар   22  Омск   \n",
       "\n",
       "  subscription_type  minute_price  start_ride_price  subscription_fee  \n",
       "0              free             8                50                 0  \n",
       "1              free             8                50                 0  \n",
       "2              free             8                50                 0  \n",
       "3              free             8                50                 0  \n",
       "4              free             8                50                 0  "
      ]
     },
     "execution_count": 32,
     "metadata": {},
     "output_type": "execute_result"
    }
   ],
   "source": [
    "free = df[df['subscription_type']== 'free']\n",
    "free.head()"
   ]
  },
  {
   "cell_type": "code",
   "execution_count": 33,
   "id": "c25eff4b",
   "metadata": {},
   "outputs": [
    {
     "data": {
      "text/html": [
       "<div>\n",
       "<style scoped>\n",
       "    .dataframe tbody tr th:only-of-type {\n",
       "        vertical-align: middle;\n",
       "    }\n",
       "\n",
       "    .dataframe tbody tr th {\n",
       "        vertical-align: top;\n",
       "    }\n",
       "\n",
       "    .dataframe thead th {\n",
       "        text-align: right;\n",
       "    }\n",
       "</style>\n",
       "<table border=\"1\" class=\"dataframe\">\n",
       "  <thead>\n",
       "    <tr style=\"text-align: right;\">\n",
       "      <th></th>\n",
       "      <th>user_id</th>\n",
       "      <th>distance</th>\n",
       "      <th>duration</th>\n",
       "      <th>date</th>\n",
       "      <th>month</th>\n",
       "      <th>name</th>\n",
       "      <th>age</th>\n",
       "      <th>city</th>\n",
       "      <th>subscription_type</th>\n",
       "      <th>minute_price</th>\n",
       "      <th>start_ride_price</th>\n",
       "      <th>subscription_fee</th>\n",
       "    </tr>\n",
       "  </thead>\n",
       "  <tbody>\n",
       "    <tr>\n",
       "      <th>11568</th>\n",
       "      <td>1</td>\n",
       "      <td>4409.919140</td>\n",
       "      <td>25.599769</td>\n",
       "      <td>2021-01-01</td>\n",
       "      <td>1</td>\n",
       "      <td>Кира</td>\n",
       "      <td>22</td>\n",
       "      <td>Тюмень</td>\n",
       "      <td>ultra</td>\n",
       "      <td>6</td>\n",
       "      <td>0</td>\n",
       "      <td>199</td>\n",
       "    </tr>\n",
       "    <tr>\n",
       "      <th>11569</th>\n",
       "      <td>1</td>\n",
       "      <td>2617.592153</td>\n",
       "      <td>15.816871</td>\n",
       "      <td>2021-01-18</td>\n",
       "      <td>1</td>\n",
       "      <td>Кира</td>\n",
       "      <td>22</td>\n",
       "      <td>Тюмень</td>\n",
       "      <td>ultra</td>\n",
       "      <td>6</td>\n",
       "      <td>0</td>\n",
       "      <td>199</td>\n",
       "    </tr>\n",
       "    <tr>\n",
       "      <th>11570</th>\n",
       "      <td>1</td>\n",
       "      <td>754.159807</td>\n",
       "      <td>6.232113</td>\n",
       "      <td>2021-04-20</td>\n",
       "      <td>4</td>\n",
       "      <td>Кира</td>\n",
       "      <td>22</td>\n",
       "      <td>Тюмень</td>\n",
       "      <td>ultra</td>\n",
       "      <td>6</td>\n",
       "      <td>0</td>\n",
       "      <td>199</td>\n",
       "    </tr>\n",
       "    <tr>\n",
       "      <th>11571</th>\n",
       "      <td>1</td>\n",
       "      <td>2694.783254</td>\n",
       "      <td>18.511000</td>\n",
       "      <td>2021-08-11</td>\n",
       "      <td>8</td>\n",
       "      <td>Кира</td>\n",
       "      <td>22</td>\n",
       "      <td>Тюмень</td>\n",
       "      <td>ultra</td>\n",
       "      <td>6</td>\n",
       "      <td>0</td>\n",
       "      <td>199</td>\n",
       "    </tr>\n",
       "    <tr>\n",
       "      <th>11572</th>\n",
       "      <td>1</td>\n",
       "      <td>4028.687306</td>\n",
       "      <td>26.265803</td>\n",
       "      <td>2021-08-28</td>\n",
       "      <td>8</td>\n",
       "      <td>Кира</td>\n",
       "      <td>22</td>\n",
       "      <td>Тюмень</td>\n",
       "      <td>ultra</td>\n",
       "      <td>6</td>\n",
       "      <td>0</td>\n",
       "      <td>199</td>\n",
       "    </tr>\n",
       "  </tbody>\n",
       "</table>\n",
       "</div>"
      ],
      "text/plain": [
       "       user_id     distance   duration       date  month  name  age    city  \\\n",
       "11568        1  4409.919140  25.599769 2021-01-01      1  Кира   22  Тюмень   \n",
       "11569        1  2617.592153  15.816871 2021-01-18      1  Кира   22  Тюмень   \n",
       "11570        1   754.159807   6.232113 2021-04-20      4  Кира   22  Тюмень   \n",
       "11571        1  2694.783254  18.511000 2021-08-11      8  Кира   22  Тюмень   \n",
       "11572        1  4028.687306  26.265803 2021-08-28      8  Кира   22  Тюмень   \n",
       "\n",
       "      subscription_type  minute_price  start_ride_price  subscription_fee  \n",
       "11568             ultra             6                 0               199  \n",
       "11569             ultra             6                 0               199  \n",
       "11570             ultra             6                 0               199  \n",
       "11571             ultra             6                 0               199  \n",
       "11572             ultra             6                 0               199  "
      ]
     },
     "execution_count": 33,
     "metadata": {},
     "output_type": "execute_result"
    }
   ],
   "source": [
    "ultra = df[df['subscription_type']== 'ultra']\n",
    "ultra.head()"
   ]
  },
  {
   "cell_type": "markdown",
   "id": "148dc690",
   "metadata": {},
   "source": [
    "<div class=\"alert alert-block alert-success\">\n",
    "<b>✅Комментарий ревьюера:</b> Таблицы созданы верно!  </div>"
   ]
  },
  {
   "cell_type": "markdown",
   "id": "a0c184f1",
   "metadata": {},
   "source": [
    "##### Расстояние и время поездок для пассажиров различных категорий"
   ]
  },
  {
   "cell_type": "code",
   "execution_count": 34,
   "id": "25153c14",
   "metadata": {},
   "outputs": [
    {
     "data": {
      "image/png": "[encoded data removed]",
      "text/plain": [
       "<Figure size 1080x432 with 1 Axes>"
      ]
     },
     "metadata": {
      "needs_background": "light"
     },
     "output_type": "display_data"
    }
   ],
   "source": [
    "free['distance'].plot(kind = 'hist', figsize = (15,6), rot = 0, bins = 30, title='Расстояние поездок для пассажиров различных категорий').set(xlabel='Расстояние в метрах');\n",
    "ultra['distance'].plot(kind = 'hist', figsize = (15,6), rot = 0, bins = 30);"
   ]
  },
  {
   "cell_type": "code",
   "execution_count": 35,
   "id": "0f194536",
   "metadata": {},
   "outputs": [
    {
     "data": {
      "image/png": "[encoded data removed]",
      "text/plain": [
       "<Figure size 1080x432 with 1 Axes>"
      ]
     },
     "metadata": {
      "needs_background": "light"
     },
     "output_type": "display_data"
    }
   ],
   "source": [
    "free['duration'].plot(kind = 'hist', figsize = (15,6), rot = 0, bins = 40, title='Длительность поездок для пассажиров различных категорий').set(xlabel='Длительность в минутах');\n",
    "ultra['duration'].plot(kind = 'hist', figsize = (15,6), rot = 0, bins = 40);"
   ]
  },
  {
   "cell_type": "markdown",
   "id": "122c7f15",
   "metadata": {},
   "source": [
    "<div class=\"alert alert-block alert-info\">\n",
    "<b>🔄Комментарий студента:</b> \n",
    "Распределение длительности поездок у пользователей с подпиской и без почти не отличается, однако редкие длительные поездки больше 35 минут встречаются именно среди пользователей с подпиской. ✔\n",
    "</div>"
   ]
  },
  {
   "cell_type": "markdown",
   "id": "bcb95063",
   "metadata": {},
   "source": [
    "<div class=\"alert alert-block alert-warning\">\n",
    "<b>🔁Комментарий ревьюера: ✔</b> \n",
    "\n",
    "Распределения для обеих групп пользователей можно объединить для наглядности, наложив их друг на друга.</div>"
   ]
  },
  {
   "cell_type": "markdown",
   "id": "ca3e2e34",
   "metadata": {},
   "source": [
    "<div class=\"alert alert-block alert-success\">\n",
    "<b>✅Комментарий ревьюера 2:</b> Отлично, исправлено!👍  </div>"
   ]
  },
  {
   "cell_type": "markdown",
   "id": "0662e5e9",
   "metadata": {
    "id": "5766e785"
   },
   "source": [
    "<div class=\"alert alert-block alert-danger\">\n",
    "<b>❌Комментарий ревьюера: ✔</b> \n",
    "    \n",
    "Какие выводы можно сделать по построенным гистограммам?</div>"
   ]
  },
  {
   "cell_type": "markdown",
   "id": "69f08a12",
   "metadata": {},
   "source": [
    "<div class=\"alert alert-block alert-success\">\n",
    "<b>✅Комментарий ревьюера 2:</b> Отлично, исправлено!👍  </div>"
   ]
  },
  {
   "cell_type": "markdown",
   "id": "82b3cafe",
   "metadata": {},
   "source": [
    "#### Шаг 5. Подсчёт выручки"
   ]
  },
  {
   "cell_type": "markdown",
   "id": "486e4ade",
   "metadata": {},
   "source": [
    "##### Создание датафрейма с агрегированными данными"
   ]
  },
  {
   "cell_type": "markdown",
   "id": "9c405cef",
   "metadata": {
    "id": "5766e785"
   },
   "source": [
    "<div class=\"alert alert-block alert-danger\">\n",
    "<b>❌Комментарий ревьюера: ✔</b> \n",
    "    \n",
    "Перед построением сводной таблицы и расчетом выручки длительность каждой поездки должна быть округлена до целой минуты. Метод округления выбран верный, но округлять необходимо каждую поездку, то есть в исходной таблице до агрегирования.\n",
    "    \n",
    "\n",
    "</div>"
   ]
  },
  {
   "cell_type": "markdown",
   "id": "e04e9a79",
   "metadata": {},
   "source": [
    "<div class=\"alert alert-block alert-success\">\n",
    "<b>✅Комментарий ревьюера 2:</b> Отлично, исправлено!👍  </div>"
   ]
  },
  {
   "cell_type": "code",
   "execution_count": 36,
   "id": "a66f04f4",
   "metadata": {},
   "outputs": [
    {
     "name": "stderr",
     "output_type": "stream",
     "text": [
      "/tmp/ipykernel_268/3299379840.py:1: SettingWithCopyWarning: \n",
      "A value is trying to be set on a copy of a slice from a DataFrame.\n",
      "Try using .loc[row_indexer,col_indexer] = value instead\n",
      "\n",
      "See the caveats in the documentation: https://pandas.pydata.org/pandas-docs/stable/user_guide/indexing.html#returning-a-view-versus-a-copy\n",
      "  free['duration'] = np.ceil(free['duration'])\n"
     ]
    },
    {
     "data": {
      "text/html": [
       "<div>\n",
       "<style scoped>\n",
       "    .dataframe tbody tr th:only-of-type {\n",
       "        vertical-align: middle;\n",
       "    }\n",
       "\n",
       "    .dataframe tbody tr th {\n",
       "        vertical-align: top;\n",
       "    }\n",
       "\n",
       "    .dataframe thead th {\n",
       "        text-align: right;\n",
       "    }\n",
       "</style>\n",
       "<table border=\"1\" class=\"dataframe\">\n",
       "  <thead>\n",
       "    <tr style=\"text-align: right;\">\n",
       "      <th></th>\n",
       "      <th>user_id</th>\n",
       "      <th>distance</th>\n",
       "      <th>duration</th>\n",
       "      <th>date</th>\n",
       "      <th>month</th>\n",
       "      <th>name</th>\n",
       "      <th>age</th>\n",
       "      <th>city</th>\n",
       "      <th>subscription_type</th>\n",
       "      <th>minute_price</th>\n",
       "      <th>start_ride_price</th>\n",
       "      <th>subscription_fee</th>\n",
       "    </tr>\n",
       "  </thead>\n",
       "  <tbody>\n",
       "    <tr>\n",
       "      <th>0</th>\n",
       "      <td>700</td>\n",
       "      <td>2515.690719</td>\n",
       "      <td>15.0</td>\n",
       "      <td>2021-01-02</td>\n",
       "      <td>1</td>\n",
       "      <td>Айдар</td>\n",
       "      <td>22</td>\n",
       "      <td>Омск</td>\n",
       "      <td>free</td>\n",
       "      <td>8</td>\n",
       "      <td>50</td>\n",
       "      <td>0</td>\n",
       "    </tr>\n",
       "    <tr>\n",
       "      <th>1</th>\n",
       "      <td>700</td>\n",
       "      <td>846.932642</td>\n",
       "      <td>17.0</td>\n",
       "      <td>2021-02-01</td>\n",
       "      <td>2</td>\n",
       "      <td>Айдар</td>\n",
       "      <td>22</td>\n",
       "      <td>Омск</td>\n",
       "      <td>free</td>\n",
       "      <td>8</td>\n",
       "      <td>50</td>\n",
       "      <td>0</td>\n",
       "    </tr>\n",
       "    <tr>\n",
       "      <th>2</th>\n",
       "      <td>700</td>\n",
       "      <td>4004.434142</td>\n",
       "      <td>21.0</td>\n",
       "      <td>2021-02-04</td>\n",
       "      <td>2</td>\n",
       "      <td>Айдар</td>\n",
       "      <td>22</td>\n",
       "      <td>Омск</td>\n",
       "      <td>free</td>\n",
       "      <td>8</td>\n",
       "      <td>50</td>\n",
       "      <td>0</td>\n",
       "    </tr>\n",
       "    <tr>\n",
       "      <th>3</th>\n",
       "      <td>700</td>\n",
       "      <td>1205.911290</td>\n",
       "      <td>10.0</td>\n",
       "      <td>2021-02-10</td>\n",
       "      <td>2</td>\n",
       "      <td>Айдар</td>\n",
       "      <td>22</td>\n",
       "      <td>Омск</td>\n",
       "      <td>free</td>\n",
       "      <td>8</td>\n",
       "      <td>50</td>\n",
       "      <td>0</td>\n",
       "    </tr>\n",
       "    <tr>\n",
       "      <th>4</th>\n",
       "      <td>700</td>\n",
       "      <td>3047.379435</td>\n",
       "      <td>18.0</td>\n",
       "      <td>2021-02-14</td>\n",
       "      <td>2</td>\n",
       "      <td>Айдар</td>\n",
       "      <td>22</td>\n",
       "      <td>Омск</td>\n",
       "      <td>free</td>\n",
       "      <td>8</td>\n",
       "      <td>50</td>\n",
       "      <td>0</td>\n",
       "    </tr>\n",
       "    <tr>\n",
       "      <th>5</th>\n",
       "      <td>700</td>\n",
       "      <td>4342.002254</td>\n",
       "      <td>23.0</td>\n",
       "      <td>2021-02-23</td>\n",
       "      <td>2</td>\n",
       "      <td>Айдар</td>\n",
       "      <td>22</td>\n",
       "      <td>Омск</td>\n",
       "      <td>free</td>\n",
       "      <td>8</td>\n",
       "      <td>50</td>\n",
       "      <td>0</td>\n",
       "    </tr>\n",
       "    <tr>\n",
       "      <th>6</th>\n",
       "      <td>700</td>\n",
       "      <td>3798.334905</td>\n",
       "      <td>19.0</td>\n",
       "      <td>2021-03-03</td>\n",
       "      <td>3</td>\n",
       "      <td>Айдар</td>\n",
       "      <td>22</td>\n",
       "      <td>Омск</td>\n",
       "      <td>free</td>\n",
       "      <td>8</td>\n",
       "      <td>50</td>\n",
       "      <td>0</td>\n",
       "    </tr>\n",
       "    <tr>\n",
       "      <th>7</th>\n",
       "      <td>700</td>\n",
       "      <td>2984.551206</td>\n",
       "      <td>16.0</td>\n",
       "      <td>2021-04-09</td>\n",
       "      <td>4</td>\n",
       "      <td>Айдар</td>\n",
       "      <td>22</td>\n",
       "      <td>Омск</td>\n",
       "      <td>free</td>\n",
       "      <td>8</td>\n",
       "      <td>50</td>\n",
       "      <td>0</td>\n",
       "    </tr>\n",
       "    <tr>\n",
       "      <th>8</th>\n",
       "      <td>700</td>\n",
       "      <td>3360.107141</td>\n",
       "      <td>17.0</td>\n",
       "      <td>2021-06-12</td>\n",
       "      <td>6</td>\n",
       "      <td>Айдар</td>\n",
       "      <td>22</td>\n",
       "      <td>Омск</td>\n",
       "      <td>free</td>\n",
       "      <td>8</td>\n",
       "      <td>50</td>\n",
       "      <td>0</td>\n",
       "    </tr>\n",
       "    <tr>\n",
       "      <th>9</th>\n",
       "      <td>700</td>\n",
       "      <td>2567.543847</td>\n",
       "      <td>12.0</td>\n",
       "      <td>2021-06-23</td>\n",
       "      <td>6</td>\n",
       "      <td>Айдар</td>\n",
       "      <td>22</td>\n",
       "      <td>Омск</td>\n",
       "      <td>free</td>\n",
       "      <td>8</td>\n",
       "      <td>50</td>\n",
       "      <td>0</td>\n",
       "    </tr>\n",
       "  </tbody>\n",
       "</table>\n",
       "</div>"
      ],
      "text/plain": [
       "   user_id     distance  duration       date  month   name  age  city  \\\n",
       "0      700  2515.690719      15.0 2021-01-02      1  Айдар   22  Омск   \n",
       "1      700   846.932642      17.0 2021-02-01      2  Айдар   22  Омск   \n",
       "2      700  4004.434142      21.0 2021-02-04      2  Айдар   22  Омск   \n",
       "3      700  1205.911290      10.0 2021-02-10      2  Айдар   22  Омск   \n",
       "4      700  3047.379435      18.0 2021-02-14      2  Айдар   22  Омск   \n",
       "5      700  4342.002254      23.0 2021-02-23      2  Айдар   22  Омск   \n",
       "6      700  3798.334905      19.0 2021-03-03      3  Айдар   22  Омск   \n",
       "7      700  2984.551206      16.0 2021-04-09      4  Айдар   22  Омск   \n",
       "8      700  3360.107141      17.0 2021-06-12      6  Айдар   22  Омск   \n",
       "9      700  2567.543847      12.0 2021-06-23      6  Айдар   22  Омск   \n",
       "\n",
       "  subscription_type  minute_price  start_ride_price  subscription_fee  \n",
       "0              free             8                50                 0  \n",
       "1              free             8                50                 0  \n",
       "2              free             8                50                 0  \n",
       "3              free             8                50                 0  \n",
       "4              free             8                50                 0  \n",
       "5              free             8                50                 0  \n",
       "6              free             8                50                 0  \n",
       "7              free             8                50                 0  \n",
       "8              free             8                50                 0  \n",
       "9              free             8                50                 0  "
      ]
     },
     "execution_count": 36,
     "metadata": {},
     "output_type": "execute_result"
    }
   ],
   "source": [
    "free['duration'] = np.ceil(free['duration'])\n",
    "free.head(10)"
   ]
  },
  {
   "cell_type": "code",
   "execution_count": 37,
   "id": "89ca0a03",
   "metadata": {},
   "outputs": [
    {
     "name": "stderr",
     "output_type": "stream",
     "text": [
      "/tmp/ipykernel_268/1672642060.py:1: SettingWithCopyWarning: \n",
      "A value is trying to be set on a copy of a slice from a DataFrame.\n",
      "Try using .loc[row_indexer,col_indexer] = value instead\n",
      "\n",
      "See the caveats in the documentation: https://pandas.pydata.org/pandas-docs/stable/user_guide/indexing.html#returning-a-view-versus-a-copy\n",
      "  ultra['duration'] = np.ceil(ultra['duration'])\n"
     ]
    },
    {
     "data": {
      "text/html": [
       "<div>\n",
       "<style scoped>\n",
       "    .dataframe tbody tr th:only-of-type {\n",
       "        vertical-align: middle;\n",
       "    }\n",
       "\n",
       "    .dataframe tbody tr th {\n",
       "        vertical-align: top;\n",
       "    }\n",
       "\n",
       "    .dataframe thead th {\n",
       "        text-align: right;\n",
       "    }\n",
       "</style>\n",
       "<table border=\"1\" class=\"dataframe\">\n",
       "  <thead>\n",
       "    <tr style=\"text-align: right;\">\n",
       "      <th></th>\n",
       "      <th>user_id</th>\n",
       "      <th>distance</th>\n",
       "      <th>duration</th>\n",
       "      <th>date</th>\n",
       "      <th>month</th>\n",
       "      <th>name</th>\n",
       "      <th>age</th>\n",
       "      <th>city</th>\n",
       "      <th>subscription_type</th>\n",
       "      <th>minute_price</th>\n",
       "      <th>start_ride_price</th>\n",
       "      <th>subscription_fee</th>\n",
       "    </tr>\n",
       "  </thead>\n",
       "  <tbody>\n",
       "    <tr>\n",
       "      <th>11568</th>\n",
       "      <td>1</td>\n",
       "      <td>4409.919140</td>\n",
       "      <td>26.0</td>\n",
       "      <td>2021-01-01</td>\n",
       "      <td>1</td>\n",
       "      <td>Кира</td>\n",
       "      <td>22</td>\n",
       "      <td>Тюмень</td>\n",
       "      <td>ultra</td>\n",
       "      <td>6</td>\n",
       "      <td>0</td>\n",
       "      <td>199</td>\n",
       "    </tr>\n",
       "    <tr>\n",
       "      <th>11569</th>\n",
       "      <td>1</td>\n",
       "      <td>2617.592153</td>\n",
       "      <td>16.0</td>\n",
       "      <td>2021-01-18</td>\n",
       "      <td>1</td>\n",
       "      <td>Кира</td>\n",
       "      <td>22</td>\n",
       "      <td>Тюмень</td>\n",
       "      <td>ultra</td>\n",
       "      <td>6</td>\n",
       "      <td>0</td>\n",
       "      <td>199</td>\n",
       "    </tr>\n",
       "    <tr>\n",
       "      <th>11570</th>\n",
       "      <td>1</td>\n",
       "      <td>754.159807</td>\n",
       "      <td>7.0</td>\n",
       "      <td>2021-04-20</td>\n",
       "      <td>4</td>\n",
       "      <td>Кира</td>\n",
       "      <td>22</td>\n",
       "      <td>Тюмень</td>\n",
       "      <td>ultra</td>\n",
       "      <td>6</td>\n",
       "      <td>0</td>\n",
       "      <td>199</td>\n",
       "    </tr>\n",
       "    <tr>\n",
       "      <th>11571</th>\n",
       "      <td>1</td>\n",
       "      <td>2694.783254</td>\n",
       "      <td>19.0</td>\n",
       "      <td>2021-08-11</td>\n",
       "      <td>8</td>\n",
       "      <td>Кира</td>\n",
       "      <td>22</td>\n",
       "      <td>Тюмень</td>\n",
       "      <td>ultra</td>\n",
       "      <td>6</td>\n",
       "      <td>0</td>\n",
       "      <td>199</td>\n",
       "    </tr>\n",
       "    <tr>\n",
       "      <th>11572</th>\n",
       "      <td>1</td>\n",
       "      <td>4028.687306</td>\n",
       "      <td>27.0</td>\n",
       "      <td>2021-08-28</td>\n",
       "      <td>8</td>\n",
       "      <td>Кира</td>\n",
       "      <td>22</td>\n",
       "      <td>Тюмень</td>\n",
       "      <td>ultra</td>\n",
       "      <td>6</td>\n",
       "      <td>0</td>\n",
       "      <td>199</td>\n",
       "    </tr>\n",
       "    <tr>\n",
       "      <th>11573</th>\n",
       "      <td>1</td>\n",
       "      <td>2770.890808</td>\n",
       "      <td>17.0</td>\n",
       "      <td>2021-10-09</td>\n",
       "      <td>10</td>\n",
       "      <td>Кира</td>\n",
       "      <td>22</td>\n",
       "      <td>Тюмень</td>\n",
       "      <td>ultra</td>\n",
       "      <td>6</td>\n",
       "      <td>0</td>\n",
       "      <td>199</td>\n",
       "    </tr>\n",
       "    <tr>\n",
       "      <th>11574</th>\n",
       "      <td>1</td>\n",
       "      <td>3039.020292</td>\n",
       "      <td>15.0</td>\n",
       "      <td>2021-10-19</td>\n",
       "      <td>10</td>\n",
       "      <td>Кира</td>\n",
       "      <td>22</td>\n",
       "      <td>Тюмень</td>\n",
       "      <td>ultra</td>\n",
       "      <td>6</td>\n",
       "      <td>0</td>\n",
       "      <td>199</td>\n",
       "    </tr>\n",
       "    <tr>\n",
       "      <th>11575</th>\n",
       "      <td>1</td>\n",
       "      <td>2842.118050</td>\n",
       "      <td>24.0</td>\n",
       "      <td>2021-11-06</td>\n",
       "      <td>11</td>\n",
       "      <td>Кира</td>\n",
       "      <td>22</td>\n",
       "      <td>Тюмень</td>\n",
       "      <td>ultra</td>\n",
       "      <td>6</td>\n",
       "      <td>0</td>\n",
       "      <td>199</td>\n",
       "    </tr>\n",
       "    <tr>\n",
       "      <th>11576</th>\n",
       "      <td>1</td>\n",
       "      <td>3412.690668</td>\n",
       "      <td>16.0</td>\n",
       "      <td>2021-11-14</td>\n",
       "      <td>11</td>\n",
       "      <td>Кира</td>\n",
       "      <td>22</td>\n",
       "      <td>Тюмень</td>\n",
       "      <td>ultra</td>\n",
       "      <td>6</td>\n",
       "      <td>0</td>\n",
       "      <td>199</td>\n",
       "    </tr>\n",
       "    <tr>\n",
       "      <th>11577</th>\n",
       "      <td>1</td>\n",
       "      <td>748.690645</td>\n",
       "      <td>16.0</td>\n",
       "      <td>2021-11-22</td>\n",
       "      <td>11</td>\n",
       "      <td>Кира</td>\n",
       "      <td>22</td>\n",
       "      <td>Тюмень</td>\n",
       "      <td>ultra</td>\n",
       "      <td>6</td>\n",
       "      <td>0</td>\n",
       "      <td>199</td>\n",
       "    </tr>\n",
       "  </tbody>\n",
       "</table>\n",
       "</div>"
      ],
      "text/plain": [
       "       user_id     distance  duration       date  month  name  age    city  \\\n",
       "11568        1  4409.919140      26.0 2021-01-01      1  Кира   22  Тюмень   \n",
       "11569        1  2617.592153      16.0 2021-01-18      1  Кира   22  Тюмень   \n",
       "11570        1   754.159807       7.0 2021-04-20      4  Кира   22  Тюмень   \n",
       "11571        1  2694.783254      19.0 2021-08-11      8  Кира   22  Тюмень   \n",
       "11572        1  4028.687306      27.0 2021-08-28      8  Кира   22  Тюмень   \n",
       "11573        1  2770.890808      17.0 2021-10-09     10  Кира   22  Тюмень   \n",
       "11574        1  3039.020292      15.0 2021-10-19     10  Кира   22  Тюмень   \n",
       "11575        1  2842.118050      24.0 2021-11-06     11  Кира   22  Тюмень   \n",
       "11576        1  3412.690668      16.0 2021-11-14     11  Кира   22  Тюмень   \n",
       "11577        1   748.690645      16.0 2021-11-22     11  Кира   22  Тюмень   \n",
       "\n",
       "      subscription_type  minute_price  start_ride_price  subscription_fee  \n",
       "11568             ultra             6                 0               199  \n",
       "11569             ultra             6                 0               199  \n",
       "11570             ultra             6                 0               199  \n",
       "11571             ultra             6                 0               199  \n",
       "11572             ultra             6                 0               199  \n",
       "11573             ultra             6                 0               199  \n",
       "11574             ultra             6                 0               199  \n",
       "11575             ultra             6                 0               199  \n",
       "11576             ultra             6                 0               199  \n",
       "11577             ultra             6                 0               199  "
      ]
     },
     "execution_count": 37,
     "metadata": {},
     "output_type": "execute_result"
    }
   ],
   "source": [
    "ultra['duration'] = np.ceil(ultra['duration'])\n",
    "ultra.head(10)"
   ]
  },
  {
   "cell_type": "code",
   "execution_count": 38,
   "id": "68dfb6f6",
   "metadata": {},
   "outputs": [
    {
     "data": {
      "text/html": [
       "<div>\n",
       "<style scoped>\n",
       "    .dataframe tbody tr th:only-of-type {\n",
       "        vertical-align: middle;\n",
       "    }\n",
       "\n",
       "    .dataframe tbody tr th {\n",
       "        vertical-align: top;\n",
       "    }\n",
       "\n",
       "    .dataframe thead th {\n",
       "        text-align: right;\n",
       "    }\n",
       "</style>\n",
       "<table border=\"1\" class=\"dataframe\">\n",
       "  <thead>\n",
       "    <tr style=\"text-align: right;\">\n",
       "      <th></th>\n",
       "      <th></th>\n",
       "      <th>distance</th>\n",
       "      <th>duration</th>\n",
       "      <th>count</th>\n",
       "      <th>minute_price</th>\n",
       "      <th>start_ride_price</th>\n",
       "      <th>subscription_fee</th>\n",
       "      <th>subscription_type</th>\n",
       "    </tr>\n",
       "    <tr>\n",
       "      <th>user_id</th>\n",
       "      <th>month</th>\n",
       "      <th></th>\n",
       "      <th></th>\n",
       "      <th></th>\n",
       "      <th></th>\n",
       "      <th></th>\n",
       "      <th></th>\n",
       "      <th></th>\n",
       "    </tr>\n",
       "  </thead>\n",
       "  <tbody>\n",
       "    <tr>\n",
       "      <th rowspan=\"5\" valign=\"top\">1</th>\n",
       "      <th>1</th>\n",
       "      <td>7027.511294</td>\n",
       "      <td>42.0</td>\n",
       "      <td>2</td>\n",
       "      <td>6</td>\n",
       "      <td>0</td>\n",
       "      <td>199</td>\n",
       "      <td>ultra</td>\n",
       "    </tr>\n",
       "    <tr>\n",
       "      <th>4</th>\n",
       "      <td>754.159807</td>\n",
       "      <td>7.0</td>\n",
       "      <td>1</td>\n",
       "      <td>6</td>\n",
       "      <td>0</td>\n",
       "      <td>199</td>\n",
       "      <td>ultra</td>\n",
       "    </tr>\n",
       "    <tr>\n",
       "      <th>8</th>\n",
       "      <td>6723.470560</td>\n",
       "      <td>45.0</td>\n",
       "      <td>2</td>\n",
       "      <td>6</td>\n",
       "      <td>0</td>\n",
       "      <td>199</td>\n",
       "      <td>ultra</td>\n",
       "    </tr>\n",
       "    <tr>\n",
       "      <th>10</th>\n",
       "      <td>5809.911100</td>\n",
       "      <td>32.0</td>\n",
       "      <td>2</td>\n",
       "      <td>6</td>\n",
       "      <td>0</td>\n",
       "      <td>199</td>\n",
       "      <td>ultra</td>\n",
       "    </tr>\n",
       "    <tr>\n",
       "      <th>11</th>\n",
       "      <td>7003.499363</td>\n",
       "      <td>54.0</td>\n",
       "      <td>3</td>\n",
       "      <td>6</td>\n",
       "      <td>0</td>\n",
       "      <td>199</td>\n",
       "      <td>ultra</td>\n",
       "    </tr>\n",
       "    <tr>\n",
       "      <th>...</th>\n",
       "      <th>...</th>\n",
       "      <td>...</td>\n",
       "      <td>...</td>\n",
       "      <td>...</td>\n",
       "      <td>...</td>\n",
       "      <td>...</td>\n",
       "      <td>...</td>\n",
       "      <td>...</td>\n",
       "    </tr>\n",
       "    <tr>\n",
       "      <th rowspan=\"5\" valign=\"top\">1534</th>\n",
       "      <th>6</th>\n",
       "      <td>3409.468534</td>\n",
       "      <td>25.0</td>\n",
       "      <td>2</td>\n",
       "      <td>8</td>\n",
       "      <td>50</td>\n",
       "      <td>0</td>\n",
       "      <td>free</td>\n",
       "    </tr>\n",
       "    <tr>\n",
       "      <th>8</th>\n",
       "      <td>7622.453034</td>\n",
       "      <td>48.0</td>\n",
       "      <td>2</td>\n",
       "      <td>8</td>\n",
       "      <td>50</td>\n",
       "      <td>0</td>\n",
       "      <td>free</td>\n",
       "    </tr>\n",
       "    <tr>\n",
       "      <th>9</th>\n",
       "      <td>4928.173852</td>\n",
       "      <td>23.0</td>\n",
       "      <td>1</td>\n",
       "      <td>8</td>\n",
       "      <td>50</td>\n",
       "      <td>0</td>\n",
       "      <td>free</td>\n",
       "    </tr>\n",
       "    <tr>\n",
       "      <th>11</th>\n",
       "      <td>13350.015305</td>\n",
       "      <td>77.0</td>\n",
       "      <td>4</td>\n",
       "      <td>8</td>\n",
       "      <td>50</td>\n",
       "      <td>0</td>\n",
       "      <td>free</td>\n",
       "    </tr>\n",
       "    <tr>\n",
       "      <th>12</th>\n",
       "      <td>2371.711192</td>\n",
       "      <td>16.0</td>\n",
       "      <td>1</td>\n",
       "      <td>8</td>\n",
       "      <td>50</td>\n",
       "      <td>0</td>\n",
       "      <td>free</td>\n",
       "    </tr>\n",
       "  </tbody>\n",
       "</table>\n",
       "<p>11331 rows × 7 columns</p>\n",
       "</div>"
      ],
      "text/plain": [
       "                   distance  duration  count  minute_price  start_ride_price  \\\n",
       "user_id month                                                                  \n",
       "1       1       7027.511294      42.0      2             6                 0   \n",
       "        4        754.159807       7.0      1             6                 0   \n",
       "        8       6723.470560      45.0      2             6                 0   \n",
       "        10      5809.911100      32.0      2             6                 0   \n",
       "        11      7003.499363      54.0      3             6                 0   \n",
       "...                     ...       ...    ...           ...               ...   \n",
       "1534    6       3409.468534      25.0      2             8                50   \n",
       "        8       7622.453034      48.0      2             8                50   \n",
       "        9       4928.173852      23.0      1             8                50   \n",
       "        11     13350.015305      77.0      4             8                50   \n",
       "        12      2371.711192      16.0      1             8                50   \n",
       "\n",
       "               subscription_fee subscription_type  \n",
       "user_id month                                      \n",
       "1       1                   199             ultra  \n",
       "        4                   199             ultra  \n",
       "        8                   199             ultra  \n",
       "        10                  199             ultra  \n",
       "        11                  199             ultra  \n",
       "...                         ...               ...  \n",
       "1534    6                     0              free  \n",
       "        8                     0              free  \n",
       "        9                     0              free  \n",
       "        11                    0              free  \n",
       "        12                    0              free  \n",
       "\n",
       "[11331 rows x 7 columns]"
      ]
     },
     "execution_count": 38,
     "metadata": {},
     "output_type": "execute_result"
    }
   ],
   "source": [
    "df3 = df.pivot_table(index=['user_id', 'month'], values=['distance', 'duration', 'subscription_type', 'minute_price','start_ride_price','subscription_fee'], aggfunc=['sum','count', 'first'])\n",
    "df3.columns = ['distance', 'duration', 'useless', 'useless1', 'useless2', 'count', 'count2','count3','count4', 'count5', 'count6','first1','first2', 'minute_price','start_ride_price','subscription_fee', 'subscription_type']\n",
    "df3.drop(columns = ['count2','count3','count4','count5','count6','first1','first2','useless', 'useless1', 'useless2'],axis = 1, inplace=True)\n",
    "df3['duration'] = np.ceil(df3['duration'])\n",
    "df3"
   ]
  },
  {
   "cell_type": "markdown",
   "id": "5efed601",
   "metadata": {},
   "source": [
    "<div class=\"alert alert-block alert-warning\">\n",
    "<b>🔁Комментарий ревьюера:</b> \n",
    "\n",
    "А зачем были сделаны три сводных таблицы? Достаточно было бы одной общей)\n",
    "</div>"
   ]
  },
  {
   "cell_type": "markdown",
   "id": "49482570",
   "metadata": {},
   "source": [
    "<div class=\"alert alert-block alert-info\">\n",
    "<b>🔄Комментарий студента:</b> \n",
    "Для дальнейшего использования. ✔\n",
    "</div>"
   ]
  },
  {
   "cell_type": "markdown",
   "id": "c98d5032",
   "metadata": {},
   "source": [
    "<div class=\"alert alert-block alert-warning\">\n",
    "<b>🔁Комментарий ревьюера 2: ✔</b> \n",
    "\n",
    "Выручку можно посчитать одной формулой для обеих групп пользователей в общей таблице, а потом их разделить\n",
    "</div>"
   ]
  },
  {
   "cell_type": "markdown",
   "id": "97e4dc2b",
   "metadata": {},
   "source": [
    "<div class=\"alert alert-block alert-info\">\n",
    "<b>🔄Комментарий студента:</b> \n",
    " ✔\n",
    "</div>"
   ]
  },
  {
   "cell_type": "markdown",
   "id": "baf97ba9",
   "metadata": {},
   "source": [
    "<div class=\"alert alert-block alert-success\">\n",
    "<b>✅Комментарий ревьюера 3:</b> Отлично, исправлено!👍  </div>"
   ]
  },
  {
   "cell_type": "markdown",
   "id": "c0e720a1",
   "metadata": {},
   "source": [
    "##### Добавление столбца с помесячной выручкой"
   ]
  },
  {
   "cell_type": "code",
   "execution_count": 39,
   "id": "353057d3",
   "metadata": {},
   "outputs": [
    {
     "data": {
      "text/html": [
       "<div>\n",
       "<style scoped>\n",
       "    .dataframe tbody tr th:only-of-type {\n",
       "        vertical-align: middle;\n",
       "    }\n",
       "\n",
       "    .dataframe tbody tr th {\n",
       "        vertical-align: top;\n",
       "    }\n",
       "\n",
       "    .dataframe thead th {\n",
       "        text-align: right;\n",
       "    }\n",
       "</style>\n",
       "<table border=\"1\" class=\"dataframe\">\n",
       "  <thead>\n",
       "    <tr style=\"text-align: right;\">\n",
       "      <th></th>\n",
       "      <th></th>\n",
       "      <th>distance</th>\n",
       "      <th>duration</th>\n",
       "      <th>count</th>\n",
       "      <th>minute_price</th>\n",
       "      <th>start_ride_price</th>\n",
       "      <th>subscription_fee</th>\n",
       "      <th>subscription_type</th>\n",
       "      <th>revenue</th>\n",
       "    </tr>\n",
       "    <tr>\n",
       "      <th>user_id</th>\n",
       "      <th>month</th>\n",
       "      <th></th>\n",
       "      <th></th>\n",
       "      <th></th>\n",
       "      <th></th>\n",
       "      <th></th>\n",
       "      <th></th>\n",
       "      <th></th>\n",
       "      <th></th>\n",
       "    </tr>\n",
       "  </thead>\n",
       "  <tbody>\n",
       "    <tr>\n",
       "      <th rowspan=\"5\" valign=\"top\">1</th>\n",
       "      <th>1</th>\n",
       "      <td>7027.511294</td>\n",
       "      <td>42.0</td>\n",
       "      <td>2</td>\n",
       "      <td>6</td>\n",
       "      <td>0</td>\n",
       "      <td>199</td>\n",
       "      <td>ultra</td>\n",
       "      <td>451.0</td>\n",
       "    </tr>\n",
       "    <tr>\n",
       "      <th>4</th>\n",
       "      <td>754.159807</td>\n",
       "      <td>7.0</td>\n",
       "      <td>1</td>\n",
       "      <td>6</td>\n",
       "      <td>0</td>\n",
       "      <td>199</td>\n",
       "      <td>ultra</td>\n",
       "      <td>241.0</td>\n",
       "    </tr>\n",
       "    <tr>\n",
       "      <th>8</th>\n",
       "      <td>6723.470560</td>\n",
       "      <td>45.0</td>\n",
       "      <td>2</td>\n",
       "      <td>6</td>\n",
       "      <td>0</td>\n",
       "      <td>199</td>\n",
       "      <td>ultra</td>\n",
       "      <td>469.0</td>\n",
       "    </tr>\n",
       "    <tr>\n",
       "      <th>10</th>\n",
       "      <td>5809.911100</td>\n",
       "      <td>32.0</td>\n",
       "      <td>2</td>\n",
       "      <td>6</td>\n",
       "      <td>0</td>\n",
       "      <td>199</td>\n",
       "      <td>ultra</td>\n",
       "      <td>391.0</td>\n",
       "    </tr>\n",
       "    <tr>\n",
       "      <th>11</th>\n",
       "      <td>7003.499363</td>\n",
       "      <td>54.0</td>\n",
       "      <td>3</td>\n",
       "      <td>6</td>\n",
       "      <td>0</td>\n",
       "      <td>199</td>\n",
       "      <td>ultra</td>\n",
       "      <td>523.0</td>\n",
       "    </tr>\n",
       "    <tr>\n",
       "      <th>...</th>\n",
       "      <th>...</th>\n",
       "      <td>...</td>\n",
       "      <td>...</td>\n",
       "      <td>...</td>\n",
       "      <td>...</td>\n",
       "      <td>...</td>\n",
       "      <td>...</td>\n",
       "      <td>...</td>\n",
       "      <td>...</td>\n",
       "    </tr>\n",
       "    <tr>\n",
       "      <th rowspan=\"5\" valign=\"top\">1534</th>\n",
       "      <th>6</th>\n",
       "      <td>3409.468534</td>\n",
       "      <td>25.0</td>\n",
       "      <td>2</td>\n",
       "      <td>8</td>\n",
       "      <td>50</td>\n",
       "      <td>0</td>\n",
       "      <td>free</td>\n",
       "      <td>300.0</td>\n",
       "    </tr>\n",
       "    <tr>\n",
       "      <th>8</th>\n",
       "      <td>7622.453034</td>\n",
       "      <td>48.0</td>\n",
       "      <td>2</td>\n",
       "      <td>8</td>\n",
       "      <td>50</td>\n",
       "      <td>0</td>\n",
       "      <td>free</td>\n",
       "      <td>484.0</td>\n",
       "    </tr>\n",
       "    <tr>\n",
       "      <th>9</th>\n",
       "      <td>4928.173852</td>\n",
       "      <td>23.0</td>\n",
       "      <td>1</td>\n",
       "      <td>8</td>\n",
       "      <td>50</td>\n",
       "      <td>0</td>\n",
       "      <td>free</td>\n",
       "      <td>234.0</td>\n",
       "    </tr>\n",
       "    <tr>\n",
       "      <th>11</th>\n",
       "      <td>13350.015305</td>\n",
       "      <td>77.0</td>\n",
       "      <td>4</td>\n",
       "      <td>8</td>\n",
       "      <td>50</td>\n",
       "      <td>0</td>\n",
       "      <td>free</td>\n",
       "      <td>816.0</td>\n",
       "    </tr>\n",
       "    <tr>\n",
       "      <th>12</th>\n",
       "      <td>2371.711192</td>\n",
       "      <td>16.0</td>\n",
       "      <td>1</td>\n",
       "      <td>8</td>\n",
       "      <td>50</td>\n",
       "      <td>0</td>\n",
       "      <td>free</td>\n",
       "      <td>178.0</td>\n",
       "    </tr>\n",
       "  </tbody>\n",
       "</table>\n",
       "<p>11331 rows × 8 columns</p>\n",
       "</div>"
      ],
      "text/plain": [
       "                   distance  duration  count  minute_price  start_ride_price  \\\n",
       "user_id month                                                                  \n",
       "1       1       7027.511294      42.0      2             6                 0   \n",
       "        4        754.159807       7.0      1             6                 0   \n",
       "        8       6723.470560      45.0      2             6                 0   \n",
       "        10      5809.911100      32.0      2             6                 0   \n",
       "        11      7003.499363      54.0      3             6                 0   \n",
       "...                     ...       ...    ...           ...               ...   \n",
       "1534    6       3409.468534      25.0      2             8                50   \n",
       "        8       7622.453034      48.0      2             8                50   \n",
       "        9       4928.173852      23.0      1             8                50   \n",
       "        11     13350.015305      77.0      4             8                50   \n",
       "        12      2371.711192      16.0      1             8                50   \n",
       "\n",
       "               subscription_fee subscription_type  revenue  \n",
       "user_id month                                               \n",
       "1       1                   199             ultra    451.0  \n",
       "        4                   199             ultra    241.0  \n",
       "        8                   199             ultra    469.0  \n",
       "        10                  199             ultra    391.0  \n",
       "        11                  199             ultra    523.0  \n",
       "...                         ...               ...      ...  \n",
       "1534    6                     0              free    300.0  \n",
       "        8                     0              free    484.0  \n",
       "        9                     0              free    234.0  \n",
       "        11                    0              free    816.0  \n",
       "        12                    0              free    178.0  \n",
       "\n",
       "[11331 rows x 8 columns]"
      ]
     },
     "execution_count": 39,
     "metadata": {},
     "output_type": "execute_result"
    }
   ],
   "source": [
    "df3['revenue'] = (df3['start_ride_price'] * df3['count']) + np.ceil((df3['minute_price'] * df3['duration'])) + df3['subscription_fee']\n",
    "df3"
   ]
  },
  {
   "cell_type": "markdown",
   "id": "911ca434",
   "metadata": {},
   "source": [
    "<div class=\"alert alert-block alert-warning\">\n",
    "<b>🔁Комментарий ревьюера: ✔</b> \n",
    "    \n",
    "Код должен быть более универсальным, без ручного внесения значений по тарифам.\n",
    "\n",
    "В объединенной таблице df у нас уже есть все данные по тарифам для расчета выручки, их можно перенести в df3, указав при группировке для них агрегирующую функцию 'first'. Тогда соответствующие столбцы со стоимостями можно будет использовать для расчета выручки и формула будет единой для обеих групп пользователей.</div>"
   ]
  },
  {
   "cell_type": "markdown",
   "id": "1a59553c",
   "metadata": {},
   "source": [
    "<div class=\"alert alert-block alert-info\">\n",
    "<b>🔄Комментарий студента:</b> \n",
    " ✔\n",
    "</div>"
   ]
  },
  {
   "cell_type": "markdown",
   "id": "2f2f52c7",
   "metadata": {},
   "source": [
    "<div class=\"alert alert-block alert-success\">\n",
    "<b>✅Комментарий ревьюера 3:</b> Отлично, исправлено!👍  </div>"
   ]
  },
  {
   "cell_type": "code",
   "execution_count": 40,
   "id": "b8deda10",
   "metadata": {},
   "outputs": [
    {
     "name": "stdout",
     "output_type": "stream",
     "text": [
      "<class 'pandas.core.frame.DataFrame'>\n",
      "MultiIndex: 11331 entries, (1, 1) to (1534, 12)\n",
      "Data columns (total 8 columns):\n",
      " #   Column             Non-Null Count  Dtype  \n",
      "---  ------             --------------  -----  \n",
      " 0   distance           11331 non-null  float64\n",
      " 1   duration           11331 non-null  float64\n",
      " 2   count              11331 non-null  int64  \n",
      " 3   minute_price       11331 non-null  int64  \n",
      " 4   start_ride_price   11331 non-null  int64  \n",
      " 5   subscription_fee   11331 non-null  int64  \n",
      " 6   subscription_type  11331 non-null  object \n",
      " 7   revenue            11331 non-null  float64\n",
      "dtypes: float64(3), int64(4), object(1)\n",
      "memory usage: 753.6+ KB\n"
     ]
    }
   ],
   "source": [
    "df3.info()"
   ]
  },
  {
   "cell_type": "markdown",
   "id": "ea91370e",
   "metadata": {},
   "source": [
    "<div class=\"alert alert-block alert-info\">\n",
    "<b>🔄Комментарий студента:</b> <br/>\n",
    "Была посчитана помесячная выручка для каждого пользователя. Эти данные мы используем в дальнейшем при проверке гипотез.\n",
    "    <br/>✔\n",
    "</div>"
   ]
  },
  {
   "cell_type": "markdown",
   "id": "bd346ee6",
   "metadata": {},
   "source": [
    "<div class=\"alert alert-block alert-success\">\n",
    "<b>✅Комментарий ревьюера 2:</b> Выручка расчитана верно👍  </div>"
   ]
  },
  {
   "cell_type": "markdown",
   "id": "1a820481",
   "metadata": {},
   "source": [
    "#### Шаг 6. Проверка гипотез"
   ]
  },
  {
   "cell_type": "markdown",
   "id": "cdc4bd66",
   "metadata": {},
   "source": [
    "#####  Важно понять, тратят ли пользователи с подпиской больше времени на поездки? "
   ]
  },
  {
   "cell_type": "markdown",
   "id": "9dd6b0f5",
   "metadata": {
    "id": "5766e785"
   },
   "source": [
    "<div class=\"alert alert-block alert-danger\">\n",
    "<b>❌Комментарий ревьюера:</b> \n",
    "    \n",
    "Перед проверкой нужно обязательно формулировать как нулевую, так и альтернативную гипотезы.</div>"
   ]
  },
  {
   "cell_type": "markdown",
   "id": "ddcdf0a5",
   "metadata": {},
   "source": [
    "<div class=\"alert alert-block alert-info\">\n",
    "<b>🔄Комментарий студента:</b> <br/>\n",
    "Нулевая гипотеза: средние значения длительности поездок пользователей из двух групп равны. <br/>\n",
    "Альтернативная гипотеза: среднее значение длительности поездок пользователей с подпиской больше, чем среднее значение длительности поездок пользователей без подписки<br/>✔\n",
    "</div>"
   ]
  },
  {
   "cell_type": "markdown",
   "id": "5a3cdb3e",
   "metadata": {},
   "source": [
    "<div class=\"alert alert-block alert-success\">\n",
    "<b>✅Комментарий ревьюера 2:</b> Отлично, исправлено!👍  </div>"
   ]
  },
  {
   "cell_type": "code",
   "execution_count": 41,
   "id": "4b27b991",
   "metadata": {},
   "outputs": [
    {
     "name": "stdout",
     "output_type": "stream",
     "text": [
      "p-значение: 2.4959453720736625e-34\n",
      "Отвергаем нулевую гипотезу\n"
     ]
    }
   ],
   "source": [
    "alpha = .05\n",
    "\n",
    "results = st.ttest_ind(ultra['duration'], free['duration'], alternative='greater')\n",
    "\n",
    "print('p-значение:', results.pvalue)\n",
    "\n",
    "if results.pvalue < alpha:\n",
    "    print('Отвергаем нулевую гипотезу')\n",
    "else:\n",
    "    print('Не получилось отвергнуть нулевую гипотезу') "
   ]
  },
  {
   "cell_type": "code",
   "execution_count": 42,
   "id": "86509c64",
   "metadata": {},
   "outputs": [
    {
     "name": "stdout",
     "output_type": "stream",
     "text": [
      "17.890992392807746\n"
     ]
    },
    {
     "data": {
      "text/plain": [
       "19.037692307692307"
      ]
     },
     "execution_count": 42,
     "metadata": {},
     "output_type": "execute_result"
    }
   ],
   "source": [
    "print(free['duration'].mean())\n",
    "ultra['duration'].mean()"
   ]
  },
  {
   "cell_type": "markdown",
   "id": "3a5d04cd",
   "metadata": {},
   "source": [
    "\n",
    "<div class=\"alert alert-info\">\n",
    "<font size=\"3\", color = \"black\">✍ Отвергаем нулевую гипотезу и похоже на то, что пользователи с подпиской тратят больше времени на поездки, чем пользователи без подписки. </font>\n",
    "    <br /> \n",
    "    <font size=\"3\", color = \"black\">\n",
    "<br />"
   ]
  },
  {
   "cell_type": "markdown",
   "id": "2af21f07",
   "metadata": {
    "id": "5766e785"
   },
   "source": [
    "<div class=\"alert alert-block alert-danger\">\n",
    "<b>❌Комментарий ревьюера: ✔</b> \n",
    "    \n",
    "В гипотезе мы сравниваем все поездки, поэтому нужно брать исходные таблицы (полученные после объединения), а не сводные.</div>"
   ]
  },
  {
   "cell_type": "markdown",
   "id": "bb376612",
   "metadata": {},
   "source": [
    "<div class=\"alert alert-block alert-success\">\n",
    "<b>✅Комментарий ревьюера 2:</b> Отлично, исправлено!👍  </div>"
   ]
  },
  {
   "cell_type": "markdown",
   "id": "e079a28b",
   "metadata": {},
   "source": [
    "<div class=\"alert alert-block alert-warning\">\n",
    "<b>🔁Комментарий ревьюера: ✔</b>\n",
    "\n",
    "Дополнительно можно вывести средние значения продолжительности поездок для каждой категории пользователей.</div>"
   ]
  },
  {
   "cell_type": "markdown",
   "id": "a490c962",
   "metadata": {},
   "source": [
    "<div class=\"alert alert-block alert-success\">\n",
    "<b>✅Комментарий ревьюера 2:</b> Отлично, исправлено!👍  </div>"
   ]
  },
  {
   "cell_type": "markdown",
   "id": "fe236c28",
   "metadata": {
    "id": "5766e785"
   },
   "source": [
    "<div class=\"alert alert-block alert-danger\">\n",
    "<b>❌Комментарий ревьюера: ✔</b> \n",
    "    \n",
    "После проверки каждой из гипотез нужно формулировать вывод по полученным результатам</div>"
   ]
  },
  {
   "cell_type": "markdown",
   "id": "858d75c6",
   "metadata": {},
   "source": [
    "<div class=\"alert alert-block alert-success\">\n",
    "<b>✅Комментарий ревьюера 2:</b> Отлично, исправлено!👍  </div>"
   ]
  },
  {
   "cell_type": "markdown",
   "id": "4b891500",
   "metadata": {},
   "source": [
    "##### Можно ли сказать, что расстояние, которое проезжают пользователи с подпиской за одну поездку, не превышает 3130 метров? "
   ]
  },
  {
   "cell_type": "markdown",
   "id": "c05ac0da",
   "metadata": {
    "id": "5766e785"
   },
   "source": [
    "<div class=\"alert alert-block alert-danger\">\n",
    "<b>❌Комментарий ревьюера:</b> \n",
    "    \n",
    "Нужно сформулировать гипотезы перед проверкой</div>"
   ]
  },
  {
   "cell_type": "markdown",
   "id": "2332ba53",
   "metadata": {},
   "source": [
    "<div class=\"alert alert-block alert-info\">\n",
    "<b>🔄Комментарий студента:</b> <br/>\n",
    "Нулевая гипотеза: среднее значение длительности поездок пользователей с подпиской равно 3130 метров. <br/>\n",
    "Альтернативная гипотеза: среднее значение длительности поездок пользователей с подпиской меньше 3130 метров.<br/>✔\n",
    "</div>"
   ]
  },
  {
   "cell_type": "markdown",
   "id": "84de6c5c",
   "metadata": {},
   "source": [
    "<div class=\"alert alert-block alert-warning\">\n",
    "<b>🔁Комментарий ревьюера 2: ✔</b>\n",
    "\n",
    "Вообще альтернативную гипотезу тут стоит сформулировать о том, что пользователи с подпиской за одну сессию проезжают больше 3130 метров, так при ее принятии или опровержении мы сможем ответить на поставленный в задании вопрос.\n",
    "\n",
    "P.S. Соответственно значение аргумента alternative нужно будет изменить.\n",
    "    </div>"
   ]
  },
  {
   "cell_type": "markdown",
   "id": "9d728d08",
   "metadata": {},
   "source": [
    "<div class=\"alert alert-block alert-warning\">\n",
    "<b>🔁Комментарий ревьюера 3: </b>\n",
    "\n",
    "При проверке значение аргумента alternative ты верно заменил, а вот сама формулировка осталась прежней).\n",
    "    </div>"
   ]
  },
  {
   "cell_type": "code",
   "execution_count": 43,
   "id": "a3502924",
   "metadata": {},
   "outputs": [
    {
     "name": "stdout",
     "output_type": "stream",
     "text": [
      "p-значение: 0.9195368847849785\n",
      "Не получилось отвергнуть нулевую гипотезу\n"
     ]
    }
   ],
   "source": [
    "alpha = .05\n",
    "results = st.ttest_1samp(ultra['distance'], 3130, alternative='greater')\n",
    "\n",
    "print('p-значение:', results.pvalue)\n",
    "\n",
    "if results.pvalue < alpha:\n",
    "    print('Отвергаем нулевую гипотезу')\n",
    "else:\n",
    "    print('Не получилось отвергнуть нулевую гипотезу') "
   ]
  },
  {
   "cell_type": "code",
   "execution_count": 44,
   "id": "8c94823e",
   "metadata": {},
   "outputs": [
    {
     "data": {
      "text/plain": [
       "3115.4453880370247"
      ]
     },
     "execution_count": 44,
     "metadata": {},
     "output_type": "execute_result"
    }
   ],
   "source": [
    "ultra['distance'].mean()"
   ]
  },
  {
   "cell_type": "markdown",
   "id": "1d5fe625",
   "metadata": {
    "id": "5766e785"
   },
   "source": [
    "<div class=\"alert alert-block alert-danger\">\n",
    "<b>❌Комментарий ревьюера: ✔</b> \n",
    "    \n",
    "Тут аналогично, нужно для проверки гипотезы брать выборку дистанций по всем поездкам, без какой-либо группировки. p-значение не должно быть равно 1, это говорит об ошибке.</div>"
   ]
  },
  {
   "cell_type": "markdown",
   "id": "99bc511c",
   "metadata": {},
   "source": [
    "<div class=\"alert alert-block alert-success\">\n",
    "<b>✅Комментарий ревьюера 2:</b> Отлично, исправлено!👍  </div>"
   ]
  },
  {
   "cell_type": "markdown",
   "id": "e2902945",
   "metadata": {},
   "source": [
    "\n",
    "<div class=\"alert alert-info\">\n",
    "<font size=\"3\", color = \"black\">✍ Не получилось отвергнуть нулевую гипотезу, похоже на то, что расстояние, которое проезжают пользователи с подпиской за одну поездку, не превышает 3130 метров. </font>\n",
    "    <br /> \n",
    "    <font size=\"3\", color = \"black\">\n",
    "<br />"
   ]
  },
  {
   "cell_type": "markdown",
   "id": "bba0331a",
   "metadata": {},
   "source": [
    "##### Будет ли помесячная выручка от пользователей с подпиской по месяцам выше, чем выручка от пользователей без подписки?"
   ]
  },
  {
   "cell_type": "markdown",
   "id": "1846d294",
   "metadata": {
    "id": "5766e785"
   },
   "source": [
    "<div class=\"alert alert-block alert-danger\">\n",
    "<b>❌Комментарий ревьюера:</b> \n",
    "    \n",
    "Необходимо добавить формулировки гипотез перед проверкой\n",
    " </div>"
   ]
  },
  {
   "cell_type": "markdown",
   "id": "59809abb",
   "metadata": {},
   "source": [
    "<div class=\"alert alert-block alert-info\">\n",
    "<b>🔄Комментарий студента:</b> <br/>\n",
    "Нулевая гипотеза: выручка пользователей с подпиской равна выручке пользователей без подписки. <br/>\n",
    "Альтернативная гипотеза: выручка пользователей с подпиской выше выручки пользователей без подписки.<br/>✔\n",
    "</div>"
   ]
  },
  {
   "cell_type": "markdown",
   "id": "a0b8d62e",
   "metadata": {},
   "source": [
    "<div class=\"alert alert-block alert-success\">\n",
    "<b>✅Комментарий ревьюера 2:</b> Отлично, исправлено!👍  </div>"
   ]
  },
  {
   "cell_type": "code",
   "execution_count": 45,
   "id": "2703a6ef",
   "metadata": {},
   "outputs": [
    {
     "name": "stdout",
     "output_type": "stream",
     "text": [
      "p-значение: 2.8130926188487286e-35\n",
      "Отвергаем нулевую гипотезу\n"
     ]
    }
   ],
   "source": [
    "alpha = .05\n",
    "ultra_revenue = df3[df3['subscription_type']== 'ultra']['revenue']\n",
    "free_revenue = df3[df3['subscription_type']== 'free']['revenue']\n",
    "results = st.ttest_ind(ultra_revenue, free_revenue, alternative='greater')\n",
    "\n",
    "print('p-значение:', results.pvalue)\n",
    "\n",
    "if results.pvalue < alpha:\n",
    "    print('Отвергаем нулевую гипотезу')\n",
    "else:\n",
    "    print('Не получилось отвергнуть нулевую гипотезу') "
   ]
  },
  {
   "cell_type": "code",
   "execution_count": 46,
   "id": "a4d9b2af",
   "metadata": {},
   "outputs": [
    {
     "name": "stdout",
     "output_type": "stream",
     "text": [
      "361.48180013236265\n"
     ]
    },
    {
     "data": {
      "text/plain": [
       "325.84289496910856"
      ]
     },
     "execution_count": 46,
     "metadata": {},
     "output_type": "execute_result"
    }
   ],
   "source": [
    "print(ultra_revenue.mean())\n",
    "free_revenue.mean()"
   ]
  },
  {
   "cell_type": "markdown",
   "id": "3e5f9a0d",
   "metadata": {
    "id": "5766e785"
   },
   "source": [
    "<div class=\"alert alert-block alert-danger\">\n",
    "<b>❌Комментарий ревьюера: ✔</b> \n",
    "    \n",
    "При проверке гипотезы выборки передаются не в том порядке.\n",
    "\n",
    "alternative='greater' указывается для выборки, идущей первым аргументом относительно выборки, идущей вторым аргументом.\n",
    "\n",
    "По формулировке альтернативной гипотезы, выручка пользователей с подпиской выше выручки пользователей без подписки (отсутствие формулировок тоже приводит к ошибкам). Следовательно, выборка с выручками пользователей с подпиской должна идти первой в ttest_ind\n",
    "\n",
    "Подобные ньюансы всегда стоит уточнять в [документации](https://docs.scipy.org/doc/scipy/reference/generated/scipy.stats.ttest_1samp.html)\n",
    "\n",
    "\n",
    "P.S. И помним, что p-значение не должно быть равно единице</div>"
   ]
  },
  {
   "cell_type": "markdown",
   "id": "9c1b23bb",
   "metadata": {},
   "source": [
    "<div class=\"alert alert-block alert-success\">\n",
    "<b>✅Комментарий ревьюера 2:</b> Отлично, исправлено!👍  </div>"
   ]
  },
  {
   "cell_type": "markdown",
   "id": "2007adac",
   "metadata": {},
   "source": [
    "<div class=\"alert alert-info\">\n",
    "<font size=\"3\", color = \"black\">✍  Отвергаем нулевую гипотезу, похоже на то, что помесячная выручка от пользователей с подпиской по месяцам выше, чем выручка от пользователей без подписки. </font>\n",
    "    <br /> \n",
    "    <font size=\"3\", color = \"black\">\n",
    "<br />"
   ]
  },
  {
   "cell_type": "markdown",
   "id": "885f358c",
   "metadata": {},
   "source": [
    "##### Представьте такую ситуацию: техническая команда сервиса обновила сервера, с которыми взаимодействует мобильное приложение. Она надеется, что из-за этого количество обращений в техподдержку значимо снизилось. Некоторый файл содержит для каждого пользователя данные о количестве обращений до обновления и после него. Какой тест вам понадобился бы для проверки этой гипотезы?"
   ]
  },
  {
   "cell_type": "markdown",
   "id": "8fc5d07c",
   "metadata": {},
   "source": [
    "<div class=\"alert alert-info\">\n",
    "<font size=\"3\", color = \"black\">✍ Гипотезу о равенстве средних для зависимых (парных) выборок следует проверять методом scipy.stats.ttest_rel() \n",
    "    <br /> \n",
    "    Ему достаточно передать всего два параметра: наборы данных до обновления и после него.\n",
    "    </font> <font size=\"3\", color = \"black\">\n",
    "<br />"
   ]
  },
  {
   "cell_type": "markdown",
   "id": "db4a441d",
   "metadata": {},
   "source": [
    "<div class=\"alert alert-block alert-success\">\n",
    "<b>✅Комментарий ревьюера:</b> Абсолютно верно </div>"
   ]
  },
  {
   "cell_type": "markdown",
   "id": "2ae13c6a",
   "metadata": {},
   "source": [
    "#### Шаг 7. Распределения"
   ]
  },
  {
   "cell_type": "markdown",
   "id": "2daaaea3",
   "metadata": {},
   "source": [
    "<div class=\"alert alert-info\">\n",
    "<font size=\"3\", color = \"black\">Необязательное задание решил пока не затрагивать. </font>\n",
    "    <br /> \n",
    "    <font size=\"3\", color = \"black\">\n",
    "<br />"
   ]
  },
  {
   "cell_type": "markdown",
   "id": "7ed21749",
   "metadata": {},
   "source": [
    "#### Итоговый вывод\n",
    "<div class=\"alert alert-info\">\n",
    "<font size=\"3\", color = \"black\"> \n",
    "    \n",
    "<b> ✍Были выполнены следующие шаги:</b>\n",
    "    \n",
    "Шаг 1. Импортированы библиотеки, загружены 3 датафрейма и изучена информация по каждому из них: пропущенных значений нет, в rides имеется некорректный тип данных для столбца date. \n",
    "    <br /> <br /> \n",
    "Шаг 2. Обработаны данные: приведен столбец date к нужному типу, создан столбец с номером месяца на основе столбца date. Были проверены данные на наличие дубликатов, которые обнаружились в датафрейме users, откуда были удалены. \n",
    "    <br /> <br /> \n",
    "Шаг 3. Проанализированы следующие данные: возраст пользователей, расстояние и длительность их поездок. После изучения данных удалось выяснить самый популярный город у данного сервиса и посчитать соотношение пользователей с подпиской и без. По данным были построены информативные визуализации.<br />  Был выведен среднестатистический пользователь сервисом — 25-летний житель Пятигорска, не имеющий подписки.<br />  <br />\n",
    "    \n",
    "Шаг 4. Объединены датафреймы в один общий df, созданы на его основе новые ultra и free и рассчитаны по новым расстояние и время поездок и построены графики по этим данным. Было обнаружено, что распределение длительности поездок у пользователей с подпиской и без почти не отличается, однако редкие длительные поездки больше 35 минут встречаются именно среди пользователей с подпиской.  \n",
    "    <br /> <br /> \n",
    "Шаг 5. Создан датафрейм df3 с агрегированными данными за каждый месяц и посчитана помесячная выручка для каждого пользователя. Эти данные были получены для дальнейшего использования при проверке гипотез в следующем шаге.\n",
    "    <br /> <br /> \n",
    "Шаг 6. Проверены 3 гипотезы, 2 из них пришлось отвергнуть. Сделаны выводы по каждой из них. Похоже на то, что пользователи с подпиской тратят больше времени на поездки, чем пользователи без подписки, и что помесячная выручка от пользователей с подпиской по месяцам выше, чем выручка от пользователей без подписки. Также сделали вывод о том, что в среднем расстояние, которое проезжают пользователи с подпиской за одну поездку, не превышает 3130 метров.\n",
    "    <br /> <br /> \n",
    "Шаг 7. Сформирован заключительный вывод по всей проделанной работе. <br /> <br /> \n",
    "    \n",
    "<b> При работе с данным проектом я научился и повторил каким образом: <br /> </b>\n",
    "    \n",
    "+ Читать тех. задание проекта\n",
    "+ Строить информативные визуализации\n",
    "+ Формировать выводы\n",
    "+ Заниматься предобработкой данных\n",
    "+ Объединять столбцы и датафреймы\n",
    "+ Создавать датафреймы\n",
    "+ Формулировать нулевые и альтернативные гипотезы\n",
    "+ Проверять нулевые и альтернативные гипотезы\n",
    "+ Подбирать метод тестирования для каждой гипотезы\n",
    "\n",
    "В ходе проекта были закреплены знания о методах статистического анализа данных. После изучения данных удалось выяснить самый популярный город у данного сервиса, соотношение пользователей с подпиской и без, распределение возраста среди них, расстояния и длительности поездки. Проверили несколько гипотез и отвергли некоторые из них. <br /> <br />\n",
    "    </font>\n",
    "    <br /> "
   ]
  },
  {
   "cell_type": "markdown",
   "id": "9e0d9d4e",
   "metadata": {},
   "source": [
    "<div class=\"alert alert-block alert-danger\">\n",
    "<b>❌Комментарий ревьюера 2: ✔ </b> \n",
    "    \n",
    "Вывод должнен быть написан непосредственно по проекту. То есть нужно описать пункты, какие действия были в них выполнены и какие результаты получены.</div>"
   ]
  },
  {
   "cell_type": "markdown",
   "id": "f3786334",
   "metadata": {},
   "source": [
    "<div class=\"alert alert-block alert-success\">\n",
    "<b>✅Комментарий ревьюера 3:</b> Отлично, исправлено!👍  </div>"
   ]
  },
  {
   "cell_type": "markdown",
   "id": "3a58d20c",
   "metadata": {},
   "source": [
    "<div class=\"alert alert-block alert-danger\">\n",
    "<b>❌Комментарий ревьюера: ✔</b> \n",
    "    \n",
    "Итоговый вывод должен быть немного подробнее и содержать краткую информацию о том, какая работа была проделана и какие результаты получены по всем пунктам исследования.\n",
    "    \n",
    "Человек, заинтересовавшийся твоим проектом, может сразу перейти к выводу, чтобы понять нужно ли ему углубляться в изучение исследования или нет.\n",
    "\n",
    "\n",
    "**Хочу обратить твое внимание на то, что после исправления замечаний в некоторых пунктах исследования могут измениться результаты, поэтому нужно будет подкорректировать выводы.**</div>"
   ]
  },
  {
   "cell_type": "code",
   "execution_count": null,
   "id": "64f5fb94",
   "metadata": {},
   "outputs": [],
   "source": []
  }
 ],
 "metadata": {
  "ExecuteTimeLog": [
   {
    "duration": 1238,
    "start_time": "2023-05-27T09:19:00.092Z"
   },
   {
    "duration": 239,
    "start_time": "2023-05-27T09:19:02.202Z"
   },
   {
    "duration": 12,
    "start_time": "2023-05-27T09:19:06.585Z"
   },
   {
    "duration": 14,
    "start_time": "2023-05-27T09:20:12.384Z"
   },
   {
    "duration": 8,
    "start_time": "2023-05-27T09:20:44.396Z"
   },
   {
    "duration": 17,
    "start_time": "2023-05-27T09:21:18.425Z"
   },
   {
    "duration": 7,
    "start_time": "2023-05-27T09:21:38.498Z"
   },
   {
    "duration": 12,
    "start_time": "2023-05-27T09:22:22.454Z"
   },
   {
    "duration": 10,
    "start_time": "2023-05-27T09:22:32.989Z"
   },
   {
    "duration": 15,
    "start_time": "2023-05-27T09:23:07.116Z"
   },
   {
    "duration": 9,
    "start_time": "2023-05-27T09:23:09.288Z"
   },
   {
    "duration": 9,
    "start_time": "2023-05-27T09:28:35.149Z"
   },
   {
    "duration": 10,
    "start_time": "2023-05-27T09:28:44.941Z"
   },
   {
    "duration": 8,
    "start_time": "2023-05-27T09:28:52.345Z"
   },
   {
    "duration": 5,
    "start_time": "2023-05-27T09:30:12.896Z"
   },
   {
    "duration": 11,
    "start_time": "2023-05-27T09:30:20.246Z"
   },
   {
    "duration": 9,
    "start_time": "2023-05-27T09:30:22.500Z"
   },
   {
    "duration": 49,
    "start_time": "2023-05-27T09:34:29.684Z"
   },
   {
    "duration": 3,
    "start_time": "2023-05-27T09:35:29.930Z"
   },
   {
    "duration": 172,
    "start_time": "2023-05-27T09:35:57.409Z"
   },
   {
    "duration": 180,
    "start_time": "2023-05-27T09:36:10.788Z"
   },
   {
    "duration": 154,
    "start_time": "2023-05-27T09:36:17.833Z"
   },
   {
    "duration": 102,
    "start_time": "2023-05-27T09:37:06.997Z"
   },
   {
    "duration": 155,
    "start_time": "2023-05-27T09:37:21.925Z"
   },
   {
    "duration": 6,
    "start_time": "2023-05-27T09:40:37.016Z"
   },
   {
    "duration": 8,
    "start_time": "2023-05-27T09:40:50.192Z"
   },
   {
    "duration": 5,
    "start_time": "2023-05-27T09:40:57.696Z"
   },
   {
    "duration": 6,
    "start_time": "2023-05-27T09:44:20.026Z"
   },
   {
    "duration": 6,
    "start_time": "2023-05-27T09:44:21.208Z"
   },
   {
    "duration": 5,
    "start_time": "2023-05-27T09:45:07.192Z"
   },
   {
    "duration": 7,
    "start_time": "2023-05-27T09:45:24.016Z"
   },
   {
    "duration": 153,
    "start_time": "2023-05-27T10:09:53.702Z"
   },
   {
    "duration": 166,
    "start_time": "2023-05-27T10:10:03.112Z"
   },
   {
    "duration": 153,
    "start_time": "2023-05-27T10:10:19.384Z"
   },
   {
    "duration": 132,
    "start_time": "2023-05-27T10:16:47.222Z"
   },
   {
    "duration": 130,
    "start_time": "2023-05-27T10:16:53.595Z"
   },
   {
    "duration": 113,
    "start_time": "2023-05-27T10:16:57.438Z"
   },
   {
    "duration": 208,
    "start_time": "2023-05-27T10:17:43.850Z"
   },
   {
    "duration": 130,
    "start_time": "2023-05-27T10:17:50.496Z"
   },
   {
    "duration": 108,
    "start_time": "2023-05-27T10:17:56.927Z"
   },
   {
    "duration": 112,
    "start_time": "2023-05-27T10:18:01.451Z"
   },
   {
    "duration": 150,
    "start_time": "2023-05-27T10:21:30.338Z"
   },
   {
    "duration": 245,
    "start_time": "2023-05-27T10:21:44.188Z"
   },
   {
    "duration": 147,
    "start_time": "2023-05-27T10:22:18.134Z"
   },
   {
    "duration": 157,
    "start_time": "2023-05-27T10:23:10.999Z"
   },
   {
    "duration": 172,
    "start_time": "2023-05-27T10:23:28.995Z"
   },
   {
    "duration": 137,
    "start_time": "2023-05-27T10:24:01.603Z"
   },
   {
    "duration": 174,
    "start_time": "2023-05-27T10:24:06.146Z"
   },
   {
    "duration": 161,
    "start_time": "2023-05-27T10:24:58.995Z"
   },
   {
    "duration": 171,
    "start_time": "2023-05-27T10:26:11.217Z"
   },
   {
    "duration": 188,
    "start_time": "2023-05-27T10:26:24.435Z"
   },
   {
    "duration": 155,
    "start_time": "2023-05-27T10:26:31.904Z"
   },
   {
    "duration": 159,
    "start_time": "2023-05-27T10:26:39.891Z"
   },
   {
    "duration": 173,
    "start_time": "2023-05-27T10:26:43.204Z"
   },
   {
    "duration": 146,
    "start_time": "2023-05-27T10:27:27.634Z"
   },
   {
    "duration": 172,
    "start_time": "2023-05-27T10:27:39.596Z"
   },
   {
    "duration": 162,
    "start_time": "2023-05-27T10:27:55.008Z"
   },
   {
    "duration": 192,
    "start_time": "2023-05-27T10:28:06.129Z"
   },
   {
    "duration": 204,
    "start_time": "2023-05-27T10:28:14.803Z"
   },
   {
    "duration": 128,
    "start_time": "2023-05-27T10:28:20.440Z"
   },
   {
    "duration": 159,
    "start_time": "2023-05-27T10:28:25.220Z"
   },
   {
    "duration": 165,
    "start_time": "2023-05-27T10:28:29.000Z"
   },
   {
    "duration": 161,
    "start_time": "2023-05-27T10:28:33.479Z"
   },
   {
    "duration": 53,
    "start_time": "2023-05-27T10:29:36.208Z"
   },
   {
    "duration": 44,
    "start_time": "2023-05-27T10:29:38.298Z"
   },
   {
    "duration": 192,
    "start_time": "2023-05-27T10:33:40.808Z"
   },
   {
    "duration": 189,
    "start_time": "2023-05-27T10:33:49.504Z"
   },
   {
    "duration": 177,
    "start_time": "2023-05-27T10:33:55.224Z"
   },
   {
    "duration": 178,
    "start_time": "2023-05-27T10:34:01.093Z"
   },
   {
    "duration": 173,
    "start_time": "2023-05-27T10:34:29.582Z"
   },
   {
    "duration": 39,
    "start_time": "2023-05-27T10:34:48.898Z"
   },
   {
    "duration": 177,
    "start_time": "2023-05-27T10:34:58.748Z"
   },
   {
    "duration": 263,
    "start_time": "2023-05-27T10:35:03.986Z"
   },
   {
    "duration": 174,
    "start_time": "2023-05-27T10:35:08.170Z"
   },
   {
    "duration": 172,
    "start_time": "2023-05-27T10:35:11.227Z"
   },
   {
    "duration": 171,
    "start_time": "2023-05-27T10:35:14.343Z"
   },
   {
    "duration": 23,
    "start_time": "2023-05-27T10:39:53.282Z"
   },
   {
    "duration": 21,
    "start_time": "2023-05-27T10:40:12.390Z"
   },
   {
    "duration": 15,
    "start_time": "2023-05-27T10:40:28.227Z"
   },
   {
    "duration": 53,
    "start_time": "2023-05-27T10:41:29.606Z"
   },
   {
    "duration": 47,
    "start_time": "2023-05-27T10:42:03.121Z"
   },
   {
    "duration": 40,
    "start_time": "2023-05-27T10:42:21.098Z"
   },
   {
    "duration": 50,
    "start_time": "2023-05-27T10:42:44.840Z"
   },
   {
    "duration": 98,
    "start_time": "2023-05-27T10:43:22.918Z"
   },
   {
    "duration": 16,
    "start_time": "2023-05-27T10:43:37.806Z"
   },
   {
    "duration": 44,
    "start_time": "2023-05-27T10:43:40.782Z"
   },
   {
    "duration": 50,
    "start_time": "2023-05-27T10:43:52.122Z"
   },
   {
    "duration": 18,
    "start_time": "2023-05-27T10:44:05.605Z"
   },
   {
    "duration": 7,
    "start_time": "2023-05-27T10:51:23.018Z"
   },
   {
    "duration": 14,
    "start_time": "2023-05-27T10:51:35.814Z"
   },
   {
    "duration": 14,
    "start_time": "2023-05-27T10:52:08.847Z"
   },
   {
    "duration": 163,
    "start_time": "2023-05-27T11:16:03.397Z"
   },
   {
    "duration": 181,
    "start_time": "2023-05-27T11:16:08.097Z"
   },
   {
    "duration": 175,
    "start_time": "2023-05-27T11:16:19.695Z"
   },
   {
    "duration": 172,
    "start_time": "2023-05-27T11:16:24.023Z"
   },
   {
    "duration": 170,
    "start_time": "2023-05-27T11:16:32.222Z"
   },
   {
    "duration": 188,
    "start_time": "2023-05-27T11:16:54.481Z"
   },
   {
    "duration": 162,
    "start_time": "2023-05-27T11:17:07.095Z"
   },
   {
    "duration": 22,
    "start_time": "2023-05-27T11:39:25.512Z"
   },
   {
    "duration": 14,
    "start_time": "2023-05-27T11:39:40.698Z"
   },
   {
    "duration": 51,
    "start_time": "2023-05-27T11:41:08.613Z"
   },
   {
    "duration": 28,
    "start_time": "2023-05-27T11:41:20.050Z"
   },
   {
    "duration": 138,
    "start_time": "2023-05-27T11:42:08.006Z"
   },
   {
    "duration": 213,
    "start_time": "2023-05-27T11:43:32.807Z"
   },
   {
    "duration": 206,
    "start_time": "2023-05-27T11:43:44.257Z"
   },
   {
    "duration": 30,
    "start_time": "2023-05-27T11:43:48.416Z"
   },
   {
    "duration": 207,
    "start_time": "2023-05-27T11:44:03.316Z"
   },
   {
    "duration": 28,
    "start_time": "2023-05-27T11:44:12.787Z"
   },
   {
    "duration": 30,
    "start_time": "2023-05-27T11:44:20.162Z"
   },
   {
    "duration": 31,
    "start_time": "2023-05-27T11:45:28.495Z"
   },
   {
    "duration": 29,
    "start_time": "2023-05-27T11:45:32.402Z"
   },
   {
    "duration": 28,
    "start_time": "2023-05-27T11:45:57.091Z"
   },
   {
    "duration": 30,
    "start_time": "2023-05-27T11:47:20.924Z"
   },
   {
    "duration": 27,
    "start_time": "2023-05-27T11:48:37.010Z"
   },
   {
    "duration": 186,
    "start_time": "2023-05-27T11:48:48.517Z"
   },
   {
    "duration": 30,
    "start_time": "2023-05-27T11:49:10.083Z"
   },
   {
    "duration": 33,
    "start_time": "2023-05-27T11:49:14.752Z"
   },
   {
    "duration": 46,
    "start_time": "2023-05-27T11:51:07.904Z"
   },
   {
    "duration": 30,
    "start_time": "2023-05-27T11:52:12.916Z"
   },
   {
    "duration": 23,
    "start_time": "2023-05-27T12:01:45.812Z"
   },
   {
    "duration": 55,
    "start_time": "2023-05-27T12:03:02.746Z"
   },
   {
    "duration": 713,
    "start_time": "2023-05-27T12:08:13.182Z"
   },
   {
    "duration": 916,
    "start_time": "2023-05-27T12:08:25.314Z"
   },
   {
    "duration": 782,
    "start_time": "2023-05-27T12:09:12.133Z"
   },
   {
    "duration": 11,
    "start_time": "2023-05-27T12:10:10.576Z"
   },
   {
    "duration": 4,
    "start_time": "2023-05-27T12:10:56.894Z"
   },
   {
    "duration": 294,
    "start_time": "2023-05-27T12:12:10.947Z"
   },
   {
    "duration": 28,
    "start_time": "2023-05-27T12:12:19.778Z"
   },
   {
    "duration": 8,
    "start_time": "2023-05-27T12:15:30.017Z"
   },
   {
    "duration": 17,
    "start_time": "2023-05-27T12:16:29.239Z"
   },
   {
    "duration": 21,
    "start_time": "2023-05-27T12:16:56.694Z"
   },
   {
    "duration": 24,
    "start_time": "2023-05-27T12:17:05.508Z"
   },
   {
    "duration": 17,
    "start_time": "2023-05-27T12:18:42.149Z"
   },
   {
    "duration": 14,
    "start_time": "2023-05-27T12:19:16.051Z"
   },
   {
    "duration": 17,
    "start_time": "2023-05-27T12:19:18.434Z"
   },
   {
    "duration": 18,
    "start_time": "2023-05-27T12:19:19.951Z"
   },
   {
    "duration": 18,
    "start_time": "2023-05-27T12:19:38.806Z"
   },
   {
    "duration": 12,
    "start_time": "2023-05-27T12:21:11.058Z"
   },
   {
    "duration": 21,
    "start_time": "2023-05-27T12:21:22.524Z"
   },
   {
    "duration": 11,
    "start_time": "2023-05-27T12:21:40.632Z"
   },
   {
    "duration": 12,
    "start_time": "2023-05-27T12:21:51.702Z"
   },
   {
    "duration": 20,
    "start_time": "2023-05-27T12:23:24.680Z"
   },
   {
    "duration": 16,
    "start_time": "2023-05-27T12:23:39.417Z"
   },
   {
    "duration": 11,
    "start_time": "2023-05-27T12:23:47.231Z"
   },
   {
    "duration": 5,
    "start_time": "2023-05-27T12:48:52.120Z"
   },
   {
    "duration": 10,
    "start_time": "2023-05-27T12:50:08.398Z"
   },
   {
    "duration": 5,
    "start_time": "2023-05-27T12:50:20.725Z"
   },
   {
    "duration": 4,
    "start_time": "2023-05-27T12:51:19.522Z"
   },
   {
    "duration": 6,
    "start_time": "2023-05-27T13:01:53.991Z"
   },
   {
    "duration": 5,
    "start_time": "2023-05-27T13:08:44.229Z"
   },
   {
    "duration": 5,
    "start_time": "2023-05-27T13:13:17.595Z"
   },
   {
    "duration": 48,
    "start_time": "2023-05-27T13:24:27.827Z"
   },
   {
    "duration": 49,
    "start_time": "2023-05-27T13:27:23.599Z"
   },
   {
    "duration": 61,
    "start_time": "2023-05-27T13:33:39.218Z"
   },
   {
    "duration": 1169,
    "start_time": "2023-05-27T15:06:51.095Z"
   },
   {
    "duration": 240,
    "start_time": "2023-05-27T15:06:52.266Z"
   },
   {
    "duration": 12,
    "start_time": "2023-05-27T15:06:52.508Z"
   },
   {
    "duration": 15,
    "start_time": "2023-05-27T15:06:52.522Z"
   },
   {
    "duration": 9,
    "start_time": "2023-05-27T15:06:52.539Z"
   },
   {
    "duration": 9,
    "start_time": "2023-05-27T15:06:52.550Z"
   },
   {
    "duration": 17,
    "start_time": "2023-05-27T15:06:52.561Z"
   },
   {
    "duration": 9,
    "start_time": "2023-05-27T15:06:52.580Z"
   },
   {
    "duration": 6,
    "start_time": "2023-05-27T15:06:52.591Z"
   },
   {
    "duration": 16,
    "start_time": "2023-05-27T15:06:52.599Z"
   },
   {
    "duration": 9,
    "start_time": "2023-05-27T15:06:52.617Z"
   },
   {
    "duration": 11,
    "start_time": "2023-05-27T15:06:52.628Z"
   },
   {
    "duration": 14,
    "start_time": "2023-05-27T15:06:52.640Z"
   },
   {
    "duration": 20,
    "start_time": "2023-05-27T15:06:52.656Z"
   },
   {
    "duration": 166,
    "start_time": "2023-05-27T15:06:52.678Z"
   },
   {
    "duration": 162,
    "start_time": "2023-05-27T15:06:52.846Z"
   },
   {
    "duration": 151,
    "start_time": "2023-05-27T15:06:53.010Z"
   },
   {
    "duration": 15,
    "start_time": "2023-05-27T15:06:53.162Z"
   },
   {
    "duration": 7,
    "start_time": "2023-05-27T15:06:53.178Z"
   },
   {
    "duration": 7,
    "start_time": "2023-05-27T15:06:53.186Z"
   },
   {
    "duration": 161,
    "start_time": "2023-05-27T15:06:53.194Z"
   },
   {
    "duration": 119,
    "start_time": "2023-05-27T15:06:53.357Z"
   },
   {
    "duration": 164,
    "start_time": "2023-05-27T15:06:53.478Z"
   },
   {
    "duration": 184,
    "start_time": "2023-05-27T15:06:53.644Z"
   },
   {
    "duration": 190,
    "start_time": "2023-05-27T15:06:53.829Z"
   },
   {
    "duration": 16,
    "start_time": "2023-05-27T15:06:54.021Z"
   },
   {
    "duration": 16,
    "start_time": "2023-05-27T15:06:54.038Z"
   },
   {
    "duration": 32,
    "start_time": "2023-05-27T15:06:54.057Z"
   },
   {
    "duration": 12,
    "start_time": "2023-05-27T15:06:54.091Z"
   },
   {
    "duration": 181,
    "start_time": "2023-05-27T15:06:54.105Z"
   },
   {
    "duration": 196,
    "start_time": "2023-05-27T15:06:54.287Z"
   },
   {
    "duration": 228,
    "start_time": "2023-05-27T15:06:54.485Z"
   },
   {
    "duration": 178,
    "start_time": "2023-05-27T15:06:54.715Z"
   },
   {
    "duration": 30,
    "start_time": "2023-05-27T15:06:54.895Z"
   },
   {
    "duration": 26,
    "start_time": "2023-05-27T15:06:54.926Z"
   },
   {
    "duration": 47,
    "start_time": "2023-05-27T15:06:54.953Z"
   },
   {
    "duration": 16,
    "start_time": "2023-05-27T15:06:55.002Z"
   },
   {
    "duration": 15,
    "start_time": "2023-05-27T15:06:55.020Z"
   },
   {
    "duration": 12,
    "start_time": "2023-05-27T15:06:55.036Z"
   },
   {
    "duration": 30,
    "start_time": "2023-05-27T15:06:55.050Z"
   },
   {
    "duration": 7,
    "start_time": "2023-05-27T15:06:55.081Z"
   },
   {
    "duration": 10,
    "start_time": "2023-05-27T15:06:55.089Z"
   },
   {
    "duration": 18,
    "start_time": "2023-05-27T15:15:53.329Z"
   },
   {
    "duration": 5,
    "start_time": "2023-05-27T15:19:17.799Z"
   },
   {
    "duration": 4,
    "start_time": "2023-05-27T15:19:30.604Z"
   },
   {
    "duration": 16,
    "start_time": "2023-05-27T15:21:21.816Z"
   },
   {
    "duration": 5,
    "start_time": "2023-05-27T15:21:57.584Z"
   },
   {
    "duration": 19,
    "start_time": "2023-05-27T15:24:46.820Z"
   },
   {
    "duration": 1002,
    "start_time": "2023-05-27T15:29:25.941Z"
   },
   {
    "duration": 119,
    "start_time": "2023-05-27T15:29:26.946Z"
   },
   {
    "duration": 11,
    "start_time": "2023-05-27T15:29:27.067Z"
   },
   {
    "duration": 14,
    "start_time": "2023-05-27T15:29:27.080Z"
   },
   {
    "duration": 12,
    "start_time": "2023-05-27T15:29:27.096Z"
   },
   {
    "duration": 10,
    "start_time": "2023-05-27T15:29:27.109Z"
   },
   {
    "duration": 20,
    "start_time": "2023-05-27T15:29:27.120Z"
   },
   {
    "duration": 10,
    "start_time": "2023-05-27T15:29:27.141Z"
   },
   {
    "duration": 27,
    "start_time": "2023-05-27T15:29:27.152Z"
   },
   {
    "duration": 37,
    "start_time": "2023-05-27T15:29:27.181Z"
   },
   {
    "duration": 16,
    "start_time": "2023-05-27T15:29:27.220Z"
   },
   {
    "duration": 31,
    "start_time": "2023-05-27T15:29:27.238Z"
   },
   {
    "duration": 12,
    "start_time": "2023-05-27T15:29:27.271Z"
   },
   {
    "duration": 20,
    "start_time": "2023-05-27T15:29:27.285Z"
   },
   {
    "duration": 186,
    "start_time": "2023-05-27T15:29:27.307Z"
   },
   {
    "duration": 152,
    "start_time": "2023-05-27T15:29:27.494Z"
   },
   {
    "duration": 172,
    "start_time": "2023-05-27T15:29:27.647Z"
   },
   {
    "duration": 6,
    "start_time": "2023-05-27T15:29:27.821Z"
   },
   {
    "duration": 20,
    "start_time": "2023-05-27T15:29:27.829Z"
   },
   {
    "duration": 11,
    "start_time": "2023-05-27T15:29:27.851Z"
   },
   {
    "duration": 165,
    "start_time": "2023-05-27T15:29:27.864Z"
   },
   {
    "duration": 137,
    "start_time": "2023-05-27T15:29:28.031Z"
   },
   {
    "duration": 176,
    "start_time": "2023-05-27T15:29:28.170Z"
   },
   {
    "duration": 197,
    "start_time": "2023-05-27T15:29:28.348Z"
   },
   {
    "duration": 197,
    "start_time": "2023-05-27T15:29:28.547Z"
   },
   {
    "duration": 18,
    "start_time": "2023-05-27T15:29:28.746Z"
   },
   {
    "duration": 19,
    "start_time": "2023-05-27T15:29:28.777Z"
   },
   {
    "duration": 17,
    "start_time": "2023-05-27T15:29:28.797Z"
   },
   {
    "duration": 13,
    "start_time": "2023-05-27T15:29:28.816Z"
   },
   {
    "duration": 204,
    "start_time": "2023-05-27T15:29:28.831Z"
   },
   {
    "duration": 194,
    "start_time": "2023-05-27T15:29:29.037Z"
   },
   {
    "duration": 239,
    "start_time": "2023-05-27T15:29:29.233Z"
   },
   {
    "duration": 188,
    "start_time": "2023-05-27T15:29:29.473Z"
   },
   {
    "duration": 37,
    "start_time": "2023-05-27T15:29:29.662Z"
   },
   {
    "duration": 30,
    "start_time": "2023-05-27T15:29:29.701Z"
   },
   {
    "duration": 48,
    "start_time": "2023-05-27T15:29:29.733Z"
   },
   {
    "duration": 18,
    "start_time": "2023-05-27T15:29:29.783Z"
   },
   {
    "duration": 17,
    "start_time": "2023-05-27T15:29:29.803Z"
   },
   {
    "duration": 12,
    "start_time": "2023-05-27T15:29:29.821Z"
   },
   {
    "duration": 6,
    "start_time": "2023-05-27T15:29:29.834Z"
   },
   {
    "duration": 6,
    "start_time": "2023-05-27T15:29:29.879Z"
   },
   {
    "duration": 10,
    "start_time": "2023-05-27T15:29:29.886Z"
   },
   {
    "duration": 95,
    "start_time": "2023-05-27T18:04:12.526Z"
   },
   {
    "duration": 44,
    "start_time": "2023-05-27T18:12:33.392Z"
   },
   {
    "duration": 1380,
    "start_time": "2023-05-27T18:13:47.396Z"
   },
   {
    "duration": 500,
    "start_time": "2023-05-27T18:13:48.779Z"
   },
   {
    "duration": 15,
    "start_time": "2023-05-27T18:13:49.287Z"
   },
   {
    "duration": 17,
    "start_time": "2023-05-27T18:13:49.304Z"
   },
   {
    "duration": 12,
    "start_time": "2023-05-27T18:13:49.323Z"
   },
   {
    "duration": 22,
    "start_time": "2023-05-27T18:13:49.337Z"
   },
   {
    "duration": 31,
    "start_time": "2023-05-27T18:13:49.362Z"
   },
   {
    "duration": 12,
    "start_time": "2023-05-27T18:13:49.395Z"
   },
   {
    "duration": 7,
    "start_time": "2023-05-27T18:13:49.409Z"
   },
   {
    "duration": 17,
    "start_time": "2023-05-27T18:13:49.418Z"
   },
   {
    "duration": 15,
    "start_time": "2023-05-27T18:13:49.459Z"
   },
   {
    "duration": 11,
    "start_time": "2023-05-27T18:13:49.476Z"
   },
   {
    "duration": 7,
    "start_time": "2023-05-27T18:13:49.491Z"
   },
   {
    "duration": 4,
    "start_time": "2023-05-27T18:13:49.503Z"
   },
   {
    "duration": 214,
    "start_time": "2023-05-27T18:13:49.508Z"
   },
   {
    "duration": 210,
    "start_time": "2023-05-27T18:13:49.724Z"
   },
   {
    "duration": 196,
    "start_time": "2023-05-27T18:13:49.936Z"
   },
   {
    "duration": 8,
    "start_time": "2023-05-27T18:13:50.134Z"
   },
   {
    "duration": 33,
    "start_time": "2023-05-27T18:13:50.157Z"
   },
   {
    "duration": 9,
    "start_time": "2023-05-27T18:13:50.196Z"
   },
   {
    "duration": 206,
    "start_time": "2023-05-27T18:13:50.207Z"
   },
   {
    "duration": 140,
    "start_time": "2023-05-27T18:13:50.414Z"
   },
   {
    "duration": 191,
    "start_time": "2023-05-27T18:13:50.556Z"
   },
   {
    "duration": 211,
    "start_time": "2023-05-27T18:13:50.749Z"
   },
   {
    "duration": 426,
    "start_time": "2023-05-27T18:13:50.967Z"
   },
   {
    "duration": 93,
    "start_time": "2023-05-27T18:13:51.395Z"
   },
   {
    "duration": 82,
    "start_time": "2023-05-27T18:13:51.490Z"
   },
   {
    "duration": 30,
    "start_time": "2023-05-27T18:13:51.574Z"
   },
   {
    "duration": 86,
    "start_time": "2023-05-27T18:13:51.606Z"
   },
   {
    "duration": 487,
    "start_time": "2023-05-27T18:13:51.694Z"
   },
   {
    "duration": 593,
    "start_time": "2023-05-27T18:13:52.183Z"
   },
   {
    "duration": 632,
    "start_time": "2023-05-27T18:13:52.778Z"
   },
   {
    "duration": 251,
    "start_time": "2023-05-27T18:13:53.412Z"
   },
   {
    "duration": 39,
    "start_time": "2023-05-27T18:13:53.665Z"
   },
   {
    "duration": 29,
    "start_time": "2023-05-27T18:13:53.706Z"
   },
   {
    "duration": 62,
    "start_time": "2023-05-27T18:13:53.736Z"
   },
   {
    "duration": 17,
    "start_time": "2023-05-27T18:13:53.799Z"
   },
   {
    "duration": 15,
    "start_time": "2023-05-27T18:13:53.818Z"
   },
   {
    "duration": 26,
    "start_time": "2023-05-27T18:13:53.835Z"
   },
   {
    "duration": 10,
    "start_time": "2023-05-27T18:13:53.867Z"
   },
   {
    "duration": 14,
    "start_time": "2023-05-27T18:13:53.884Z"
   },
   {
    "duration": 6,
    "start_time": "2023-05-27T18:13:53.900Z"
   },
   {
    "duration": 279,
    "start_time": "2023-05-27T18:17:17.322Z"
   },
   {
    "duration": 196,
    "start_time": "2023-05-27T18:17:48.517Z"
   },
   {
    "duration": 199,
    "start_time": "2023-05-27T18:18:13.042Z"
   },
   {
    "duration": 206,
    "start_time": "2023-05-27T18:18:30.097Z"
   },
   {
    "duration": 214,
    "start_time": "2023-05-27T18:18:49.512Z"
   },
   {
    "duration": 247,
    "start_time": "2023-05-27T18:18:53.884Z"
   },
   {
    "duration": 197,
    "start_time": "2023-05-27T18:20:26.688Z"
   },
   {
    "duration": 14,
    "start_time": "2023-05-27T18:21:02.004Z"
   },
   {
    "duration": 233,
    "start_time": "2023-05-27T18:21:09.746Z"
   },
   {
    "duration": 18,
    "start_time": "2023-05-27T18:21:59.878Z"
   },
   {
    "duration": 19,
    "start_time": "2023-05-27T18:22:28.675Z"
   },
   {
    "duration": 91,
    "start_time": "2023-05-27T18:22:36.019Z"
   },
   {
    "duration": 114,
    "start_time": "2023-05-27T18:22:52.049Z"
   },
   {
    "duration": 108,
    "start_time": "2023-05-27T18:22:56.075Z"
   },
   {
    "duration": 226,
    "start_time": "2023-05-27T18:23:03.374Z"
   },
   {
    "duration": 98,
    "start_time": "2023-05-27T18:23:40.144Z"
   },
   {
    "duration": 240,
    "start_time": "2023-05-27T18:25:09.945Z"
   },
   {
    "duration": 218,
    "start_time": "2023-05-27T18:25:17.293Z"
   },
   {
    "duration": 232,
    "start_time": "2023-05-27T18:25:26.985Z"
   },
   {
    "duration": 15,
    "start_time": "2023-05-27T18:25:46.694Z"
   },
   {
    "duration": 76,
    "start_time": "2023-05-27T18:36:45.938Z"
   },
   {
    "duration": 187,
    "start_time": "2023-05-27T18:37:44.323Z"
   },
   {
    "duration": 198,
    "start_time": "2023-05-27T18:39:14.284Z"
   },
   {
    "duration": 210,
    "start_time": "2023-05-27T18:40:06.522Z"
   },
   {
    "duration": 232,
    "start_time": "2023-05-27T18:40:15.107Z"
   },
   {
    "duration": 206,
    "start_time": "2023-05-27T18:40:34.522Z"
   },
   {
    "duration": 10,
    "start_time": "2023-05-27T18:40:42.670Z"
   },
   {
    "duration": 250,
    "start_time": "2023-05-27T18:40:48.727Z"
   },
   {
    "duration": 312,
    "start_time": "2023-05-27T18:40:53.700Z"
   },
   {
    "duration": 205,
    "start_time": "2023-05-27T18:44:44.832Z"
   },
   {
    "duration": 207,
    "start_time": "2023-05-27T18:44:47.387Z"
   },
   {
    "duration": 192,
    "start_time": "2023-05-27T18:44:51.808Z"
   },
   {
    "duration": 212,
    "start_time": "2023-05-27T18:45:22.760Z"
   },
   {
    "duration": 206,
    "start_time": "2023-05-27T18:45:58.422Z"
   },
   {
    "duration": 56,
    "start_time": "2023-05-28T08:52:29.593Z"
   },
   {
    "duration": 46,
    "start_time": "2023-05-28T08:52:39.192Z"
   },
   {
    "duration": 1214,
    "start_time": "2023-05-28T08:55:36.079Z"
   },
   {
    "duration": 219,
    "start_time": "2023-05-28T08:55:37.296Z"
   },
   {
    "duration": 13,
    "start_time": "2023-05-28T08:55:37.517Z"
   },
   {
    "duration": 15,
    "start_time": "2023-05-28T08:55:37.532Z"
   },
   {
    "duration": 13,
    "start_time": "2023-05-28T08:55:37.549Z"
   },
   {
    "duration": 10,
    "start_time": "2023-05-28T08:55:37.564Z"
   },
   {
    "duration": 54,
    "start_time": "2023-05-28T08:55:37.576Z"
   },
   {
    "duration": 10,
    "start_time": "2023-05-28T08:55:37.632Z"
   },
   {
    "duration": 12,
    "start_time": "2023-05-28T08:55:37.643Z"
   },
   {
    "duration": 19,
    "start_time": "2023-05-28T08:55:37.656Z"
   },
   {
    "duration": 10,
    "start_time": "2023-05-28T08:55:37.676Z"
   },
   {
    "duration": 30,
    "start_time": "2023-05-28T08:55:37.688Z"
   },
   {
    "duration": 3,
    "start_time": "2023-05-28T08:55:37.720Z"
   },
   {
    "duration": 10,
    "start_time": "2023-05-28T08:55:37.726Z"
   },
   {
    "duration": 175,
    "start_time": "2023-05-28T08:55:37.737Z"
   },
   {
    "duration": 169,
    "start_time": "2023-05-28T08:55:37.913Z"
   },
   {
    "duration": 171,
    "start_time": "2023-05-28T08:55:38.083Z"
   },
   {
    "duration": 6,
    "start_time": "2023-05-28T08:55:38.256Z"
   },
   {
    "duration": 8,
    "start_time": "2023-05-28T08:55:38.264Z"
   },
   {
    "duration": 7,
    "start_time": "2023-05-28T08:55:38.273Z"
   },
   {
    "duration": 201,
    "start_time": "2023-05-28T08:55:38.282Z"
   },
   {
    "duration": 89,
    "start_time": "2023-05-28T08:55:38.485Z"
   },
   {
    "duration": 180,
    "start_time": "2023-05-28T08:55:38.576Z"
   },
   {
    "duration": 8,
    "start_time": "2023-05-28T08:55:38.758Z"
   },
   {
    "duration": 200,
    "start_time": "2023-05-28T08:55:38.768Z"
   },
   {
    "duration": 351,
    "start_time": "2023-05-28T08:55:38.970Z"
   },
   {
    "duration": 16,
    "start_time": "2023-05-28T08:55:39.323Z"
   },
   {
    "duration": 16,
    "start_time": "2023-05-28T08:55:39.341Z"
   },
   {
    "duration": 72,
    "start_time": "2023-05-28T08:55:39.358Z"
   },
   {
    "duration": 14,
    "start_time": "2023-05-28T08:55:39.432Z"
   },
   {
    "duration": 370,
    "start_time": "2023-05-28T08:55:39.448Z"
   },
   {
    "duration": 328,
    "start_time": "2023-05-28T08:55:39.820Z"
   },
   {
    "duration": 471,
    "start_time": "2023-05-28T08:55:40.150Z"
   },
   {
    "duration": 295,
    "start_time": "2023-05-28T08:55:40.622Z"
   },
   {
    "duration": 31,
    "start_time": "2023-05-28T08:55:40.919Z"
   },
   {
    "duration": 26,
    "start_time": "2023-05-28T08:55:40.952Z"
   },
   {
    "duration": 54,
    "start_time": "2023-05-28T08:55:40.980Z"
   },
   {
    "duration": 15,
    "start_time": "2023-05-28T08:55:41.036Z"
   },
   {
    "duration": 16,
    "start_time": "2023-05-28T08:55:41.053Z"
   },
   {
    "duration": 12,
    "start_time": "2023-05-28T08:55:41.070Z"
   },
   {
    "duration": 6,
    "start_time": "2023-05-28T08:55:41.116Z"
   },
   {
    "duration": 6,
    "start_time": "2023-05-28T08:55:41.123Z"
   },
   {
    "duration": 4,
    "start_time": "2023-05-28T08:55:41.130Z"
   },
   {
    "duration": 173,
    "start_time": "2023-05-28T08:56:00.602Z"
   },
   {
    "duration": 59,
    "start_time": "2023-05-28T09:01:59.411Z"
   },
   {
    "duration": 9,
    "start_time": "2023-05-28T09:06:00.490Z"
   },
   {
    "duration": 56,
    "start_time": "2023-05-28T09:12:43.311Z"
   },
   {
    "duration": 14,
    "start_time": "2023-05-28T09:13:34.806Z"
   },
   {
    "duration": 56,
    "start_time": "2023-05-28T09:14:22.811Z"
   },
   {
    "duration": 200,
    "start_time": "2023-05-28T09:15:06.255Z"
   },
   {
    "duration": 271,
    "start_time": "2023-05-28T09:15:24.598Z"
   },
   {
    "duration": 218,
    "start_time": "2023-05-28T09:16:58.924Z"
   },
   {
    "duration": 223,
    "start_time": "2023-05-28T09:18:08.607Z"
   },
   {
    "duration": 371,
    "start_time": "2023-05-28T09:19:10.073Z"
   },
   {
    "duration": 215,
    "start_time": "2023-05-28T09:19:18.350Z"
   },
   {
    "duration": 240,
    "start_time": "2023-05-28T09:20:51.053Z"
   },
   {
    "duration": 241,
    "start_time": "2023-05-28T09:20:58.873Z"
   },
   {
    "duration": 207,
    "start_time": "2023-05-28T09:21:49.290Z"
   },
   {
    "duration": 240,
    "start_time": "2023-05-28T09:22:07.177Z"
   },
   {
    "duration": 4,
    "start_time": "2023-05-28T09:28:17.696Z"
   },
   {
    "duration": 1031,
    "start_time": "2023-05-28T09:28:34.512Z"
   },
   {
    "duration": 123,
    "start_time": "2023-05-28T09:28:35.545Z"
   },
   {
    "duration": 14,
    "start_time": "2023-05-28T09:28:35.670Z"
   },
   {
    "duration": 16,
    "start_time": "2023-05-28T09:28:35.686Z"
   },
   {
    "duration": 16,
    "start_time": "2023-05-28T09:28:35.703Z"
   },
   {
    "duration": 24,
    "start_time": "2023-05-28T09:28:35.721Z"
   },
   {
    "duration": 25,
    "start_time": "2023-05-28T09:28:35.747Z"
   },
   {
    "duration": 12,
    "start_time": "2023-05-28T09:28:35.774Z"
   },
   {
    "duration": 9,
    "start_time": "2023-05-28T09:28:35.788Z"
   },
   {
    "duration": 28,
    "start_time": "2023-05-28T09:28:35.801Z"
   },
   {
    "duration": 14,
    "start_time": "2023-05-28T09:28:35.831Z"
   },
   {
    "duration": 12,
    "start_time": "2023-05-28T09:28:35.847Z"
   },
   {
    "duration": 14,
    "start_time": "2023-05-28T09:28:35.861Z"
   },
   {
    "duration": 6,
    "start_time": "2023-05-28T09:28:35.877Z"
   },
   {
    "duration": 202,
    "start_time": "2023-05-28T09:28:35.885Z"
   },
   {
    "duration": 200,
    "start_time": "2023-05-28T09:28:36.089Z"
   },
   {
    "duration": 173,
    "start_time": "2023-05-28T09:28:36.291Z"
   },
   {
    "duration": 6,
    "start_time": "2023-05-28T09:28:36.466Z"
   },
   {
    "duration": 12,
    "start_time": "2023-05-28T09:28:36.474Z"
   },
   {
    "duration": 34,
    "start_time": "2023-05-28T09:28:36.487Z"
   },
   {
    "duration": 234,
    "start_time": "2023-05-28T09:28:36.523Z"
   },
   {
    "duration": 95,
    "start_time": "2023-05-28T09:28:36.759Z"
   },
   {
    "duration": 209,
    "start_time": "2023-05-28T09:28:36.856Z"
   },
   {
    "duration": 8,
    "start_time": "2023-05-28T09:28:37.117Z"
   },
   {
    "duration": 393,
    "start_time": "2023-05-28T09:28:37.127Z"
   },
   {
    "duration": 400,
    "start_time": "2023-05-28T09:28:37.522Z"
   },
   {
    "duration": 11,
    "start_time": "2023-05-28T09:28:37.923Z"
   },
   {
    "duration": 22,
    "start_time": "2023-05-28T09:28:37.938Z"
   },
   {
    "duration": 27,
    "start_time": "2023-05-28T09:28:38.017Z"
   },
   {
    "duration": 14,
    "start_time": "2023-05-28T09:28:38.046Z"
   },
   {
    "duration": 24,
    "start_time": "2023-05-28T09:28:38.118Z"
   },
   {
    "duration": 18,
    "start_time": "2023-05-28T09:28:38.144Z"
   },
   {
    "duration": 507,
    "start_time": "2023-05-28T09:28:38.217Z"
   },
   {
    "duration": 412,
    "start_time": "2023-05-28T09:28:38.725Z"
   },
   {
    "duration": 5,
    "start_time": "2023-05-28T09:28:39.138Z"
   },
   {
    "duration": 35,
    "start_time": "2023-05-28T09:28:39.144Z"
   },
   {
    "duration": 48,
    "start_time": "2023-05-28T09:28:39.180Z"
   },
   {
    "duration": 30,
    "start_time": "2023-05-28T09:28:39.230Z"
   },
   {
    "duration": 25,
    "start_time": "2023-05-28T09:28:39.261Z"
   },
   {
    "duration": 36,
    "start_time": "2023-05-28T09:28:39.288Z"
   },
   {
    "duration": 12,
    "start_time": "2023-05-28T09:28:39.326Z"
   },
   {
    "duration": 5,
    "start_time": "2023-05-28T09:28:39.339Z"
   },
   {
    "duration": 8,
    "start_time": "2023-05-28T09:28:39.346Z"
   },
   {
    "duration": 9,
    "start_time": "2023-05-28T09:28:39.356Z"
   },
   {
    "duration": 4,
    "start_time": "2023-05-28T09:29:37.961Z"
   },
   {
    "duration": 48,
    "start_time": "2023-05-28T09:30:07.942Z"
   },
   {
    "duration": 10,
    "start_time": "2023-05-28T09:31:45.346Z"
   },
   {
    "duration": 133,
    "start_time": "2023-05-28T09:32:04.004Z"
   },
   {
    "duration": 8,
    "start_time": "2023-05-28T09:34:47.480Z"
   },
   {
    "duration": 7,
    "start_time": "2023-05-28T09:34:55.810Z"
   },
   {
    "duration": 6,
    "start_time": "2023-05-28T09:35:40.851Z"
   },
   {
    "duration": 5,
    "start_time": "2023-05-28T09:40:14.791Z"
   },
   {
    "duration": 6,
    "start_time": "2023-05-28T09:40:47.475Z"
   },
   {
    "duration": 38,
    "start_time": "2023-05-28T09:41:45.184Z"
   },
   {
    "duration": 6,
    "start_time": "2023-05-28T09:41:52.016Z"
   },
   {
    "duration": 8,
    "start_time": "2023-05-28T09:42:14.695Z"
   },
   {
    "duration": 23,
    "start_time": "2023-05-28T09:43:24.498Z"
   },
   {
    "duration": 46,
    "start_time": "2023-05-28T09:44:22.586Z"
   },
   {
    "duration": 53,
    "start_time": "2023-05-28T09:44:38.723Z"
   },
   {
    "duration": 5,
    "start_time": "2023-05-28T09:44:41.716Z"
   },
   {
    "duration": 18,
    "start_time": "2023-05-28T09:44:57.409Z"
   },
   {
    "duration": 4250,
    "start_time": "2023-05-28T09:49:36.711Z"
   },
   {
    "duration": 4285,
    "start_time": "2023-05-28T09:50:34.275Z"
   },
   {
    "duration": 3,
    "start_time": "2023-05-28T09:56:10.683Z"
   },
   {
    "duration": 18,
    "start_time": "2023-05-28T09:56:39.415Z"
   },
   {
    "duration": 1043,
    "start_time": "2023-05-28T09:57:30.114Z"
   },
   {
    "duration": 110,
    "start_time": "2023-05-28T09:57:31.158Z"
   },
   {
    "duration": 12,
    "start_time": "2023-05-28T09:57:31.270Z"
   },
   {
    "duration": 27,
    "start_time": "2023-05-28T09:57:31.283Z"
   },
   {
    "duration": 15,
    "start_time": "2023-05-28T09:57:31.311Z"
   },
   {
    "duration": 27,
    "start_time": "2023-05-28T09:57:31.328Z"
   },
   {
    "duration": 31,
    "start_time": "2023-05-28T09:57:31.357Z"
   },
   {
    "duration": 12,
    "start_time": "2023-05-28T09:57:31.389Z"
   },
   {
    "duration": 40,
    "start_time": "2023-05-28T09:57:31.402Z"
   },
   {
    "duration": 28,
    "start_time": "2023-05-28T09:57:31.444Z"
   },
   {
    "duration": 29,
    "start_time": "2023-05-28T09:57:31.473Z"
   },
   {
    "duration": 21,
    "start_time": "2023-05-28T09:57:31.503Z"
   },
   {
    "duration": 17,
    "start_time": "2023-05-28T09:57:31.525Z"
   },
   {
    "duration": 27,
    "start_time": "2023-05-28T09:57:31.544Z"
   },
   {
    "duration": 231,
    "start_time": "2023-05-28T09:57:31.572Z"
   },
   {
    "duration": 173,
    "start_time": "2023-05-28T09:57:31.804Z"
   },
   {
    "duration": 165,
    "start_time": "2023-05-28T09:57:31.979Z"
   },
   {
    "duration": 6,
    "start_time": "2023-05-28T09:57:32.147Z"
   },
   {
    "duration": 9,
    "start_time": "2023-05-28T09:57:32.155Z"
   },
   {
    "duration": 8,
    "start_time": "2023-05-28T09:57:32.166Z"
   },
   {
    "duration": 193,
    "start_time": "2023-05-28T09:57:32.176Z"
   },
   {
    "duration": 91,
    "start_time": "2023-05-28T09:57:32.371Z"
   },
   {
    "duration": 180,
    "start_time": "2023-05-28T09:57:32.464Z"
   },
   {
    "duration": 7,
    "start_time": "2023-05-28T09:57:32.646Z"
   },
   {
    "duration": 208,
    "start_time": "2023-05-28T09:57:32.655Z"
   },
   {
    "duration": 198,
    "start_time": "2023-05-28T09:57:32.865Z"
   },
   {
    "duration": 9,
    "start_time": "2023-05-28T09:57:33.065Z"
   },
   {
    "duration": 21,
    "start_time": "2023-05-28T09:57:33.079Z"
   },
   {
    "duration": 32,
    "start_time": "2023-05-28T09:57:33.102Z"
   },
   {
    "duration": 13,
    "start_time": "2023-05-28T09:57:33.136Z"
   },
   {
    "duration": 15,
    "start_time": "2023-05-28T09:57:33.151Z"
   },
   {
    "duration": 12,
    "start_time": "2023-05-28T09:57:33.168Z"
   },
   {
    "duration": 244,
    "start_time": "2023-05-28T09:57:33.182Z"
   },
   {
    "duration": 313,
    "start_time": "2023-05-28T09:57:33.428Z"
   },
   {
    "duration": 126,
    "start_time": "2023-05-28T09:57:33.743Z"
   },
   {
    "duration": 0,
    "start_time": "2023-05-28T09:57:33.871Z"
   },
   {
    "duration": 0,
    "start_time": "2023-05-28T09:57:33.872Z"
   },
   {
    "duration": 0,
    "start_time": "2023-05-28T09:57:33.873Z"
   },
   {
    "duration": 0,
    "start_time": "2023-05-28T09:57:33.874Z"
   },
   {
    "duration": 0,
    "start_time": "2023-05-28T09:57:33.875Z"
   },
   {
    "duration": 0,
    "start_time": "2023-05-28T09:57:33.876Z"
   },
   {
    "duration": 0,
    "start_time": "2023-05-28T09:57:33.877Z"
   },
   {
    "duration": 0,
    "start_time": "2023-05-28T09:57:33.878Z"
   },
   {
    "duration": 0,
    "start_time": "2023-05-28T09:57:33.879Z"
   },
   {
    "duration": 30,
    "start_time": "2023-05-28T09:58:28.041Z"
   },
   {
    "duration": 27,
    "start_time": "2023-05-28T09:58:29.905Z"
   },
   {
    "duration": 30,
    "start_time": "2023-05-28T09:58:32.017Z"
   },
   {
    "duration": 54,
    "start_time": "2023-05-28T09:59:07.557Z"
   },
   {
    "duration": 5,
    "start_time": "2023-05-28T10:06:32.309Z"
   },
   {
    "duration": 978,
    "start_time": "2023-05-28T10:07:28.840Z"
   },
   {
    "duration": 104,
    "start_time": "2023-05-28T10:07:29.819Z"
   },
   {
    "duration": 10,
    "start_time": "2023-05-28T10:07:29.925Z"
   },
   {
    "duration": 14,
    "start_time": "2023-05-28T10:07:29.936Z"
   },
   {
    "duration": 9,
    "start_time": "2023-05-28T10:07:29.953Z"
   },
   {
    "duration": 15,
    "start_time": "2023-05-28T10:07:29.964Z"
   },
   {
    "duration": 19,
    "start_time": "2023-05-28T10:07:29.981Z"
   },
   {
    "duration": 10,
    "start_time": "2023-05-28T10:07:30.018Z"
   },
   {
    "duration": 44,
    "start_time": "2023-05-28T10:07:30.029Z"
   },
   {
    "duration": 70,
    "start_time": "2023-05-28T10:07:30.075Z"
   },
   {
    "duration": 53,
    "start_time": "2023-05-28T10:07:30.147Z"
   },
   {
    "duration": 50,
    "start_time": "2023-05-28T10:07:30.202Z"
   },
   {
    "duration": 37,
    "start_time": "2023-05-28T10:07:30.254Z"
   },
   {
    "duration": 47,
    "start_time": "2023-05-28T10:07:30.294Z"
   },
   {
    "duration": 205,
    "start_time": "2023-05-28T10:07:30.343Z"
   },
   {
    "duration": 161,
    "start_time": "2023-05-28T10:07:30.550Z"
   },
   {
    "duration": 177,
    "start_time": "2023-05-28T10:07:30.717Z"
   },
   {
    "duration": 5,
    "start_time": "2023-05-28T10:07:30.897Z"
   },
   {
    "duration": 33,
    "start_time": "2023-05-28T10:07:30.904Z"
   },
   {
    "duration": 41,
    "start_time": "2023-05-28T10:07:30.939Z"
   },
   {
    "duration": 202,
    "start_time": "2023-05-28T10:07:30.982Z"
   },
   {
    "duration": 84,
    "start_time": "2023-05-28T10:07:31.185Z"
   },
   {
    "duration": 193,
    "start_time": "2023-05-28T10:07:31.270Z"
   },
   {
    "duration": 7,
    "start_time": "2023-05-28T10:07:31.464Z"
   },
   {
    "duration": 223,
    "start_time": "2023-05-28T10:07:31.473Z"
   },
   {
    "duration": 221,
    "start_time": "2023-05-28T10:07:31.697Z"
   },
   {
    "duration": 7,
    "start_time": "2023-05-28T10:07:31.920Z"
   },
   {
    "duration": 27,
    "start_time": "2023-05-28T10:07:31.928Z"
   },
   {
    "duration": 18,
    "start_time": "2023-05-28T10:07:31.956Z"
   },
   {
    "duration": 11,
    "start_time": "2023-05-28T10:07:31.976Z"
   },
   {
    "duration": 30,
    "start_time": "2023-05-28T10:07:31.989Z"
   },
   {
    "duration": 12,
    "start_time": "2023-05-28T10:07:32.021Z"
   },
   {
    "duration": 242,
    "start_time": "2023-05-28T10:07:32.035Z"
   },
   {
    "duration": 310,
    "start_time": "2023-05-28T10:07:32.278Z"
   },
   {
    "duration": 5,
    "start_time": "2023-05-28T10:07:32.590Z"
   },
   {
    "duration": 51,
    "start_time": "2023-05-28T10:07:32.597Z"
   },
   {
    "duration": 29,
    "start_time": "2023-05-28T10:07:32.650Z"
   },
   {
    "duration": 48,
    "start_time": "2023-05-28T10:07:32.680Z"
   },
   {
    "duration": 16,
    "start_time": "2023-05-28T10:07:32.729Z"
   },
   {
    "duration": 32,
    "start_time": "2023-05-28T10:07:32.747Z"
   },
   {
    "duration": 46,
    "start_time": "2023-05-28T10:07:32.783Z"
   },
   {
    "duration": 5,
    "start_time": "2023-05-28T10:07:32.831Z"
   },
   {
    "duration": 8,
    "start_time": "2023-05-28T10:07:32.838Z"
   },
   {
    "duration": 12,
    "start_time": "2023-05-28T10:07:32.847Z"
   },
   {
    "duration": 14,
    "start_time": "2023-05-28T10:08:02.092Z"
   },
   {
    "duration": 13,
    "start_time": "2023-05-28T10:08:11.944Z"
   },
   {
    "duration": 17,
    "start_time": "2023-05-28T10:08:30.057Z"
   },
   {
    "duration": 43,
    "start_time": "2023-05-28T10:08:46.010Z"
   },
   {
    "duration": 985,
    "start_time": "2023-05-28T10:08:51.036Z"
   },
   {
    "duration": 89,
    "start_time": "2023-05-28T10:08:52.023Z"
   },
   {
    "duration": 13,
    "start_time": "2023-05-28T10:08:52.114Z"
   },
   {
    "duration": 15,
    "start_time": "2023-05-28T10:08:52.129Z"
   },
   {
    "duration": 22,
    "start_time": "2023-05-28T10:08:52.146Z"
   },
   {
    "duration": 8,
    "start_time": "2023-05-28T10:08:52.169Z"
   },
   {
    "duration": 30,
    "start_time": "2023-05-28T10:08:52.178Z"
   },
   {
    "duration": 13,
    "start_time": "2023-05-28T10:08:52.210Z"
   },
   {
    "duration": 19,
    "start_time": "2023-05-28T10:08:52.225Z"
   },
   {
    "duration": 15,
    "start_time": "2023-05-28T10:08:52.247Z"
   },
   {
    "duration": 24,
    "start_time": "2023-05-28T10:08:52.264Z"
   },
   {
    "duration": 11,
    "start_time": "2023-05-28T10:08:52.290Z"
   },
   {
    "duration": 4,
    "start_time": "2023-05-28T10:08:52.302Z"
   },
   {
    "duration": 6,
    "start_time": "2023-05-28T10:08:52.307Z"
   },
   {
    "duration": 184,
    "start_time": "2023-05-28T10:08:52.314Z"
   },
   {
    "duration": 157,
    "start_time": "2023-05-28T10:08:52.499Z"
   },
   {
    "duration": 167,
    "start_time": "2023-05-28T10:08:52.658Z"
   },
   {
    "duration": 6,
    "start_time": "2023-05-28T10:08:52.826Z"
   },
   {
    "duration": 11,
    "start_time": "2023-05-28T10:08:52.833Z"
   },
   {
    "duration": 8,
    "start_time": "2023-05-28T10:08:52.846Z"
   },
   {
    "duration": 194,
    "start_time": "2023-05-28T10:08:52.855Z"
   },
   {
    "duration": 86,
    "start_time": "2023-05-28T10:08:53.051Z"
   },
   {
    "duration": 187,
    "start_time": "2023-05-28T10:08:53.139Z"
   },
   {
    "duration": 8,
    "start_time": "2023-05-28T10:08:53.327Z"
   },
   {
    "duration": 205,
    "start_time": "2023-05-28T10:08:53.336Z"
   },
   {
    "duration": 381,
    "start_time": "2023-05-28T10:08:53.542Z"
   },
   {
    "duration": 7,
    "start_time": "2023-05-28T10:08:53.925Z"
   },
   {
    "duration": 17,
    "start_time": "2023-05-28T10:08:53.935Z"
   },
   {
    "duration": 66,
    "start_time": "2023-05-28T10:08:53.953Z"
   },
   {
    "duration": 12,
    "start_time": "2023-05-28T10:08:54.020Z"
   },
   {
    "duration": 15,
    "start_time": "2023-05-28T10:08:54.034Z"
   },
   {
    "duration": 67,
    "start_time": "2023-05-28T10:08:54.051Z"
   },
   {
    "duration": 424,
    "start_time": "2023-05-28T10:08:54.120Z"
   },
   {
    "duration": 689,
    "start_time": "2023-05-28T10:08:54.546Z"
   },
   {
    "duration": 82,
    "start_time": "2023-05-28T10:08:55.237Z"
   },
   {
    "duration": 0,
    "start_time": "2023-05-28T10:08:55.320Z"
   },
   {
    "duration": 0,
    "start_time": "2023-05-28T10:08:55.321Z"
   },
   {
    "duration": 0,
    "start_time": "2023-05-28T10:08:55.322Z"
   },
   {
    "duration": 0,
    "start_time": "2023-05-28T10:08:55.323Z"
   },
   {
    "duration": 0,
    "start_time": "2023-05-28T10:08:55.324Z"
   },
   {
    "duration": 0,
    "start_time": "2023-05-28T10:08:55.325Z"
   },
   {
    "duration": 0,
    "start_time": "2023-05-28T10:08:55.325Z"
   },
   {
    "duration": 0,
    "start_time": "2023-05-28T10:08:55.327Z"
   },
   {
    "duration": 0,
    "start_time": "2023-05-28T10:08:55.327Z"
   },
   {
    "duration": 0,
    "start_time": "2023-05-28T10:08:55.328Z"
   },
   {
    "duration": 16,
    "start_time": "2023-05-28T10:09:05.389Z"
   },
   {
    "duration": 18,
    "start_time": "2023-05-28T10:09:09.393Z"
   },
   {
    "duration": 31,
    "start_time": "2023-05-28T10:09:23.604Z"
   },
   {
    "duration": 16,
    "start_time": "2023-05-28T10:09:31.193Z"
   },
   {
    "duration": 15,
    "start_time": "2023-05-28T10:09:55.488Z"
   },
   {
    "duration": 3,
    "start_time": "2023-05-28T10:10:26.331Z"
   },
   {
    "duration": 1020,
    "start_time": "2023-05-28T10:10:35.241Z"
   },
   {
    "duration": 110,
    "start_time": "2023-05-28T10:10:36.262Z"
   },
   {
    "duration": 12,
    "start_time": "2023-05-28T10:10:36.373Z"
   },
   {
    "duration": 33,
    "start_time": "2023-05-28T10:10:36.387Z"
   },
   {
    "duration": 12,
    "start_time": "2023-05-28T10:10:36.422Z"
   },
   {
    "duration": 13,
    "start_time": "2023-05-28T10:10:36.436Z"
   },
   {
    "duration": 20,
    "start_time": "2023-05-28T10:10:36.451Z"
   },
   {
    "duration": 11,
    "start_time": "2023-05-28T10:10:36.473Z"
   },
   {
    "duration": 35,
    "start_time": "2023-05-28T10:10:36.485Z"
   },
   {
    "duration": 42,
    "start_time": "2023-05-28T10:10:36.521Z"
   },
   {
    "duration": 60,
    "start_time": "2023-05-28T10:10:36.564Z"
   },
   {
    "duration": 28,
    "start_time": "2023-05-28T10:10:36.625Z"
   },
   {
    "duration": 17,
    "start_time": "2023-05-28T10:10:36.654Z"
   },
   {
    "duration": 44,
    "start_time": "2023-05-28T10:10:36.674Z"
   },
   {
    "duration": 325,
    "start_time": "2023-05-28T10:10:36.719Z"
   },
   {
    "duration": 475,
    "start_time": "2023-05-28T10:10:37.046Z"
   },
   {
    "duration": 315,
    "start_time": "2023-05-28T10:10:37.522Z"
   },
   {
    "duration": 7,
    "start_time": "2023-05-28T10:10:37.838Z"
   },
   {
    "duration": 15,
    "start_time": "2023-05-28T10:10:37.846Z"
   },
   {
    "duration": 55,
    "start_time": "2023-05-28T10:10:37.863Z"
   },
   {
    "duration": 334,
    "start_time": "2023-05-28T10:10:37.920Z"
   },
   {
    "duration": 96,
    "start_time": "2023-05-28T10:10:38.256Z"
   },
   {
    "duration": 337,
    "start_time": "2023-05-28T10:10:38.353Z"
   },
   {
    "duration": 7,
    "start_time": "2023-05-28T10:10:38.692Z"
   },
   {
    "duration": 192,
    "start_time": "2023-05-28T10:10:38.700Z"
   },
   {
    "duration": 196,
    "start_time": "2023-05-28T10:10:38.893Z"
   },
   {
    "duration": 7,
    "start_time": "2023-05-28T10:10:39.091Z"
   },
   {
    "duration": 29,
    "start_time": "2023-05-28T10:10:39.100Z"
   },
   {
    "duration": 16,
    "start_time": "2023-05-28T10:10:39.131Z"
   },
   {
    "duration": 27,
    "start_time": "2023-05-28T10:10:39.149Z"
   },
   {
    "duration": 23,
    "start_time": "2023-05-28T10:10:39.177Z"
   },
   {
    "duration": 26,
    "start_time": "2023-05-28T10:10:39.202Z"
   },
   {
    "duration": 231,
    "start_time": "2023-05-28T10:10:39.229Z"
   },
   {
    "duration": 311,
    "start_time": "2023-05-28T10:10:39.462Z"
   },
   {
    "duration": 15,
    "start_time": "2023-05-28T10:10:39.774Z"
   },
   {
    "duration": 4,
    "start_time": "2023-05-28T10:10:39.790Z"
   },
   {
    "duration": 45,
    "start_time": "2023-05-28T10:10:39.796Z"
   },
   {
    "duration": 26,
    "start_time": "2023-05-28T10:10:39.843Z"
   },
   {
    "duration": 47,
    "start_time": "2023-05-28T10:10:39.870Z"
   },
   {
    "duration": 15,
    "start_time": "2023-05-28T10:10:39.919Z"
   },
   {
    "duration": 15,
    "start_time": "2023-05-28T10:10:39.937Z"
   },
   {
    "duration": 18,
    "start_time": "2023-05-28T10:10:39.954Z"
   },
   {
    "duration": 5,
    "start_time": "2023-05-28T10:10:39.974Z"
   },
   {
    "duration": 20,
    "start_time": "2023-05-28T10:10:39.980Z"
   },
   {
    "duration": 47,
    "start_time": "2023-05-28T10:10:40.002Z"
   },
   {
    "duration": 14,
    "start_time": "2023-05-28T10:10:56.441Z"
   },
   {
    "duration": 5,
    "start_time": "2023-05-28T10:19:48.897Z"
   },
   {
    "duration": 5,
    "start_time": "2023-05-28T10:23:14.512Z"
   },
   {
    "duration": 6,
    "start_time": "2023-05-28T10:23:19.225Z"
   },
   {
    "duration": 6,
    "start_time": "2023-05-28T10:24:04.783Z"
   },
   {
    "duration": 5,
    "start_time": "2023-05-28T10:25:26.742Z"
   },
   {
    "duration": 5,
    "start_time": "2023-05-28T10:25:28.743Z"
   },
   {
    "duration": 5,
    "start_time": "2023-05-28T10:25:51.583Z"
   },
   {
    "duration": 1026,
    "start_time": "2023-05-28T10:26:26.300Z"
   },
   {
    "duration": 114,
    "start_time": "2023-05-28T10:26:27.328Z"
   },
   {
    "duration": 13,
    "start_time": "2023-05-28T10:26:27.443Z"
   },
   {
    "duration": 13,
    "start_time": "2023-05-28T10:26:27.458Z"
   },
   {
    "duration": 13,
    "start_time": "2023-05-28T10:26:27.473Z"
   },
   {
    "duration": 8,
    "start_time": "2023-05-28T10:26:27.488Z"
   },
   {
    "duration": 28,
    "start_time": "2023-05-28T10:26:27.498Z"
   },
   {
    "duration": 9,
    "start_time": "2023-05-28T10:26:27.528Z"
   },
   {
    "duration": 8,
    "start_time": "2023-05-28T10:26:27.539Z"
   },
   {
    "duration": 19,
    "start_time": "2023-05-28T10:26:27.548Z"
   },
   {
    "duration": 9,
    "start_time": "2023-05-28T10:26:27.569Z"
   },
   {
    "duration": 9,
    "start_time": "2023-05-28T10:26:27.579Z"
   },
   {
    "duration": 29,
    "start_time": "2023-05-28T10:26:27.589Z"
   },
   {
    "duration": 8,
    "start_time": "2023-05-28T10:26:27.622Z"
   },
   {
    "duration": 191,
    "start_time": "2023-05-28T10:26:27.631Z"
   },
   {
    "duration": 171,
    "start_time": "2023-05-28T10:26:27.823Z"
   },
   {
    "duration": 177,
    "start_time": "2023-05-28T10:26:27.996Z"
   },
   {
    "duration": 6,
    "start_time": "2023-05-28T10:26:28.174Z"
   },
   {
    "duration": 8,
    "start_time": "2023-05-28T10:26:28.181Z"
   },
   {
    "duration": 7,
    "start_time": "2023-05-28T10:26:28.190Z"
   },
   {
    "duration": 171,
    "start_time": "2023-05-28T10:26:28.217Z"
   },
   {
    "duration": 89,
    "start_time": "2023-05-28T10:26:28.390Z"
   },
   {
    "duration": 191,
    "start_time": "2023-05-28T10:26:28.481Z"
   },
   {
    "duration": 8,
    "start_time": "2023-05-28T10:26:28.674Z"
   },
   {
    "duration": 200,
    "start_time": "2023-05-28T10:26:28.683Z"
   },
   {
    "duration": 198,
    "start_time": "2023-05-28T10:26:28.885Z"
   },
   {
    "duration": 7,
    "start_time": "2023-05-28T10:26:29.085Z"
   },
   {
    "duration": 32,
    "start_time": "2023-05-28T10:26:29.094Z"
   },
   {
    "duration": 29,
    "start_time": "2023-05-28T10:26:29.128Z"
   },
   {
    "duration": 19,
    "start_time": "2023-05-28T10:26:29.158Z"
   },
   {
    "duration": 43,
    "start_time": "2023-05-28T10:26:29.179Z"
   },
   {
    "duration": 15,
    "start_time": "2023-05-28T10:26:29.223Z"
   },
   {
    "duration": 246,
    "start_time": "2023-05-28T10:26:29.240Z"
   },
   {
    "duration": 365,
    "start_time": "2023-05-28T10:26:29.488Z"
   },
   {
    "duration": 68,
    "start_time": "2023-05-28T10:26:29.854Z"
   },
   {
    "duration": 15,
    "start_time": "2023-05-28T10:26:29.923Z"
   },
   {
    "duration": 82,
    "start_time": "2023-05-28T10:26:29.939Z"
   },
   {
    "duration": 27,
    "start_time": "2023-05-28T10:26:30.023Z"
   },
   {
    "duration": 94,
    "start_time": "2023-05-28T10:26:30.052Z"
   },
   {
    "duration": 74,
    "start_time": "2023-05-28T10:26:30.148Z"
   },
   {
    "duration": 56,
    "start_time": "2023-05-28T10:26:30.225Z"
   },
   {
    "duration": 25,
    "start_time": "2023-05-28T10:26:30.318Z"
   },
   {
    "duration": 15,
    "start_time": "2023-05-28T10:26:30.345Z"
   },
   {
    "duration": 58,
    "start_time": "2023-05-28T10:26:30.362Z"
   },
   {
    "duration": 18,
    "start_time": "2023-05-28T10:26:30.422Z"
   },
   {
    "duration": 6,
    "start_time": "2023-05-28T10:28:55.959Z"
   },
   {
    "duration": 6,
    "start_time": "2023-05-28T10:29:22.003Z"
   },
   {
    "duration": 6,
    "start_time": "2023-05-28T10:29:29.217Z"
   },
   {
    "duration": 6,
    "start_time": "2023-05-28T10:29:36.091Z"
   },
   {
    "duration": 14,
    "start_time": "2023-05-28T10:30:33.406Z"
   },
   {
    "duration": 7,
    "start_time": "2023-05-28T10:30:42.249Z"
   },
   {
    "duration": 5,
    "start_time": "2023-05-28T10:30:51.991Z"
   },
   {
    "duration": 118,
    "start_time": "2023-05-28T10:33:22.102Z"
   },
   {
    "duration": 7,
    "start_time": "2023-05-28T10:33:26.322Z"
   },
   {
    "duration": 5,
    "start_time": "2023-05-28T10:33:55.288Z"
   },
   {
    "duration": 9,
    "start_time": "2023-05-28T10:34:26.311Z"
   },
   {
    "duration": 3,
    "start_time": "2023-05-28T10:34:30.258Z"
   },
   {
    "duration": 7,
    "start_time": "2023-05-28T10:35:31.600Z"
   },
   {
    "duration": 5,
    "start_time": "2023-05-28T10:35:58.948Z"
   },
   {
    "duration": 1015,
    "start_time": "2023-05-28T10:37:59.648Z"
   },
   {
    "duration": 117,
    "start_time": "2023-05-28T10:38:00.665Z"
   },
   {
    "duration": 44,
    "start_time": "2023-05-28T10:38:00.784Z"
   },
   {
    "duration": 96,
    "start_time": "2023-05-28T10:38:00.829Z"
   },
   {
    "duration": 27,
    "start_time": "2023-05-28T10:38:00.928Z"
   },
   {
    "duration": 62,
    "start_time": "2023-05-28T10:38:00.956Z"
   },
   {
    "duration": 57,
    "start_time": "2023-05-28T10:38:01.020Z"
   },
   {
    "duration": 47,
    "start_time": "2023-05-28T10:38:01.078Z"
   },
   {
    "duration": 26,
    "start_time": "2023-05-28T10:38:01.126Z"
   },
   {
    "duration": 66,
    "start_time": "2023-05-28T10:38:01.154Z"
   },
   {
    "duration": 26,
    "start_time": "2023-05-28T10:38:01.222Z"
   },
   {
    "duration": 72,
    "start_time": "2023-05-28T10:38:01.250Z"
   },
   {
    "duration": 25,
    "start_time": "2023-05-28T10:38:01.324Z"
   },
   {
    "duration": 25,
    "start_time": "2023-05-28T10:38:01.352Z"
   },
   {
    "duration": 369,
    "start_time": "2023-05-28T10:38:01.378Z"
   },
   {
    "duration": 312,
    "start_time": "2023-05-28T10:38:01.748Z"
   },
   {
    "duration": 317,
    "start_time": "2023-05-28T10:38:02.061Z"
   },
   {
    "duration": 5,
    "start_time": "2023-05-28T10:38:02.380Z"
   },
   {
    "duration": 35,
    "start_time": "2023-05-28T10:38:02.387Z"
   },
   {
    "duration": 33,
    "start_time": "2023-05-28T10:38:02.424Z"
   },
   {
    "duration": 214,
    "start_time": "2023-05-28T10:38:02.459Z"
   },
   {
    "duration": 83,
    "start_time": "2023-05-28T10:38:02.675Z"
   },
   {
    "duration": 193,
    "start_time": "2023-05-28T10:38:02.760Z"
   },
   {
    "duration": 7,
    "start_time": "2023-05-28T10:38:02.955Z"
   },
   {
    "duration": 199,
    "start_time": "2023-05-28T10:38:02.963Z"
   },
   {
    "duration": 218,
    "start_time": "2023-05-28T10:38:03.163Z"
   },
   {
    "duration": 8,
    "start_time": "2023-05-28T10:38:03.382Z"
   },
   {
    "duration": 29,
    "start_time": "2023-05-28T10:38:03.392Z"
   },
   {
    "duration": 16,
    "start_time": "2023-05-28T10:38:03.423Z"
   },
   {
    "duration": 15,
    "start_time": "2023-05-28T10:38:03.440Z"
   },
   {
    "duration": 36,
    "start_time": "2023-05-28T10:38:03.457Z"
   },
   {
    "duration": 105,
    "start_time": "2023-05-28T10:38:03.495Z"
   },
   {
    "duration": 224,
    "start_time": "2023-05-28T10:38:03.601Z"
   },
   {
    "duration": 319,
    "start_time": "2023-05-28T10:38:03.827Z"
   },
   {
    "duration": 19,
    "start_time": "2023-05-28T10:38:04.148Z"
   },
   {
    "duration": 27,
    "start_time": "2023-05-28T10:38:04.168Z"
   },
   {
    "duration": 36,
    "start_time": "2023-05-28T10:38:04.197Z"
   },
   {
    "duration": 26,
    "start_time": "2023-05-28T10:38:04.235Z"
   },
   {
    "duration": 33,
    "start_time": "2023-05-28T10:38:04.263Z"
   },
   {
    "duration": 34,
    "start_time": "2023-05-28T10:38:04.297Z"
   },
   {
    "duration": 16,
    "start_time": "2023-05-28T10:38:04.335Z"
   },
   {
    "duration": 15,
    "start_time": "2023-05-28T10:38:04.352Z"
   },
   {
    "duration": 6,
    "start_time": "2023-05-28T10:38:04.369Z"
   },
   {
    "duration": 8,
    "start_time": "2023-05-28T10:38:04.377Z"
   },
   {
    "duration": 30,
    "start_time": "2023-05-28T10:38:04.387Z"
   },
   {
    "duration": 5,
    "start_time": "2023-05-28T10:38:04.419Z"
   },
   {
    "duration": 13,
    "start_time": "2023-05-28T10:40:36.653Z"
   },
   {
    "duration": 8,
    "start_time": "2023-05-28T10:40:51.748Z"
   },
   {
    "duration": 14,
    "start_time": "2023-05-28T10:41:05.201Z"
   },
   {
    "duration": 45,
    "start_time": "2023-05-31T08:37:17.123Z"
   },
   {
    "duration": 1145,
    "start_time": "2023-05-31T08:37:23.722Z"
   },
   {
    "duration": 234,
    "start_time": "2023-05-31T08:37:24.870Z"
   },
   {
    "duration": 11,
    "start_time": "2023-05-31T08:37:25.106Z"
   },
   {
    "duration": 43,
    "start_time": "2023-05-31T08:37:25.119Z"
   },
   {
    "duration": 25,
    "start_time": "2023-05-31T08:37:25.164Z"
   },
   {
    "duration": 32,
    "start_time": "2023-05-31T08:37:25.191Z"
   },
   {
    "duration": 43,
    "start_time": "2023-05-31T08:37:25.224Z"
   },
   {
    "duration": 55,
    "start_time": "2023-05-31T08:37:25.270Z"
   },
   {
    "duration": 21,
    "start_time": "2023-05-31T08:37:25.326Z"
   },
   {
    "duration": 65,
    "start_time": "2023-05-31T08:37:25.350Z"
   },
   {
    "duration": 11,
    "start_time": "2023-05-31T08:37:25.418Z"
   },
   {
    "duration": 38,
    "start_time": "2023-05-31T08:37:25.431Z"
   },
   {
    "duration": 46,
    "start_time": "2023-05-31T08:37:25.470Z"
   },
   {
    "duration": 4,
    "start_time": "2023-05-31T08:37:25.517Z"
   },
   {
    "duration": 316,
    "start_time": "2023-05-31T08:37:25.523Z"
   },
   {
    "duration": 303,
    "start_time": "2023-05-31T08:37:25.840Z"
   },
   {
    "duration": 303,
    "start_time": "2023-05-31T08:37:26.144Z"
   },
   {
    "duration": 5,
    "start_time": "2023-05-31T08:37:26.449Z"
   },
   {
    "duration": 61,
    "start_time": "2023-05-31T08:37:26.455Z"
   },
   {
    "duration": 7,
    "start_time": "2023-05-31T08:37:26.517Z"
   },
   {
    "duration": 325,
    "start_time": "2023-05-31T08:37:26.526Z"
   },
   {
    "duration": 181,
    "start_time": "2023-05-31T08:37:26.853Z"
   },
   {
    "duration": 170,
    "start_time": "2023-05-31T08:37:27.035Z"
   },
   {
    "duration": 12,
    "start_time": "2023-05-31T08:37:27.207Z"
   },
   {
    "duration": 188,
    "start_time": "2023-05-31T08:37:27.220Z"
   },
   {
    "duration": 177,
    "start_time": "2023-05-31T08:37:27.409Z"
   },
   {
    "duration": 7,
    "start_time": "2023-05-31T08:37:27.587Z"
   },
   {
    "duration": 24,
    "start_time": "2023-05-31T08:37:27.596Z"
   },
   {
    "duration": 15,
    "start_time": "2023-05-31T08:37:27.622Z"
   },
   {
    "duration": 12,
    "start_time": "2023-05-31T08:37:27.638Z"
   },
   {
    "duration": 26,
    "start_time": "2023-05-31T08:37:27.651Z"
   },
   {
    "duration": 13,
    "start_time": "2023-05-31T08:37:27.678Z"
   },
   {
    "duration": 211,
    "start_time": "2023-05-31T08:37:27.692Z"
   },
   {
    "duration": 294,
    "start_time": "2023-05-31T08:37:27.904Z"
   },
   {
    "duration": 18,
    "start_time": "2023-05-31T08:37:28.199Z"
   },
   {
    "duration": 21,
    "start_time": "2023-05-31T08:37:28.219Z"
   },
   {
    "duration": 32,
    "start_time": "2023-05-31T08:37:28.241Z"
   },
   {
    "duration": 41,
    "start_time": "2023-05-31T08:37:28.275Z"
   },
   {
    "duration": 31,
    "start_time": "2023-05-31T08:37:28.317Z"
   },
   {
    "duration": 17,
    "start_time": "2023-05-31T08:37:28.350Z"
   },
   {
    "duration": 17,
    "start_time": "2023-05-31T08:37:28.368Z"
   },
   {
    "duration": 36,
    "start_time": "2023-05-31T08:37:28.386Z"
   },
   {
    "duration": 8,
    "start_time": "2023-05-31T08:37:28.424Z"
   },
   {
    "duration": 12,
    "start_time": "2023-05-31T08:37:28.434Z"
   },
   {
    "duration": 4,
    "start_time": "2023-05-31T08:37:28.447Z"
   },
   {
    "duration": 13,
    "start_time": "2023-05-31T08:37:28.453Z"
   },
   {
    "duration": 5,
    "start_time": "2023-05-31T08:46:00.023Z"
   },
   {
    "duration": 67,
    "start_time": "2023-05-31T08:46:35.161Z"
   },
   {
    "duration": 4,
    "start_time": "2023-05-31T08:46:40.466Z"
   },
   {
    "duration": 5,
    "start_time": "2023-05-31T08:47:13.576Z"
   },
   {
    "duration": 5,
    "start_time": "2023-05-31T08:47:19.413Z"
   },
   {
    "duration": 5,
    "start_time": "2023-05-31T08:49:13.486Z"
   },
   {
    "duration": 4,
    "start_time": "2023-05-31T08:50:54.926Z"
   },
   {
    "duration": 5,
    "start_time": "2023-05-31T09:01:23.289Z"
   },
   {
    "duration": 5,
    "start_time": "2023-05-31T09:02:31.291Z"
   },
   {
    "duration": 5,
    "start_time": "2023-05-31T09:05:03.504Z"
   },
   {
    "duration": 950,
    "start_time": "2023-05-31T09:39:00.786Z"
   },
   {
    "duration": 107,
    "start_time": "2023-05-31T09:39:01.738Z"
   },
   {
    "duration": 13,
    "start_time": "2023-05-31T09:39:01.847Z"
   },
   {
    "duration": 59,
    "start_time": "2023-05-31T09:39:01.862Z"
   },
   {
    "duration": 53,
    "start_time": "2023-05-31T09:39:01.927Z"
   },
   {
    "duration": 30,
    "start_time": "2023-05-31T09:39:01.981Z"
   },
   {
    "duration": 45,
    "start_time": "2023-05-31T09:39:02.012Z"
   },
   {
    "duration": 15,
    "start_time": "2023-05-31T09:39:02.059Z"
   },
   {
    "duration": 10,
    "start_time": "2023-05-31T09:39:02.075Z"
   },
   {
    "duration": 57,
    "start_time": "2023-05-31T09:39:02.087Z"
   },
   {
    "duration": 15,
    "start_time": "2023-05-31T09:39:02.145Z"
   },
   {
    "duration": 19,
    "start_time": "2023-05-31T09:39:02.161Z"
   },
   {
    "duration": 20,
    "start_time": "2023-05-31T09:39:02.181Z"
   },
   {
    "duration": 36,
    "start_time": "2023-05-31T09:39:02.203Z"
   },
   {
    "duration": 188,
    "start_time": "2023-05-31T09:39:02.240Z"
   },
   {
    "duration": 217,
    "start_time": "2023-05-31T09:39:02.430Z"
   },
   {
    "duration": 469,
    "start_time": "2023-05-31T09:39:02.648Z"
   },
   {
    "duration": 15,
    "start_time": "2023-05-31T09:39:03.118Z"
   },
   {
    "duration": 25,
    "start_time": "2023-05-31T09:39:03.134Z"
   },
   {
    "duration": 69,
    "start_time": "2023-05-31T09:39:03.160Z"
   },
   {
    "duration": 407,
    "start_time": "2023-05-31T09:39:03.231Z"
   },
   {
    "duration": 193,
    "start_time": "2023-05-31T09:39:03.640Z"
   },
   {
    "duration": 322,
    "start_time": "2023-05-31T09:39:03.836Z"
   },
   {
    "duration": 70,
    "start_time": "2023-05-31T09:39:04.159Z"
   },
   {
    "duration": 320,
    "start_time": "2023-05-31T09:39:04.230Z"
   },
   {
    "duration": 397,
    "start_time": "2023-05-31T09:39:04.551Z"
   },
   {
    "duration": 8,
    "start_time": "2023-05-31T09:39:04.949Z"
   },
   {
    "duration": 81,
    "start_time": "2023-05-31T09:39:04.959Z"
   },
   {
    "duration": 23,
    "start_time": "2023-05-31T09:39:05.042Z"
   },
   {
    "duration": 69,
    "start_time": "2023-05-31T09:39:05.066Z"
   },
   {
    "duration": 26,
    "start_time": "2023-05-31T09:39:05.137Z"
   },
   {
    "duration": 68,
    "start_time": "2023-05-31T09:39:05.165Z"
   },
   {
    "duration": 499,
    "start_time": "2023-05-31T09:39:05.234Z"
   },
   {
    "duration": 598,
    "start_time": "2023-05-31T09:39:05.735Z"
   },
   {
    "duration": 17,
    "start_time": "2023-05-31T09:39:06.335Z"
   },
   {
    "duration": 78,
    "start_time": "2023-05-31T09:39:06.354Z"
   },
   {
    "duration": 27,
    "start_time": "2023-05-31T09:39:06.433Z"
   },
   {
    "duration": 79,
    "start_time": "2023-05-31T09:39:06.461Z"
   },
   {
    "duration": 80,
    "start_time": "2023-05-31T09:39:06.541Z"
   },
   {
    "duration": 16,
    "start_time": "2023-05-31T09:39:06.622Z"
   },
   {
    "duration": 19,
    "start_time": "2023-05-31T09:39:06.642Z"
   },
   {
    "duration": 71,
    "start_time": "2023-05-31T09:39:06.662Z"
   },
   {
    "duration": 7,
    "start_time": "2023-05-31T09:39:06.735Z"
   },
   {
    "duration": 5,
    "start_time": "2023-05-31T09:39:06.743Z"
   },
   {
    "duration": 4,
    "start_time": "2023-05-31T09:39:06.750Z"
   },
   {
    "duration": 65,
    "start_time": "2023-05-31T09:39:06.756Z"
   },
   {
    "duration": 8,
    "start_time": "2023-05-31T09:39:06.822Z"
   },
   {
    "duration": 21,
    "start_time": "2023-05-31T09:39:06.832Z"
   },
   {
    "duration": 62,
    "start_time": "2023-05-31T09:43:12.511Z"
   },
   {
    "duration": 1175,
    "start_time": "2023-05-31T14:44:26.851Z"
   },
   {
    "duration": 262,
    "start_time": "2023-05-31T14:44:28.028Z"
   },
   {
    "duration": 11,
    "start_time": "2023-05-31T14:44:28.291Z"
   },
   {
    "duration": 22,
    "start_time": "2023-05-31T14:44:28.303Z"
   },
   {
    "duration": 10,
    "start_time": "2023-05-31T14:44:28.327Z"
   },
   {
    "duration": 18,
    "start_time": "2023-05-31T14:44:28.339Z"
   },
   {
    "duration": 20,
    "start_time": "2023-05-31T14:44:28.359Z"
   },
   {
    "duration": 11,
    "start_time": "2023-05-31T14:44:28.380Z"
   },
   {
    "duration": 26,
    "start_time": "2023-05-31T14:44:28.392Z"
   },
   {
    "duration": 15,
    "start_time": "2023-05-31T14:44:28.420Z"
   },
   {
    "duration": 9,
    "start_time": "2023-05-31T14:44:28.437Z"
   },
   {
    "duration": 14,
    "start_time": "2023-05-31T14:44:28.447Z"
   },
   {
    "duration": 17,
    "start_time": "2023-05-31T14:44:28.462Z"
   },
   {
    "duration": 9,
    "start_time": "2023-05-31T14:44:28.481Z"
   },
   {
    "duration": 182,
    "start_time": "2023-05-31T14:44:28.492Z"
   },
   {
    "duration": 169,
    "start_time": "2023-05-31T14:44:28.676Z"
   },
   {
    "duration": 170,
    "start_time": "2023-05-31T14:44:28.847Z"
   },
   {
    "duration": 6,
    "start_time": "2023-05-31T14:44:29.019Z"
   },
   {
    "duration": 11,
    "start_time": "2023-05-31T14:44:29.026Z"
   },
   {
    "duration": 8,
    "start_time": "2023-05-31T14:44:29.038Z"
   },
   {
    "duration": 192,
    "start_time": "2023-05-31T14:44:29.048Z"
   },
   {
    "duration": 87,
    "start_time": "2023-05-31T14:44:29.241Z"
   },
   {
    "duration": 184,
    "start_time": "2023-05-31T14:44:29.329Z"
   },
   {
    "duration": 9,
    "start_time": "2023-05-31T14:44:29.514Z"
   },
   {
    "duration": 199,
    "start_time": "2023-05-31T14:44:29.525Z"
   },
   {
    "duration": 198,
    "start_time": "2023-05-31T14:44:29.726Z"
   },
   {
    "duration": 7,
    "start_time": "2023-05-31T14:44:29.926Z"
   },
   {
    "duration": 21,
    "start_time": "2023-05-31T14:44:29.934Z"
   },
   {
    "duration": 16,
    "start_time": "2023-05-31T14:44:29.956Z"
   },
   {
    "duration": 12,
    "start_time": "2023-05-31T14:44:29.974Z"
   },
   {
    "duration": 42,
    "start_time": "2023-05-31T14:44:29.988Z"
   },
   {
    "duration": 50,
    "start_time": "2023-05-31T14:44:30.032Z"
   },
   {
    "duration": 267,
    "start_time": "2023-05-31T14:44:30.083Z"
   },
   {
    "duration": 326,
    "start_time": "2023-05-31T14:44:30.351Z"
   },
   {
    "duration": 15,
    "start_time": "2023-05-31T14:44:30.680Z"
   },
   {
    "duration": 41,
    "start_time": "2023-05-31T14:44:30.698Z"
   },
   {
    "duration": 46,
    "start_time": "2023-05-31T14:44:30.741Z"
   },
   {
    "duration": 40,
    "start_time": "2023-05-31T14:44:30.790Z"
   },
   {
    "duration": 51,
    "start_time": "2023-05-31T14:44:30.832Z"
   },
   {
    "duration": 36,
    "start_time": "2023-05-31T14:44:30.885Z"
   },
   {
    "duration": 38,
    "start_time": "2023-05-31T14:44:30.926Z"
   },
   {
    "duration": 26,
    "start_time": "2023-05-31T14:44:30.966Z"
   },
   {
    "duration": 10,
    "start_time": "2023-05-31T14:44:30.994Z"
   },
   {
    "duration": 24,
    "start_time": "2023-05-31T14:44:31.006Z"
   },
   {
    "duration": 19,
    "start_time": "2023-05-31T14:44:31.032Z"
   },
   {
    "duration": 20,
    "start_time": "2023-05-31T14:44:31.053Z"
   },
   {
    "duration": 28,
    "start_time": "2023-05-31T14:44:31.075Z"
   },
   {
    "duration": 38,
    "start_time": "2023-05-31T14:44:31.105Z"
   },
   {
    "duration": 3,
    "start_time": "2023-05-31T15:07:36.155Z"
   },
   {
    "duration": 4,
    "start_time": "2023-05-31T15:07:40.650Z"
   },
   {
    "duration": 9,
    "start_time": "2023-06-01T05:32:41.708Z"
   },
   {
    "duration": 2049,
    "start_time": "2023-06-01T05:32:51.934Z"
   },
   {
    "duration": 435,
    "start_time": "2023-06-01T05:32:53.986Z"
   },
   {
    "duration": 38,
    "start_time": "2023-06-01T05:32:54.424Z"
   },
   {
    "duration": 17,
    "start_time": "2023-06-01T05:32:54.466Z"
   },
   {
    "duration": 65,
    "start_time": "2023-06-01T05:32:54.485Z"
   },
   {
    "duration": 10,
    "start_time": "2023-06-01T05:32:54.555Z"
   },
   {
    "duration": 28,
    "start_time": "2023-06-01T05:32:54.567Z"
   },
   {
    "duration": 14,
    "start_time": "2023-06-01T05:32:54.656Z"
   },
   {
    "duration": 8,
    "start_time": "2023-06-01T05:32:54.672Z"
   },
   {
    "duration": 66,
    "start_time": "2023-06-01T05:32:54.682Z"
   },
   {
    "duration": 11,
    "start_time": "2023-06-01T05:32:54.752Z"
   },
   {
    "duration": 14,
    "start_time": "2023-06-01T05:32:54.764Z"
   },
   {
    "duration": 5,
    "start_time": "2023-06-01T05:32:54.780Z"
   },
   {
    "duration": 4,
    "start_time": "2023-06-01T05:32:54.787Z"
   },
   {
    "duration": 69,
    "start_time": "2023-06-01T05:32:54.793Z"
   },
   {
    "duration": 10,
    "start_time": "2023-06-01T05:32:54.865Z"
   },
   {
    "duration": 9,
    "start_time": "2023-06-01T05:32:54.877Z"
   },
   {
    "duration": 66,
    "start_time": "2023-06-01T05:32:54.888Z"
   },
   {
    "duration": 10,
    "start_time": "2023-06-01T05:32:54.959Z"
   },
   {
    "duration": 9,
    "start_time": "2023-06-01T05:32:54.971Z"
   },
   {
    "duration": 475,
    "start_time": "2023-06-01T05:32:54.983Z"
   },
   {
    "duration": 100,
    "start_time": "2023-06-01T05:32:55.460Z"
   },
   {
    "duration": 206,
    "start_time": "2023-06-01T05:32:55.562Z"
   },
   {
    "duration": 8,
    "start_time": "2023-06-01T05:32:55.770Z"
   },
   {
    "duration": 250,
    "start_time": "2023-06-01T05:32:55.780Z"
   },
   {
    "duration": 244,
    "start_time": "2023-06-01T05:32:56.033Z"
   },
   {
    "duration": 11,
    "start_time": "2023-06-01T05:32:56.280Z"
   },
   {
    "duration": 31,
    "start_time": "2023-06-01T05:32:56.295Z"
   },
   {
    "duration": 27,
    "start_time": "2023-06-01T05:32:56.348Z"
   },
   {
    "duration": 17,
    "start_time": "2023-06-01T05:32:56.378Z"
   },
   {
    "duration": 19,
    "start_time": "2023-06-01T05:32:56.398Z"
   },
   {
    "duration": 48,
    "start_time": "2023-06-01T05:32:56.419Z"
   },
   {
    "duration": 272,
    "start_time": "2023-06-01T05:32:56.471Z"
   },
   {
    "duration": 314,
    "start_time": "2023-06-01T05:32:56.746Z"
   },
   {
    "duration": 16,
    "start_time": "2023-06-01T05:32:57.064Z"
   },
   {
    "duration": 15,
    "start_time": "2023-06-01T05:32:57.082Z"
   },
   {
    "duration": 65,
    "start_time": "2023-06-01T05:32:57.099Z"
   },
   {
    "duration": 31,
    "start_time": "2023-06-01T05:32:57.166Z"
   },
   {
    "duration": 61,
    "start_time": "2023-06-01T05:32:57.198Z"
   },
   {
    "duration": 21,
    "start_time": "2023-06-01T05:32:57.261Z"
   },
   {
    "duration": 21,
    "start_time": "2023-06-01T05:32:57.284Z"
   },
   {
    "duration": 15,
    "start_time": "2023-06-01T05:32:57.307Z"
   },
   {
    "duration": 16,
    "start_time": "2023-06-01T05:32:57.347Z"
   },
   {
    "duration": 15,
    "start_time": "2023-06-01T05:32:57.365Z"
   },
   {
    "duration": 10,
    "start_time": "2023-06-01T05:32:57.381Z"
   },
   {
    "duration": 9,
    "start_time": "2023-06-01T05:32:57.392Z"
   },
   {
    "duration": 7,
    "start_time": "2023-06-01T05:32:57.402Z"
   },
   {
    "duration": 15,
    "start_time": "2023-06-01T05:32:57.410Z"
   },
   {
    "duration": 4,
    "start_time": "2023-06-01T05:36:04.635Z"
   },
   {
    "duration": 4,
    "start_time": "2023-06-01T05:36:07.799Z"
   },
   {
    "duration": 4,
    "start_time": "2023-06-01T05:36:16.016Z"
   },
   {
    "duration": 7,
    "start_time": "2023-06-01T05:36:17.409Z"
   },
   {
    "duration": 3,
    "start_time": "2023-06-01T05:36:25.719Z"
   },
   {
    "duration": 7,
    "start_time": "2023-06-01T05:36:27.661Z"
   },
   {
    "duration": 8,
    "start_time": "2023-06-01T05:36:34.424Z"
   },
   {
    "duration": 9,
    "start_time": "2023-06-01T05:36:37.008Z"
   },
   {
    "duration": 3,
    "start_time": "2023-06-01T05:36:56.401Z"
   },
   {
    "duration": 53,
    "start_time": "2023-06-01T05:38:45.331Z"
   },
   {
    "duration": 125,
    "start_time": "2023-06-01T05:40:52.422Z"
   },
   {
    "duration": 417,
    "start_time": "2023-06-01T05:42:22.205Z"
   },
   {
    "duration": 100,
    "start_time": "2023-06-01T05:42:27.811Z"
   },
   {
    "duration": 115,
    "start_time": "2023-06-01T05:43:36.677Z"
   },
   {
    "duration": 102,
    "start_time": "2023-06-01T05:43:45.137Z"
   },
   {
    "duration": 99,
    "start_time": "2023-06-01T05:43:55.262Z"
   },
   {
    "duration": 97,
    "start_time": "2023-06-01T05:44:18.607Z"
   },
   {
    "duration": 295,
    "start_time": "2023-06-01T05:47:57.889Z"
   },
   {
    "duration": 62,
    "start_time": "2023-06-01T05:48:45.065Z"
   },
   {
    "duration": 344,
    "start_time": "2023-06-01T05:49:52.768Z"
   },
   {
    "duration": 64,
    "start_time": "2023-06-01T05:49:57.939Z"
   },
   {
    "duration": 92,
    "start_time": "2023-06-01T05:51:32.706Z"
   },
   {
    "duration": 59,
    "start_time": "2023-06-01T05:52:00.361Z"
   },
   {
    "duration": 66,
    "start_time": "2023-06-01T05:52:15.503Z"
   },
   {
    "duration": 83,
    "start_time": "2023-06-01T05:52:37.084Z"
   },
   {
    "duration": 75,
    "start_time": "2023-06-01T05:52:39.669Z"
   },
   {
    "duration": 647,
    "start_time": "2023-06-01T05:56:45.476Z"
   },
   {
    "duration": 561,
    "start_time": "2023-06-01T05:56:55.440Z"
   },
   {
    "duration": 79,
    "start_time": "2023-06-01T05:57:17.773Z"
   },
   {
    "duration": 290,
    "start_time": "2023-06-01T05:58:22.085Z"
   },
   {
    "duration": 277,
    "start_time": "2023-06-01T05:58:29.734Z"
   },
   {
    "duration": 240,
    "start_time": "2023-06-01T05:58:36.718Z"
   },
   {
    "duration": 75,
    "start_time": "2023-06-01T05:58:44.084Z"
   },
   {
    "duration": 1176,
    "start_time": "2023-06-01T06:00:02.290Z"
   },
   {
    "duration": 87,
    "start_time": "2023-06-01T06:00:14.929Z"
   },
   {
    "duration": 513,
    "start_time": "2023-06-01T06:01:26.873Z"
   },
   {
    "duration": 85,
    "start_time": "2023-06-01T06:02:01.918Z"
   },
   {
    "duration": 57,
    "start_time": "2023-06-01T06:04:11.012Z"
   },
   {
    "duration": 55,
    "start_time": "2023-06-01T06:04:17.161Z"
   },
   {
    "duration": 1185,
    "start_time": "2023-06-01T06:04:53.622Z"
   },
   {
    "duration": 62,
    "start_time": "2023-06-01T06:05:03.322Z"
   },
   {
    "duration": 74,
    "start_time": "2023-06-01T06:05:10.502Z"
   },
   {
    "duration": 73,
    "start_time": "2023-06-01T06:05:14.323Z"
   },
   {
    "duration": 76,
    "start_time": "2023-06-01T06:05:36.574Z"
   },
   {
    "duration": 82,
    "start_time": "2023-06-01T06:06:31.296Z"
   },
   {
    "duration": 56,
    "start_time": "2023-06-01T06:07:58.887Z"
   },
   {
    "duration": 62,
    "start_time": "2023-06-01T06:08:06.587Z"
   },
   {
    "duration": 97,
    "start_time": "2023-06-01T06:10:52.498Z"
   },
   {
    "duration": 28,
    "start_time": "2023-06-01T06:15:04.168Z"
   },
   {
    "duration": 19,
    "start_time": "2023-06-01T06:15:18.675Z"
   },
   {
    "duration": 14,
    "start_time": "2023-06-01T06:18:32.502Z"
   },
   {
    "duration": 10,
    "start_time": "2023-06-01T06:18:38.688Z"
   },
   {
    "duration": 6,
    "start_time": "2023-06-01T06:18:40.290Z"
   },
   {
    "duration": 11,
    "start_time": "2023-06-01T06:20:37.470Z"
   },
   {
    "duration": 5,
    "start_time": "2023-06-01T06:20:53.236Z"
   },
   {
    "duration": 6,
    "start_time": "2023-06-01T06:21:10.197Z"
   },
   {
    "duration": 223,
    "start_time": "2023-06-01T06:22:02.743Z"
   },
   {
    "duration": 6,
    "start_time": "2023-06-01T06:22:54.134Z"
   },
   {
    "duration": 47,
    "start_time": "2023-06-01T06:23:45.083Z"
   },
   {
    "duration": 5,
    "start_time": "2023-06-01T07:43:14.593Z"
   },
   {
    "duration": 972,
    "start_time": "2023-06-01T15:01:16.199Z"
   },
   {
    "duration": 102,
    "start_time": "2023-06-01T15:01:17.173Z"
   },
   {
    "duration": 11,
    "start_time": "2023-06-01T15:01:17.277Z"
   },
   {
    "duration": 13,
    "start_time": "2023-06-01T15:01:17.290Z"
   },
   {
    "duration": 8,
    "start_time": "2023-06-01T15:01:17.305Z"
   },
   {
    "duration": 18,
    "start_time": "2023-06-01T15:01:17.315Z"
   },
   {
    "duration": 18,
    "start_time": "2023-06-01T15:01:17.335Z"
   },
   {
    "duration": 10,
    "start_time": "2023-06-01T15:01:17.355Z"
   },
   {
    "duration": 6,
    "start_time": "2023-06-01T15:01:17.385Z"
   },
   {
    "duration": 39,
    "start_time": "2023-06-01T15:01:17.393Z"
   },
   {
    "duration": 30,
    "start_time": "2023-06-01T15:01:17.435Z"
   },
   {
    "duration": 31,
    "start_time": "2023-06-01T15:01:17.467Z"
   },
   {
    "duration": 18,
    "start_time": "2023-06-01T15:01:17.500Z"
   },
   {
    "duration": 8,
    "start_time": "2023-06-01T15:01:17.521Z"
   },
   {
    "duration": 10,
    "start_time": "2023-06-01T15:01:17.531Z"
   },
   {
    "duration": 44,
    "start_time": "2023-06-01T15:01:17.543Z"
   },
   {
    "duration": 7,
    "start_time": "2023-06-01T15:01:17.588Z"
   },
   {
    "duration": 18,
    "start_time": "2023-06-01T15:01:17.597Z"
   },
   {
    "duration": 21,
    "start_time": "2023-06-01T15:01:17.616Z"
   },
   {
    "duration": 14,
    "start_time": "2023-06-01T15:01:17.639Z"
   },
   {
    "duration": 10,
    "start_time": "2023-06-01T15:01:17.655Z"
   },
   {
    "duration": 167,
    "start_time": "2023-06-01T15:01:17.667Z"
   },
   {
    "duration": 81,
    "start_time": "2023-06-01T15:01:17.835Z"
   },
   {
    "duration": 218,
    "start_time": "2023-06-01T15:01:17.917Z"
   },
   {
    "duration": 8,
    "start_time": "2023-06-01T15:01:18.136Z"
   },
   {
    "duration": 210,
    "start_time": "2023-06-01T15:01:18.145Z"
   },
   {
    "duration": 214,
    "start_time": "2023-06-01T15:01:18.357Z"
   },
   {
    "duration": 12,
    "start_time": "2023-06-01T15:01:18.573Z"
   },
   {
    "duration": 17,
    "start_time": "2023-06-01T15:01:18.587Z"
   },
   {
    "duration": 16,
    "start_time": "2023-06-01T15:01:18.605Z"
   },
   {
    "duration": 13,
    "start_time": "2023-06-01T15:01:18.623Z"
   },
   {
    "duration": 50,
    "start_time": "2023-06-01T15:01:18.637Z"
   },
   {
    "duration": 17,
    "start_time": "2023-06-01T15:01:18.689Z"
   },
   {
    "duration": 273,
    "start_time": "2023-06-01T15:01:18.708Z"
   },
   {
    "duration": 233,
    "start_time": "2023-06-01T15:01:18.984Z"
   },
   {
    "duration": 13,
    "start_time": "2023-06-01T15:01:19.219Z"
   },
   {
    "duration": 13,
    "start_time": "2023-06-01T15:01:19.233Z"
   },
   {
    "duration": 69,
    "start_time": "2023-06-01T15:01:19.247Z"
   },
   {
    "duration": 19,
    "start_time": "2023-06-01T15:01:19.317Z"
   },
   {
    "duration": 23,
    "start_time": "2023-06-01T15:01:19.337Z"
   },
   {
    "duration": 4,
    "start_time": "2023-06-01T15:01:19.363Z"
   },
   {
    "duration": 18,
    "start_time": "2023-06-01T15:01:19.369Z"
   },
   {
    "duration": 18,
    "start_time": "2023-06-01T15:01:19.388Z"
   },
   {
    "duration": 23,
    "start_time": "2023-06-01T15:01:19.407Z"
   },
   {
    "duration": 13,
    "start_time": "2023-06-01T15:01:19.432Z"
   },
   {
    "duration": 7,
    "start_time": "2023-06-01T15:01:19.447Z"
   }
  ],
  "kernelspec": {
   "display_name": "Python 3 (ipykernel)",
   "language": "python",
   "name": "python3"
  },
  "language_info": {
   "codemirror_mode": {
    "name": "ipython",
    "version": 3
   },
   "file_extension": ".py",
   "mimetype": "text/x-python",
   "name": "python",
   "nbconvert_exporter": "python",
   "pygments_lexer": "ipython3",
   "version": "3.9.5"
  },
  "toc": {
   "base_numbering": 1,
   "nav_menu": {
    "height": "553px",
    "width": "947px"
   },
   "number_sections": true,
   "sideBar": true,
   "skip_h1_title": true,
   "title_cell": "Содержание",
   "title_sidebar": "Contents",
   "toc_cell": true,
   "toc_position": {
    "height": "calc(100% - 180px)",
    "left": "10px",
    "top": "150px",
    "width": "290.875px"
   },
   "toc_section_display": true,
   "toc_window_display": true
  }
 },
 "nbformat": 4,
 "nbformat_minor": 5
}
