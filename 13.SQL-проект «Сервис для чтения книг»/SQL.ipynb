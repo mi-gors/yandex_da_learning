{
 "cells": [
  {
   "cell_type": "markdown",
   "metadata": {},
   "source": [
    "# SQL-проект «Сервис для чтения книг»"
   ]
  },
  {
   "cell_type": "markdown",
   "metadata": {
    "toc": true
   },
   "source": [
    "<h1>Содержание<span class=\"tocSkip\"></span></h1>\n",
    "<div class=\"toc\"><ul class=\"toc-item\"><li><span><a href=\"#Описание-проекта\" data-toc-modified-id=\"Описание-проекта-1\"><span class=\"toc-item-num\">1&nbsp;&nbsp;</span>Описание проекта</a></span></li><li><span><a href=\"#Подготовка-данных\" data-toc-modified-id=\"Подготовка-данных-2\"><span class=\"toc-item-num\">2&nbsp;&nbsp;</span>Подготовка данных</a></span></li><li><span><a href=\"#SQL-запросы\" data-toc-modified-id=\"SQL-запросы-3\"><span class=\"toc-item-num\">3&nbsp;&nbsp;</span>SQL-запросы</a></span><ul class=\"toc-item\"><li><span><a href=\"#Посчитаем-сколько-книг-вышло-после-1-января-2000-года\" data-toc-modified-id=\"Посчитаем-сколько-книг-вышло-после-1-января-2000-года-3.1\"><span class=\"toc-item-num\">3.1&nbsp;&nbsp;</span>Посчитаем сколько книг вышло после 1 января 2000 года</a></span></li><li><span><a href=\"#Для-каждой-книги-посчитаем-количество-обзоров-и-среднюю-оценку\" data-toc-modified-id=\"Для-каждой-книги-посчитаем-количество-обзоров-и-среднюю-оценку-3.2\"><span class=\"toc-item-num\">3.2&nbsp;&nbsp;</span>Для каждой книги посчитаем количество обзоров и среднюю оценку</a></span></li><li><span><a href=\"#Издательство,-которое-выпустило-наибольшее-число-книг-толще-50-страниц\" data-toc-modified-id=\"Издательство,-которое-выпустило-наибольшее-число-книг-толще-50-страниц-3.3\"><span class=\"toc-item-num\">3.3&nbsp;&nbsp;</span>Издательство, которое выпустило наибольшее число книг толще 50 страниц</a></span></li><li><span><a href=\"#Автор-с-самой-высокой-средней-оценкой-книг\" data-toc-modified-id=\"Автор-с-самой-высокой-средней-оценкой-книг-3.4\"><span class=\"toc-item-num\">3.4&nbsp;&nbsp;</span>Автор с самой высокой средней оценкой книг</a></span></li><li><span><a href=\"#Среднее-количество-обзоров-от-пользователей,-которые-поставили-больше-48-оценок.\" data-toc-modified-id=\"Среднее-количество-обзоров-от-пользователей,-которые-поставили-больше-48-оценок.-3.5\"><span class=\"toc-item-num\">3.5&nbsp;&nbsp;</span>Среднее количество обзоров от пользователей, которые поставили больше 48 оценок.</a></span></li></ul></li><li><span><a href=\"#Итоговый-вывод\" data-toc-modified-id=\"Итоговый-вывод-4\"><span class=\"toc-item-num\">4&nbsp;&nbsp;</span>Итоговый вывод</a></span></li></ul></div>"
   ]
  },
  {
   "cell_type": "markdown",
   "metadata": {},
   "source": [
    "## Описание проекта"
   ]
  },
  {
   "cell_type": "markdown",
   "metadata": {},
   "source": [
    "<div class=\"alert alert-info\">\n",
    "<font size=\"3\", color = \"black\"><b> Цель проекта:  </b> <br/> проанализировать базу данных о книгах, издательствах, авторах и пользовательских обзорах, чтобы сформулировать ценностное предложение для нового продукта."
   ]
  },
  {
   "cell_type": "markdown",
   "metadata": {},
   "source": [
    "## Подготовка данных"
   ]
  },
  {
   "cell_type": "code",
   "execution_count": 1,
   "metadata": {},
   "outputs": [],
   "source": [
    "# импортируем библиотеки\n",
    "import pandas as pd\n",
    "from sqlalchemy import text, create_engine\n",
    "import sqlalchemy as sa\n",
    "# устанавливаем параметры\n",
    "db_config = {'user': 'praktikum_student', # имя пользователя\n",
    "'pwd': 'Sdf4$2;d-d30pp', # пароль\n",
    "'host': 'rc1b-wcoijxj3yxfsf3fs.mdb.yandexcloud.net',\n",
    "'port': 6432, # порт подключения\n",
    "'db': 'data-analyst-final-project-db'} # название базы данных\n",
    "connection_string = 'postgresql://{user}:{pwd}@{host}:{port}/{db}'.format(**db_config)\n",
    "# сохраняем коннектор\n",
    "engine = create_engine(connection_string, connect_args={'sslmode':'require'})\n",
    "\n",
    "#создаем функцию\n",
    "def get_sql(query:str, engine:sa.engine.base.Engine=engine) -> pd.DataFrame:\n",
    "  with engine.connect() as con:\n",
    "    return pd.read_sql(sql=sa.text(query), con = con)\n"
   ]
  },
  {
   "cell_type": "markdown",
   "metadata": {},
   "source": [
    "<div class=\"alert alert-info\">\n",
    "<font size=\"3\", color = \"black\">\n",
    "Рассмотрим таблицу с информацией о книгах"
   ]
  },
  {
   "cell_type": "code",
   "execution_count": 2,
   "metadata": {},
   "outputs": [
    {
     "data": {
      "text/html": [
       "<div>\n",
       "<style scoped>\n",
       "    .dataframe tbody tr th:only-of-type {\n",
       "        vertical-align: middle;\n",
       "    }\n",
       "\n",
       "    .dataframe tbody tr th {\n",
       "        vertical-align: top;\n",
       "    }\n",
       "\n",
       "    .dataframe thead th {\n",
       "        text-align: right;\n",
       "    }\n",
       "</style>\n",
       "<table border=\"1\" class=\"dataframe\">\n",
       "  <thead>\n",
       "    <tr style=\"text-align: right;\">\n",
       "      <th></th>\n",
       "      <th>book_id</th>\n",
       "      <th>author_id</th>\n",
       "      <th>title</th>\n",
       "      <th>num_pages</th>\n",
       "      <th>publication_date</th>\n",
       "      <th>publisher_id</th>\n",
       "    </tr>\n",
       "  </thead>\n",
       "  <tbody>\n",
       "    <tr>\n",
       "      <th>0</th>\n",
       "      <td>1</td>\n",
       "      <td>546</td>\n",
       "      <td>'Salem's Lot</td>\n",
       "      <td>594</td>\n",
       "      <td>2005-11-01</td>\n",
       "      <td>93</td>\n",
       "    </tr>\n",
       "    <tr>\n",
       "      <th>1</th>\n",
       "      <td>2</td>\n",
       "      <td>465</td>\n",
       "      <td>1 000 Places to See Before You Die</td>\n",
       "      <td>992</td>\n",
       "      <td>2003-05-22</td>\n",
       "      <td>336</td>\n",
       "    </tr>\n",
       "    <tr>\n",
       "      <th>2</th>\n",
       "      <td>3</td>\n",
       "      <td>407</td>\n",
       "      <td>13 Little Blue Envelopes (Little Blue Envelope...</td>\n",
       "      <td>322</td>\n",
       "      <td>2010-12-21</td>\n",
       "      <td>135</td>\n",
       "    </tr>\n",
       "    <tr>\n",
       "      <th>3</th>\n",
       "      <td>4</td>\n",
       "      <td>82</td>\n",
       "      <td>1491: New Revelations of the Americas Before C...</td>\n",
       "      <td>541</td>\n",
       "      <td>2006-10-10</td>\n",
       "      <td>309</td>\n",
       "    </tr>\n",
       "    <tr>\n",
       "      <th>4</th>\n",
       "      <td>5</td>\n",
       "      <td>125</td>\n",
       "      <td>1776</td>\n",
       "      <td>386</td>\n",
       "      <td>2006-07-04</td>\n",
       "      <td>268</td>\n",
       "    </tr>\n",
       "    <tr>\n",
       "      <th>5</th>\n",
       "      <td>6</td>\n",
       "      <td>257</td>\n",
       "      <td>1st to Die (Women's Murder Club  #1)</td>\n",
       "      <td>424</td>\n",
       "      <td>2005-05-20</td>\n",
       "      <td>116</td>\n",
       "    </tr>\n",
       "    <tr>\n",
       "      <th>6</th>\n",
       "      <td>7</td>\n",
       "      <td>258</td>\n",
       "      <td>2nd Chance (Women's Murder Club  #2)</td>\n",
       "      <td>400</td>\n",
       "      <td>2005-05-20</td>\n",
       "      <td>116</td>\n",
       "    </tr>\n",
       "    <tr>\n",
       "      <th>7</th>\n",
       "      <td>8</td>\n",
       "      <td>260</td>\n",
       "      <td>4th of July (Women's Murder Club  #4)</td>\n",
       "      <td>448</td>\n",
       "      <td>2006-06-01</td>\n",
       "      <td>318</td>\n",
       "    </tr>\n",
       "    <tr>\n",
       "      <th>8</th>\n",
       "      <td>9</td>\n",
       "      <td>563</td>\n",
       "      <td>A Beautiful Mind</td>\n",
       "      <td>461</td>\n",
       "      <td>2002-02-04</td>\n",
       "      <td>104</td>\n",
       "    </tr>\n",
       "    <tr>\n",
       "      <th>9</th>\n",
       "      <td>10</td>\n",
       "      <td>445</td>\n",
       "      <td>A Bend in the Road</td>\n",
       "      <td>341</td>\n",
       "      <td>2005-04-01</td>\n",
       "      <td>116</td>\n",
       "    </tr>\n",
       "  </tbody>\n",
       "</table>\n",
       "</div>"
      ],
      "text/plain": [
       "   book_id  author_id                                              title  \\\n",
       "0        1        546                                       'Salem's Lot   \n",
       "1        2        465                 1 000 Places to See Before You Die   \n",
       "2        3        407  13 Little Blue Envelopes (Little Blue Envelope...   \n",
       "3        4         82  1491: New Revelations of the Americas Before C...   \n",
       "4        5        125                                               1776   \n",
       "5        6        257               1st to Die (Women's Murder Club  #1)   \n",
       "6        7        258               2nd Chance (Women's Murder Club  #2)   \n",
       "7        8        260              4th of July (Women's Murder Club  #4)   \n",
       "8        9        563                                   A Beautiful Mind   \n",
       "9       10        445                                 A Bend in the Road   \n",
       "\n",
       "   num_pages publication_date  publisher_id  \n",
       "0        594       2005-11-01            93  \n",
       "1        992       2003-05-22           336  \n",
       "2        322       2010-12-21           135  \n",
       "3        541       2006-10-10           309  \n",
       "4        386       2006-07-04           268  \n",
       "5        424       2005-05-20           116  \n",
       "6        400       2005-05-20           116  \n",
       "7        448       2006-06-01           318  \n",
       "8        461       2002-02-04           104  \n",
       "9        341       2005-04-01           116  "
      ]
     },
     "execution_count": 2,
     "metadata": {},
     "output_type": "execute_result"
    }
   ],
   "source": [
    "query = '''SELECT * FROM books LIMIT 10'''\n",
    "get_sql(query)"
   ]
  },
  {
   "cell_type": "markdown",
   "metadata": {},
   "source": [
    "<div class=\"alert alert-info\">\n",
    "<font size=\"3\", color = \"black\">\n",
    "Рассмотрим таблицу с информацией об авторах"
   ]
  },
  {
   "cell_type": "code",
   "execution_count": 3,
   "metadata": {},
   "outputs": [
    {
     "data": {
      "text/html": [
       "<div>\n",
       "<style scoped>\n",
       "    .dataframe tbody tr th:only-of-type {\n",
       "        vertical-align: middle;\n",
       "    }\n",
       "\n",
       "    .dataframe tbody tr th {\n",
       "        vertical-align: top;\n",
       "    }\n",
       "\n",
       "    .dataframe thead th {\n",
       "        text-align: right;\n",
       "    }\n",
       "</style>\n",
       "<table border=\"1\" class=\"dataframe\">\n",
       "  <thead>\n",
       "    <tr style=\"text-align: right;\">\n",
       "      <th></th>\n",
       "      <th>author_id</th>\n",
       "      <th>author</th>\n",
       "    </tr>\n",
       "  </thead>\n",
       "  <tbody>\n",
       "    <tr>\n",
       "      <th>0</th>\n",
       "      <td>1</td>\n",
       "      <td>A.S. Byatt</td>\n",
       "    </tr>\n",
       "    <tr>\n",
       "      <th>1</th>\n",
       "      <td>2</td>\n",
       "      <td>Aesop/Laura Harris/Laura Gibbs</td>\n",
       "    </tr>\n",
       "    <tr>\n",
       "      <th>2</th>\n",
       "      <td>3</td>\n",
       "      <td>Agatha Christie</td>\n",
       "    </tr>\n",
       "    <tr>\n",
       "      <th>3</th>\n",
       "      <td>4</td>\n",
       "      <td>Alan Brennert</td>\n",
       "    </tr>\n",
       "    <tr>\n",
       "      <th>4</th>\n",
       "      <td>5</td>\n",
       "      <td>Alan Moore/David   Lloyd</td>\n",
       "    </tr>\n",
       "    <tr>\n",
       "      <th>5</th>\n",
       "      <td>6</td>\n",
       "      <td>Alan Paton</td>\n",
       "    </tr>\n",
       "    <tr>\n",
       "      <th>6</th>\n",
       "      <td>7</td>\n",
       "      <td>Albert Camus/Justin O'Brien</td>\n",
       "    </tr>\n",
       "    <tr>\n",
       "      <th>7</th>\n",
       "      <td>8</td>\n",
       "      <td>Aldous Huxley</td>\n",
       "    </tr>\n",
       "    <tr>\n",
       "      <th>8</th>\n",
       "      <td>9</td>\n",
       "      <td>Aldous Huxley/Christopher Hitchens</td>\n",
       "    </tr>\n",
       "    <tr>\n",
       "      <th>9</th>\n",
       "      <td>10</td>\n",
       "      <td>Aleksandr Solzhenitsyn/H.T. Willetts</td>\n",
       "    </tr>\n",
       "  </tbody>\n",
       "</table>\n",
       "</div>"
      ],
      "text/plain": [
       "   author_id                                author\n",
       "0          1                            A.S. Byatt\n",
       "1          2        Aesop/Laura Harris/Laura Gibbs\n",
       "2          3                       Agatha Christie\n",
       "3          4                         Alan Brennert\n",
       "4          5              Alan Moore/David   Lloyd\n",
       "5          6                            Alan Paton\n",
       "6          7           Albert Camus/Justin O'Brien\n",
       "7          8                         Aldous Huxley\n",
       "8          9    Aldous Huxley/Christopher Hitchens\n",
       "9         10  Aleksandr Solzhenitsyn/H.T. Willetts"
      ]
     },
     "execution_count": 3,
     "metadata": {},
     "output_type": "execute_result"
    }
   ],
   "source": [
    "query = '''SELECT * FROM authors LIMIT 10'''\n",
    "get_sql(query)"
   ]
  },
  {
   "cell_type": "markdown",
   "metadata": {},
   "source": [
    "<div class=\"alert alert-info\">\n",
    "<font size=\"3\", color = \"black\">\n",
    "Рассмотрим таблицу с информацией об издательствах"
   ]
  },
  {
   "cell_type": "code",
   "execution_count": 4,
   "metadata": {},
   "outputs": [
    {
     "data": {
      "text/html": [
       "<div>\n",
       "<style scoped>\n",
       "    .dataframe tbody tr th:only-of-type {\n",
       "        vertical-align: middle;\n",
       "    }\n",
       "\n",
       "    .dataframe tbody tr th {\n",
       "        vertical-align: top;\n",
       "    }\n",
       "\n",
       "    .dataframe thead th {\n",
       "        text-align: right;\n",
       "    }\n",
       "</style>\n",
       "<table border=\"1\" class=\"dataframe\">\n",
       "  <thead>\n",
       "    <tr style=\"text-align: right;\">\n",
       "      <th></th>\n",
       "      <th>publisher_id</th>\n",
       "      <th>publisher</th>\n",
       "    </tr>\n",
       "  </thead>\n",
       "  <tbody>\n",
       "    <tr>\n",
       "      <th>0</th>\n",
       "      <td>1</td>\n",
       "      <td>Ace</td>\n",
       "    </tr>\n",
       "    <tr>\n",
       "      <th>1</th>\n",
       "      <td>2</td>\n",
       "      <td>Ace Book</td>\n",
       "    </tr>\n",
       "    <tr>\n",
       "      <th>2</th>\n",
       "      <td>3</td>\n",
       "      <td>Ace Books</td>\n",
       "    </tr>\n",
       "    <tr>\n",
       "      <th>3</th>\n",
       "      <td>4</td>\n",
       "      <td>Ace Hardcover</td>\n",
       "    </tr>\n",
       "    <tr>\n",
       "      <th>4</th>\n",
       "      <td>5</td>\n",
       "      <td>Addison Wesley Publishing Company</td>\n",
       "    </tr>\n",
       "    <tr>\n",
       "      <th>5</th>\n",
       "      <td>6</td>\n",
       "      <td>Aladdin</td>\n",
       "    </tr>\n",
       "    <tr>\n",
       "      <th>6</th>\n",
       "      <td>7</td>\n",
       "      <td>Aladdin Paperbacks</td>\n",
       "    </tr>\n",
       "    <tr>\n",
       "      <th>7</th>\n",
       "      <td>8</td>\n",
       "      <td>Albin Michel</td>\n",
       "    </tr>\n",
       "    <tr>\n",
       "      <th>8</th>\n",
       "      <td>9</td>\n",
       "      <td>Alfred A. Knopf</td>\n",
       "    </tr>\n",
       "    <tr>\n",
       "      <th>9</th>\n",
       "      <td>10</td>\n",
       "      <td>Alfred A. Knopf Books for Young Readers</td>\n",
       "    </tr>\n",
       "  </tbody>\n",
       "</table>\n",
       "</div>"
      ],
      "text/plain": [
       "   publisher_id                                publisher\n",
       "0             1                                      Ace\n",
       "1             2                                 Ace Book\n",
       "2             3                                Ace Books\n",
       "3             4                            Ace Hardcover\n",
       "4             5        Addison Wesley Publishing Company\n",
       "5             6                                  Aladdin\n",
       "6             7                       Aladdin Paperbacks\n",
       "7             8                             Albin Michel\n",
       "8             9                          Alfred A. Knopf\n",
       "9            10  Alfred A. Knopf Books for Young Readers"
      ]
     },
     "execution_count": 4,
     "metadata": {},
     "output_type": "execute_result"
    }
   ],
   "source": [
    "query = '''SELECT * FROM publishers LIMIT 10'''\n",
    "get_sql(query)"
   ]
  },
  {
   "cell_type": "markdown",
   "metadata": {},
   "source": [
    "<div class=\"alert alert-info\">\n",
    "<font size=\"3\", color = \"black\">\n",
    "Рассмотрим таблицу с информацией о пользовательских оценках"
   ]
  },
  {
   "cell_type": "code",
   "execution_count": 5,
   "metadata": {},
   "outputs": [
    {
     "data": {
      "text/html": [
       "<div>\n",
       "<style scoped>\n",
       "    .dataframe tbody tr th:only-of-type {\n",
       "        vertical-align: middle;\n",
       "    }\n",
       "\n",
       "    .dataframe tbody tr th {\n",
       "        vertical-align: top;\n",
       "    }\n",
       "\n",
       "    .dataframe thead th {\n",
       "        text-align: right;\n",
       "    }\n",
       "</style>\n",
       "<table border=\"1\" class=\"dataframe\">\n",
       "  <thead>\n",
       "    <tr style=\"text-align: right;\">\n",
       "      <th></th>\n",
       "      <th>rating_id</th>\n",
       "      <th>book_id</th>\n",
       "      <th>username</th>\n",
       "      <th>rating</th>\n",
       "    </tr>\n",
       "  </thead>\n",
       "  <tbody>\n",
       "    <tr>\n",
       "      <th>0</th>\n",
       "      <td>1</td>\n",
       "      <td>1</td>\n",
       "      <td>ryanfranco</td>\n",
       "      <td>4</td>\n",
       "    </tr>\n",
       "    <tr>\n",
       "      <th>1</th>\n",
       "      <td>2</td>\n",
       "      <td>1</td>\n",
       "      <td>grantpatricia</td>\n",
       "      <td>2</td>\n",
       "    </tr>\n",
       "    <tr>\n",
       "      <th>2</th>\n",
       "      <td>3</td>\n",
       "      <td>1</td>\n",
       "      <td>brandtandrea</td>\n",
       "      <td>5</td>\n",
       "    </tr>\n",
       "    <tr>\n",
       "      <th>3</th>\n",
       "      <td>4</td>\n",
       "      <td>2</td>\n",
       "      <td>lorichen</td>\n",
       "      <td>3</td>\n",
       "    </tr>\n",
       "    <tr>\n",
       "      <th>4</th>\n",
       "      <td>5</td>\n",
       "      <td>2</td>\n",
       "      <td>mariokeller</td>\n",
       "      <td>2</td>\n",
       "    </tr>\n",
       "    <tr>\n",
       "      <th>5</th>\n",
       "      <td>6</td>\n",
       "      <td>3</td>\n",
       "      <td>johnsonamanda</td>\n",
       "      <td>4</td>\n",
       "    </tr>\n",
       "    <tr>\n",
       "      <th>6</th>\n",
       "      <td>7</td>\n",
       "      <td>3</td>\n",
       "      <td>scotttamara</td>\n",
       "      <td>5</td>\n",
       "    </tr>\n",
       "    <tr>\n",
       "      <th>7</th>\n",
       "      <td>8</td>\n",
       "      <td>3</td>\n",
       "      <td>lesliegibbs</td>\n",
       "      <td>5</td>\n",
       "    </tr>\n",
       "    <tr>\n",
       "      <th>8</th>\n",
       "      <td>9</td>\n",
       "      <td>4</td>\n",
       "      <td>abbottjames</td>\n",
       "      <td>5</td>\n",
       "    </tr>\n",
       "    <tr>\n",
       "      <th>9</th>\n",
       "      <td>10</td>\n",
       "      <td>4</td>\n",
       "      <td>valenciaanne</td>\n",
       "      <td>4</td>\n",
       "    </tr>\n",
       "  </tbody>\n",
       "</table>\n",
       "</div>"
      ],
      "text/plain": [
       "   rating_id  book_id       username  rating\n",
       "0          1        1     ryanfranco       4\n",
       "1          2        1  grantpatricia       2\n",
       "2          3        1   brandtandrea       5\n",
       "3          4        2       lorichen       3\n",
       "4          5        2    mariokeller       2\n",
       "5          6        3  johnsonamanda       4\n",
       "6          7        3    scotttamara       5\n",
       "7          8        3    lesliegibbs       5\n",
       "8          9        4    abbottjames       5\n",
       "9         10        4   valenciaanne       4"
      ]
     },
     "execution_count": 5,
     "metadata": {},
     "output_type": "execute_result"
    }
   ],
   "source": [
    "query = '''SELECT * FROM ratings LIMIT 10'''\n",
    "get_sql(query)"
   ]
  },
  {
   "cell_type": "markdown",
   "metadata": {},
   "source": [
    "<div class=\"alert alert-info\">\n",
    "<font size=\"3\", color = \"black\">\n",
    "Рассмотрим таблицу с информацией о пользовательских обзорах"
   ]
  },
  {
   "cell_type": "code",
   "execution_count": 6,
   "metadata": {
    "scrolled": true
   },
   "outputs": [
    {
     "data": {
      "text/html": [
       "<div>\n",
       "<style scoped>\n",
       "    .dataframe tbody tr th:only-of-type {\n",
       "        vertical-align: middle;\n",
       "    }\n",
       "\n",
       "    .dataframe tbody tr th {\n",
       "        vertical-align: top;\n",
       "    }\n",
       "\n",
       "    .dataframe thead th {\n",
       "        text-align: right;\n",
       "    }\n",
       "</style>\n",
       "<table border=\"1\" class=\"dataframe\">\n",
       "  <thead>\n",
       "    <tr style=\"text-align: right;\">\n",
       "      <th></th>\n",
       "      <th>review_id</th>\n",
       "      <th>book_id</th>\n",
       "      <th>username</th>\n",
       "      <th>text</th>\n",
       "    </tr>\n",
       "  </thead>\n",
       "  <tbody>\n",
       "    <tr>\n",
       "      <th>0</th>\n",
       "      <td>1</td>\n",
       "      <td>1</td>\n",
       "      <td>brandtandrea</td>\n",
       "      <td>Mention society tell send professor analysis. ...</td>\n",
       "    </tr>\n",
       "    <tr>\n",
       "      <th>1</th>\n",
       "      <td>2</td>\n",
       "      <td>1</td>\n",
       "      <td>ryanfranco</td>\n",
       "      <td>Foot glass pretty audience hit themselves. Amo...</td>\n",
       "    </tr>\n",
       "    <tr>\n",
       "      <th>2</th>\n",
       "      <td>3</td>\n",
       "      <td>2</td>\n",
       "      <td>lorichen</td>\n",
       "      <td>Listen treat keep worry. Miss husband tax but ...</td>\n",
       "    </tr>\n",
       "    <tr>\n",
       "      <th>3</th>\n",
       "      <td>4</td>\n",
       "      <td>3</td>\n",
       "      <td>johnsonamanda</td>\n",
       "      <td>Finally month interesting blue could nature cu...</td>\n",
       "    </tr>\n",
       "    <tr>\n",
       "      <th>4</th>\n",
       "      <td>5</td>\n",
       "      <td>3</td>\n",
       "      <td>scotttamara</td>\n",
       "      <td>Nation purpose heavy give wait song will. List...</td>\n",
       "    </tr>\n",
       "    <tr>\n",
       "      <th>5</th>\n",
       "      <td>6</td>\n",
       "      <td>3</td>\n",
       "      <td>lesliegibbs</td>\n",
       "      <td>Analysis no several cause international.</td>\n",
       "    </tr>\n",
       "    <tr>\n",
       "      <th>6</th>\n",
       "      <td>7</td>\n",
       "      <td>4</td>\n",
       "      <td>valenciaanne</td>\n",
       "      <td>One there cost another. Say type save. With pe...</td>\n",
       "    </tr>\n",
       "    <tr>\n",
       "      <th>7</th>\n",
       "      <td>8</td>\n",
       "      <td>4</td>\n",
       "      <td>abbottjames</td>\n",
       "      <td>Within enough mother. There at system full rec...</td>\n",
       "    </tr>\n",
       "    <tr>\n",
       "      <th>8</th>\n",
       "      <td>9</td>\n",
       "      <td>5</td>\n",
       "      <td>npowers</td>\n",
       "      <td>Thank now focus realize economy focus fly. Ite...</td>\n",
       "    </tr>\n",
       "    <tr>\n",
       "      <th>9</th>\n",
       "      <td>10</td>\n",
       "      <td>5</td>\n",
       "      <td>staylor</td>\n",
       "      <td>Game push lot reduce where remember. Including...</td>\n",
       "    </tr>\n",
       "  </tbody>\n",
       "</table>\n",
       "</div>"
      ],
      "text/plain": [
       "   review_id  book_id       username  \\\n",
       "0          1        1   brandtandrea   \n",
       "1          2        1     ryanfranco   \n",
       "2          3        2       lorichen   \n",
       "3          4        3  johnsonamanda   \n",
       "4          5        3    scotttamara   \n",
       "5          6        3    lesliegibbs   \n",
       "6          7        4   valenciaanne   \n",
       "7          8        4    abbottjames   \n",
       "8          9        5        npowers   \n",
       "9         10        5        staylor   \n",
       "\n",
       "                                                text  \n",
       "0  Mention society tell send professor analysis. ...  \n",
       "1  Foot glass pretty audience hit themselves. Amo...  \n",
       "2  Listen treat keep worry. Miss husband tax but ...  \n",
       "3  Finally month interesting blue could nature cu...  \n",
       "4  Nation purpose heavy give wait song will. List...  \n",
       "5           Analysis no several cause international.  \n",
       "6  One there cost another. Say type save. With pe...  \n",
       "7  Within enough mother. There at system full rec...  \n",
       "8  Thank now focus realize economy focus fly. Ite...  \n",
       "9  Game push lot reduce where remember. Including...  "
      ]
     },
     "execution_count": 6,
     "metadata": {},
     "output_type": "execute_result"
    }
   ],
   "source": [
    "query = '''SELECT * FROM reviews LIMIT 10'''\n",
    "get_sql(query)"
   ]
  },
  {
   "cell_type": "markdown",
   "metadata": {},
   "source": [
    "## SQL-запросы"
   ]
  },
  {
   "cell_type": "markdown",
   "metadata": {},
   "source": [
    "### Посчитаем сколько книг вышло после 1 января 2000 года"
   ]
  },
  {
   "cell_type": "code",
   "execution_count": 7,
   "metadata": {},
   "outputs": [
    {
     "name": "stdout",
     "output_type": "stream",
     "text": [
      "   count\n",
      "0    819\n"
     ]
    }
   ],
   "source": [
    "query = '''SELECT \n",
    "    COUNT(DISTINCT book_id)\n",
    "FROM \n",
    "    books\n",
    "WHERE \n",
    "    publication_date > '2000-01-01';'''\n",
    "print(get_sql(query))"
   ]
  },
  {
   "cell_type": "markdown",
   "metadata": {},
   "source": [
    "<div class=\"alert alert-info\">\n",
    "<font size=\"3\", color = \"black\">\n",
    "    После 1 января 2000 года вышло 819 книг."
   ]
  },
  {
   "cell_type": "markdown",
   "metadata": {},
   "source": [
    "### Для каждой книги посчитаем количество обзоров и среднюю оценку"
   ]
  },
  {
   "cell_type": "code",
   "execution_count": 8,
   "metadata": {},
   "outputs": [
    {
     "name": "stdout",
     "output_type": "stream",
     "text": [
      "     book_id                                              title  review_count  \\\n",
      "0        892  The Ultimate Hitchhiker's Guide to the Galaxy ...             3   \n",
      "1        484                        Odd Thomas (Odd Thomas  #1)             4   \n",
      "2        921  Think and Grow Rich: The Landmark Bestseller N...             3   \n",
      "3        296                    Hard Eight (Stephanie Plum  #8)             3   \n",
      "4         85                                             Anthem             4   \n",
      "..       ...                                                ...           ...   \n",
      "995      313              Heretics of Dune (Dune Chronicles #5)             2   \n",
      "996      934          Traveling Mercies: Some Thoughts on Faith             2   \n",
      "997      917                      The Yiddish Policemen's Union             2   \n",
      "998      802                       The Moon is a Harsh Mistress             3   \n",
      "999      479                             No Country for Old Men             4   \n",
      "\n",
      "     avg_rating  \n",
      "0          4.33  \n",
      "1          3.38  \n",
      "2          3.00  \n",
      "3          4.00  \n",
      "4          3.25  \n",
      "..          ...  \n",
      "995        2.50  \n",
      "996        4.00  \n",
      "997        4.50  \n",
      "998        3.75  \n",
      "999        4.40  \n",
      "\n",
      "[1000 rows x 4 columns]\n"
     ]
    }
   ],
   "source": [
    "query = '''WITH q1 AS (SELECT b.book_id, b.title, COUNT(rev.review_id) AS review_count\n",
    "                                FROM books AS b\n",
    "                                LEFT JOIN reviews AS rev ON b.book_id = rev.book_id\n",
    "                                GROUP BY b.book_id),\n",
    "                         q2 AS (SELECT b.book_id,\n",
    "                                      b.title,\n",
    "                                      AVG(r.rating) AS avg_rating\n",
    "                               FROM books AS b\n",
    "                               LEFT JOIN ratings AS r ON b.book_id = r.book_id\n",
    "                               GROUP BY b.book_id)\n",
    "                     SELECT q1.book_id,\n",
    "                            q1.title,\n",
    "                            q1.review_count,\n",
    "                            ROUND(q2.avg_rating, 2) AS avg_rating\n",
    "                     FROM q1\n",
    "                     INNER JOIN q2 ON q1.book_id = q2.book_id\n",
    "                     GROUP BY q1.book_id, q1.title, q1.review_count, q2.avg_rating'''\n",
    "print(get_sql(query))"
   ]
  },
  {
   "cell_type": "markdown",
   "metadata": {},
   "source": [
    "<div class=\"alert alert-info\">\n",
    "<font size=\"3\", color = \"black\">\n",
    "Вывели таблицу, которая включает в себя айди книги, её название, количество пользовательских обзоров и среднюю оценку."
   ]
  },
  {
   "cell_type": "markdown",
   "metadata": {},
   "source": [
    "### Издательство, которое выпустило наибольшее число книг толще 50 страниц"
   ]
  },
  {
   "cell_type": "code",
   "execution_count": 9,
   "metadata": {},
   "outputs": [
    {
     "name": "stdout",
     "output_type": "stream",
     "text": [
      "       publisher  count\n",
      "0  Penguin Books     42\n"
     ]
    }
   ],
   "source": [
    "query = '''SELECT publishers.publisher, COUNT(*)\n",
    "FROM publishers\n",
    "JOIN books ON publishers.publisher_id = books.publisher_id\n",
    "WHERE books.num_pages > 50\n",
    "GROUP BY publishers.publisher\n",
    "ORDER BY COUNT(*) DESC\n",
    "LIMIT 1;'''\n",
    "print(get_sql(query))"
   ]
  },
  {
   "cell_type": "markdown",
   "metadata": {},
   "source": [
    "<div class=\"alert alert-info\">\n",
    "<font size=\"3\", color = \"black\">\n",
    "    Наибольшее число книг толще 50 страниц выпустило издательство «Penguin Books»"
   ]
  },
  {
   "cell_type": "markdown",
   "metadata": {},
   "source": [
    "### Автор с самой высокой средней оценкой книг"
   ]
  },
  {
   "cell_type": "code",
   "execution_count": 10,
   "metadata": {},
   "outputs": [
    {
     "name": "stdout",
     "output_type": "stream",
     "text": [
      "                       author  avg_rating\n",
      "0  J.K. Rowling/Mary GrandPré    4.287097\n"
     ]
    }
   ],
   "source": [
    "query = '''SELECT a.author, AVG(r.rating) AS avg_rating\n",
    "FROM authors AS a\n",
    "JOIN books AS b ON a.author_id = b.author_id\n",
    "JOIN (\n",
    "    SELECT book_id\n",
    "    FROM ratings\n",
    "    GROUP BY book_id\n",
    "    HAVING COUNT(rating_id) >= 50\n",
    ") AS q ON b.book_id = q.book_id\n",
    "JOIN ratings AS r ON b.book_id = r.book_id\n",
    "GROUP BY a.author\n",
    "ORDER BY avg_rating DESC\n",
    "LIMIT 1;'''\n",
    "print(get_sql(query))"
   ]
  },
  {
   "cell_type": "markdown",
   "metadata": {},
   "source": [
    "<div class=\"alert alert-info\">\n",
    "<font size=\"3\", color = \"black\">\n",
    "Автор с самой высокой средней оценкой книг — Дж. К. Роулинг."
   ]
  },
  {
   "cell_type": "markdown",
   "metadata": {},
   "source": [
    "###  Среднее количество обзоров от пользователей, которые поставили больше 48 оценок."
   ]
  },
  {
   "cell_type": "code",
   "execution_count": 11,
   "metadata": {},
   "outputs": [
    {
     "name": "stdout",
     "output_type": "stream",
     "text": [
      "   avg_reviews_count\n",
      "0               24.0\n"
     ]
    }
   ],
   "source": [
    "query = '''SELECT AVG(reviews_count) AS avg_reviews_count\n",
    "FROM (\n",
    "    SELECT COUNT(review_id) AS reviews_count\n",
    "    FROM reviews\n",
    "    WHERE username IN (\n",
    "        SELECT username\n",
    "        FROM ratings\n",
    "        GROUP BY username\n",
    "        HAVING COUNT(rating_id) > 48\n",
    "    )\n",
    "    GROUP BY username\n",
    ") AS q;'''\n",
    "print(get_sql(query))"
   ]
  },
  {
   "cell_type": "markdown",
   "metadata": {},
   "source": [
    "<div class=\"alert alert-info\">\n",
    "<font size=\"3\", color = \"black\">\n",
    "Среднее количество обзоров от пользователей, которые поставили больше 48 оценок: 24."
   ]
  },
  {
   "cell_type": "markdown",
   "metadata": {},
   "source": [
    "## Итоговый вывод"
   ]
  },
  {
   "cell_type": "markdown",
   "metadata": {},
   "source": [
    "Был проведен анализ данных с помощью sql-запросов. Вот что удалось выяснить:\n",
    "1. После 1 января 2000 года вышло 819 книг.\n",
    "2. Для каждой книги посчитали количество обзоров и среднюю оценку\n",
    "3. Наибольшее число книг толще 50 страниц выпустило издательство «Penguin Books»\n",
    "4. Автор с самой высокой средней оценкой книг — Дж. К. Роулинг\n",
    "5. Среднее количество обзоров от пользователей, которые поставили больше 48 оценок: 24"
   ]
  },
  {
   "cell_type": "code",
   "execution_count": null,
   "metadata": {},
   "outputs": [],
   "source": []
  }
 ],
 "metadata": {
  "ExecuteTimeLog": [
   {
    "duration": 11761,
    "start_time": "2023-10-16T18:18:31.604Z"
   },
   {
    "duration": 68,
    "start_time": "2023-10-16T18:46:30.960Z"
   },
   {
    "duration": 4,
    "start_time": "2023-10-16T18:48:56.176Z"
   },
   {
    "duration": 5,
    "start_time": "2023-10-16T18:49:09.430Z"
   },
   {
    "duration": 242,
    "start_time": "2023-10-16T18:49:26.175Z"
   },
   {
    "duration": 55,
    "start_time": "2023-10-16T18:49:51.576Z"
   },
   {
    "duration": 56,
    "start_time": "2023-10-16T18:50:08.692Z"
   },
   {
    "duration": 56,
    "start_time": "2023-10-16T18:50:28.876Z"
   },
   {
    "duration": 57,
    "start_time": "2023-10-16T18:50:39.722Z"
   },
   {
    "duration": 4,
    "start_time": "2023-10-16T18:50:50.320Z"
   },
   {
    "duration": 77,
    "start_time": "2023-10-16T18:55:28.812Z"
   },
   {
    "duration": 3,
    "start_time": "2023-10-16T19:21:26.669Z"
   },
   {
    "duration": 52,
    "start_time": "2023-10-16T19:21:44.943Z"
   },
   {
    "duration": 52,
    "start_time": "2023-10-16T19:22:16.686Z"
   },
   {
    "duration": 89,
    "start_time": "2023-10-16T19:30:05.594Z"
   },
   {
    "duration": 53,
    "start_time": "2023-10-16T19:34:28.419Z"
   },
   {
    "duration": 53,
    "start_time": "2023-10-16T19:35:40.367Z"
   },
   {
    "duration": 120,
    "start_time": "2023-10-16T19:37:40.540Z"
   },
   {
    "duration": 92,
    "start_time": "2023-10-16T19:54:35.887Z"
   },
   {
    "duration": 57,
    "start_time": "2023-10-16T19:54:56.406Z"
   },
   {
    "duration": 54,
    "start_time": "2023-10-16T20:08:17.773Z"
   },
   {
    "duration": 55,
    "start_time": "2023-10-16T20:09:02.808Z"
   },
   {
    "duration": 54,
    "start_time": "2023-10-16T20:09:22.048Z"
   },
   {
    "duration": 494,
    "start_time": "2023-10-16T20:37:59.693Z"
   },
   {
    "duration": 0,
    "start_time": "2023-10-16T20:38:00.189Z"
   },
   {
    "duration": 0,
    "start_time": "2023-10-16T20:38:00.191Z"
   },
   {
    "duration": 0,
    "start_time": "2023-10-16T20:38:00.191Z"
   },
   {
    "duration": 0,
    "start_time": "2023-10-16T20:38:00.192Z"
   },
   {
    "duration": 0,
    "start_time": "2023-10-16T20:38:00.193Z"
   },
   {
    "duration": 0,
    "start_time": "2023-10-16T20:38:00.194Z"
   },
   {
    "duration": 0,
    "start_time": "2023-10-16T20:38:00.195Z"
   },
   {
    "duration": 0,
    "start_time": "2023-10-16T20:38:00.196Z"
   },
   {
    "duration": 0,
    "start_time": "2023-10-16T20:38:00.197Z"
   },
   {
    "duration": 0,
    "start_time": "2023-10-16T20:38:00.197Z"
   },
   {
    "duration": 611,
    "start_time": "2023-10-16T20:42:18.431Z"
   },
   {
    "duration": 0,
    "start_time": "2023-10-16T20:42:19.045Z"
   },
   {
    "duration": 0,
    "start_time": "2023-10-16T20:42:19.046Z"
   },
   {
    "duration": 0,
    "start_time": "2023-10-16T20:42:19.047Z"
   },
   {
    "duration": 0,
    "start_time": "2023-10-16T20:42:19.048Z"
   },
   {
    "duration": 0,
    "start_time": "2023-10-16T20:42:19.049Z"
   },
   {
    "duration": 0,
    "start_time": "2023-10-16T20:42:19.050Z"
   },
   {
    "duration": 0,
    "start_time": "2023-10-16T20:42:19.051Z"
   },
   {
    "duration": 0,
    "start_time": "2023-10-16T20:42:19.052Z"
   },
   {
    "duration": 0,
    "start_time": "2023-10-16T20:42:19.054Z"
   },
   {
    "duration": 0,
    "start_time": "2023-10-16T20:42:19.055Z"
   },
   {
    "duration": 9440,
    "start_time": "2023-10-16T20:46:33.041Z"
   },
   {
    "duration": 257,
    "start_time": "2023-10-16T20:46:42.483Z"
   },
   {
    "duration": 55,
    "start_time": "2023-10-16T20:46:42.741Z"
   },
   {
    "duration": 55,
    "start_time": "2023-10-16T20:46:42.798Z"
   },
   {
    "duration": 54,
    "start_time": "2023-10-16T20:46:42.855Z"
   },
   {
    "duration": 59,
    "start_time": "2023-10-16T20:46:42.911Z"
   },
   {
    "duration": 54,
    "start_time": "2023-10-16T20:46:42.972Z"
   },
   {
    "duration": 94,
    "start_time": "2023-10-16T20:46:43.028Z"
   },
   {
    "duration": 53,
    "start_time": "2023-10-16T20:46:43.124Z"
   },
   {
    "duration": 57,
    "start_time": "2023-10-16T20:46:43.179Z"
   },
   {
    "duration": 54,
    "start_time": "2023-10-16T20:46:43.237Z"
   },
   {
    "duration": 9535,
    "start_time": "2023-10-16T20:47:29.378Z"
   },
   {
    "duration": 233,
    "start_time": "2023-10-16T20:47:38.915Z"
   },
   {
    "duration": 52,
    "start_time": "2023-10-16T20:47:39.150Z"
   },
   {
    "duration": 53,
    "start_time": "2023-10-16T20:47:39.204Z"
   },
   {
    "duration": 53,
    "start_time": "2023-10-16T20:47:39.259Z"
   },
   {
    "duration": 53,
    "start_time": "2023-10-16T20:47:39.314Z"
   },
   {
    "duration": 49,
    "start_time": "2023-10-16T20:47:39.369Z"
   },
   {
    "duration": 86,
    "start_time": "2023-10-16T20:47:39.420Z"
   },
   {
    "duration": 52,
    "start_time": "2023-10-16T20:47:39.507Z"
   },
   {
    "duration": 55,
    "start_time": "2023-10-16T20:47:39.561Z"
   },
   {
    "duration": 52,
    "start_time": "2023-10-16T20:47:39.618Z"
   },
   {
    "duration": 52,
    "start_time": "2023-10-17T14:05:15.764Z"
   },
   {
    "duration": 13314,
    "start_time": "2023-10-17T14:05:28.440Z"
   },
   {
    "duration": 79,
    "start_time": "2023-10-17T14:05:41.756Z"
   },
   {
    "duration": 17,
    "start_time": "2023-10-17T14:05:41.837Z"
   },
   {
    "duration": 12,
    "start_time": "2023-10-17T14:05:41.856Z"
   },
   {
    "duration": 36,
    "start_time": "2023-10-17T14:05:41.870Z"
   },
   {
    "duration": 12,
    "start_time": "2023-10-17T14:05:41.908Z"
   },
   {
    "duration": 25,
    "start_time": "2023-10-17T14:05:41.921Z"
   },
   {
    "duration": 185,
    "start_time": "2023-10-17T14:05:41.947Z"
   },
   {
    "duration": 0,
    "start_time": "2023-10-17T14:05:42.134Z"
   },
   {
    "duration": 0,
    "start_time": "2023-10-17T14:05:42.136Z"
   },
   {
    "duration": 0,
    "start_time": "2023-10-17T14:05:42.136Z"
   },
   {
    "duration": 25,
    "start_time": "2023-10-17T14:06:08.354Z"
   },
   {
    "duration": 13830,
    "start_time": "2023-10-17T14:08:05.924Z"
   },
   {
    "duration": 63,
    "start_time": "2023-10-17T14:08:19.756Z"
   },
   {
    "duration": 11,
    "start_time": "2023-10-17T14:08:19.822Z"
   },
   {
    "duration": 18,
    "start_time": "2023-10-17T14:08:19.835Z"
   },
   {
    "duration": 25,
    "start_time": "2023-10-17T14:08:19.855Z"
   },
   {
    "duration": 12,
    "start_time": "2023-10-17T14:08:19.881Z"
   },
   {
    "duration": 20,
    "start_time": "2023-10-17T14:08:19.895Z"
   },
   {
    "duration": 44,
    "start_time": "2023-10-17T14:08:19.917Z"
   },
   {
    "duration": 19,
    "start_time": "2023-10-17T14:08:19.963Z"
   },
   {
    "duration": 47,
    "start_time": "2023-10-17T14:08:19.984Z"
   },
   {
    "duration": 28,
    "start_time": "2023-10-17T14:08:20.034Z"
   },
   {
    "duration": 16,
    "start_time": "2023-10-17T14:17:35.042Z"
   },
   {
    "duration": 12,
    "start_time": "2023-10-17T14:19:01.284Z"
   },
   {
    "duration": 12,
    "start_time": "2023-10-17T14:21:25.547Z"
   },
   {
    "duration": 12,
    "start_time": "2023-10-17T14:21:36.899Z"
   },
   {
    "duration": 13,
    "start_time": "2023-10-17T14:22:09.756Z"
   },
   {
    "duration": 12982,
    "start_time": "2023-10-17T14:26:44.800Z"
   },
   {
    "duration": 58,
    "start_time": "2023-10-17T14:26:57.784Z"
   },
   {
    "duration": 13,
    "start_time": "2023-10-17T14:26:57.844Z"
   },
   {
    "duration": 22,
    "start_time": "2023-10-17T14:26:57.859Z"
   },
   {
    "duration": 16,
    "start_time": "2023-10-17T14:26:57.883Z"
   },
   {
    "duration": 25,
    "start_time": "2023-10-17T14:26:57.901Z"
   },
   {
    "duration": 9,
    "start_time": "2023-10-17T14:26:57.927Z"
   },
   {
    "duration": 31,
    "start_time": "2023-10-17T14:26:57.938Z"
   },
   {
    "duration": 28,
    "start_time": "2023-10-17T14:26:57.971Z"
   },
   {
    "duration": 13,
    "start_time": "2023-10-17T14:26:58.002Z"
   },
   {
    "duration": 17,
    "start_time": "2023-10-17T14:26:58.016Z"
   },
   {
    "duration": 11528,
    "start_time": "2023-10-17T15:08:43.605Z"
   },
   {
    "duration": 282,
    "start_time": "2023-10-17T15:08:55.136Z"
   },
   {
    "duration": 53,
    "start_time": "2023-10-17T15:08:55.420Z"
   },
   {
    "duration": 53,
    "start_time": "2023-10-17T15:08:55.475Z"
   },
   {
    "duration": 54,
    "start_time": "2023-10-17T15:08:55.530Z"
   },
   {
    "duration": 54,
    "start_time": "2023-10-17T15:08:55.586Z"
   },
   {
    "duration": 51,
    "start_time": "2023-10-17T15:08:55.642Z"
   },
   {
    "duration": 84,
    "start_time": "2023-10-17T15:08:55.695Z"
   },
   {
    "duration": 52,
    "start_time": "2023-10-17T15:08:55.781Z"
   },
   {
    "duration": 55,
    "start_time": "2023-10-17T15:08:55.835Z"
   },
   {
    "duration": 56,
    "start_time": "2023-10-17T15:08:55.892Z"
   }
  ],
  "kernelspec": {
   "display_name": "Python 3 (ipykernel)",
   "language": "python",
   "name": "python3"
  },
  "language_info": {
   "codemirror_mode": {
    "name": "ipython",
    "version": 3
   },
   "file_extension": ".py",
   "mimetype": "text/x-python",
   "name": "python",
   "nbconvert_exporter": "python",
   "pygments_lexer": "ipython3",
   "version": "3.11.5"
  },
  "toc": {
   "base_numbering": 1,
   "nav_menu": {},
   "number_sections": true,
   "sideBar": true,
   "skip_h1_title": true,
   "title_cell": "Содержание",
   "title_sidebar": "Contents",
   "toc_cell": true,
   "toc_position": {},
   "toc_section_display": true,
   "toc_window_display": true
  }
 },
 "nbformat": 4,
 "nbformat_minor": 2
}
